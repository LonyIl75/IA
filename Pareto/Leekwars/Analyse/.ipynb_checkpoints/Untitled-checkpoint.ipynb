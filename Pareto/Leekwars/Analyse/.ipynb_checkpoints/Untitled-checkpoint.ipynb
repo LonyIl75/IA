{
 "cells": [
  {
   "cell_type": "code",
   "execution_count": 1,
   "id": "fd87e314",
   "metadata": {},
   "outputs": [],
   "source": [
    "import os\n",
    "from pathlib import Path\n",
    "import shutil\n",
    "\n",
    "from filenameVerif import *\n",
    "\n"
   ]
  },
  {
   "cell_type": "code",
   "execution_count": 2,
   "id": "3f775b0f",
   "metadata": {},
   "outputs": [],
   "source": [
    "\n",
    "import ast \n",
    "\n",
    "import numpy as np\n",
    "import pandas as pd\n",
    "\n",
    "\n",
    "\n",
    "from operator import sub,add\n",
    "from collections import Counter, defaultdict"
   ]
  },
  {
   "cell_type": "code",
   "execution_count": 3,
   "id": "f6fdeb4a",
   "metadata": {},
   "outputs": [],
   "source": [
    "class BatchLoaderFiles():\n",
    "    def __init__(self,pathFiles,batch_len =  5 ):\n",
    "        self.path_files = pathFiles\n",
    "        self.treated_files = []\n",
    "        self.not_treatedFiles = []\n",
    "        self.batch_len = batch_len\n",
    "        \n",
    "    def left_setDiff(lst_1,lst2):\n",
    "        return  list(set(lst_1) - set(lst2))\n",
    "        \n",
    "    def updateNotTreatedFiles(self):\n",
    "        lst_json = self.getCurFiles()\n",
    "        self.not_treatedFiles = BatchLoaderFiles.left_setDiff(lst_json,self.treated_files)\n",
    "        \n",
    "    def getCurFiles (self ):\n",
    "        lst_json = []\n",
    "        if( os.path.exists(self.path_files )) :\n",
    "            lst_json = [pos_json for pos_json in os.listdir(self.path_files) if pos_json.endswith('.json') and filename_isvalid(pos_json)]\n",
    "        return lst_json\n",
    "    \n",
    "    def updateTreatedFiles(self,lst_files_treated):\n",
    "        for f in lst_files_treated :\n",
    "            if( f in self.not_treatedFiles ):\n",
    "                self.treated_files.append(f)\n",
    "                self.not_treatedFiles.remove(f)\n",
    "                \n",
    "    def getNextBatch(self):\n",
    "        notTreated_len = len(self.not_treatedFiles) \n",
    "        if(notTreated_len <self.batch_len) : \n",
    "            self.updateNotTreatedFiles()\n",
    "        if( len(self.not_treatedFiles ) <self.batch_len ): \n",
    "            return self.not_treatedFiles\n",
    "        return self.not_treatedFiles[:self.batch_len]\n",
    "    \n",
    "                \n",
    "    \n",
    "                \n",
    "                \n",
    "    \n",
    "                \n",
    "    \n",
    "class Test():\n",
    "    def __init__ (self,_name_test , _expected , _result , f_eq = None ):\n",
    "        self.test_name = _name_test\n",
    "        self.expected = _expected \n",
    "        self.result = _result\n",
    "        self.f_eq = f_eq\n",
    "    def message_testFailed(self):\n",
    "        return \"TEST \" + self.test_name +\" FAILED \" \n",
    "    def message_diffExpectedResult(self):\n",
    "        return \"Return \" + str(self.result) + \" vs \" + \"Expected \" + str(self.expected )\n",
    "    \n",
    "    def message_testSuccess(self):\n",
    "        return \"TEST \" + self.test_name +\" PASSED \"\n",
    "    \n",
    "    \n",
    "    def print_resultTest( self   ):\n",
    "            if(self.result!=self.expected if self.f_eq is None  else not(self.f_eq ( self.result,self.expected))):\n",
    "                print(self.message_testFailed())\n",
    "                print(self.message_diffExpectedResult())\n",
    "            else :\n",
    "                print(self.message_testSuccess())\n",
    "    \n",
    "    \n",
    "\n",
    "class Mock_BatchLoader():\n",
    "    \n",
    "    def delete_content_files(str_path):\n",
    "        path_files = Path(str_path)\n",
    "        path_files = Test_BatchLoader.rm_ifExist(path_files)\n",
    "        \n",
    "    def mock_create_files(str_path ,lst_files):\n",
    "        path_files = Path(str_path)\n",
    "        if not(path_files.exists() and path_files.is_dir()):\n",
    "            os.mkdir(str_path)\n",
    "        for str_file in lst_files:\n",
    "            with open(os.path.join(str_path,str_file), 'w') as f:\n",
    "                f.write(\"{}\")\n",
    "    \n",
    "class Test_BatchLoader(Test):\n",
    "    def __init__(self):\n",
    "        name_test , result,expected = Test_BatchLoader.test_leftSetDiff()\n",
    "        test_setDiff = Test(name_test,result,expected)\n",
    "        test_setDiff.print_resultTest()\n",
    "        \n",
    "        name_test , result,expected = Test_BatchLoader.test_getCurFiles()\n",
    "        test_setDiff = Test(name_test,result,expected,(lambda x,y : sorted(x)==sorted(y)))\n",
    "        test_setDiff.print_resultTest()\n",
    "        \n",
    "        name_test , result,expected = Test_BatchLoader.test_updateTreatedFiles()\n",
    "        test_setDiff = Test(name_test,result,expected,(lambda x,y : sorted(x)==sorted(y)))\n",
    "        test_setDiff.print_resultTest()\n",
    "        \n",
    "        \n",
    "        name_test , result,expected = Test_BatchLoader.test_updateNotTreatedFiles()\n",
    "        test_setDiff = Test(name_test,result,expected,(lambda x,y : sorted(x)==sorted(y)))\n",
    "        test_setDiff.print_resultTest()\n",
    "        \n",
    "        name_test , result,expected =Test_BatchLoader.test_getNextBatch()\n",
    "        test_setDiff = Test(name_test,result,expected)\n",
    "        test_setDiff.print_resultTest()\n",
    "        \n",
    "        \n",
    "        \n",
    "        \n",
    "    def test_leftSetDiff():\n",
    "        lst_1 = [\"2_113_12-6_1681562526.json\",\"1_114_12-6_1681562526.json\",\"1_111_12-6_1681562526.json\",\"6_110_12-6_1681562526.json\"]\n",
    "        lst_2 = [\"2_113_12-6_1681562526.json\",\"9_114_12-6_1681562526.json\",\"1_111_12-6_1681562526.json\",\"6_110_12-6_1681562526.json\"]\n",
    "        return \"leftSetDiff\" , BatchLoaderFiles.left_setDiff(lst_1,lst_2),[\"1_114_12-6_1681562526.json\"]\n",
    "    \n",
    "    \n",
    "    def rm_ifExist(str_path):\n",
    "\n",
    "        path_files = Path(str_path)\n",
    "        if path_files.exists() and path_files.is_dir():\n",
    "            shutil.rmtree(path_files)\n",
    "        return path_files\n",
    "    \n",
    "            \n",
    "    def test_getCurFiles():\n",
    "        str_path =os.path.join(os.getcwd(),\"tmp\")\n",
    "        lst_files = [\"2_113_12-6_1681562526.json\",\"9_114_12-6_1681562526.json\",\"1_111_12-6_1681562526.json\",\"6_110_12-6_1681562526.json\"]\n",
    "        path_files = Path(str_path)\n",
    "        Mock_BatchLoader.delete_content_files( str_path)\n",
    "        Mock_BatchLoader.mock_create_files(str_path,lst_files)\n",
    "        batch_loader = BatchLoaderFiles( os.path.join(os.getcwd(),str_path))\n",
    "        return \"getCurFiles\" , batch_loader.getCurFiles (),lst_files\n",
    "    \n",
    "    def test_updateTreatedFiles():\n",
    "        str_path =os.path.join(os.getcwd(),\"tmp\")\n",
    "        lst_files_1 = [\"2_113_12-6_1681562526.json\",\"9_114_12-6_1681562526.json\",\"1_111_12-6_1681562526.json\",\"6_110_12-6_1681562526.json\"]\n",
    "       \n",
    "        Mock_BatchLoader.delete_content_files(str_path)\n",
    "        Mock_BatchLoader.mock_create_files(str_path,lst_files_1)\n",
    "        \n",
    "        btlf= BatchLoaderFiles(str_path)\n",
    "        btlf.updateNotTreatedFiles()\n",
    "        \n",
    "        btlf.updateTreatedFiles(lst_files_1[:-2])\n",
    "        \n",
    "        return \"updateTreatedFiles\",btlf.treated_files,lst_files_1[:-2]\n",
    "    \n",
    "    def test_updateNotTreatedFiles():\n",
    "        \n",
    "        str_path =os.path.join(os.getcwd(),\"tmp\")\n",
    "        lst_files_1 = [\"2_113_12-6_1681562526.json\",\"9_114_12-6_1681562526.json\",\"1_111_12-6_1681562526.json\",\"6_110_12-6_1681562526.json\"]\n",
    "       \n",
    "        Mock_BatchLoader.delete_content_files(str_path)\n",
    "        Mock_BatchLoader.mock_create_files(str_path,lst_files_1)\n",
    "        \n",
    "        btlf= BatchLoaderFiles(str_path)\n",
    "        btlf.updateNotTreatedFiles()\n",
    "        \n",
    "        \n",
    "        btlf.updateTreatedFiles(lst_files_1[:-2])\n",
    "        \n",
    "        \n",
    "        \n",
    "        lst_files_2 = [\"2_403_12-6_1681562526.json\",\"9_140_12-6_1681562526.json\",\"1_001_12-6_1681562526.json\",\"6_119_12-6_1681562526.json\"]\n",
    "       \n",
    "        Mock_BatchLoader.mock_create_files(str_path,lst_files_2)\n",
    "        btlf.updateNotTreatedFiles()\n",
    "        \n",
    "        return \"updateNotTreatedFiles\",btlf.not_treatedFiles,lst_files_2 + lst_files_1[-2:]\n",
    "        \n",
    "        \n",
    "    def test_getNextBatch():\n",
    "        str_path =os.path.join(os.getcwd(),\"tmp\")\n",
    "        lst_files_1 = [\"2_113_12-6_1681562526.json\",\"9_114_12-6_1681562526.json\",\"1_111_12-6_1681562526.json\",\"6_110_12-6_1681562526.json\"]\n",
    "       \n",
    "        Mock_BatchLoader.delete_content_files(str_path)\n",
    "        Mock_BatchLoader.mock_create_files(str_path,lst_files_1)\n",
    "        \n",
    "        btlf= BatchLoaderFiles(str_path,batch_len =2)\n",
    "        batch_1 = btlf.getNextBatch()\n",
    "        btlf.updateTreatedFiles(btlf.getNextBatch())\n",
    "        \n",
    "        \n",
    "        batch_2 = btlf.getNextBatch()\n",
    "        btlf.updateTreatedFiles(btlf.getNextBatch())\n",
    "        \n",
    "        \n",
    "        return \"getNextBatch\",sorted(batch_2)!=sorted(batch_1) ,True\n",
    "        \n",
    "        \n",
    "    \n",
    "    \n",
    "        \n",
    "        \n",
    "        \n",
    "    "
   ]
  },
  {
   "cell_type": "code",
   "execution_count": 4,
   "id": "e127e702",
   "metadata": {},
   "outputs": [
    {
     "name": "stdout",
     "output_type": "stream",
     "text": [
      "TEST leftSetDiff PASSED \n",
      "TEST getCurFiles PASSED \n",
      "TEST updateTreatedFiles PASSED \n",
      "TEST updateNotTreatedFiles PASSED \n",
      "TEST getNextBatch PASSED \n"
     ]
    }
   ],
   "source": [
    "test_batch =Test_BatchLoader()"
   ]
  },
  {
   "cell_type": "code",
   "execution_count": 5,
   "id": "4ceced90",
   "metadata": {},
   "outputs": [],
   "source": [
    "import pandas as pd \n",
    "import json\n",
    "from myutil  import *\n",
    "import os \n",
    "import numpy as np\n",
    "\n",
    "\n",
    "'''\n",
    "ReadActions :\n",
    "    - STATIC :\n",
    "        - MAP_SIZE : nombre de cases sur la map\n",
    "        - intervals_ends : fin des intervalles des types d'actions ( e.g Times : 100 ,  Buffs: 200 , ... )\n",
    "        - intervals_dict : dictionnaire inversé de intervals_dict ( e.g { {START_FIGHT: 0 ,...,USE_WEAPON: 16  , LOST_PT : 100 , ... , NOVA_VITALITY :  112 , ... }  }# le fichier filename_dfActions loader \n",
    "        - intervals_dictRev : dictionnaire des types d'actions ( e.g {0:START_FIGHT ,...,16: USE_WEAPON , ... } # le fichier filename_dfActions loader reversed\n",
    "        - filename_dfActions : nom du fichier json contenant les actions de chaque types d'actions ainsi que la taille des intervalles \n",
    "        - ex_idx : liste des index des membres du json  a exclure (e.g [0,2,3]<=> interval_size , Funs , Others )\n",
    "        - lst_col : liste des colonnes non calculer (directement accessible via l'outcome ) à stocker dans le dataframe\n",
    "        - id_col : liste des colonnes contenant les ids identifiants les lignes du dataframe\n",
    "        - deg_col : liste des colonnes contenant les degats infligés ou subis par les entités (parmis les colonnes décritent dans lst_col)\n",
    "        - audit_col : liste des types d'actions performer pendant le tour (e.g [0,0,1,2,1,1] <=> [df.cols[0] , df.cols[0], df.cols[1] , ...] <=> [Times , Times , Buffs , ...])\n",
    "\n",
    "    - NON STATIC :\n",
    "        - numGen : numéro de la génération\n",
    "        - numFight : numéro du combat\n",
    "        - beg_notCodeAct_col : index indiquant le début des colonnes qui ne sont pas des liste de codes d'actions\n",
    "        - entities_ids : les ids réelle des entités (telle que spécifié dans le scénario[\"entities\"][i][\"id\"] ) impliquées dans le fight du dataframe \n",
    "        - int_col_idx_in_lst_col : liste des index des colonnes contenant des ints dans lst_col \n",
    "\n",
    "'''\n",
    "class ReadActions :\n",
    "    MAP_SIZE = 612 \n",
    "    intervals_ends = dict()\n",
    "    intervals_dict = dict()\n",
    "    intervals_dictRev = dict()  \n",
    "    filename_dfActions = os.path.join(\"..\",\"data\",\"df_Action.json\")\n",
    "    filename_dfValueActions = os.path.join(\"..\",\"data\",\"df_value_Action.json\")\n",
    "    \n",
    "    dict_dfValue = json.load(open( filename_dfValueActions))\n",
    "    ex_idx = [0,2,3]\n",
    "    lst_col = ['LOST_LIFE','LIFE','MOVE_TO','WEAPON_DEG','CHIP_DEG','MAPS','WEAPON_ID','CHIP_ID']\n",
    "    _cols = ['MOVE_TO','MAPS','WEAPON_ID','CHIP_ID']\n",
    "    id_col = ['ID_GEN','ID_FIGHT','ID_ENTITY','ID_TURN']\n",
    "    deg_col = ['LOST_LIFE','LIFE','WEAPON_DEG','CHIP_DEG']\n",
    "    audit_col = [\"ACTIONS\"]\n",
    "    \n",
    "    #maps = [ [0]*MAP_SIZE ,[0]*MAP_SIZE]\n",
    "    \n",
    "    def __init__(self,ids :list ,numGen :int , numFight:int ,path_atm :str ):\n",
    "        self.numGen = numGen\n",
    "        self. numFight = numFight\n",
    "        self.numTurn = 0\n",
    "        ReadActions.init_intervals(ReadActions.filename_dfActions)#,ReadActions.ex_idx)\n",
    "        self.nb_type = len(ReadActions.intervals_ends)\n",
    "        self.lst_col_code = [list(ReadActions.intervals_ends.keys())[i] for i in range(1,len(ReadActions.intervals_ends)) ] \n",
    "        self.df = pd.DataFrame(columns=self.lst_col_code+ReadActions.lst_col+ReadActions.id_col+ReadActions.audit_col)\n",
    "        self.beg_notCodeAct_col = len(self.df.columns) - len(ReadActions.lst_col)-len(ReadActions.id_col)-1\n",
    "        self.entities_ids = ids \n",
    "        self.setIntCol()\n",
    "        \n",
    "    def setDF(self,df2):\n",
    "        if(df2.columns == self.df.columns):\n",
    "            self.df = pd.concat([self.df , df2])\n",
    "            \n",
    "        \n",
    "    def setIntCol(self):\n",
    "        self.int_col_idx_in_lst_col = []\n",
    "        for i,d in enumerate(self.df.columns.tolist()) :\n",
    "            if d in ReadActions.deg_col :\n",
    "                self.int_col_idx_in_lst_col+=[i]\n",
    "        self.int_col_idx_in_lst_col.sort()\n",
    "\n",
    "\n",
    "    @property\n",
    "    def getNumGen(self):\n",
    "        return self.numGen\n",
    "    \n",
    "    @property\n",
    "    def getNumFight(self):\n",
    "        return self.numFight\n",
    "    \n",
    "    @property\n",
    "    def getNumTurn(self):\n",
    "        return self.numTurn\n",
    "    \n",
    "    @property\n",
    "    def getDF(self):\n",
    "        return self.df\n",
    "    \n",
    "    @property\n",
    "    def getEntitiesIds(self):\n",
    "        return self.entities_ids\n",
    "    \n",
    "\n",
    "\n",
    "\n",
    "    @staticmethod\n",
    "    def emptyIntervalsEnd():\n",
    "            ReadActions.intervals_ends.update({'BEGIN':0})\n",
    "\n",
    "\n",
    "    \n",
    "    @staticmethod\n",
    "    def init_intervals(filename_json_dfA :str ,ex_idx=[]):\n",
    "            \"\"\"\n",
    "            filename_json_dfA : fichier json contenant les actions de chaque types d'actions ainsi que la taille des intervalles\n",
    "            ex_idx : liste des index des membres du json  a exclure (e.g [0,2,3]<=> interval_size , Funs , Others )\n",
    "\n",
    "            Description : initialise les attributs intervals_dict , intervals_dictRev , intervals_ends de la classe ReadActions grâce au fichier json passer en paramètre\n",
    "            \"\"\"\n",
    "            if( isJsonFile( filename_json_dfA ) ):\n",
    "                ReadActions.emptyIntervalsEnd()\n",
    "                #Load json file\n",
    "                with open(filename_json_dfA, 'r') as f:\n",
    "                    df_actions_json = json.load(f)\n",
    "                interval_size = df_actions_json[\"interval_size\"]\n",
    "\n",
    "                #ignore interval_size from dictionnary\n",
    "                del df_actions_json[\"interval_size\"]\n",
    "\n",
    "                #ignore ex_idx from dictionnary\n",
    "                for to_ignore in ex_idx :\n",
    "                    del df_actions_json[to_ignore]\n",
    "\n",
    "                #extract info from dict and load it in class attributes \n",
    "\n",
    "                idx_keyOf_action = 0\n",
    "                idx_intcodeOf_action = 1\n",
    "                for i,group_of_actions in enumerate(df_actions_json.items())  :\n",
    "                    id_group,lst_actions=group_of_actions\n",
    "                    \n",
    "                    for action in lst_actions.items():\n",
    "                        ReadActions.intervals_dict.update({action[idx_keyOf_action]:action[idx_intcodeOf_action]})\n",
    "\n",
    "                    ReadActions.intervals_ends.update({id_group:(interval_size+1)*(i+1)})\n",
    "                ReadActions.intervals_dictRev = reversedict(ReadActions.intervals_dict)\n",
    "            else :\n",
    "                errorMessagePyth(\"file\"+filename_json_dfA+\" must be a json file\")\n",
    "        \n",
    "     \n",
    "    \n",
    "    @staticmethod\n",
    "    def whileToken(str_token : str , lst_actions :list ):\n",
    "        \"\"\"\n",
    "        str_token : le string correspondant au token a chercher dans lst_actions ( un token est exprimer sous la forme d'un int dans lst_actions)\n",
    "        lst_actions : liste d'actions  a parcourir   ( lst_action[i][0] == code_token ) \n",
    "\n",
    "        Description : parcours lst_actions jusqu'a ce que le token soit trouvé ou que la fin de la liste soit atteinte \n",
    "        Return : l'index de l'action token dans lst_actions tel que ( lst_action[index][0] == code_token )  ou -1 si le token n'a pas été trouvé\n",
    "        \"\"\"\n",
    "        for i in range(len(lst_actions)) :\n",
    "            action = lst_actions[i]\n",
    "            if(action[0] == ReadActions.intervals_dict.get(str_token)):\n",
    "                i+=1\n",
    "                return i\n",
    "        return notFound()\n",
    "    \n",
    "\n",
    "    @staticmethod        \n",
    "    def isEndFight(act_token: int):\n",
    "        return act_token == ReadActions.intervals_dict.get(\"END_FIGHT\")\n",
    "    \n",
    "    @staticmethod \n",
    "    def isBeginFight(act_token: int):\n",
    "        return act_token == ReadActions.intervals_dict.get(\"START_FIGHT\")\n",
    "    \n",
    "    @staticmethod \n",
    "    def isBeginTurn(act_token: int):\n",
    "        return act_token == ReadActions.intervals_dict.get(\"NEW_TURN\")\n",
    "    \n",
    "    @staticmethod \n",
    "    def isEndTurn(act_token: int):\n",
    "        return ReadActions.isEndFight(act_token) or ReadActions.isBeginTurn(act_token ) or act_token == ReadActions.intervals_dict.get(\"END_TURN\")\n",
    "    \n",
    "\n",
    "    @staticmethod\n",
    "    def getDfLstTypeActions():\n",
    "        return list([[]])\n",
    "    \n",
    "    @staticmethod\n",
    "    def getDfLstAudit():\n",
    "        return list([[]])\n",
    "    \n",
    "    @staticmethod\n",
    "    def getDfLstInLstCol():\n",
    "        return [0]\n",
    "    \n",
    "    @staticmethod\n",
    "    def getDfLstNotInLstCol():\n",
    "        return []\n",
    "    \n",
    "\n",
    "    def getNewRow(self):\n",
    "        lst =[]\n",
    "\n",
    "        #-----------------Type Actions [Times,Buffs , ... ] -----------------\n",
    "        idx = 0 \n",
    "        idx_end = self.beg_notCodeAct_col \n",
    "        #Type of actions , e.g Times,Buffs,Funs,Effects , Others \n",
    "        for i in range (idx,idx_end):\n",
    "            lst.append(ReadActions.getDfLstTypeActions())\n",
    "\n",
    "        t=0\n",
    "        #----------------- Lst Col -----------------\n",
    "        idx = idx_end\n",
    "        idx_end +=len(ReadActions.lst_col)\n",
    "        for i in range (idx , idx_end):\n",
    "            if i in self.int_col_idx_in_lst_col[t:] :\n",
    "                lst.append(ReadActions.getDfLstInLstCol())\n",
    "                t+=1\n",
    "            #elif ReadActions.lst_col[i-idx] in [\"WEAPON_ID\",\"CHIP_ID\"]:\n",
    "            #    lst.append(notSetId())\n",
    "            else :\n",
    "                lst.append(ReadActions.getDfLstNotInLstCol())\n",
    "\n",
    "        #----------------- Not in Lst Col -----------------\n",
    "        idx = idx_end\n",
    "        idx_end += len(ReadActions.id_col)\n",
    "        for i in range (idx ,  idx_end):\n",
    "            lst.append(notSetId())\n",
    "\n",
    "        #----------------- Audit -----------------\n",
    "        idx = idx_end\n",
    "        idx_end += len(ReadActions.audit_col)\n",
    "        for i in range (idx,idx_end):\n",
    "            lst.append(ReadActions.getDfLstAudit())#actions\n",
    "\n",
    "\n",
    "\n",
    "        return lst\n",
    "    \n",
    "    def idxNextRow(self):\n",
    "        return self.getCurrentIDX()+1\n",
    "    \n",
    "    def addNewRow(self):\n",
    "        self.df.loc[self.idxNextRow()]=self.getNewRow()\n",
    "    \n",
    "        \n",
    "    def addNewTurn(self,idx_turn: int):\n",
    "        \"\"\"\n",
    "        idx_turn : index du tour a ajouter\n",
    "        Description : ajoute une nouvelle ligne et set sont indexe de tour à idx_turn\n",
    "        \"\"\"\n",
    "        self.addNewRow()\n",
    "        #self.numTurn = idx_turn\n",
    "        self.setColumn ('ID_TURN', idx_turn )\n",
    "        \n",
    "    def getCurrentIDX (self):\n",
    "        return len(self.df)-1\n",
    "\n",
    "    def setColumn ( self , str_col:str ,val):\n",
    "        \"\"\"\n",
    "        Description : set la colonne str_col de la ligne courante à val\n",
    "        \"\"\"\n",
    "        if ( strColInCols(str_col ,self.df)):\n",
    "            self.df.loc[self.getCurrentIDX(),str_col]= val \n",
    "    \n",
    "\n",
    "    def addToColumn(self,str_col:str,val,pos:int=0):\n",
    "        \"\"\"\n",
    "        val : valeur a ajouter a la liste de la colonne str_col de la ligne courante\n",
    "        pos : position de la valeur a ajouter dans la liste de la colonne str_col de la ligne courante (par defaut 0)\n",
    "\n",
    "        Description : ajoute une valeur a la liste de la colonne str_col de la ligne courante\n",
    "        \"\"\"\n",
    "        if (strColInCols(str_col ,self.df)):\n",
    "            lst=self.df.loc[self.getCurrentIDX(),str_col]\n",
    "\n",
    "            if( len(lst )< pos):\n",
    "                errorMessagePyth(self,\"addToColumn\" , \"index out of range\")\n",
    "\n",
    "            if( not(bool(lst)) or len(lst )== pos):\n",
    "                lst+=[0]\n",
    "            \n",
    "            lst[pos]+= val  \n",
    "\n",
    "        return pos \n",
    "            \n",
    "            \n",
    "    def addToColumnList(self,str_col:str,val,pos:int=0):\n",
    "        \"\"\"\n",
    "        Attention : on embedde la valeur dans une liste car la colonne str_col est de type liste \n",
    "        \"\"\"\n",
    "        if(len(self.df[str_col]) == 0  or not(isinstance(self.df[str_col][0],list))):\n",
    "            errorMessagePyth(self,\"addToColumnList\" , \"column \"+str_col+\" must be a list\")\n",
    "            return badInsert()\n",
    "        else :\n",
    "            return self.addToColumn(str_col , [val],pos) \n",
    "\n",
    "    def extendColum(self,str_col:str,val:list):\n",
    "        \"\"\"\n",
    "        Description : on ajoute une liste a la liste de la colonne str_col de la ligne courante\n",
    "        \"\"\"\n",
    "        if (strColInCols(str_col ,self.df)):\n",
    "            self.df.loc[self.getCurrentIDX(),str_col].extend(val)\n",
    "       \n",
    "\n",
    "    def addToAudit(self , idx:int , idx_of_actionType :int ,   act_token:int  ):\n",
    "        \"\"\"\n",
    "        Description : on ajoute l'index du type de l'action courante dans la colonne audit correspondante\n",
    "        \"\"\"\n",
    "        err_code=self.addToColumnList (  ReadActions.audit_col[idx],idx_of_actionType)\n",
    "        if(err_code == badInsert()):\n",
    "            errorMessagePyth(self, \"addToCategory\" , \"bad insert\")\n",
    "            \n",
    "    def addToGroupAction(self,idx_of_actionType:int , act_token:int):\n",
    "        err_code = self.addToColumnList (list(ReadActions.intervals_ends.keys())[idx_of_actionType],act_token)\n",
    "        if(err_code == badInsert()):\n",
    "            errorMessagePyth(self, \"addToCategory\" , \"bad insert\")\n",
    "\n",
    "\n",
    "\n",
    "\n",
    "    def setIDs(self,entity_id:int):\n",
    "        \"\"\"\n",
    "        Description : set les colonnes IDs de la ligne courante sauf ID_TURN \n",
    "        \"\"\"\n",
    "        self.setColumn ('ID_GEN',self.numGen)\n",
    "        self.setColumn ('ID_FIGHT',self. numFight)\n",
    "        self.setColumn ('ID_ENTITY',self.getEntityID(entity_id))\n",
    "        #self.setColumn ('ID_TURN',self.idx_turn)\n",
    "        \n",
    "    def getEntityID(self ,entity_id:int ):\n",
    "        \"\"\"\n",
    "        Description : retourne l'ID de l'entité entity_id si elle existe sinon retourne outOfRange()\n",
    "        \"\"\"\n",
    "        if len(self.entities_ids) > entity_id :\n",
    "            return self.entities_ids[entity_id]\n",
    "        \n",
    "        else :\n",
    "            errorMessagePyth(self,\"getEntityID\" , \"index out of range\")\n",
    "            return outOfRange()\n",
    "        \n",
    "    @staticmethod\n",
    "    def getIdxCodeToken():\n",
    "        return 0\n",
    "    @staticmethod\n",
    "    def getIdxEntityToken():\n",
    "        return 1\n",
    "    \n",
    "    @staticmethod\n",
    "    def getCodeToken(_lst :list):\n",
    "        return _lst[ReadActions.getIdxCodeToken()]\n",
    "    @staticmethod\n",
    "    def getEntityToken(_lst :list):\n",
    "        return _lst[ReadActions.getIdxEntityToken()]\n",
    "    \n",
    "    def getTurn( self,lst_actions :list ,idx_turn :int ):\n",
    "        entity_id = -1 \n",
    "        \n",
    "        # continue jusqu'au token LEEK_TURN\n",
    "        nbActionRead=ReadActions.whileToken(\"LEEK_TURN\",lst_actions)\n",
    "\n",
    "        k = nbActionRead\n",
    "\n",
    "        if(k==notFound()):\n",
    "            return k , None \n",
    "        \n",
    "        act_token = ReadActions.getCodeToken(lst_actions[k])\n",
    "        entity_id =  ReadActions.getEntityToken(lst_actions[k-1])\n",
    "        \n",
    "        self.addNewTurn(idx_turn)\n",
    "        self.setIDs(entity_id)\n",
    "\n",
    "        #si le tour est vide : \n",
    "        if(self.isEndTurn(act_token)):\n",
    "            return k , entity_id \n",
    "        \n",
    "        idx=0\n",
    "        while k  < len(lst_actions):\n",
    "\n",
    "            act_token = ReadActions.getCodeToken(lst_actions[k])\n",
    "\n",
    "            #si le tour est fini : \n",
    "            if(self.isEndTurn(act_token) ):\n",
    "                return k , entity_id\n",
    "            \n",
    "\n",
    "            for i in range(1,len(ReadActions.intervals_ends)):\n",
    "                #idx_group_actions=i\n",
    "                interval = [list(ReadActions.intervals_ends.values())[i-1],list(ReadActions.intervals_ends.values())[i]]\n",
    "                if(act_token  in ReadActions.intervals_dictRev and isInInterval(act_token , interval )) :\n",
    "                    \n",
    "                    _id = ReadActions.getEntityToken(lst_actions[k])\n",
    "                    self.addToAudit(ReadActions.audit_col.index(\"ACTIONS\"),i,act_token)\n",
    "                    self.addToGroupAction(i , act_token)\n",
    "\n",
    "        \n",
    "\n",
    "                    if(list(ReadActions.intervals_ends.keys())[i] == \"Times\"):\n",
    "\n",
    "                        if(ReadActions.intervals_dictRev.get(act_token) == \"MOVE_TO\"):\n",
    "                            lst_mv = lst_actions[k][ReadActions.dict_dfValue[str(act_token)][\"name_fields\"].index(\"path\")]\n",
    "                            self.extendColum('MOVE_TO',[lst_mv[0],len(lst_mv),lst_mv[-1]])\n",
    "                            self.extendColum('MAPS',lst_mv)\n",
    "                            \n",
    "  \n",
    "                            \n",
    "                    elif(list(ReadActions.intervals_ends.keys())[i] == \"Buffs\"):\n",
    "                        if(ReadActions.intervals_dictRev.get(act_token) == 'HEAL'):\n",
    "                            self.addToColumn('LIFE',lst_actions[k][ReadActions.dict_dfValue[str(act_token)][\"name_fields\"].index(\"life\")])\n",
    "                        elif(ReadActions.intervals_dictRev.get(act_token) in ['LOST_LIFE','NOVA_DAMAGE','DAMAGE_RETURN','LIFE_DAMAGE','POISON_DAMAGE',' AFTEREFFECT']):\n",
    "                            self.addToColumn('LOST_LIFE',lst_actions[k][ReadActions.dict_dfValue[str(act_token)][\"name_fields\"].index(\"pv\")])\n",
    "                    elif(list(ReadActions.intervals_ends.keys())[i] == \"Effects\"):\n",
    "                        if(ReadActions.intervals_dictRev.get(act_token) == 'ADD_WEAPON_EFFECT'):\n",
    "                            self.addToColumn('WEAPON_DEG',lst_actions[k][ReadActions.dict_dfValue[str(act_token)][\"name_fields\"].index(\"value\")])\n",
    "                            self.extendColum('WEAPON_ID',[_id])\n",
    "                        elif(ReadActions.intervals_dictRev.get(act_token) == 'ADD_CHIP_EFFECT'):\n",
    "                                self.addToColumn('CHIP_DEG',lst_actions[k][ReadActions.dict_dfValue[str(act_token)][\"name_fields\"].index(\"value\")])\n",
    "                                self.extendColum('CHIP_ID',[_id])\n",
    "                                \n",
    "                    \n",
    "                    \n",
    "            k+=1\n",
    "            idx+=1\n",
    "        return k , entity_id\n",
    "\n",
    "                            \n",
    "                    \n",
    "    def getFight ( self,lst_actions:list ):\n",
    "        nbReads=ReadActions.whileToken(\"START_FIGHT\",lst_actions)\n",
    "\n",
    "        k=nbReads\n",
    "\n",
    "        idx_turn = 0 \n",
    "        while k < len(lst_actions):\n",
    "            act_token =ReadActions.getCodeToken(lst_actions[k])\n",
    "            if(self.isEndFight(act_token )):\n",
    "                return k \n",
    "            nbReads , ent_id = self.getTurn(lst_actions[k:],idx_turn)\n",
    "            if(nbReads==-1):\n",
    "                break\n",
    "            k+=(nbReads+1)\n",
    "            if(k < len(lst_actions)):\n",
    "                act_token =ReadActions.getCodeToken(lst_actions[k])\n",
    "                if(self.isBeginTurn(act_token)):\n",
    "                    idx_turn +=1\n"
   ]
  },
  {
   "cell_type": "code",
   "execution_count": 6,
   "id": "d768f204",
   "metadata": {},
   "outputs": [],
   "source": [
    "def parse_fileOutcome_retDF(example_1_outcome,pathOutcome,quatuor=None,ancien=False):  \n",
    "        if quatuor is None and b_filename_isvalid(example_1_outcome):\n",
    "            quatuor= filename_isvalid(example_1_outcome)  \n",
    "        \n",
    "        if(len(quatuor) == 4):\n",
    "            numGen , numFight , ids_str , _example_1_outcome = quatuor\n",
    "            ids = splitIds(ids_str)\n",
    "            rda = ReadActions(ids ,numGen, numFight , _example_1_outcome )\n",
    "\n",
    "            example_1_outcome_path = os.path.join(pathOutcome , example_1_outcome)\n",
    "\n",
    "            dct_outcome = dict()\n",
    "            with open(example_1_outcome_path) as _f2:\n",
    "                dct_outcome = json.load(_f2)\n",
    "            if(isinstance(dct_outcome,str)):\n",
    "                dct_outcome =json.loads(dct_outcome )\n",
    "            lst_actions =None \n",
    "            if(\"fight\" in dct_outcome):\n",
    "                dct_outcome = dct_outcome[\"fight\"]\n",
    "            if(\"actions\" in dct_outcome):\n",
    "                lst_actions = dct_outcome[\"actions\"]\n",
    "            #lst_actions = dct_outcome[\"actions\"]if ancien else dct_outcome[\"fight\"][\"actions\"]\n",
    "            if(bool(lst_actions )):\n",
    "                rda.getFight (lst_actions)\n",
    "                return rda\n",
    "            else :\n",
    "                return None \n"
   ]
  },
  {
   "cell_type": "code",
   "execution_count": 7,
   "id": "1900f933",
   "metadata": {},
   "outputs": [],
   "source": [
    "def lst_atmLife(df_cpy,life_entities , str_col =\"ADD_LIFE\" ):\n",
    "    lst_res = []\n",
    "    nb_elem = len(life_entities)\n",
    "    for i , add_life in enumerate(df_cpy[str_col ]) :\n",
    "\n",
    "        if i >= nb_elem :\n",
    "                    lst_res.append(list(map(add,add_life,lst_res[-nb_elem])))\n",
    "\n",
    "        else:\n",
    "            lst_res.append(list(map(add,add_life,life_entities[len(lst_res)-nb_elem])))\n",
    "    return  lst_res "
   ]
  },
  {
   "cell_type": "code",
   "execution_count": 8,
   "id": "bd6abf03",
   "metadata": {},
   "outputs": [],
   "source": [
    "\n",
    "def df_addLife_atmLife(df , life_entities):\n",
    "    df_cpy = df.copy()\n",
    "    df_cpy[\"ADD_LIFE\"] = df_cpy.apply(lambda row: list( map(sub, row[\"LIFE\"] , row[\"LOST_LIFE\"])), axis=1)\n",
    "    df_cpy[\"ATM_LIFE\"]=lst_atmLife(df_cpy , life_entities)\n",
    "    return df_cpy "
   ]
  },
  {
   "cell_type": "code",
   "execution_count": 9,
   "id": "b7a8b999",
   "metadata": {},
   "outputs": [],
   "source": [
    "\n",
    "def convert_int_list(x):\n",
    "    return ast.literal_eval(x)\n"
   ]
  },
  {
   "cell_type": "code",
   "execution_count": 10,
   "id": "3de98619",
   "metadata": {},
   "outputs": [],
   "source": [
    "def getMaxID(str_col):\n",
    "    path_data = \"D:\\\\Master\\\\S2\\\\TER\\\\analyse\\\\data\"\n",
    "    if(str_col == \"MAPS\"):\n",
    "        return [i for i in range(612)]\n",
    "    if(str_col == \"WEAPON_ID\"):\n",
    "        dct_ = json.load(open(os.path.join(path_data,\"weapons\"+\".json\")))\n",
    "        return [e[\"item\"] for e in dct_.values()] #list(map(int,list(dct_.keys())))\n",
    "    if(str_col == \"CHIP_ID\"):\n",
    "        dct_ = json.load(open(os.path.join(path_data,\"chips\"+\".json\")))\n",
    "        return list(map(int,list(dct_.keys())))"
   ]
  },
  {
   "cell_type": "code",
   "execution_count": 11,
   "id": "6ad5f569",
   "metadata": {},
   "outputs": [],
   "source": [
    "def init_folder_genSplit(nb_folders_gen,nb_folders_turn,root_path =os.getcwd() ):\n",
    "    if not(os.path.exists(root_path)) or  not(os.path.isdir(root_path)):\n",
    "        os.makedirs(root_path)\n",
    "    for partGen in range(nb_folders_gen):\n",
    "        path_gen=os.path.join(root_path,str(partGen))\n",
    "        print(path_gen)\n",
    "        if not(os.path.exists(path_gen)) or  not(os.path.isdir(path_gen)):\n",
    "            os.mkdir(path_gen)\n",
    "        '''for partTurn in range(nb_folders_turn):\n",
    "            path_turn= os.path.join(path_gen,str(partTurn))\n",
    "            print(path_turn)\n",
    "            if not(os.path.exists(path_turn)) or  not(os.path.isdir(path_turn)):\n",
    "                os.mkdir(path_turn)'''\n",
    "    return root_path\n",
    "\n",
    "def clean_folder_genSplit(root_path):\n",
    "    if os.path.exists(root_path) and  os.path.isdir(root_path):\n",
    "        shutil.rmtree(root_path)"
   ]
  },
  {
   "cell_type": "code",
   "execution_count": 12,
   "id": "a999b7ee",
   "metadata": {},
   "outputs": [],
   "source": [
    "from collections import Counter\n",
    "#dict_part={\"PART_TURN\":0,\"PART_GEN\":6}\n",
    "def df_cols (path_root_f_  ,dict_part,index_col_=[i for i in range(len(ReadActions.id_col))],ignore_col = [\"MOVE_TO\"]):\n",
    "\n",
    "    path_f= os.path.join(os.path.join(path_root_f_ ,str(dict_part[\"PART_GEN\"])),str(dict_part[\"PART_TURN\"]))\n",
    "    \n",
    "    dct_res=dict()\n",
    "    \n",
    "    for str_col_ in ReadActions._cols:\n",
    "\n",
    "        if(not(str_col_ in ignore_col )):\n",
    "            acc_counter = Counter()\n",
    "            f_name_out = os.path.join(path_f ,str_col_)+\".csv\"\n",
    "\n",
    "            df = pd.read_csv(f_name_out,index_col=index_col_,sep=\";\",encoding=\"utf-8\",converters={str_col_: convert_int_list})#DataFrame({'data': [np.random.randn(3) for i in range(N)]})\n",
    "\n",
    "            batch_size = 2500\n",
    "\n",
    "            for i in range(0, len(df), batch_size):\n",
    "\n",
    "                batch = df.loc[df.index[i:i+batch_size-1], str_col_].tolist()\n",
    "\n",
    "                batch_size = len(batch)\n",
    "\n",
    "\n",
    "                # Concaténation des listes\n",
    "                concatenated_data = np.concatenate(batch)\n",
    "                my_counter = Counter(concatenated_data)\n",
    "\n",
    "                acc_counter += my_counter\n",
    "\n",
    "            res_counter = Counter({i: 0 for i in getMaxID(str_col_)})#unecessary if skip nan after \n",
    "            res_counter.update(acc_counter)\n",
    "            res_counter.update(dict_part)\n",
    "            #res_counter.update({\"PART_GEN\":part_gen_})\n",
    "            \n",
    "            \n",
    "            res_counter = {str(k): v for k, v in res_counter.items()}\n",
    "            \n",
    "            \n",
    "            #path_f_csv = os.path.join(path_root_f_,str_col_+'.csv')\n",
    "            '''try:\n",
    "                df_write = pd.read_csv(path_f_csv ,sep=\";\",encoding=\"utf-8\", index_col=[0])\n",
    "            except :\n",
    "                df_write = pd.DataFrame(columns=list(res_counter.keys()))\n",
    "            '''\n",
    "\n",
    "            \n",
    "            # Append the new row to the DataFrame\n",
    "            #df_write = df_write.append(res_counter,ignore_index=True)\n",
    "            \n",
    "\n",
    "            \n",
    "            #df_dct_ = pd.DataFrame([res_counter])\n",
    "            \n",
    "            #df_write =pd.concat([df_write, df_dct_],ignore_index=True)\n",
    "            \n",
    "            \n",
    "            #display(df_write)\n",
    "            \n",
    "\n",
    "            # Write the DataFrame back to the CSV file\n",
    "            #df_write.to_csv(path_f_csv ,sep=\";\",encoding=\"utf-8\")\n",
    "            dct_res.update({str_col_ : res_counter})\n",
    "    return dct_res\n",
    "        "
   ]
  },
  {
   "cell_type": "code",
   "execution_count": 13,
   "id": "52bbd9be",
   "metadata": {},
   "outputs": [],
   "source": [
    "def df_deg_col (path_root_f_  ,dict_part,index_col_=[i for i in range(len(ReadActions.id_col))]):\n",
    "\n",
    "    try:\n",
    "    \n",
    "        path_f= os.path.join(os.path.join(path_root_f_,str(dict_part[\"PART_GEN\"])),str(dict_part[\"PART_TURN\"]))\n",
    "        \n",
    "        dct_res = dict()\n",
    "        \n",
    "        for str_col_ in ReadActions.deg_col:\n",
    "\n",
    "            f_name_out = os.path.join(path_f ,str_col_)+\".csv\"\n",
    "\n",
    "            df = pd.read_csv(f_name_out,index_col=index_col_,sep=\";\",encoding=\"utf-8\",converters={str_col_: convert_int_list})#DataFrame({'data': [np.random.randn(3) for i in range(N)]})\n",
    "\n",
    "\n",
    "            # Définition de la taille des batchs\n",
    "            batch_size = 2500\n",
    "\n",
    "            # Initialisation des accumulateurs\n",
    "            mean_acc = 0.0\n",
    "            variance_acc = 0.0\n",
    "            count = 0\n",
    "\n",
    "            # Boucle sur les batchs\n",
    "            for i in range(0, len(df), batch_size):\n",
    "\n",
    "                batch = df.loc[df.index[i:i+batch_size-1], str_col_].tolist()\n",
    "\n",
    "                batch_size = len(batch)\n",
    "\n",
    "\n",
    "                # Concaténation des listes\n",
    "                concatenated_data = np.concatenate(batch)\n",
    "                batch_mean = np.mean(concatenated_data)\n",
    "                batch_var = np.var(concatenated_data)\n",
    "                batch_count = len(concatenated_data)\n",
    "\n",
    "\n",
    "                # Mise à jour des accumulateurs\n",
    "                delta = batch_mean - mean_acc\n",
    "                mean_acc += delta * batch_count / (count + batch_count)\n",
    "                variance_acc += batch_var * batch_count + delta**2 * count * (batch_count / (count + batch_count))\n",
    "                count += batch_count\n",
    "\n",
    "            # Calcul de la moyenne, de la variance et de l'écart-type\n",
    "            mean = round(mean_acc,2)\n",
    "            _tu_ = variance_acc /(count - 1) if count > 1 else 0\n",
    "            variance = round(_tu_,2)\n",
    "            std_dev = round(np.sqrt(variance),2)\n",
    "            \n",
    "            res_counter = dict({\"MEAN\":mean,\"VAR\":variance,\"STD_DEV\":std_dev})\n",
    "            res_counter.update(dict_part)\n",
    "\n",
    "\n",
    "            #path_f_csv = os.path.join(path_root_f_,str_col_+'.csv')\n",
    "\n",
    "            '''try:\n",
    "                df_write = pd.read_csv(path_f_csv ,sep=\";\",encoding=\"utf-8\", index_col=[0])\n",
    "            except :\n",
    "                df_write = pd.DataFrame(columns=list(dict_part.keys()))\n",
    "            '''\n",
    "                \n",
    "            # Append the new row to the DataFrame\n",
    "\n",
    "            \n",
    "            dct_res.update({str_col_ : res_counter})\n",
    "            \n",
    "            \n",
    "\n",
    "            #df_write = df_write.append(res_counter,ignore_index=True)\n",
    "            #df_write =pd.concat([df_write, pd.DataFrame([res_counter])],ignore_index=True)\n",
    "            #df_write.to_csv(path_f_csv ,sep=\";\",encoding=\"utf-8\")\n",
    "    except  :\n",
    "        print(\"UnsortedIndexError\")\n",
    "        \n",
    "    return dct_res\n",
    "    \n",
    "    \n",
    "#display(df_stat_mean)"
   ]
  },
  {
   "cell_type": "code",
   "execution_count": 14,
   "id": "b2d83aed",
   "metadata": {},
   "outputs": [],
   "source": [
    "SIZE_LIMIT = 3*pow(10,6)"
   ]
  },
  {
   "cell_type": "code",
   "execution_count": 15,
   "id": "fbb39f81",
   "metadata": {},
   "outputs": [],
   "source": [
    "def treate_batch(dct_num,root_path_gen_turn,batch_,dict_len_part,nbPartTurn,life_entities,str_path=os.getcwd(),ignore_col = [\"MOVE_TO\"],index_col_=[i for i in range(len(ReadActions.id_col))]):\n",
    "    len_part_turn = dict_len_part[\"LEN_PART_TURN\"]\n",
    "    len_part_gen= dict_len_part[\"LEN_PART_GEN\"]\n",
    "    \n",
    "    dict_part={\"PART_GEN\":-1,\"PART_TURN\":-1}\n",
    "    lst_dct_deg_col = {key: [] for key in ReadActions.deg_col}\n",
    "    lst_lst_col  = {key: [] for key in ReadActions._cols if not (key  in ignore_col )}\n",
    "        \n",
    "    for filename_batch in batch_:    \n",
    "        if b_filename_isvalid(filename_batch):\n",
    "                    _quatuor= filename_isvalid(filename_batch)  \n",
    "        _rda = parse_fileOutcome_retDF(filename_batch,str_path,quatuor=_quatuor)\n",
    "        if(_rda is None ):\n",
    "            print(filename_batch)\n",
    "            print(\"ERREUR PARSE \")\n",
    "            continue\n",
    "        df_final=df_addLife_atmLife(_rda.df,life_entities)\n",
    "        dict_part[\"PART_GEN\"]=int(_quatuor[0])//len_part_gen\n",
    "        path_gen_csv = os.path.join(root_path_gen_turn,str(dict_part[\"PART_GEN\"]))\n",
    "        for iz in range(nbPartTurn):\n",
    "            dict_part[\"PART_TURN\"]=iz\n",
    "            partie = df_final.loc[(df_final['ID_TURN'] > len_part_turn*iz) & (df_final['ID_TURN'] < len_part_turn*(iz+1))]\n",
    "            if partie.shape[0] > 0 :\n",
    "                path_turn_csv = os.path.join(path_gen_csv,str(iz))\n",
    "                if not(Path(path_turn_csv).exists()):\n",
    "                    os.mkdir(path_turn_csv)\n",
    "                for str_col in list(set(partie.columns)- set(ReadActions.id_col)):\n",
    "                    path_csv_col = os.path.join(path_turn_csv,str_col)\n",
    "                    final_path_csv =path_csv_col+\".csv\"\n",
    "                    sub_partie = partie[[str_col]+ReadActions.id_col]\n",
    "                    sub_partie.set_index(ReadActions.id_col,inplace=True)\n",
    "\n",
    "                    if Path(final_path_csv).exists():\n",
    "\n",
    "                        concat_df = pd.read_csv(final_path_csv,sep=\";\", index_col=index_col_,encoding=\"utf-8\")\n",
    "                        final_df = pd.concat([concat_df,sub_partie])\n",
    "                        final_df.to_csv(final_path_csv,sep=\";\",encoding=\"utf-8\")\n",
    "                    else:\n",
    "                        sub_partie.to_csv(final_path_csv,sep=\";\",encoding=\"utf-8\")\n",
    "\n",
    "\n",
    "                #print(dict_part)\n",
    "                \n",
    "                dct_deg = df_deg_col (root_path_gen_turn,dict_part,index_col_=index_col_)\n",
    "                for _k ,_v in dct_deg.items():\n",
    "                    lst_dct_deg_col[_k].append(_v)\n",
    "                    \n",
    "                dct_lst = df_cols(root_path_gen_turn,dict_part,index_col_=index_col_)\n",
    "                for _k ,_v in dct_lst.items():\n",
    "                    __k= int(_k) if _k.isnumeric() else _k\n",
    "                    lst_lst_col[str(__k)].append(_v)\n",
    "                    \n",
    "    for _k , _v in lst_dct_deg_col.items():\n",
    "        path_r_csv =  os.path.join(root_path_gen_turn,str(_k))\n",
    "        path_f_csv = os.path.join(path_r_csv,str(dct_num[_k])+'.csv')\n",
    "        try:\n",
    "            if(os.path.getsize(path_f_csv) > SIZE_LIMIT):\n",
    "                df_write = pd.DataFrame(columns=list(_v[0].keys()))#columns=[\"MEAN\",\"VAR\",\"STD_DEV\"]+list(dict_part.keys()))\n",
    "                dct_num[_k]+=1\n",
    "                path_f_csv = os.path.join(path_r_csv,str(dct_num(_k))+'.csv')\n",
    "            else:\n",
    "                df_write = pd.read_csv(path_f_csv ,sep=\";\",encoding=\"utf-8\", index_col=[0])\n",
    "        except :\n",
    "            df_write = pd.DataFrame(columns=list(_v[0].keys()))#columns=[\"MEAN\",\"VAR\",\"STD_DEV\"]+list(dict_part.keys()))\n",
    "        df_write = df_write.append(_v, ignore_index=True)\n",
    "        df_write.to_csv(path_f_csv ,sep=\";\",encoding=\"utf-8\")\n",
    "        \n",
    "    for _k , _v in lst_lst_col.items():\n",
    "        path_r_csv =  os.path.join(root_path_gen_turn,str(_k))\n",
    "        path_f_csv = os.path.join(path_r_csv,str(dct_num[_k])+'.csv')\n",
    "        try:\n",
    "            if(os.path.getsize(path_f_csv) > SIZE_LIMIT):\n",
    "                df_write = pd.DataFrame(columns=list(_v[0].keys()))#getMaxID(str(_k))+list(dict_part.keys()))\n",
    "                dct_num[_k]+=1\n",
    "                path_f_csv = os.path.join(path_r_csv,str(dct_num[_k])+'.csv')\n",
    "            else:\n",
    "                df_write = pd.read_csv(path_f_csv ,sep=\";\",encoding=\"utf-8\", index_col=[0])\n",
    "        except :\n",
    "            df_write = pd.DataFrame(columns=list(_v[0].keys()))#getMaxID(str(_k))+list(dict_part.keys()))\n",
    "        df_write = df_write.append(_v, ignore_index=True)\n",
    "        df_write.to_csv(path_f_csv ,sep=\";\",encoding=\"utf-8\")\n",
    "        \n",
    "        "
   ]
  },
  {
   "cell_type": "code",
   "execution_count": 16,
   "id": "a1f37f1a",
   "metadata": {},
   "outputs": [],
   "source": [
    "def treat_files_byBatch(life_entities,str_path_outcome ,dict_len_part,nbPartTurn,root_path_gen_turn,len_batch = 100):\n",
    "    btlf= BatchLoaderFiles(str_path_outcome,batch_len =len_batch)\n",
    "    batch_ = btlf.getNextBatch()\n",
    "    count_f_outcome=0\n",
    "    count_batch_outcome=0\n",
    "    dct_num={k:0 for k in ReadActions.lst_col }\n",
    "    while(len(batch_) >= len_batch):\n",
    "        count_batch_outcome += 1\n",
    "        '''\n",
    "        for _filename in batch_ :\n",
    "            count_f_outcome+=1\n",
    "            if b_filename_isvalid(_filename):\n",
    "                numGen , numFight , ids_str , outcome_filename = filename_isvalid(_filename)  \n",
    "                ids = splitIds(ids_str)'''\n",
    "\n",
    "        print(batch_)\n",
    "        treate_batch(dct_num,root_path_gen_turn,batch_,dict_len_part,nbPartTurn,life_entities,str_path=str_path_outcome)        \n",
    "        btlf.updateTreatedFiles(batch_)\n",
    "        batch_ = btlf.getNextBatch()"
   ]
  },
  {
   "cell_type": "code",
   "execution_count": 17,
   "id": "51f1bc84",
   "metadata": {},
   "outputs": [],
   "source": [
    "def init_resume_folder(path_root_f):\n",
    "    for str_col in ReadActions.lst_col+ReadActions.audit_col :\n",
    "        path_r_csv = os.path.join(path_root_f,str_col)\n",
    "        os.mkdir(path_r_csv)\n",
    "    "
   ]
  },
  {
   "cell_type": "code",
   "execution_count": null,
   "id": "5826c306",
   "metadata": {},
   "outputs": [],
   "source": []
  },
  {
   "cell_type": "code",
   "execution_count": 18,
   "id": "bf9b8eff",
   "metadata": {},
   "outputs": [],
   "source": [
    "\n",
    "\n",
    "genetic_path = \"D:\\\\Master\\\\S2\\\\TER\\\\analyse\\\\src\"\n",
    "\n",
    "pathOutcome = os.path.join(genetic_path,\"outcome\")\n",
    "pathGeneticScript =   os.path.join(genetic_path,\"genetic-script-data\")\n"
   ]
  },
  {
   "cell_type": "code",
   "execution_count": 19,
   "id": "e80a9471",
   "metadata": {},
   "outputs": [
    {
     "name": "stdout",
     "output_type": "stream",
     "text": [
      "D:\\Master\\S2\\TER\\analyse\\src\\outcome_gen_turn\\0\n",
      "D:\\Master\\S2\\TER\\analyse\\src\\outcome_gen_turn\\1\n",
      "D:\\Master\\S2\\TER\\analyse\\src\\outcome_gen_turn\\2\n",
      "D:\\Master\\S2\\TER\\analyse\\src\\outcome_gen_turn\\3\n",
      "D:\\Master\\S2\\TER\\analyse\\src\\outcome_gen_turn\\4\n",
      "D:\\Master\\S2\\TER\\analyse\\src\\outcome_gen_turn\\5\n",
      "D:\\Master\\S2\\TER\\analyse\\src\\outcome_gen_turn\\6\n",
      "D:\\Master\\S2\\TER\\analyse\\src\\outcome_gen_turn\\7\n",
      "D:\\Master\\S2\\TER\\analyse\\src\\outcome_gen_turn\\8\n",
      "D:\\Master\\S2\\TER\\analyse\\src\\outcome_gen_turn\\9\n",
      "D:\\Master\\S2\\TER\\analyse\\src\\outcome_gen_turn\\10\n",
      "D:\\Master\\S2\\TER\\analyse\\src\\outcome_gen_turn\\11\n",
      "D:\\Master\\S2\\TER\\analyse\\src\\outcome_gen_turn\\12\n",
      "D:\\Master\\S2\\TER\\analyse\\src\\outcome_gen_turn\\13\n",
      "D:\\Master\\S2\\TER\\analyse\\src\\outcome_gen_turn\\14\n",
      "D:\\Master\\S2\\TER\\analyse\\src\\outcome_gen_turn\\15\n",
      "D:\\Master\\S2\\TER\\analyse\\src\\outcome_gen_turn\\16\n",
      "D:\\Master\\S2\\TER\\analyse\\src\\outcome_gen_turn\\17\n",
      "D:\\Master\\S2\\TER\\analyse\\src\\outcome_gen_turn\\18\n",
      "D:\\Master\\S2\\TER\\analyse\\src\\outcome_gen_turn\\19\n",
      "D:\\Master\\S2\\TER\\analyse\\src\\outcome_gen_turn\\20\n",
      "D:\\Master\\S2\\TER\\analyse\\src\\outcome_gen_turn\\21\n",
      "D:\\Master\\S2\\TER\\analyse\\src\\outcome_gen_turn\\22\n",
      "D:\\Master\\S2\\TER\\analyse\\src\\outcome_gen_turn\\23\n",
      "D:\\Master\\S2\\TER\\analyse\\src\\outcome_gen_turn\\24\n",
      "D:\\Master\\S2\\TER\\analyse\\src\\outcome_gen_turn\\25\n",
      "D:\\Master\\S2\\TER\\analyse\\src\\outcome_gen_turn\\26\n",
      "D:\\Master\\S2\\TER\\analyse\\src\\outcome_gen_turn\\27\n",
      "D:\\Master\\S2\\TER\\analyse\\src\\outcome_gen_turn\\28\n",
      "D:\\Master\\S2\\TER\\analyse\\src\\outcome_gen_turn\\29\n",
      "D:\\Master\\S2\\TER\\analyse\\src\\outcome_gen_turn\\30\n",
      "D:\\Master\\S2\\TER\\analyse\\src\\outcome_gen_turn\\31\n",
      "D:\\Master\\S2\\TER\\analyse\\src\\outcome_gen_turn\\32\n",
      "D:\\Master\\S2\\TER\\analyse\\src\\outcome_gen_turn\\33\n",
      "D:\\Master\\S2\\TER\\analyse\\src\\outcome_gen_turn\\34\n",
      "D:\\Master\\S2\\TER\\analyse\\src\\outcome_gen_turn\\35\n",
      "D:\\Master\\S2\\TER\\analyse\\src\\outcome_gen_turn\\36\n",
      "D:\\Master\\S2\\TER\\analyse\\src\\outcome_gen_turn\\37\n",
      "D:\\Master\\S2\\TER\\analyse\\src\\outcome_gen_turn\\38\n",
      "D:\\Master\\S2\\TER\\analyse\\src\\outcome_gen_turn\\39\n",
      "D:\\Master\\S2\\TER\\analyse\\src\\outcome_gen_turn\\40\n",
      "D:\\Master\\S2\\TER\\analyse\\src\\outcome_gen_turn\\41\n",
      "D:\\Master\\S2\\TER\\analyse\\src\\outcome_gen_turn\\42\n",
      "D:\\Master\\S2\\TER\\analyse\\src\\outcome_gen_turn\\43\n",
      "D:\\Master\\S2\\TER\\analyse\\src\\outcome_gen_turn\\44\n",
      "D:\\Master\\S2\\TER\\analyse\\src\\outcome_gen_turn\\45\n",
      "D:\\Master\\S2\\TER\\analyse\\src\\outcome_gen_turn\\46\n",
      "D:\\Master\\S2\\TER\\analyse\\src\\outcome_gen_turn\\47\n",
      "D:\\Master\\S2\\TER\\analyse\\src\\outcome_gen_turn\\48\n",
      "D:\\Master\\S2\\TER\\analyse\\src\\outcome_gen_turn\\49\n",
      "D:\\Master\\S2\\TER\\analyse\\src\\outcome_gen_turn\\50\n",
      "D:\\Master\\S2\\TER\\analyse\\src\\outcome_gen_turn\\51\n",
      "D:\\Master\\S2\\TER\\analyse\\src\\outcome_gen_turn\\52\n",
      "D:\\Master\\S2\\TER\\analyse\\src\\outcome_gen_turn\\53\n",
      "D:\\Master\\S2\\TER\\analyse\\src\\outcome_gen_turn\\54\n",
      "D:\\Master\\S2\\TER\\analyse\\src\\outcome_gen_turn\\55\n",
      "D:\\Master\\S2\\TER\\analyse\\src\\outcome_gen_turn\\56\n",
      "D:\\Master\\S2\\TER\\analyse\\src\\outcome_gen_turn\\57\n",
      "D:\\Master\\S2\\TER\\analyse\\src\\outcome_gen_turn\\58\n",
      "D:\\Master\\S2\\TER\\analyse\\src\\outcome_gen_turn\\59\n",
      "D:\\Master\\S2\\TER\\analyse\\src\\outcome_gen_turn\\60\n",
      "D:\\Master\\S2\\TER\\analyse\\src\\outcome_gen_turn\\61\n",
      "D:\\Master\\S2\\TER\\analyse\\src\\outcome_gen_turn\\62\n",
      "D:\\Master\\S2\\TER\\analyse\\src\\outcome_gen_turn\\63\n",
      "D:\\Master\\S2\\TER\\analyse\\src\\outcome_gen_turn\\64\n",
      "D:\\Master\\S2\\TER\\analyse\\src\\outcome_gen_turn\\65\n",
      "D:\\Master\\S2\\TER\\analyse\\src\\outcome_gen_turn\\66\n",
      "D:\\Master\\S2\\TER\\analyse\\src\\outcome_gen_turn\\67\n",
      "D:\\Master\\S2\\TER\\analyse\\src\\outcome_gen_turn\\68\n",
      "D:\\Master\\S2\\TER\\analyse\\src\\outcome_gen_turn\\69\n",
      "D:\\Master\\S2\\TER\\analyse\\src\\outcome_gen_turn\\70\n",
      "D:\\Master\\S2\\TER\\analyse\\src\\outcome_gen_turn\\71\n",
      "D:\\Master\\S2\\TER\\analyse\\src\\outcome_gen_turn\\72\n",
      "D:\\Master\\S2\\TER\\analyse\\src\\outcome_gen_turn\\73\n",
      "D:\\Master\\S2\\TER\\analyse\\src\\outcome_gen_turn\\74\n",
      "D:\\Master\\S2\\TER\\analyse\\src\\outcome_gen_turn\\75\n",
      "D:\\Master\\S2\\TER\\analyse\\src\\outcome_gen_turn\\76\n",
      "D:\\Master\\S2\\TER\\analyse\\src\\outcome_gen_turn\\77\n",
      "D:\\Master\\S2\\TER\\analyse\\src\\outcome_gen_turn\\78\n",
      "D:\\Master\\S2\\TER\\analyse\\src\\outcome_gen_turn\\79\n",
      "D:\\Master\\S2\\TER\\analyse\\src\\outcome_gen_turn\\80\n",
      "D:\\Master\\S2\\TER\\analyse\\src\\outcome_gen_turn\\81\n",
      "D:\\Master\\S2\\TER\\analyse\\src\\outcome_gen_turn\\82\n",
      "D:\\Master\\S2\\TER\\analyse\\src\\outcome_gen_turn\\83\n",
      "D:\\Master\\S2\\TER\\analyse\\src\\outcome_gen_turn\\84\n",
      "D:\\Master\\S2\\TER\\analyse\\src\\outcome_gen_turn\\85\n",
      "D:\\Master\\S2\\TER\\analyse\\src\\outcome_gen_turn\\86\n",
      "D:\\Master\\S2\\TER\\analyse\\src\\outcome_gen_turn\\87\n",
      "D:\\Master\\S2\\TER\\analyse\\src\\outcome_gen_turn\\88\n",
      "D:\\Master\\S2\\TER\\analyse\\src\\outcome_gen_turn\\89\n",
      "D:\\Master\\S2\\TER\\analyse\\src\\outcome_gen_turn\\90\n",
      "D:\\Master\\S2\\TER\\analyse\\src\\outcome_gen_turn\\91\n",
      "D:\\Master\\S2\\TER\\analyse\\src\\outcome_gen_turn\\92\n",
      "D:\\Master\\S2\\TER\\analyse\\src\\outcome_gen_turn\\93\n",
      "D:\\Master\\S2\\TER\\analyse\\src\\outcome_gen_turn\\94\n",
      "D:\\Master\\S2\\TER\\analyse\\src\\outcome_gen_turn\\95\n",
      "D:\\Master\\S2\\TER\\analyse\\src\\outcome_gen_turn\\96\n",
      "D:\\Master\\S2\\TER\\analyse\\src\\outcome_gen_turn\\97\n",
      "D:\\Master\\S2\\TER\\analyse\\src\\outcome_gen_turn\\98\n",
      "D:\\Master\\S2\\TER\\analyse\\src\\outcome_gen_turn\\99\n"
     ]
    }
   ],
   "source": [
    "## INIT SETTING\n",
    "\n",
    "settings_path = os.path.join(pathGeneticScript,\"settings-genetic.json\")\n",
    "settings = json.load(open(settings_path))\n",
    "\n",
    "## CREATE DATAFRAME SETTING\n",
    "\n",
    "life_entities= [[settings[\"leekStats\"][\"life\"]],[settings[\"leekStats\"][\"life\"]]]\n",
    "\n",
    "\n",
    "## GENERATION  SETTING\n",
    "nbMaxRow = 250000\n",
    "nbPartTurn = 32\n",
    "\n",
    "len_population = settings[\"population\"]\n",
    "len_maxturn = settings[\"mapStats\"][\"max_turns\"]\n",
    "nbGeneration=settings[\"generations\"]\n",
    "\n",
    "combat_quantity=settings[\"combatsQuantity\"]\n",
    "\n",
    "## BATCH SOTRING SETTING\n",
    "\n",
    "\n",
    "len_part_turn = len_maxturn // nbPartTurn\n",
    "u_tmp = nbMaxRow //(len_part_turn*len_population*combat_quantity)\n",
    "nbPartGen = u_tmp if u_tmp <nbGeneration and   nbGeneration //u_tmp > 100  else 100\n",
    "len_part_gen =  nbGeneration//nbPartGen\n",
    "\n",
    "dict_len_part={\"LEN_PART_GEN\": len_part_gen, \"LEN_PART_TURN\":len_part_turn}\n",
    "\n",
    "\n",
    "\n",
    "## BATCH PARAM \n",
    "\n",
    "root_path_gen_turn = init_folder_genSplit(nbPartGen,nbPartTurn,os.path.join(os.getcwd(),\"outcome_gen_turn\"))\n",
    "\n",
    "N = 1000\n",
    "\n",
    "len_batch = 25\n",
    "\n",
    "\n"
   ]
  },
  {
   "cell_type": "code",
   "execution_count": 20,
   "id": "70601e6a",
   "metadata": {},
   "outputs": [],
   "source": [
    "## LAUNCH \n",
    "\n",
    "init_resume_folder(root_path_gen_turn)\n"
   ]
  },
  {
   "cell_type": "code",
   "execution_count": 21,
   "id": "6af3bfff",
   "metadata": {
    "scrolled": false
   },
   "outputs": [
    {
     "name": "stdout",
     "output_type": "stream",
     "text": [
      "['333_81_12-62_1681529969016.json', '142_148_12-62_1681403851989.json', '145_78_12-62_1681405076152.json', '163_29_12-62_1681417600931.json', '180_147_12-62_1681427594985.json', '355_132_12-62_1681546471669.json', '196_77_12-62_1681439918406.json', '224_59_12-62_1681459825766.json', '276_91_12-62_1681492969821.json', '180_16_12-62_1681426959669.json', '202_123_12-62_1681443768303.json', '214_16_12-62_1681450674417.json', '340_78_12-62_1681534104277.json', '307_73_12-62_1681510205772.json', '355_69_12-62_1681546223768.json', '130_56_12-62_1681396083589.json', '139_121_12-62_1681401805846.json', '301_148_12-62_1681506484821.json', '138_149_12-62_1681401562176.json', '346_28_12-62_1681540578224.json', '149_91_12-62_1681407493071.json', '211_19_12-62_1681448954208.json', '229_40_12-62_1681462651700.json', '43_144_12-62_1681323438985.json', '221_133_12-62_1681458425283.json']\n"
     ]
    },
    {
     "name": "stderr",
     "output_type": "stream",
     "text": [
      "C:\\Users\\julien\\AppData\\Local\\Temp\\ipykernel_5284\\1387881205.py:65: FutureWarning: The frame.append method is deprecated and will be removed from pandas in a future version. Use pandas.concat instead.\n",
      "  df_write = df_write.append(_v, ignore_index=True)\n",
      "C:\\Users\\julien\\AppData\\Local\\Temp\\ipykernel_5284\\1387881205.py:65: FutureWarning: The frame.append method is deprecated and will be removed from pandas in a future version. Use pandas.concat instead.\n",
      "  df_write = df_write.append(_v, ignore_index=True)\n",
      "C:\\Users\\julien\\AppData\\Local\\Temp\\ipykernel_5284\\1387881205.py:65: FutureWarning: The frame.append method is deprecated and will be removed from pandas in a future version. Use pandas.concat instead.\n",
      "  df_write = df_write.append(_v, ignore_index=True)\n",
      "C:\\Users\\julien\\AppData\\Local\\Temp\\ipykernel_5284\\1387881205.py:65: FutureWarning: The frame.append method is deprecated and will be removed from pandas in a future version. Use pandas.concat instead.\n",
      "  df_write = df_write.append(_v, ignore_index=True)\n",
      "C:\\Users\\julien\\AppData\\Local\\Temp\\ipykernel_5284\\1387881205.py:80: FutureWarning: The frame.append method is deprecated and will be removed from pandas in a future version. Use pandas.concat instead.\n",
      "  df_write = df_write.append(_v, ignore_index=True)\n",
      "C:\\Users\\julien\\AppData\\Local\\Temp\\ipykernel_5284\\1387881205.py:80: FutureWarning: The frame.append method is deprecated and will be removed from pandas in a future version. Use pandas.concat instead.\n",
      "  df_write = df_write.append(_v, ignore_index=True)\n",
      "C:\\Users\\julien\\AppData\\Local\\Temp\\ipykernel_5284\\1387881205.py:80: FutureWarning: The frame.append method is deprecated and will be removed from pandas in a future version. Use pandas.concat instead.\n",
      "  df_write = df_write.append(_v, ignore_index=True)\n"
     ]
    },
    {
     "name": "stdout",
     "output_type": "stream",
     "text": [
      "['36_100_12-62_1681319219698.json', '343_147_12-62_1681538943681.json', '126_4_12-62_1681393646388.json', '210_99_12-62_1681448681678.json', '206_87_12-62_1681446122631.json', '299_25_12-62_1681504770008.json', '312_25_12-62_1681512710078.json', '357_55_12-62_1681547336188.json', '206_130_12-62_1681446357130.json', '346_45_12-62_1681540666200.json', '129_67_12-62_1681395540934.json', '44_126_12-62_1681323940902.json', '137_107_12-62_1681400515453.json', '188_23_12-62_1681431394122.json', '126_29_12-62_1681393718203.json', '126_46_12-62_1681393804481.json', '277_148_12-62_1681493743239.json', '298_149_12-62_1681504798130.json', '215_32_12-62_1681451398880.json', '224_5_12-62_1681459652353.json', '224_24_12-62_1681459701891.json', '331_82_12-62_1681528954555.json', '232_7_12-62_1681464304363.json', '300_139_12-62_1681505855158.json', '197_146_12-62_1681440849082.json']\n"
     ]
    },
    {
     "name": "stderr",
     "output_type": "stream",
     "text": [
      "C:\\Users\\julien\\AppData\\Local\\Temp\\ipykernel_5284\\1387881205.py:65: FutureWarning: The frame.append method is deprecated and will be removed from pandas in a future version. Use pandas.concat instead.\n",
      "  df_write = df_write.append(_v, ignore_index=True)\n",
      "C:\\Users\\julien\\AppData\\Local\\Temp\\ipykernel_5284\\1387881205.py:65: FutureWarning: The frame.append method is deprecated and will be removed from pandas in a future version. Use pandas.concat instead.\n",
      "  df_write = df_write.append(_v, ignore_index=True)\n",
      "C:\\Users\\julien\\AppData\\Local\\Temp\\ipykernel_5284\\1387881205.py:65: FutureWarning: The frame.append method is deprecated and will be removed from pandas in a future version. Use pandas.concat instead.\n",
      "  df_write = df_write.append(_v, ignore_index=True)\n",
      "C:\\Users\\julien\\AppData\\Local\\Temp\\ipykernel_5284\\1387881205.py:65: FutureWarning: The frame.append method is deprecated and will be removed from pandas in a future version. Use pandas.concat instead.\n",
      "  df_write = df_write.append(_v, ignore_index=True)\n",
      "C:\\Users\\julien\\AppData\\Local\\Temp\\ipykernel_5284\\1387881205.py:80: FutureWarning: The frame.append method is deprecated and will be removed from pandas in a future version. Use pandas.concat instead.\n",
      "  df_write = df_write.append(_v, ignore_index=True)\n",
      "C:\\Users\\julien\\AppData\\Local\\Temp\\ipykernel_5284\\1387881205.py:80: FutureWarning: The frame.append method is deprecated and will be removed from pandas in a future version. Use pandas.concat instead.\n",
      "  df_write = df_write.append(_v, ignore_index=True)\n",
      "C:\\Users\\julien\\AppData\\Local\\Temp\\ipykernel_5284\\1387881205.py:80: FutureWarning: The frame.append method is deprecated and will be removed from pandas in a future version. Use pandas.concat instead.\n",
      "  df_write = df_write.append(_v, ignore_index=True)\n"
     ]
    },
    {
     "name": "stdout",
     "output_type": "stream",
     "text": [
      "['292_58_12-62_1681501101856.json', '323_114_12-62_1681524867183.json', '276_88_12-62_1681492940292.json', '358_10_12-62_1681547714935.json', '347_55_12-62_1681541327708.json', '221_0_12-62_1681457909421.json', '322_15_12-62_1681518080181.json', '215_114_12-62_1681451707946.json', '200_91_12-62_1681442502428.json', '353_101_12-62_1681545227415.json', '186_29_12-62_1681430249367.json', '164_70_12-62_1681418433451.json', '128_75_12-62_1681395024316.json', '182_50_12-62_1681428239289.json', '313_144_12-62_1681513734901.json', '335_126_12-62_1681531320769.json', '358_119_12-62_1681548128479.json', '134_52_12-62_1681398555548.json', '190_82_12-62_1681433089370.json', '304_8_12-62_1681507726273.json', '173_74_12-62_1681423377740.json', '320_98_12-62_1681517347871.json', '171_106_12-62_1681422432015.json', '343_147_12-62_1681538670813.json', '331_36_12-62_1681528792083.json']\n"
     ]
    },
    {
     "name": "stderr",
     "output_type": "stream",
     "text": [
      "C:\\Users\\julien\\AppData\\Local\\Temp\\ipykernel_5284\\1387881205.py:65: FutureWarning: The frame.append method is deprecated and will be removed from pandas in a future version. Use pandas.concat instead.\n",
      "  df_write = df_write.append(_v, ignore_index=True)\n",
      "C:\\Users\\julien\\AppData\\Local\\Temp\\ipykernel_5284\\1387881205.py:65: FutureWarning: The frame.append method is deprecated and will be removed from pandas in a future version. Use pandas.concat instead.\n",
      "  df_write = df_write.append(_v, ignore_index=True)\n",
      "C:\\Users\\julien\\AppData\\Local\\Temp\\ipykernel_5284\\1387881205.py:65: FutureWarning: The frame.append method is deprecated and will be removed from pandas in a future version. Use pandas.concat instead.\n",
      "  df_write = df_write.append(_v, ignore_index=True)\n",
      "C:\\Users\\julien\\AppData\\Local\\Temp\\ipykernel_5284\\1387881205.py:65: FutureWarning: The frame.append method is deprecated and will be removed from pandas in a future version. Use pandas.concat instead.\n",
      "  df_write = df_write.append(_v, ignore_index=True)\n",
      "C:\\Users\\julien\\AppData\\Local\\Temp\\ipykernel_5284\\1387881205.py:80: FutureWarning: The frame.append method is deprecated and will be removed from pandas in a future version. Use pandas.concat instead.\n",
      "  df_write = df_write.append(_v, ignore_index=True)\n",
      "C:\\Users\\julien\\AppData\\Local\\Temp\\ipykernel_5284\\1387881205.py:80: FutureWarning: The frame.append method is deprecated and will be removed from pandas in a future version. Use pandas.concat instead.\n",
      "  df_write = df_write.append(_v, ignore_index=True)\n",
      "C:\\Users\\julien\\AppData\\Local\\Temp\\ipykernel_5284\\1387881205.py:80: FutureWarning: The frame.append method is deprecated and will be removed from pandas in a future version. Use pandas.concat instead.\n",
      "  df_write = df_write.append(_v, ignore_index=True)\n"
     ]
    },
    {
     "name": "stdout",
     "output_type": "stream",
     "text": [
      "['190_127_12-62_1681433260209.json', '169_113_12-62_1681421392722.json', '351_114_12-62_1681544005293.json', '189_75_12-62_1681432453158.json', '331_131_12-62_1681529134051.json', '201_3_12-62_1681442744250.json', '285_3_12-62_1681497076502.json', '151_39_12-62_1681408465189.json', '151_65_12-62_1681408556623.json', '287_14_12-62_1681498204835.json', '315_44_12-62_1681514530769.json', '338_89_12-62_1681533009123.json', '317_144_12-62_1681515887664.json', '214_128_12-62_1681451169744.json', '184_58_12-62_1681429272251.json', '137_77_12-62_1681400394354.json', '352_47_12-62_1681544394633.json', '329_103_12-62_1681527930813.json', '189_50_12-62_1681432355154.json', '198_129_12-62_1681441348096.json', '299_135_12-62_1681505227334.json', '205_115_12-62_1681445562613.json', '151_99_12-62_1681408680080.json', '160_44_12-62_1681416012795.json', '297_149_12-62_1681504429328.json']\n"
     ]
    },
    {
     "name": "stderr",
     "output_type": "stream",
     "text": [
      "C:\\Users\\julien\\AppData\\Local\\Temp\\ipykernel_5284\\1387881205.py:65: FutureWarning: The frame.append method is deprecated and will be removed from pandas in a future version. Use pandas.concat instead.\n",
      "  df_write = df_write.append(_v, ignore_index=True)\n",
      "C:\\Users\\julien\\AppData\\Local\\Temp\\ipykernel_5284\\1387881205.py:65: FutureWarning: The frame.append method is deprecated and will be removed from pandas in a future version. Use pandas.concat instead.\n",
      "  df_write = df_write.append(_v, ignore_index=True)\n",
      "C:\\Users\\julien\\AppData\\Local\\Temp\\ipykernel_5284\\1387881205.py:65: FutureWarning: The frame.append method is deprecated and will be removed from pandas in a future version. Use pandas.concat instead.\n",
      "  df_write = df_write.append(_v, ignore_index=True)\n",
      "C:\\Users\\julien\\AppData\\Local\\Temp\\ipykernel_5284\\1387881205.py:65: FutureWarning: The frame.append method is deprecated and will be removed from pandas in a future version. Use pandas.concat instead.\n",
      "  df_write = df_write.append(_v, ignore_index=True)\n",
      "C:\\Users\\julien\\AppData\\Local\\Temp\\ipykernel_5284\\1387881205.py:80: FutureWarning: The frame.append method is deprecated and will be removed from pandas in a future version. Use pandas.concat instead.\n",
      "  df_write = df_write.append(_v, ignore_index=True)\n",
      "C:\\Users\\julien\\AppData\\Local\\Temp\\ipykernel_5284\\1387881205.py:80: FutureWarning: The frame.append method is deprecated and will be removed from pandas in a future version. Use pandas.concat instead.\n",
      "  df_write = df_write.append(_v, ignore_index=True)\n",
      "C:\\Users\\julien\\AppData\\Local\\Temp\\ipykernel_5284\\1387881205.py:80: FutureWarning: The frame.append method is deprecated and will be removed from pandas in a future version. Use pandas.concat instead.\n",
      "  df_write = df_write.append(_v, ignore_index=True)\n"
     ]
    },
    {
     "name": "stdout",
     "output_type": "stream",
     "text": [
      "['145_6_12-62_1681404811788.json', '230_104_12-62_1681463578935.json', '286_17_12-62_1681497625217.json', '314_56_12-62_1681513975375.json', '144_130_12-62_1681404727351.json', '143_125_12-62_1681404138468.json', '320_87_12-62_1681517294809.json', '170_88_12-62_1681421786807.json', '160_123_12-62_1681416297260.json', '221_10_12-62_1681457936784.json', '232_55_12-62_1681464433574.json', '38_74_12-62_1681320315671.json', '286_113_12-62_1681497987924.json', '134_110_12-62_1681398783794.json', '323_115_12-62_1681524867693.json', '123_43_12-62_1681391708395.json', '205_32_12-62_1681445197551.json', '134_117_12-62_1681398808493.json', '337_140_12-62_1681532588661.json', '203_120_12-62_1681444278391.json', '219_55_12-62_1681453991148.json', '131_124_12-62_1681396995572.json', '205_149_12-62_1681445706394.json', '144_121_12-62_1681404705050.json', '328_131_12-62_1681527467034.json']\n"
     ]
    },
    {
     "name": "stderr",
     "output_type": "stream",
     "text": [
      "C:\\Users\\julien\\AppData\\Local\\Temp\\ipykernel_5284\\1387881205.py:65: FutureWarning: The frame.append method is deprecated and will be removed from pandas in a future version. Use pandas.concat instead.\n",
      "  df_write = df_write.append(_v, ignore_index=True)\n",
      "C:\\Users\\julien\\AppData\\Local\\Temp\\ipykernel_5284\\1387881205.py:65: FutureWarning: The frame.append method is deprecated and will be removed from pandas in a future version. Use pandas.concat instead.\n",
      "  df_write = df_write.append(_v, ignore_index=True)\n",
      "C:\\Users\\julien\\AppData\\Local\\Temp\\ipykernel_5284\\1387881205.py:65: FutureWarning: The frame.append method is deprecated and will be removed from pandas in a future version. Use pandas.concat instead.\n",
      "  df_write = df_write.append(_v, ignore_index=True)\n",
      "C:\\Users\\julien\\AppData\\Local\\Temp\\ipykernel_5284\\1387881205.py:65: FutureWarning: The frame.append method is deprecated and will be removed from pandas in a future version. Use pandas.concat instead.\n",
      "  df_write = df_write.append(_v, ignore_index=True)\n",
      "C:\\Users\\julien\\AppData\\Local\\Temp\\ipykernel_5284\\1387881205.py:80: FutureWarning: The frame.append method is deprecated and will be removed from pandas in a future version. Use pandas.concat instead.\n",
      "  df_write = df_write.append(_v, ignore_index=True)\n",
      "C:\\Users\\julien\\AppData\\Local\\Temp\\ipykernel_5284\\1387881205.py:80: FutureWarning: The frame.append method is deprecated and will be removed from pandas in a future version. Use pandas.concat instead.\n",
      "  df_write = df_write.append(_v, ignore_index=True)\n",
      "C:\\Users\\julien\\AppData\\Local\\Temp\\ipykernel_5284\\1387881205.py:80: FutureWarning: The frame.append method is deprecated and will be removed from pandas in a future version. Use pandas.concat instead.\n",
      "  df_write = df_write.append(_v, ignore_index=True)\n"
     ]
    },
    {
     "name": "stdout",
     "output_type": "stream",
     "text": [
      "['302_9_12-62_1681506544513.json', '278_146_12-62_1681494232155.json', '301_69_12-62_1681506191240.json', '315_125_12-62_1681514845467.json', '138_30_12-62_1681400861335.json', '201_5_12-62_1681442755310.json', '214_98_12-62_1681451037786.json', '233_38_12-62_1681464859009.json', '284_77_12-62_1681496820049.json', '123_45_12-62_1681391711954.json', '319_74_12-62_1681516714844.json', '284_50_12-62_1681496735555.json', '221_107_12-62_1681458328591.json', '294_126_12-62_1681502470173.json', '187_118_12-62_1681431182987.json', '213_12_12-62_1681450097946.json', '341_147_12-62_1681537512593.json', '230_110_12-62_1681463596094.json', '341_148_12-62_1681537515350.json', '322_84_12-62_1681518310963.json', '340_149_12-62_1681537229236.json', '221_51_12-62_1681458081385.json', '228_128_12-62_1681462442114.json', '128_147_12-62_1681395280048.json', '314_68_12-62_1681514025632.json']\n"
     ]
    },
    {
     "name": "stderr",
     "output_type": "stream",
     "text": [
      "C:\\Users\\julien\\AppData\\Local\\Temp\\ipykernel_5284\\1387881205.py:65: FutureWarning: The frame.append method is deprecated and will be removed from pandas in a future version. Use pandas.concat instead.\n",
      "  df_write = df_write.append(_v, ignore_index=True)\n",
      "C:\\Users\\julien\\AppData\\Local\\Temp\\ipykernel_5284\\1387881205.py:65: FutureWarning: The frame.append method is deprecated and will be removed from pandas in a future version. Use pandas.concat instead.\n",
      "  df_write = df_write.append(_v, ignore_index=True)\n",
      "C:\\Users\\julien\\AppData\\Local\\Temp\\ipykernel_5284\\1387881205.py:65: FutureWarning: The frame.append method is deprecated and will be removed from pandas in a future version. Use pandas.concat instead.\n",
      "  df_write = df_write.append(_v, ignore_index=True)\n",
      "C:\\Users\\julien\\AppData\\Local\\Temp\\ipykernel_5284\\1387881205.py:65: FutureWarning: The frame.append method is deprecated and will be removed from pandas in a future version. Use pandas.concat instead.\n",
      "  df_write = df_write.append(_v, ignore_index=True)\n",
      "C:\\Users\\julien\\AppData\\Local\\Temp\\ipykernel_5284\\1387881205.py:80: FutureWarning: The frame.append method is deprecated and will be removed from pandas in a future version. Use pandas.concat instead.\n",
      "  df_write = df_write.append(_v, ignore_index=True)\n",
      "C:\\Users\\julien\\AppData\\Local\\Temp\\ipykernel_5284\\1387881205.py:80: FutureWarning: The frame.append method is deprecated and will be removed from pandas in a future version. Use pandas.concat instead.\n",
      "  df_write = df_write.append(_v, ignore_index=True)\n",
      "C:\\Users\\julien\\AppData\\Local\\Temp\\ipykernel_5284\\1387881205.py:80: FutureWarning: The frame.append method is deprecated and will be removed from pandas in a future version. Use pandas.concat instead.\n",
      "  df_write = df_write.append(_v, ignore_index=True)\n"
     ]
    },
    {
     "name": "stdout",
     "output_type": "stream",
     "text": [
      "['155_24_12-62_1681412130796.json', '32_1_12-62_1681316715282.json', '323_67_12-62_1681524721853.json', '299_94_12-62_1681505053222.json', '345_16_12-62_1681539937470.json', '168_104_12-62_1681420880509.json', '219_51_12-62_1681453983900.json', '277_103_12-62_1681493501175.json', '340_57_12-62_1681534029986.json', '339_36_12-62_1681533380758.json', '143_45_12-62_1681403795883.json', '151_109_12-62_1681408710161.json', '165_23_12-62_1681418888361.json', '170_149_12-62_1681422002693.json', '231_94_12-62_1681464095340.json', '121_42_12-62_1681390621869.json', '178_68_12-62_1681426023481.json', '289_112_12-62_1681499700353.json', '207_95_12-62_1681446799203.json', '44_72_12-62_1681323718179.json', '337_6_12-62_1681531989559.json', '325_3_12-62_1681525523519.json', '310_5_12-62_1681511495884.json', '335_85_12-62_1681531160966.json', '332_106_12-62_1681529563703.json']\n"
     ]
    },
    {
     "name": "stderr",
     "output_type": "stream",
     "text": [
      "C:\\Users\\julien\\AppData\\Local\\Temp\\ipykernel_5284\\1387881205.py:65: FutureWarning: The frame.append method is deprecated and will be removed from pandas in a future version. Use pandas.concat instead.\n",
      "  df_write = df_write.append(_v, ignore_index=True)\n",
      "C:\\Users\\julien\\AppData\\Local\\Temp\\ipykernel_5284\\1387881205.py:65: FutureWarning: The frame.append method is deprecated and will be removed from pandas in a future version. Use pandas.concat instead.\n",
      "  df_write = df_write.append(_v, ignore_index=True)\n",
      "C:\\Users\\julien\\AppData\\Local\\Temp\\ipykernel_5284\\1387881205.py:65: FutureWarning: The frame.append method is deprecated and will be removed from pandas in a future version. Use pandas.concat instead.\n",
      "  df_write = df_write.append(_v, ignore_index=True)\n",
      "C:\\Users\\julien\\AppData\\Local\\Temp\\ipykernel_5284\\1387881205.py:65: FutureWarning: The frame.append method is deprecated and will be removed from pandas in a future version. Use pandas.concat instead.\n",
      "  df_write = df_write.append(_v, ignore_index=True)\n",
      "C:\\Users\\julien\\AppData\\Local\\Temp\\ipykernel_5284\\1387881205.py:80: FutureWarning: The frame.append method is deprecated and will be removed from pandas in a future version. Use pandas.concat instead.\n",
      "  df_write = df_write.append(_v, ignore_index=True)\n",
      "C:\\Users\\julien\\AppData\\Local\\Temp\\ipykernel_5284\\1387881205.py:80: FutureWarning: The frame.append method is deprecated and will be removed from pandas in a future version. Use pandas.concat instead.\n",
      "  df_write = df_write.append(_v, ignore_index=True)\n",
      "C:\\Users\\julien\\AppData\\Local\\Temp\\ipykernel_5284\\1387881205.py:80: FutureWarning: The frame.append method is deprecated and will be removed from pandas in a future version. Use pandas.concat instead.\n",
      "  df_write = df_write.append(_v, ignore_index=True)\n"
     ]
    },
    {
     "name": "stdout",
     "output_type": "stream",
     "text": [
      "['292_91_12-62_1681501233771.json', '320_146_12-62_1681517615666.json', '332_116_12-62_1681529598482.json', '309_71_12-62_1681511226523.json', '305_9_12-62_1681508445113.json', '200_42_12-62_1681442292010.json', '290_41_12-62_1681500033969.json', '281_115_12-62_1681495470094.json', '144_67_12-62_1681404459198.json', '356_109_12-62_1681546930244.json', '307_35_12-62_1681510071651.json', '122_100_12-62_1681391421196.json', '346_37_12-62_1681540632059.json', '148_20_12-62_1681406605174.json', '338_23_12-62_1681532741645.json', '174_119_12-62_1681424019336.json', '134_82_12-62_1681398651787.json', '42_96_12-62_1681322748076.json', '307_61_12-62_1681510171729.json', '286_146_12-62_1681498261803.json', '193_147_12-62_1681438740233.json', '164_139_12-62_1681418772365.json', '194_73_12-62_1681438677299.json', '156_42_12-62_1681412658348.json', '280_47_12-62_1681494824840.json']\n"
     ]
    },
    {
     "name": "stderr",
     "output_type": "stream",
     "text": [
      "C:\\Users\\julien\\AppData\\Local\\Temp\\ipykernel_5284\\1387881205.py:65: FutureWarning: The frame.append method is deprecated and will be removed from pandas in a future version. Use pandas.concat instead.\n",
      "  df_write = df_write.append(_v, ignore_index=True)\n",
      "C:\\Users\\julien\\AppData\\Local\\Temp\\ipykernel_5284\\1387881205.py:65: FutureWarning: The frame.append method is deprecated and will be removed from pandas in a future version. Use pandas.concat instead.\n",
      "  df_write = df_write.append(_v, ignore_index=True)\n",
      "C:\\Users\\julien\\AppData\\Local\\Temp\\ipykernel_5284\\1387881205.py:65: FutureWarning: The frame.append method is deprecated and will be removed from pandas in a future version. Use pandas.concat instead.\n",
      "  df_write = df_write.append(_v, ignore_index=True)\n",
      "C:\\Users\\julien\\AppData\\Local\\Temp\\ipykernel_5284\\1387881205.py:65: FutureWarning: The frame.append method is deprecated and will be removed from pandas in a future version. Use pandas.concat instead.\n",
      "  df_write = df_write.append(_v, ignore_index=True)\n",
      "C:\\Users\\julien\\AppData\\Local\\Temp\\ipykernel_5284\\1387881205.py:80: FutureWarning: The frame.append method is deprecated and will be removed from pandas in a future version. Use pandas.concat instead.\n",
      "  df_write = df_write.append(_v, ignore_index=True)\n",
      "C:\\Users\\julien\\AppData\\Local\\Temp\\ipykernel_5284\\1387881205.py:80: FutureWarning: The frame.append method is deprecated and will be removed from pandas in a future version. Use pandas.concat instead.\n",
      "  df_write = df_write.append(_v, ignore_index=True)\n",
      "C:\\Users\\julien\\AppData\\Local\\Temp\\ipykernel_5284\\1387881205.py:80: FutureWarning: The frame.append method is deprecated and will be removed from pandas in a future version. Use pandas.concat instead.\n",
      "  df_write = df_write.append(_v, ignore_index=True)\n"
     ]
    },
    {
     "name": "stdout",
     "output_type": "stream",
     "text": [
      "['146_106_12-62_1681405807804.json', '180_41_12-62_1681427062806.json', '186_10_12-62_1681430172379.json', '309_65_12-62_1681511215014.json', '155_105_12-62_1681412368464.json', '43_122_12-62_1681323377139.json', '327_81_12-62_1681526830903.json', '191_108_12-62_1681437129063.json', '213_66_12-62_1681450304819.json', '171_63_12-62_1681422261851.json', '297_85_12-62_1681503904039.json', '294_112_12-62_1681502411286.json', '321_137_12-62_1681517973361.json', '181_137_12-62_1681427963025.json', '314_75_12-62_1681514045499.json', '339_50_12-62_1681533432836.json', '145_48_12-62_1681404971060.json', '322_123_12-62_1681524315031.json', '353_142_12-62_1681545360635.json', '320_106_12-62_1681517358760.json', '201_87_12-62_1681443038186.json', '126_2_12-62_1681393642765.json', '173_10_12-62_1681423147578.json', '214_146_12-62_1681451368070.json', '273_55_12-62_1681491250949.json']\n"
     ]
    },
    {
     "name": "stderr",
     "output_type": "stream",
     "text": [
      "C:\\Users\\julien\\AppData\\Local\\Temp\\ipykernel_5284\\1387881205.py:65: FutureWarning: The frame.append method is deprecated and will be removed from pandas in a future version. Use pandas.concat instead.\n",
      "  df_write = df_write.append(_v, ignore_index=True)\n",
      "C:\\Users\\julien\\AppData\\Local\\Temp\\ipykernel_5284\\1387881205.py:65: FutureWarning: The frame.append method is deprecated and will be removed from pandas in a future version. Use pandas.concat instead.\n",
      "  df_write = df_write.append(_v, ignore_index=True)\n",
      "C:\\Users\\julien\\AppData\\Local\\Temp\\ipykernel_5284\\1387881205.py:65: FutureWarning: The frame.append method is deprecated and will be removed from pandas in a future version. Use pandas.concat instead.\n",
      "  df_write = df_write.append(_v, ignore_index=True)\n",
      "C:\\Users\\julien\\AppData\\Local\\Temp\\ipykernel_5284\\1387881205.py:65: FutureWarning: The frame.append method is deprecated and will be removed from pandas in a future version. Use pandas.concat instead.\n",
      "  df_write = df_write.append(_v, ignore_index=True)\n",
      "C:\\Users\\julien\\AppData\\Local\\Temp\\ipykernel_5284\\1387881205.py:80: FutureWarning: The frame.append method is deprecated and will be removed from pandas in a future version. Use pandas.concat instead.\n",
      "  df_write = df_write.append(_v, ignore_index=True)\n",
      "C:\\Users\\julien\\AppData\\Local\\Temp\\ipykernel_5284\\1387881205.py:80: FutureWarning: The frame.append method is deprecated and will be removed from pandas in a future version. Use pandas.concat instead.\n",
      "  df_write = df_write.append(_v, ignore_index=True)\n",
      "C:\\Users\\julien\\AppData\\Local\\Temp\\ipykernel_5284\\1387881205.py:80: FutureWarning: The frame.append method is deprecated and will be removed from pandas in a future version. Use pandas.concat instead.\n",
      "  df_write = df_write.append(_v, ignore_index=True)\n"
     ]
    },
    {
     "name": "stdout",
     "output_type": "stream",
     "text": [
      "['320_143_12-62_1681517496059.json', '164_64_12-62_1681418409156.json', '219_149_12-62_1681457671021.json', '138_90_12-62_1681401088801.json', '272_6_12-62_1681490534131.json', '140_108_12-62_1681402328222.json', '169_39_12-62_1681421158392.json', '195_20_12-62_1681439051139.json', '327_39_12-62_1681526669020.json', '32_138_12-62_1681317123297.json', '232_100_12-62_1681464579723.json', '160_17_12-62_1681415919639.json', '179_64_12-62_1681426574963.json', '177_85_12-62_1681425516036.json', '322_65_12-62_1681524088868.json', '324_103_12-62_1681525338636.json', '299_74_12-62_1681504965580.json', '150_26_12-62_1681407782907.json', '174_131_12-62_1681424069473.json', '338_112_12-62_1681533080785.json', '316_72_12-62_1681515167461.json', '139_123_12-62_1681401810719.json', '142_146_12-62_1681403721770.json', '302_88_12-62_1681506854427.json', '129_71_12-62_1681395548074.json']\n"
     ]
    },
    {
     "name": "stderr",
     "output_type": "stream",
     "text": [
      "C:\\Users\\julien\\AppData\\Local\\Temp\\ipykernel_5284\\1387881205.py:65: FutureWarning: The frame.append method is deprecated and will be removed from pandas in a future version. Use pandas.concat instead.\n",
      "  df_write = df_write.append(_v, ignore_index=True)\n",
      "C:\\Users\\julien\\AppData\\Local\\Temp\\ipykernel_5284\\1387881205.py:65: FutureWarning: The frame.append method is deprecated and will be removed from pandas in a future version. Use pandas.concat instead.\n",
      "  df_write = df_write.append(_v, ignore_index=True)\n",
      "C:\\Users\\julien\\AppData\\Local\\Temp\\ipykernel_5284\\1387881205.py:65: FutureWarning: The frame.append method is deprecated and will be removed from pandas in a future version. Use pandas.concat instead.\n",
      "  df_write = df_write.append(_v, ignore_index=True)\n",
      "C:\\Users\\julien\\AppData\\Local\\Temp\\ipykernel_5284\\1387881205.py:65: FutureWarning: The frame.append method is deprecated and will be removed from pandas in a future version. Use pandas.concat instead.\n",
      "  df_write = df_write.append(_v, ignore_index=True)\n",
      "C:\\Users\\julien\\AppData\\Local\\Temp\\ipykernel_5284\\1387881205.py:80: FutureWarning: The frame.append method is deprecated and will be removed from pandas in a future version. Use pandas.concat instead.\n",
      "  df_write = df_write.append(_v, ignore_index=True)\n",
      "C:\\Users\\julien\\AppData\\Local\\Temp\\ipykernel_5284\\1387881205.py:80: FutureWarning: The frame.append method is deprecated and will be removed from pandas in a future version. Use pandas.concat instead.\n",
      "  df_write = df_write.append(_v, ignore_index=True)\n",
      "C:\\Users\\julien\\AppData\\Local\\Temp\\ipykernel_5284\\1387881205.py:80: FutureWarning: The frame.append method is deprecated and will be removed from pandas in a future version. Use pandas.concat instead.\n",
      "  df_write = df_write.append(_v, ignore_index=True)\n"
     ]
    },
    {
     "name": "stdout",
     "output_type": "stream",
     "text": [
      "['45_0_12-62_1681324029158.json', '147_32_12-62_1681406099435.json', '355_57_12-62_1681546161951.json', '36_0_12-62_1681318850784.json', '132_142_12-62_1681397684749.json', '39_100_12-62_1681320988285.json', '138_148_12-62_1681401678340.json', '273_45_12-62_1681491223451.json', '33_35_12-62_1681317281322.json', '145_147_12-62_1681405566222.json', '35_96_12-62_1681318645555.json', '169_89_12-62_1681421301971.json', '193_147_12-62_1681438597606.json', '296_38_12-62_1681503218754.json', '179_51_12-62_1681426514873.json', '280_45_12-62_1681494819591.json', '131_48_12-62_1681396692145.json', '285_57_12-62_1681497242032.json', '300_65_12-62_1681505522215.json', '316_1_12-62_1681514950675.json', '353_1_12-62_1681544881851.json', '190_47_12-62_1681432960009.json', '193_20_12-62_1681437893586.json', '302_149_12-62_1681507303412.json', '285_83_12-62_1681497339743.json']\n"
     ]
    },
    {
     "name": "stderr",
     "output_type": "stream",
     "text": [
      "C:\\Users\\julien\\AppData\\Local\\Temp\\ipykernel_5284\\1387881205.py:65: FutureWarning: The frame.append method is deprecated and will be removed from pandas in a future version. Use pandas.concat instead.\n",
      "  df_write = df_write.append(_v, ignore_index=True)\n",
      "C:\\Users\\julien\\AppData\\Local\\Temp\\ipykernel_5284\\1387881205.py:65: FutureWarning: The frame.append method is deprecated and will be removed from pandas in a future version. Use pandas.concat instead.\n",
      "  df_write = df_write.append(_v, ignore_index=True)\n",
      "C:\\Users\\julien\\AppData\\Local\\Temp\\ipykernel_5284\\1387881205.py:65: FutureWarning: The frame.append method is deprecated and will be removed from pandas in a future version. Use pandas.concat instead.\n",
      "  df_write = df_write.append(_v, ignore_index=True)\n",
      "C:\\Users\\julien\\AppData\\Local\\Temp\\ipykernel_5284\\1387881205.py:65: FutureWarning: The frame.append method is deprecated and will be removed from pandas in a future version. Use pandas.concat instead.\n",
      "  df_write = df_write.append(_v, ignore_index=True)\n",
      "C:\\Users\\julien\\AppData\\Local\\Temp\\ipykernel_5284\\1387881205.py:80: FutureWarning: The frame.append method is deprecated and will be removed from pandas in a future version. Use pandas.concat instead.\n",
      "  df_write = df_write.append(_v, ignore_index=True)\n",
      "C:\\Users\\julien\\AppData\\Local\\Temp\\ipykernel_5284\\1387881205.py:80: FutureWarning: The frame.append method is deprecated and will be removed from pandas in a future version. Use pandas.concat instead.\n",
      "  df_write = df_write.append(_v, ignore_index=True)\n",
      "C:\\Users\\julien\\AppData\\Local\\Temp\\ipykernel_5284\\1387881205.py:80: FutureWarning: The frame.append method is deprecated and will be removed from pandas in a future version. Use pandas.concat instead.\n",
      "  df_write = df_write.append(_v, ignore_index=True)\n"
     ]
    },
    {
     "name": "stdout",
     "output_type": "stream",
     "text": [
      "['333_147_12-62_1681530419795.json', '211_146_12-62_1681449396656.json', '207_66_12-62_1681446683632.json', '32_80_12-62_1681316961804.json', '288_83_12-62_1681499064864.json', '122_19_12-62_1681391142691.json', '38_63_12-62_1681320283421.json', '327_29_12-62_1681526626620.json', '355_90_12-62_1681546322236.json', '179_12_12-62_1681426386227.json', '226_13_12-62_1681460958622.json', '175_87_12-62_1681424489180.json', '203_17_12-62_1681443916953.json', '291_28_12-62_1681500507556.json', '341_31_12-62_1681537107576.json', '188_147_12-62_1681432099905.json', '309_118_12-62_1681511366862.json', '149_13_12-62_1681407163666.json', '272_126_12-62_1681490966583.json', '200_62_12-62_1681442389779.json', '193_124_12-62_1681438263155.json', '275_108_12-62_1681492514689.json', '295_59_12-62_1681502752930.json', '183_148_12-62_1681429369776.json', '202_96_12-62_1681443678675.json']\n"
     ]
    },
    {
     "name": "stderr",
     "output_type": "stream",
     "text": [
      "C:\\Users\\julien\\AppData\\Local\\Temp\\ipykernel_5284\\1387881205.py:65: FutureWarning: The frame.append method is deprecated and will be removed from pandas in a future version. Use pandas.concat instead.\n",
      "  df_write = df_write.append(_v, ignore_index=True)\n",
      "C:\\Users\\julien\\AppData\\Local\\Temp\\ipykernel_5284\\1387881205.py:65: FutureWarning: The frame.append method is deprecated and will be removed from pandas in a future version. Use pandas.concat instead.\n",
      "  df_write = df_write.append(_v, ignore_index=True)\n",
      "C:\\Users\\julien\\AppData\\Local\\Temp\\ipykernel_5284\\1387881205.py:65: FutureWarning: The frame.append method is deprecated and will be removed from pandas in a future version. Use pandas.concat instead.\n",
      "  df_write = df_write.append(_v, ignore_index=True)\n",
      "C:\\Users\\julien\\AppData\\Local\\Temp\\ipykernel_5284\\1387881205.py:65: FutureWarning: The frame.append method is deprecated and will be removed from pandas in a future version. Use pandas.concat instead.\n",
      "  df_write = df_write.append(_v, ignore_index=True)\n",
      "C:\\Users\\julien\\AppData\\Local\\Temp\\ipykernel_5284\\1387881205.py:80: FutureWarning: The frame.append method is deprecated and will be removed from pandas in a future version. Use pandas.concat instead.\n",
      "  df_write = df_write.append(_v, ignore_index=True)\n",
      "C:\\Users\\julien\\AppData\\Local\\Temp\\ipykernel_5284\\1387881205.py:80: FutureWarning: The frame.append method is deprecated and will be removed from pandas in a future version. Use pandas.concat instead.\n",
      "  df_write = df_write.append(_v, ignore_index=True)\n",
      "C:\\Users\\julien\\AppData\\Local\\Temp\\ipykernel_5284\\1387881205.py:80: FutureWarning: The frame.append method is deprecated and will be removed from pandas in a future version. Use pandas.concat instead.\n",
      "  df_write = df_write.append(_v, ignore_index=True)\n"
     ]
    },
    {
     "name": "stdout",
     "output_type": "stream",
     "text": [
      "['175_73_12-62_1681424412576.json', '280_35_12-62_1681494805357.json', '281_32_12-62_1681495250265.json', '43_74_12-62_1681323213460.json', '313_127_12-62_1681513695933.json', '318_45_12-62_1681516075784.json', '221_70_12-62_1681458177908.json', '180_140_12-62_1681427448884.json', '209_45_12-62_1681447867155.json', '35_105_12-62_1681318674229.json', '287_15_12-62_1681498208476.json', '200_9_12-62_1681442126295.json', '340_68_12-62_1681536720397.json', '321_114_12-62_1681517886354.json', '195_7_12-62_1681439018721.json', '140_17_12-62_1681401964038.json', '43_6_12-62_1681322978380.json', '302_8_12-62_1681506543323.json', '230_76_12-62_1681463473534.json', '200_46_12-62_1681442308422.json', '328_127_12-62_1681527448258.json', '131_99_12-62_1681396900915.json', '166_3_12-62_1681419402504.json', '182_22_12-62_1681428082908.json', '278_105_12-62_1681494005279.json']\n"
     ]
    },
    {
     "name": "stderr",
     "output_type": "stream",
     "text": [
      "C:\\Users\\julien\\AppData\\Local\\Temp\\ipykernel_5284\\1387881205.py:65: FutureWarning: The frame.append method is deprecated and will be removed from pandas in a future version. Use pandas.concat instead.\n",
      "  df_write = df_write.append(_v, ignore_index=True)\n",
      "C:\\Users\\julien\\AppData\\Local\\Temp\\ipykernel_5284\\1387881205.py:65: FutureWarning: The frame.append method is deprecated and will be removed from pandas in a future version. Use pandas.concat instead.\n",
      "  df_write = df_write.append(_v, ignore_index=True)\n",
      "C:\\Users\\julien\\AppData\\Local\\Temp\\ipykernel_5284\\1387881205.py:65: FutureWarning: The frame.append method is deprecated and will be removed from pandas in a future version. Use pandas.concat instead.\n",
      "  df_write = df_write.append(_v, ignore_index=True)\n",
      "C:\\Users\\julien\\AppData\\Local\\Temp\\ipykernel_5284\\1387881205.py:65: FutureWarning: The frame.append method is deprecated and will be removed from pandas in a future version. Use pandas.concat instead.\n",
      "  df_write = df_write.append(_v, ignore_index=True)\n",
      "C:\\Users\\julien\\AppData\\Local\\Temp\\ipykernel_5284\\1387881205.py:80: FutureWarning: The frame.append method is deprecated and will be removed from pandas in a future version. Use pandas.concat instead.\n",
      "  df_write = df_write.append(_v, ignore_index=True)\n",
      "C:\\Users\\julien\\AppData\\Local\\Temp\\ipykernel_5284\\1387881205.py:80: FutureWarning: The frame.append method is deprecated and will be removed from pandas in a future version. Use pandas.concat instead.\n",
      "  df_write = df_write.append(_v, ignore_index=True)\n",
      "C:\\Users\\julien\\AppData\\Local\\Temp\\ipykernel_5284\\1387881205.py:80: FutureWarning: The frame.append method is deprecated and will be removed from pandas in a future version. Use pandas.concat instead.\n",
      "  df_write = df_write.append(_v, ignore_index=True)\n"
     ]
    },
    {
     "name": "stdout",
     "output_type": "stream",
     "text": [
      "['314_58_12-62_1681513978929.json', '324_118_12-62_1681525371413.json', '339_1_12-62_1681533232515.json', '214_116_12-62_1681451101768.json', '32_100_12-62_1681317020882.json', '191_62_12-62_1681436951470.json', '289_36_12-62_1681499448748.json', '320_127_12-62_1681517451440.json', '206_28_12-62_1681445824694.json', '121_23_12-62_1681390515647.json', '132_91_12-62_1681397477583.json', '122_80_12-62_1681391358316.json', '327_124_12-62_1681526979672.json', '333_120_12-62_1681530117169.json', '294_90_12-62_1681502326619.json', '36_145_12-62_1681319381282.json', '340_77_12-62_1681536740850.json', '325_146_12-62_1681526151463.json', '358_96_12-62_1681548042081.json', '144_3_12-62_1681404250951.json', '148_27_12-62_1681406622009.json', '193_12_12-62_1681437874339.json', '310_93_12-62_1681511829773.json', '189_26_12-62_1681432250252.json', '300_23_12-62_1681505363746.json']\n"
     ]
    },
    {
     "name": "stderr",
     "output_type": "stream",
     "text": [
      "C:\\Users\\julien\\AppData\\Local\\Temp\\ipykernel_5284\\1387881205.py:65: FutureWarning: The frame.append method is deprecated and will be removed from pandas in a future version. Use pandas.concat instead.\n",
      "  df_write = df_write.append(_v, ignore_index=True)\n",
      "C:\\Users\\julien\\AppData\\Local\\Temp\\ipykernel_5284\\1387881205.py:65: FutureWarning: The frame.append method is deprecated and will be removed from pandas in a future version. Use pandas.concat instead.\n",
      "  df_write = df_write.append(_v, ignore_index=True)\n",
      "C:\\Users\\julien\\AppData\\Local\\Temp\\ipykernel_5284\\1387881205.py:65: FutureWarning: The frame.append method is deprecated and will be removed from pandas in a future version. Use pandas.concat instead.\n",
      "  df_write = df_write.append(_v, ignore_index=True)\n",
      "C:\\Users\\julien\\AppData\\Local\\Temp\\ipykernel_5284\\1387881205.py:65: FutureWarning: The frame.append method is deprecated and will be removed from pandas in a future version. Use pandas.concat instead.\n",
      "  df_write = df_write.append(_v, ignore_index=True)\n",
      "C:\\Users\\julien\\AppData\\Local\\Temp\\ipykernel_5284\\1387881205.py:80: FutureWarning: The frame.append method is deprecated and will be removed from pandas in a future version. Use pandas.concat instead.\n",
      "  df_write = df_write.append(_v, ignore_index=True)\n",
      "C:\\Users\\julien\\AppData\\Local\\Temp\\ipykernel_5284\\1387881205.py:80: FutureWarning: The frame.append method is deprecated and will be removed from pandas in a future version. Use pandas.concat instead.\n",
      "  df_write = df_write.append(_v, ignore_index=True)\n",
      "C:\\Users\\julien\\AppData\\Local\\Temp\\ipykernel_5284\\1387881205.py:80: FutureWarning: The frame.append method is deprecated and will be removed from pandas in a future version. Use pandas.concat instead.\n",
      "  df_write = df_write.append(_v, ignore_index=True)\n"
     ]
    },
    {
     "name": "stdout",
     "output_type": "stream",
     "text": [
      "['224_84_12-62_1681459923415.json', '338_51_12-62_1681532853498.json', '150_61_12-62_1681407980734.json', '291_124_12-62_1681500827043.json', '208_73_12-62_1681447366279.json', '202_147_12-62_1681444149942.json', '37_82_12-62_1681319729001.json', '323_56_12-62_1681524661157.json', '345_62_12-62_1681540134910.json', '293_27_12-62_1681501488251.json', '180_53_12-62_1681427105252.json', '339_7_12-62_1681533254737.json', '355_143_12-62_1681546494564.json', '135_139_12-62_1681399471687.json', '154_128_12-62_1681411985881.json', '203_80_12-62_1681444120048.json', '205_119_12-62_1681445576341.json', '165_121_12-62_1681419278084.json', '179_148_12-62_1681427135651.json', '325_137_12-62_1681525979139.json', '194_133_12-62_1681438917217.json', '231_148_12-62_1681464545764.json', '213_101_12-62_1681450434710.json', '217_13_12-62_1681452595561.json', '224_58_12-62_1681459822826.json']\n"
     ]
    },
    {
     "name": "stderr",
     "output_type": "stream",
     "text": [
      "C:\\Users\\julien\\AppData\\Local\\Temp\\ipykernel_5284\\1387881205.py:65: FutureWarning: The frame.append method is deprecated and will be removed from pandas in a future version. Use pandas.concat instead.\n",
      "  df_write = df_write.append(_v, ignore_index=True)\n",
      "C:\\Users\\julien\\AppData\\Local\\Temp\\ipykernel_5284\\1387881205.py:65: FutureWarning: The frame.append method is deprecated and will be removed from pandas in a future version. Use pandas.concat instead.\n",
      "  df_write = df_write.append(_v, ignore_index=True)\n",
      "C:\\Users\\julien\\AppData\\Local\\Temp\\ipykernel_5284\\1387881205.py:65: FutureWarning: The frame.append method is deprecated and will be removed from pandas in a future version. Use pandas.concat instead.\n",
      "  df_write = df_write.append(_v, ignore_index=True)\n",
      "C:\\Users\\julien\\AppData\\Local\\Temp\\ipykernel_5284\\1387881205.py:65: FutureWarning: The frame.append method is deprecated and will be removed from pandas in a future version. Use pandas.concat instead.\n",
      "  df_write = df_write.append(_v, ignore_index=True)\n",
      "C:\\Users\\julien\\AppData\\Local\\Temp\\ipykernel_5284\\1387881205.py:80: FutureWarning: The frame.append method is deprecated and will be removed from pandas in a future version. Use pandas.concat instead.\n",
      "  df_write = df_write.append(_v, ignore_index=True)\n",
      "C:\\Users\\julien\\AppData\\Local\\Temp\\ipykernel_5284\\1387881205.py:80: FutureWarning: The frame.append method is deprecated and will be removed from pandas in a future version. Use pandas.concat instead.\n",
      "  df_write = df_write.append(_v, ignore_index=True)\n",
      "C:\\Users\\julien\\AppData\\Local\\Temp\\ipykernel_5284\\1387881205.py:80: FutureWarning: The frame.append method is deprecated and will be removed from pandas in a future version. Use pandas.concat instead.\n",
      "  df_write = df_write.append(_v, ignore_index=True)\n"
     ]
    },
    {
     "name": "stdout",
     "output_type": "stream",
     "text": [
      "['353_126_12-62_1681545322851.json', '194_24_12-62_1681438456617.json', '274_104_12-62_1681491985351.json', '155_65_12-62_1681412255990.json', '167_131_12-62_1681420424880.json', '355_35_12-62_1681546105202.json', '174_130_12-62_1681424066576.json', '284_105_12-62_1681496915479.json', '351_55_12-62_1681543753696.json', '217_97_12-62_1681452960886.json', '279_77_12-62_1681494416669.json', '142_113_12-62_1681403455405.json', '220_62_12-62_1681457547983.json', '210_67_12-62_1681448558706.json', '197_5_12-62_1681440218987.json', '195_25_12-62_1681439066952.json', '152_37_12-62_1681408997898.json', '44_88_12-62_1681323782315.json', '292_5_12-62_1681500938194.json', '298_77_12-62_1681504386233.json', '349_121_12-62_1681542767601.json', '188_28_12-62_1681431414890.json', '330_58_12-62_1681528304025.json', '340_56_12-62_1681534025744.json', '139_38_12-62_1681401491153.json']\n"
     ]
    },
    {
     "name": "stderr",
     "output_type": "stream",
     "text": [
      "C:\\Users\\julien\\AppData\\Local\\Temp\\ipykernel_5284\\1387881205.py:65: FutureWarning: The frame.append method is deprecated and will be removed from pandas in a future version. Use pandas.concat instead.\n",
      "  df_write = df_write.append(_v, ignore_index=True)\n",
      "C:\\Users\\julien\\AppData\\Local\\Temp\\ipykernel_5284\\1387881205.py:65: FutureWarning: The frame.append method is deprecated and will be removed from pandas in a future version. Use pandas.concat instead.\n",
      "  df_write = df_write.append(_v, ignore_index=True)\n",
      "C:\\Users\\julien\\AppData\\Local\\Temp\\ipykernel_5284\\1387881205.py:65: FutureWarning: The frame.append method is deprecated and will be removed from pandas in a future version. Use pandas.concat instead.\n",
      "  df_write = df_write.append(_v, ignore_index=True)\n",
      "C:\\Users\\julien\\AppData\\Local\\Temp\\ipykernel_5284\\1387881205.py:65: FutureWarning: The frame.append method is deprecated and will be removed from pandas in a future version. Use pandas.concat instead.\n",
      "  df_write = df_write.append(_v, ignore_index=True)\n",
      "C:\\Users\\julien\\AppData\\Local\\Temp\\ipykernel_5284\\1387881205.py:80: FutureWarning: The frame.append method is deprecated and will be removed from pandas in a future version. Use pandas.concat instead.\n",
      "  df_write = df_write.append(_v, ignore_index=True)\n",
      "C:\\Users\\julien\\AppData\\Local\\Temp\\ipykernel_5284\\1387881205.py:80: FutureWarning: The frame.append method is deprecated and will be removed from pandas in a future version. Use pandas.concat instead.\n",
      "  df_write = df_write.append(_v, ignore_index=True)\n",
      "C:\\Users\\julien\\AppData\\Local\\Temp\\ipykernel_5284\\1387881205.py:80: FutureWarning: The frame.append method is deprecated and will be removed from pandas in a future version. Use pandas.concat instead.\n",
      "  df_write = df_write.append(_v, ignore_index=True)\n"
     ]
    },
    {
     "name": "stdout",
     "output_type": "stream",
     "text": [
      "['126_37_12-62_1681393774793.json', '130_25_12-62_1681395940290.json', '121_148_12-62_1681391051785.json', '311_100_12-62_1681512418803.json', '297_45_12-62_1681503784359.json', '145_90_12-62_1681405146022.json', '282_8_12-62_1681495616539.json', '205_33_12-62_1681445199061.json', '134_87_12-62_1681398664958.json', '132_128_12-62_1681397633818.json', '213_147_12-62_1681450840715.json', '132_139_12-62_1681397672451.json', '35_123_12-62_1681318747269.json', '136_8_12-62_1681399555196.json', '315_140_12-62_1681514893702.json', '228_58_12-62_1681462185937.json', '348_46_12-62_1681541903538.json', '148_54_12-62_1681406733598.json', '331_32_12-62_1681528781511.json', '125_114_12-62_1681393491765.json', '308_147_12-62_1681511281896.json', '316_49_12-62_1681515080867.json', '201_101_12-62_1681443107961.json', '141_118_12-62_1681402932298.json', '283_133_12-62_1681496515292.json']\n"
     ]
    },
    {
     "name": "stderr",
     "output_type": "stream",
     "text": [
      "C:\\Users\\julien\\AppData\\Local\\Temp\\ipykernel_5284\\1387881205.py:65: FutureWarning: The frame.append method is deprecated and will be removed from pandas in a future version. Use pandas.concat instead.\n",
      "  df_write = df_write.append(_v, ignore_index=True)\n",
      "C:\\Users\\julien\\AppData\\Local\\Temp\\ipykernel_5284\\1387881205.py:65: FutureWarning: The frame.append method is deprecated and will be removed from pandas in a future version. Use pandas.concat instead.\n",
      "  df_write = df_write.append(_v, ignore_index=True)\n",
      "C:\\Users\\julien\\AppData\\Local\\Temp\\ipykernel_5284\\1387881205.py:65: FutureWarning: The frame.append method is deprecated and will be removed from pandas in a future version. Use pandas.concat instead.\n",
      "  df_write = df_write.append(_v, ignore_index=True)\n",
      "C:\\Users\\julien\\AppData\\Local\\Temp\\ipykernel_5284\\1387881205.py:65: FutureWarning: The frame.append method is deprecated and will be removed from pandas in a future version. Use pandas.concat instead.\n",
      "  df_write = df_write.append(_v, ignore_index=True)\n",
      "C:\\Users\\julien\\AppData\\Local\\Temp\\ipykernel_5284\\1387881205.py:80: FutureWarning: The frame.append method is deprecated and will be removed from pandas in a future version. Use pandas.concat instead.\n",
      "  df_write = df_write.append(_v, ignore_index=True)\n",
      "C:\\Users\\julien\\AppData\\Local\\Temp\\ipykernel_5284\\1387881205.py:80: FutureWarning: The frame.append method is deprecated and will be removed from pandas in a future version. Use pandas.concat instead.\n",
      "  df_write = df_write.append(_v, ignore_index=True)\n",
      "C:\\Users\\julien\\AppData\\Local\\Temp\\ipykernel_5284\\1387881205.py:80: FutureWarning: The frame.append method is deprecated and will be removed from pandas in a future version. Use pandas.concat instead.\n",
      "  df_write = df_write.append(_v, ignore_index=True)\n"
     ]
    },
    {
     "name": "stdout",
     "output_type": "stream",
     "text": [
      "['338_141_12-62_1681533181329.json', '286_33_12-62_1681497697292.json', '315_28_12-62_1681514463496.json', '180_148_12-62_1681427790559.json', '35_102_12-62_1681318667037.json', '196_92_12-62_1681439985959.json', '310_148_12-62_1681512003559.json', '194_149_12-62_1681439206396.json', '332_22_12-62_1681529272908.json', '341_99_12-62_1681537377634.json', '197_4_12-62_1681440216124.json', '129_124_12-62_1681395760934.json', '300_100_12-62_1681505679530.json', '206_74_12-62_1681446077555.json', '152_41_12-62_1681409004867.json', '349_136_12-62_1681542808262.json', '275_39_12-62_1681492292894.json', '356_77_12-62_1681546808784.json', '189_32_12-62_1681432298891.json', '125_38_12-62_1681393229038.json', '212_10_12-62_1681449457636.json', '351_34_12-62_1681543707439.json', '284_12_12-62_1681496628046.json', '328_52_12-62_1681527208970.json', '192_21_12-62_1681437341856.json']\n"
     ]
    },
    {
     "name": "stderr",
     "output_type": "stream",
     "text": [
      "C:\\Users\\julien\\AppData\\Local\\Temp\\ipykernel_5284\\1387881205.py:65: FutureWarning: The frame.append method is deprecated and will be removed from pandas in a future version. Use pandas.concat instead.\n",
      "  df_write = df_write.append(_v, ignore_index=True)\n",
      "C:\\Users\\julien\\AppData\\Local\\Temp\\ipykernel_5284\\1387881205.py:65: FutureWarning: The frame.append method is deprecated and will be removed from pandas in a future version. Use pandas.concat instead.\n",
      "  df_write = df_write.append(_v, ignore_index=True)\n",
      "C:\\Users\\julien\\AppData\\Local\\Temp\\ipykernel_5284\\1387881205.py:65: FutureWarning: The frame.append method is deprecated and will be removed from pandas in a future version. Use pandas.concat instead.\n",
      "  df_write = df_write.append(_v, ignore_index=True)\n",
      "C:\\Users\\julien\\AppData\\Local\\Temp\\ipykernel_5284\\1387881205.py:65: FutureWarning: The frame.append method is deprecated and will be removed from pandas in a future version. Use pandas.concat instead.\n",
      "  df_write = df_write.append(_v, ignore_index=True)\n",
      "C:\\Users\\julien\\AppData\\Local\\Temp\\ipykernel_5284\\1387881205.py:80: FutureWarning: The frame.append method is deprecated and will be removed from pandas in a future version. Use pandas.concat instead.\n",
      "  df_write = df_write.append(_v, ignore_index=True)\n",
      "C:\\Users\\julien\\AppData\\Local\\Temp\\ipykernel_5284\\1387881205.py:80: FutureWarning: The frame.append method is deprecated and will be removed from pandas in a future version. Use pandas.concat instead.\n",
      "  df_write = df_write.append(_v, ignore_index=True)\n",
      "C:\\Users\\julien\\AppData\\Local\\Temp\\ipykernel_5284\\1387881205.py:80: FutureWarning: The frame.append method is deprecated and will be removed from pandas in a future version. Use pandas.concat instead.\n",
      "  df_write = df_write.append(_v, ignore_index=True)\n"
     ]
    },
    {
     "name": "stdout",
     "output_type": "stream",
     "text": [
      "['324_147_12-62_1681525700494.json', '326_110_12-62_1681526410768.json', '318_6_12-62_1681515945667.json', '170_1_12-62_1681421503746.json', '200_94_12-62_1681442513187.json', '321_149_12-62_1681518145861.json', '134_98_12-62_1681398722859.json', '292_148_12-62_1681501501367.json', '206_100_12-62_1681446200394.json', '220_14_12-62_1681457306761.json', '287_33_12-62_1681498289602.json', '44_136_12-62_1681323964005.json', '209_29_12-62_1681447808884.json', '319_98_12-62_1681516799742.json', '219_94_12-62_1681457044033.json', '167_68_12-62_1681420172733.json', '280_149_12-62_1681495393973.json', '219_108_12-62_1681457088398.json', '215_19_12-62_1681451321127.json', '316_86_12-62_1681515206139.json', '218_149_12-62_1681453914697.json', '335_80_12-62_1681531153036.json', '209_39_12-62_1681447848176.json', '131_72_12-62_1681396790161.json', '167_8_12-62_1681419969401.json']\n"
     ]
    },
    {
     "name": "stderr",
     "output_type": "stream",
     "text": [
      "C:\\Users\\julien\\AppData\\Local\\Temp\\ipykernel_5284\\1387881205.py:65: FutureWarning: The frame.append method is deprecated and will be removed from pandas in a future version. Use pandas.concat instead.\n",
      "  df_write = df_write.append(_v, ignore_index=True)\n",
      "C:\\Users\\julien\\AppData\\Local\\Temp\\ipykernel_5284\\1387881205.py:65: FutureWarning: The frame.append method is deprecated and will be removed from pandas in a future version. Use pandas.concat instead.\n",
      "  df_write = df_write.append(_v, ignore_index=True)\n",
      "C:\\Users\\julien\\AppData\\Local\\Temp\\ipykernel_5284\\1387881205.py:65: FutureWarning: The frame.append method is deprecated and will be removed from pandas in a future version. Use pandas.concat instead.\n",
      "  df_write = df_write.append(_v, ignore_index=True)\n",
      "C:\\Users\\julien\\AppData\\Local\\Temp\\ipykernel_5284\\1387881205.py:65: FutureWarning: The frame.append method is deprecated and will be removed from pandas in a future version. Use pandas.concat instead.\n",
      "  df_write = df_write.append(_v, ignore_index=True)\n",
      "C:\\Users\\julien\\AppData\\Local\\Temp\\ipykernel_5284\\1387881205.py:80: FutureWarning: The frame.append method is deprecated and will be removed from pandas in a future version. Use pandas.concat instead.\n",
      "  df_write = df_write.append(_v, ignore_index=True)\n",
      "C:\\Users\\julien\\AppData\\Local\\Temp\\ipykernel_5284\\1387881205.py:80: FutureWarning: The frame.append method is deprecated and will be removed from pandas in a future version. Use pandas.concat instead.\n",
      "  df_write = df_write.append(_v, ignore_index=True)\n",
      "C:\\Users\\julien\\AppData\\Local\\Temp\\ipykernel_5284\\1387881205.py:80: FutureWarning: The frame.append method is deprecated and will be removed from pandas in a future version. Use pandas.concat instead.\n",
      "  df_write = df_write.append(_v, ignore_index=True)\n"
     ]
    },
    {
     "name": "stdout",
     "output_type": "stream",
     "text": [
      "['340_11_12-62_1681533890599.json', '171_59_12-62_1681422226175.json', '217_53_12-62_1681452756471.json', '32_43_12-62_1681316853744.json', '135_130_12-62_1681399444565.json', '149_99_12-62_1681407518899.json', '144_27_12-62_1681404314301.json', '318_40_12-62_1681516049093.json', '325_58_12-62_1681525692457.json', '184_138_12-62_1681429506285.json', '203_83_12-62_1681444127428.json', '285_100_12-62_1681497406362.json', '191_99_12-62_1681437103990.json', '287_12_12-62_1681498201632.json', '227_71_12-62_1681461722887.json', '229_82_12-62_1681462822664.json', '291_17_12-62_1681500480745.json', '204_50_12-62_1681444556401.json', '295_89_12-62_1681502861729.json', '223_26_12-62_1681459139387.json', '273_80_12-62_1681491337222.json', '185_11_12-62_1681429592344.json', '341_88_12-62_1681537324115.json', '207_127_12-62_1681446925218.json', '215_148_12-62_1681452105620.json']\n"
     ]
    },
    {
     "name": "stderr",
     "output_type": "stream",
     "text": [
      "C:\\Users\\julien\\AppData\\Local\\Temp\\ipykernel_5284\\1387881205.py:65: FutureWarning: The frame.append method is deprecated and will be removed from pandas in a future version. Use pandas.concat instead.\n",
      "  df_write = df_write.append(_v, ignore_index=True)\n",
      "C:\\Users\\julien\\AppData\\Local\\Temp\\ipykernel_5284\\1387881205.py:65: FutureWarning: The frame.append method is deprecated and will be removed from pandas in a future version. Use pandas.concat instead.\n",
      "  df_write = df_write.append(_v, ignore_index=True)\n",
      "C:\\Users\\julien\\AppData\\Local\\Temp\\ipykernel_5284\\1387881205.py:65: FutureWarning: The frame.append method is deprecated and will be removed from pandas in a future version. Use pandas.concat instead.\n",
      "  df_write = df_write.append(_v, ignore_index=True)\n",
      "C:\\Users\\julien\\AppData\\Local\\Temp\\ipykernel_5284\\1387881205.py:65: FutureWarning: The frame.append method is deprecated and will be removed from pandas in a future version. Use pandas.concat instead.\n",
      "  df_write = df_write.append(_v, ignore_index=True)\n",
      "C:\\Users\\julien\\AppData\\Local\\Temp\\ipykernel_5284\\1387881205.py:80: FutureWarning: The frame.append method is deprecated and will be removed from pandas in a future version. Use pandas.concat instead.\n",
      "  df_write = df_write.append(_v, ignore_index=True)\n",
      "C:\\Users\\julien\\AppData\\Local\\Temp\\ipykernel_5284\\1387881205.py:80: FutureWarning: The frame.append method is deprecated and will be removed from pandas in a future version. Use pandas.concat instead.\n",
      "  df_write = df_write.append(_v, ignore_index=True)\n",
      "C:\\Users\\julien\\AppData\\Local\\Temp\\ipykernel_5284\\1387881205.py:80: FutureWarning: The frame.append method is deprecated and will be removed from pandas in a future version. Use pandas.concat instead.\n",
      "  df_write = df_write.append(_v, ignore_index=True)\n"
     ]
    },
    {
     "name": "stdout",
     "output_type": "stream",
     "text": [
      "['182_133_12-62_1681428564899.json', '215_122_12-62_1681451755544.json', '223_147_12-62_1681459727544.json', '215_56_12-62_1681451482347.json', '230_98_12-62_1681463558772.json', '328_1_12-62_1681527061302.json', '345_28_12-62_1681539429812.json', '170_143_12-62_1681421986389.json', '216_128_12-62_1681452455814.json', '219_110_12-62_1681457093080.json', '219_24_12-62_1681453889553.json', '155_149_12-62_1681412486817.json', '172_9_12-62_1681422661557.json', '196_79_12-62_1681439927378.json', '133_46_12-62_1681397926145.json', '272_115_12-62_1681490922686.json', '308_111_12-62_1681510852030.json', '349_76_12-62_1681542596095.json', '343_63_12-62_1681538352296.json', '201_7_12-62_1681442757745.json', '288_149_12-62_1681499630627.json', '358_18_12-62_1681547742230.json', '318_148_12-62_1681516443081.json', '327_145_12-62_1681527028569.json', '172_87_12-62_1681422924857.json']\n"
     ]
    },
    {
     "name": "stderr",
     "output_type": "stream",
     "text": [
      "C:\\Users\\julien\\AppData\\Local\\Temp\\ipykernel_5284\\1387881205.py:65: FutureWarning: The frame.append method is deprecated and will be removed from pandas in a future version. Use pandas.concat instead.\n",
      "  df_write = df_write.append(_v, ignore_index=True)\n",
      "C:\\Users\\julien\\AppData\\Local\\Temp\\ipykernel_5284\\1387881205.py:65: FutureWarning: The frame.append method is deprecated and will be removed from pandas in a future version. Use pandas.concat instead.\n",
      "  df_write = df_write.append(_v, ignore_index=True)\n",
      "C:\\Users\\julien\\AppData\\Local\\Temp\\ipykernel_5284\\1387881205.py:65: FutureWarning: The frame.append method is deprecated and will be removed from pandas in a future version. Use pandas.concat instead.\n",
      "  df_write = df_write.append(_v, ignore_index=True)\n",
      "C:\\Users\\julien\\AppData\\Local\\Temp\\ipykernel_5284\\1387881205.py:65: FutureWarning: The frame.append method is deprecated and will be removed from pandas in a future version. Use pandas.concat instead.\n",
      "  df_write = df_write.append(_v, ignore_index=True)\n",
      "C:\\Users\\julien\\AppData\\Local\\Temp\\ipykernel_5284\\1387881205.py:80: FutureWarning: The frame.append method is deprecated and will be removed from pandas in a future version. Use pandas.concat instead.\n",
      "  df_write = df_write.append(_v, ignore_index=True)\n",
      "C:\\Users\\julien\\AppData\\Local\\Temp\\ipykernel_5284\\1387881205.py:80: FutureWarning: The frame.append method is deprecated and will be removed from pandas in a future version. Use pandas.concat instead.\n",
      "  df_write = df_write.append(_v, ignore_index=True)\n",
      "C:\\Users\\julien\\AppData\\Local\\Temp\\ipykernel_5284\\1387881205.py:80: FutureWarning: The frame.append method is deprecated and will be removed from pandas in a future version. Use pandas.concat instead.\n",
      "  df_write = df_write.append(_v, ignore_index=True)\n"
     ]
    },
    {
     "name": "stdout",
     "output_type": "stream",
     "text": [
      "['334_149_12-62_1681531071874.json', '134_131_12-62_1681398865406.json', '42_101_12-62_1681322764388.json', '318_72_12-62_1681516195604.json', '321_95_12-62_1681517823382.json', '273_142_12-62_1681491538185.json', '45_8_12-62_1681324056068.json', '205_28_12-62_1681445165459.json', '355_38_12-62_1681546112679.json', '305_117_12-62_1681508823436.json', '184_75_12-62_1681429325267.json', '281_139_12-62_1681495545192.json', '215_71_12-62_1681451555375.json', '162_69_12-62_1681417165996.json', '316_77_12-62_1681515178391.json', '157_56_12-62_1681413251665.json', '135_31_12-62_1681399057854.json', '41_65_12-62_1681322032355.json', '332_14_12-62_1681529244249.json', '162_98_12-62_1681417267221.json', '323_146_12-62_1681524957047.json', '174_149_12-62_1681424517204.json', '349_124_12-62_1681542773971.json', '42_102_12-62_1681322765453.json', '224_20_12-62_1681459686633.json']\n"
     ]
    },
    {
     "name": "stderr",
     "output_type": "stream",
     "text": [
      "C:\\Users\\julien\\AppData\\Local\\Temp\\ipykernel_5284\\1387881205.py:65: FutureWarning: The frame.append method is deprecated and will be removed from pandas in a future version. Use pandas.concat instead.\n",
      "  df_write = df_write.append(_v, ignore_index=True)\n",
      "C:\\Users\\julien\\AppData\\Local\\Temp\\ipykernel_5284\\1387881205.py:65: FutureWarning: The frame.append method is deprecated and will be removed from pandas in a future version. Use pandas.concat instead.\n",
      "  df_write = df_write.append(_v, ignore_index=True)\n",
      "C:\\Users\\julien\\AppData\\Local\\Temp\\ipykernel_5284\\1387881205.py:65: FutureWarning: The frame.append method is deprecated and will be removed from pandas in a future version. Use pandas.concat instead.\n",
      "  df_write = df_write.append(_v, ignore_index=True)\n",
      "C:\\Users\\julien\\AppData\\Local\\Temp\\ipykernel_5284\\1387881205.py:65: FutureWarning: The frame.append method is deprecated and will be removed from pandas in a future version. Use pandas.concat instead.\n",
      "  df_write = df_write.append(_v, ignore_index=True)\n",
      "C:\\Users\\julien\\AppData\\Local\\Temp\\ipykernel_5284\\1387881205.py:80: FutureWarning: The frame.append method is deprecated and will be removed from pandas in a future version. Use pandas.concat instead.\n",
      "  df_write = df_write.append(_v, ignore_index=True)\n",
      "C:\\Users\\julien\\AppData\\Local\\Temp\\ipykernel_5284\\1387881205.py:80: FutureWarning: The frame.append method is deprecated and will be removed from pandas in a future version. Use pandas.concat instead.\n",
      "  df_write = df_write.append(_v, ignore_index=True)\n",
      "C:\\Users\\julien\\AppData\\Local\\Temp\\ipykernel_5284\\1387881205.py:80: FutureWarning: The frame.append method is deprecated and will be removed from pandas in a future version. Use pandas.concat instead.\n",
      "  df_write = df_write.append(_v, ignore_index=True)\n"
     ]
    },
    {
     "name": "stdout",
     "output_type": "stream",
     "text": [
      "['216_106_12-62_1681452339495.json', '137_144_12-62_1681400652862.json', '280_108_12-62_1681495013444.json', '308_114_12-62_1681510868006.json', '218_94_12-62_1681453563057.json', '34_82_12-62_1681318035092.json', '301_144_12-62_1681506472597.json', '313_133_12-62_1681513712131.json', '293_64_12-62_1681501642992.json', '151_52_12-62_1681408502748.json', '177_147_12-62_1681425881462.json', '230_89_12-62_1681463513899.json', '146_127_12-62_1681405898946.json', '229_68_12-62_1681462763191.json', '137_57_12-62_1681400305215.json', '165_118_12-62_1681419246957.json', '148_53_12-62_1681406727995.json', '314_61_12-62_1681514008300.json', '329_112_12-62_1681527954624.json', '277_80_12-62_1681493420612.json', '310_40_12-62_1681511641634.json', '296_58_12-62_1681503277223.json', '173_100_12-62_1681423463466.json', '310_65_12-62_1681511736629.json', '315_147_12-62_1681515113543.json']\n"
     ]
    },
    {
     "name": "stderr",
     "output_type": "stream",
     "text": [
      "C:\\Users\\julien\\AppData\\Local\\Temp\\ipykernel_5284\\1387881205.py:65: FutureWarning: The frame.append method is deprecated and will be removed from pandas in a future version. Use pandas.concat instead.\n",
      "  df_write = df_write.append(_v, ignore_index=True)\n",
      "C:\\Users\\julien\\AppData\\Local\\Temp\\ipykernel_5284\\1387881205.py:65: FutureWarning: The frame.append method is deprecated and will be removed from pandas in a future version. Use pandas.concat instead.\n",
      "  df_write = df_write.append(_v, ignore_index=True)\n",
      "C:\\Users\\julien\\AppData\\Local\\Temp\\ipykernel_5284\\1387881205.py:65: FutureWarning: The frame.append method is deprecated and will be removed from pandas in a future version. Use pandas.concat instead.\n",
      "  df_write = df_write.append(_v, ignore_index=True)\n",
      "C:\\Users\\julien\\AppData\\Local\\Temp\\ipykernel_5284\\1387881205.py:65: FutureWarning: The frame.append method is deprecated and will be removed from pandas in a future version. Use pandas.concat instead.\n",
      "  df_write = df_write.append(_v, ignore_index=True)\n",
      "C:\\Users\\julien\\AppData\\Local\\Temp\\ipykernel_5284\\1387881205.py:80: FutureWarning: The frame.append method is deprecated and will be removed from pandas in a future version. Use pandas.concat instead.\n",
      "  df_write = df_write.append(_v, ignore_index=True)\n",
      "C:\\Users\\julien\\AppData\\Local\\Temp\\ipykernel_5284\\1387881205.py:80: FutureWarning: The frame.append method is deprecated and will be removed from pandas in a future version. Use pandas.concat instead.\n",
      "  df_write = df_write.append(_v, ignore_index=True)\n",
      "C:\\Users\\julien\\AppData\\Local\\Temp\\ipykernel_5284\\1387881205.py:80: FutureWarning: The frame.append method is deprecated and will be removed from pandas in a future version. Use pandas.concat instead.\n",
      "  df_write = df_write.append(_v, ignore_index=True)\n"
     ]
    },
    {
     "name": "stdout",
     "output_type": "stream",
     "text": [
      "['130_147_12-62_1681396860036.json', '222_98_12-62_1681458842275.json', '355_24_12-62_1681546054749.json', '275_147_12-62_1681492627238.json', '279_91_12-62_1681494505537.json', '146_93_12-62_1681405749069.json', '138_147_12-62_1681401330479.json', '341_49_12-62_1681537185817.json', '294_8_12-62_1681501974225.json', '355_27_12-62_1681546064984.json', '358_23_12-62_1681547754263.json', '170_45_12-62_1681421659745.json', '191_6_12-62_1681433360294.json', '210_142_12-62_1681448833530.json', '273_76_12-62_1681491330289.json', '332_72_12-62_1681529468513.json', '282_142_12-62_1681496054544.json', '202_92_12-62_1681443667142.json', '330_68_12-62_1681528347332.json', '203_28_12-62_1681443935307.json', '218_40_12-62_1681453357154.json', '218_105_12-62_1681453600943.json', '304_27_12-62_1681507803944.json', '230_18_12-62_1681463223032.json', '305_43_12-62_1681508584427.json']\n"
     ]
    },
    {
     "name": "stderr",
     "output_type": "stream",
     "text": [
      "C:\\Users\\julien\\AppData\\Local\\Temp\\ipykernel_5284\\1387881205.py:65: FutureWarning: The frame.append method is deprecated and will be removed from pandas in a future version. Use pandas.concat instead.\n",
      "  df_write = df_write.append(_v, ignore_index=True)\n",
      "C:\\Users\\julien\\AppData\\Local\\Temp\\ipykernel_5284\\1387881205.py:65: FutureWarning: The frame.append method is deprecated and will be removed from pandas in a future version. Use pandas.concat instead.\n",
      "  df_write = df_write.append(_v, ignore_index=True)\n",
      "C:\\Users\\julien\\AppData\\Local\\Temp\\ipykernel_5284\\1387881205.py:65: FutureWarning: The frame.append method is deprecated and will be removed from pandas in a future version. Use pandas.concat instead.\n",
      "  df_write = df_write.append(_v, ignore_index=True)\n",
      "C:\\Users\\julien\\AppData\\Local\\Temp\\ipykernel_5284\\1387881205.py:65: FutureWarning: The frame.append method is deprecated and will be removed from pandas in a future version. Use pandas.concat instead.\n",
      "  df_write = df_write.append(_v, ignore_index=True)\n",
      "C:\\Users\\julien\\AppData\\Local\\Temp\\ipykernel_5284\\1387881205.py:80: FutureWarning: The frame.append method is deprecated and will be removed from pandas in a future version. Use pandas.concat instead.\n",
      "  df_write = df_write.append(_v, ignore_index=True)\n",
      "C:\\Users\\julien\\AppData\\Local\\Temp\\ipykernel_5284\\1387881205.py:80: FutureWarning: The frame.append method is deprecated and will be removed from pandas in a future version. Use pandas.concat instead.\n",
      "  df_write = df_write.append(_v, ignore_index=True)\n",
      "C:\\Users\\julien\\AppData\\Local\\Temp\\ipykernel_5284\\1387881205.py:80: FutureWarning: The frame.append method is deprecated and will be removed from pandas in a future version. Use pandas.concat instead.\n",
      "  df_write = df_write.append(_v, ignore_index=True)\n"
     ]
    },
    {
     "name": "stdout",
     "output_type": "stream",
     "text": [
      "['346_30_12-62_1681540603393.json', '172_147_12-62_1681423204902.json', '274_120_12-62_1681492059120.json', '226_31_12-62_1681461037782.json', '225_0_12-62_1681460184480.json', '39_90_12-62_1681320955070.json', '198_22_12-62_1681440940266.json', '343_119_12-62_1681538562818.json', '149_84_12-62_1681407454416.json', '166_139_12-62_1681419881910.json', '169_107_12-62_1681421377180.json', '127_11_12-62_1681394293924.json', '278_62_12-62_1681493871142.json', '317_128_12-62_1681515846268.json', '225_147_12-62_1681460881389.json', '347_149_12-62_1681541936182.json', '34_124_12-62_1681318206199.json', '131_82_12-62_1681396831271.json', '199_125_12-62_1681441956202.json', '134_75_12-62_1681398629724.json', '336_15_12-62_1681531469881.json', '319_51_12-62_1681516629752.json', '140_147_12-62_1681402472116.json', '176_81_12-62_1681424979514.json', '280_105_12-62_1681494998442.json']\n"
     ]
    },
    {
     "name": "stderr",
     "output_type": "stream",
     "text": [
      "C:\\Users\\julien\\AppData\\Local\\Temp\\ipykernel_5284\\1387881205.py:65: FutureWarning: The frame.append method is deprecated and will be removed from pandas in a future version. Use pandas.concat instead.\n",
      "  df_write = df_write.append(_v, ignore_index=True)\n",
      "C:\\Users\\julien\\AppData\\Local\\Temp\\ipykernel_5284\\1387881205.py:65: FutureWarning: The frame.append method is deprecated and will be removed from pandas in a future version. Use pandas.concat instead.\n",
      "  df_write = df_write.append(_v, ignore_index=True)\n",
      "C:\\Users\\julien\\AppData\\Local\\Temp\\ipykernel_5284\\1387881205.py:65: FutureWarning: The frame.append method is deprecated and will be removed from pandas in a future version. Use pandas.concat instead.\n",
      "  df_write = df_write.append(_v, ignore_index=True)\n",
      "C:\\Users\\julien\\AppData\\Local\\Temp\\ipykernel_5284\\1387881205.py:65: FutureWarning: The frame.append method is deprecated and will be removed from pandas in a future version. Use pandas.concat instead.\n",
      "  df_write = df_write.append(_v, ignore_index=True)\n",
      "C:\\Users\\julien\\AppData\\Local\\Temp\\ipykernel_5284\\1387881205.py:80: FutureWarning: The frame.append method is deprecated and will be removed from pandas in a future version. Use pandas.concat instead.\n",
      "  df_write = df_write.append(_v, ignore_index=True)\n",
      "C:\\Users\\julien\\AppData\\Local\\Temp\\ipykernel_5284\\1387881205.py:80: FutureWarning: The frame.append method is deprecated and will be removed from pandas in a future version. Use pandas.concat instead.\n",
      "  df_write = df_write.append(_v, ignore_index=True)\n",
      "C:\\Users\\julien\\AppData\\Local\\Temp\\ipykernel_5284\\1387881205.py:80: FutureWarning: The frame.append method is deprecated and will be removed from pandas in a future version. Use pandas.concat instead.\n",
      "  df_write = df_write.append(_v, ignore_index=True)\n"
     ]
    },
    {
     "name": "stdout",
     "output_type": "stream",
     "text": [
      "['312_23_12-62_1681512703767.json', '121_117_12-62_1681390900629.json', '148_56_12-62_1681406741974.json', '171_13_12-62_1681422059458.json', '345_133_12-62_1681540432999.json', '207_19_12-62_1681446504915.json', '347_23_12-62_1681541187138.json', '313_59_12-62_1681513442200.json', '309_49_12-62_1681511160419.json', '229_84_12-62_1681462830306.json', '230_147_12-62_1681464057260.json', '231_35_12-62_1681463871820.json', '191_39_12-62_1681433491793.json', '43_49_12-62_1681323119771.json', '278_149_12-62_1681494485542.json', '171_4_12-62_1681422032113.json', '322_105_12-62_1681524240139.json', '350_87_12-62_1681543232928.json', '286_102_12-62_1681497954143.json', '156_113_12-62_1681412912033.json', '299_23_12-62_1681504761771.json', '213_57_12-62_1681450260517.json', '315_149_12-62_1681515118421.json', '355_114_12-62_1681546381735.json', '219_38_12-62_1681453946899.json']\n"
     ]
    },
    {
     "name": "stderr",
     "output_type": "stream",
     "text": [
      "C:\\Users\\julien\\AppData\\Local\\Temp\\ipykernel_5284\\1387881205.py:65: FutureWarning: The frame.append method is deprecated and will be removed from pandas in a future version. Use pandas.concat instead.\n",
      "  df_write = df_write.append(_v, ignore_index=True)\n",
      "C:\\Users\\julien\\AppData\\Local\\Temp\\ipykernel_5284\\1387881205.py:65: FutureWarning: The frame.append method is deprecated and will be removed from pandas in a future version. Use pandas.concat instead.\n",
      "  df_write = df_write.append(_v, ignore_index=True)\n",
      "C:\\Users\\julien\\AppData\\Local\\Temp\\ipykernel_5284\\1387881205.py:65: FutureWarning: The frame.append method is deprecated and will be removed from pandas in a future version. Use pandas.concat instead.\n",
      "  df_write = df_write.append(_v, ignore_index=True)\n",
      "C:\\Users\\julien\\AppData\\Local\\Temp\\ipykernel_5284\\1387881205.py:65: FutureWarning: The frame.append method is deprecated and will be removed from pandas in a future version. Use pandas.concat instead.\n",
      "  df_write = df_write.append(_v, ignore_index=True)\n",
      "C:\\Users\\julien\\AppData\\Local\\Temp\\ipykernel_5284\\1387881205.py:80: FutureWarning: The frame.append method is deprecated and will be removed from pandas in a future version. Use pandas.concat instead.\n",
      "  df_write = df_write.append(_v, ignore_index=True)\n",
      "C:\\Users\\julien\\AppData\\Local\\Temp\\ipykernel_5284\\1387881205.py:80: FutureWarning: The frame.append method is deprecated and will be removed from pandas in a future version. Use pandas.concat instead.\n",
      "  df_write = df_write.append(_v, ignore_index=True)\n",
      "C:\\Users\\julien\\AppData\\Local\\Temp\\ipykernel_5284\\1387881205.py:80: FutureWarning: The frame.append method is deprecated and will be removed from pandas in a future version. Use pandas.concat instead.\n",
      "  df_write = df_write.append(_v, ignore_index=True)\n"
     ]
    },
    {
     "name": "stdout",
     "output_type": "stream",
     "text": [
      "['349_135_12-62_1681542806575.json', '338_91_12-62_1681533029944.json', '351_94_12-62_1681543918114.json', '326_116_12-62_1681526421019.json', '288_7_12-62_1681498761183.json', '174_70_12-62_1681423865507.json', '351_145_12-62_1681544315130.json', '191_93_12-62_1681437085254.json', '297_67_12-62_1681503859578.json', '164_62_12-62_1681418406430.json', '157_32_12-62_1681413189608.json', '348_50_12-62_1681541908401.json', '286_95_12-62_1681497918500.json', '309_16_12-62_1681511063057.json', '330_61_12-62_1681528323282.json', '342_145_12-62_1681538197424.json', '35_89_12-62_1681318603241.json', '166_40_12-62_1681419549886.json', '289_149_12-62_1681499988355.json', '299_142_12-62_1681505246579.json', '357_72_12-62_1681547404822.json', '218_90_12-62_1681453546919.json', '297_35_12-62_1681503748307.json', '299_46_12-62_1681504861628.json', '358_31_12-62_1681547804920.json']\n"
     ]
    },
    {
     "name": "stderr",
     "output_type": "stream",
     "text": [
      "C:\\Users\\julien\\AppData\\Local\\Temp\\ipykernel_5284\\1387881205.py:65: FutureWarning: The frame.append method is deprecated and will be removed from pandas in a future version. Use pandas.concat instead.\n",
      "  df_write = df_write.append(_v, ignore_index=True)\n",
      "C:\\Users\\julien\\AppData\\Local\\Temp\\ipykernel_5284\\1387881205.py:65: FutureWarning: The frame.append method is deprecated and will be removed from pandas in a future version. Use pandas.concat instead.\n",
      "  df_write = df_write.append(_v, ignore_index=True)\n",
      "C:\\Users\\julien\\AppData\\Local\\Temp\\ipykernel_5284\\1387881205.py:65: FutureWarning: The frame.append method is deprecated and will be removed from pandas in a future version. Use pandas.concat instead.\n",
      "  df_write = df_write.append(_v, ignore_index=True)\n",
      "C:\\Users\\julien\\AppData\\Local\\Temp\\ipykernel_5284\\1387881205.py:65: FutureWarning: The frame.append method is deprecated and will be removed from pandas in a future version. Use pandas.concat instead.\n",
      "  df_write = df_write.append(_v, ignore_index=True)\n",
      "C:\\Users\\julien\\AppData\\Local\\Temp\\ipykernel_5284\\1387881205.py:80: FutureWarning: The frame.append method is deprecated and will be removed from pandas in a future version. Use pandas.concat instead.\n",
      "  df_write = df_write.append(_v, ignore_index=True)\n",
      "C:\\Users\\julien\\AppData\\Local\\Temp\\ipykernel_5284\\1387881205.py:80: FutureWarning: The frame.append method is deprecated and will be removed from pandas in a future version. Use pandas.concat instead.\n",
      "  df_write = df_write.append(_v, ignore_index=True)\n",
      "C:\\Users\\julien\\AppData\\Local\\Temp\\ipykernel_5284\\1387881205.py:80: FutureWarning: The frame.append method is deprecated and will be removed from pandas in a future version. Use pandas.concat instead.\n",
      "  df_write = df_write.append(_v, ignore_index=True)\n"
     ]
    },
    {
     "name": "stdout",
     "output_type": "stream",
     "text": [
      "['160_47_12-62_1681416028080.json', '327_134_12-62_1681527000288.json', '341_106_12-62_1681537386584.json', '157_149_12-62_1681413586857.json', '181_61_12-62_1681427707192.json', '130_64_12-62_1681396134697.json', '203_135_12-62_1681444317056.json', '193_98_12-62_1681438179443.json', '281_106_12-62_1681495454413.json', '155_135_12-62_1681412456130.json', '224_145_12-62_1681460308668.json', '135_54_12-62_1681399123322.json', '336_147_12-62_1681532224475.json', '323_4_12-62_1681524454510.json', '202_34_12-62_1681443463664.json', '314_88_12-62_1681514083370.json', '196_136_12-62_1681440150735.json', '221_136_12-62_1681458430760.json', '334_7_12-62_1681530239625.json', '194_143_12-62_1681438954903.json', '272_57_12-62_1681490693565.json', '220_78_12-62_1681457619785.json', '193_48_12-62_1681437993014.json', '161_91_12-62_1681416750925.json', '228_113_12-62_1681462381805.json']\n"
     ]
    },
    {
     "name": "stderr",
     "output_type": "stream",
     "text": [
      "C:\\Users\\julien\\AppData\\Local\\Temp\\ipykernel_5284\\1387881205.py:65: FutureWarning: The frame.append method is deprecated and will be removed from pandas in a future version. Use pandas.concat instead.\n",
      "  df_write = df_write.append(_v, ignore_index=True)\n",
      "C:\\Users\\julien\\AppData\\Local\\Temp\\ipykernel_5284\\1387881205.py:65: FutureWarning: The frame.append method is deprecated and will be removed from pandas in a future version. Use pandas.concat instead.\n",
      "  df_write = df_write.append(_v, ignore_index=True)\n",
      "C:\\Users\\julien\\AppData\\Local\\Temp\\ipykernel_5284\\1387881205.py:65: FutureWarning: The frame.append method is deprecated and will be removed from pandas in a future version. Use pandas.concat instead.\n",
      "  df_write = df_write.append(_v, ignore_index=True)\n",
      "C:\\Users\\julien\\AppData\\Local\\Temp\\ipykernel_5284\\1387881205.py:65: FutureWarning: The frame.append method is deprecated and will be removed from pandas in a future version. Use pandas.concat instead.\n",
      "  df_write = df_write.append(_v, ignore_index=True)\n",
      "C:\\Users\\julien\\AppData\\Local\\Temp\\ipykernel_5284\\1387881205.py:80: FutureWarning: The frame.append method is deprecated and will be removed from pandas in a future version. Use pandas.concat instead.\n",
      "  df_write = df_write.append(_v, ignore_index=True)\n",
      "C:\\Users\\julien\\AppData\\Local\\Temp\\ipykernel_5284\\1387881205.py:80: FutureWarning: The frame.append method is deprecated and will be removed from pandas in a future version. Use pandas.concat instead.\n",
      "  df_write = df_write.append(_v, ignore_index=True)\n",
      "C:\\Users\\julien\\AppData\\Local\\Temp\\ipykernel_5284\\1387881205.py:80: FutureWarning: The frame.append method is deprecated and will be removed from pandas in a future version. Use pandas.concat instead.\n",
      "  df_write = df_write.append(_v, ignore_index=True)\n"
     ]
    },
    {
     "name": "stdout",
     "output_type": "stream",
     "text": [
      "['205_139_12-62_1681445661760.json', '132_67_12-62_1681397368403.json', '292_76_12-62_1681501165773.json', '277_41_12-62_1681493286880.json', '307_79_12-62_1681510223170.json', '335_38_12-62_1681531004930.json', '229_38_12-62_1681462644725.json', '150_91_12-62_1681408092038.json', '352_13_12-62_1681544249121.json', '137_128_12-62_1681400597072.json', '125_52_12-62_1681393273812.json', '290_127_12-62_1681500355515.json', '184_18_12-62_1681429135773.json', '227_64_12-62_1681461700711.json', '315_18_12-62_1681514425257.json', '140_84_12-62_1681402240017.json', '189_43_12-62_1681432328587.json', '298_96_12-62_1681504469721.json', '208_142_12-62_1681447701875.json', '127_112_12-62_1681394623549.json', '284_5_12-62_1681496612790.json', '165_46_12-62_1681418982755.json', '281_145_12-62_1681495560364.json', '169_46_12-62_1681421175524.json', '275_84_12-62_1681492426004.json']\n"
     ]
    },
    {
     "name": "stderr",
     "output_type": "stream",
     "text": [
      "C:\\Users\\julien\\AppData\\Local\\Temp\\ipykernel_5284\\1387881205.py:65: FutureWarning: The frame.append method is deprecated and will be removed from pandas in a future version. Use pandas.concat instead.\n",
      "  df_write = df_write.append(_v, ignore_index=True)\n",
      "C:\\Users\\julien\\AppData\\Local\\Temp\\ipykernel_5284\\1387881205.py:65: FutureWarning: The frame.append method is deprecated and will be removed from pandas in a future version. Use pandas.concat instead.\n",
      "  df_write = df_write.append(_v, ignore_index=True)\n",
      "C:\\Users\\julien\\AppData\\Local\\Temp\\ipykernel_5284\\1387881205.py:65: FutureWarning: The frame.append method is deprecated and will be removed from pandas in a future version. Use pandas.concat instead.\n",
      "  df_write = df_write.append(_v, ignore_index=True)\n",
      "C:\\Users\\julien\\AppData\\Local\\Temp\\ipykernel_5284\\1387881205.py:65: FutureWarning: The frame.append method is deprecated and will be removed from pandas in a future version. Use pandas.concat instead.\n",
      "  df_write = df_write.append(_v, ignore_index=True)\n",
      "C:\\Users\\julien\\AppData\\Local\\Temp\\ipykernel_5284\\1387881205.py:80: FutureWarning: The frame.append method is deprecated and will be removed from pandas in a future version. Use pandas.concat instead.\n",
      "  df_write = df_write.append(_v, ignore_index=True)\n",
      "C:\\Users\\julien\\AppData\\Local\\Temp\\ipykernel_5284\\1387881205.py:80: FutureWarning: The frame.append method is deprecated and will be removed from pandas in a future version. Use pandas.concat instead.\n",
      "  df_write = df_write.append(_v, ignore_index=True)\n",
      "C:\\Users\\julien\\AppData\\Local\\Temp\\ipykernel_5284\\1387881205.py:80: FutureWarning: The frame.append method is deprecated and will be removed from pandas in a future version. Use pandas.concat instead.\n",
      "  df_write = df_write.append(_v, ignore_index=True)\n"
     ]
    },
    {
     "name": "stdout",
     "output_type": "stream",
     "text": [
      "['212_114_12-62_1681449889309.json', '32_128_12-62_1681317100018.json', '282_86_12-62_1681495854403.json', '188_78_12-62_1681431610215.json', '157_119_12-62_1681413473487.json', '171_115_12-62_1681422465806.json', '219_145_12-62_1681457214510.json', '34_115_12-62_1681318159805.json', '139_61_12-62_1681401578299.json', '150_149_12-62_1681408315326.json', '310_122_12-62_1681511925870.json', '41_138_12-62_1681322307208.json', '312_70_12-62_1681512931805.json', '122_125_12-62_1681391499795.json', '225_72_12-62_1681460529459.json', '190_64_12-62_1681433015821.json', '309_115_12-62_1681511357046.json', '327_74_12-62_1681526816620.json', '355_127_12-62_1681546453981.json', '154_125_12-62_1681411972917.json', '205_106_12-62_1681445522082.json', '197_64_12-62_1681440493156.json', '144_135_12-62_1681404739777.json', '205_0_12-62_1681445064547.json', '271_41_12-62_1681490109194.json']\n"
     ]
    },
    {
     "name": "stderr",
     "output_type": "stream",
     "text": [
      "C:\\Users\\julien\\AppData\\Local\\Temp\\ipykernel_5284\\1387881205.py:65: FutureWarning: The frame.append method is deprecated and will be removed from pandas in a future version. Use pandas.concat instead.\n",
      "  df_write = df_write.append(_v, ignore_index=True)\n",
      "C:\\Users\\julien\\AppData\\Local\\Temp\\ipykernel_5284\\1387881205.py:65: FutureWarning: The frame.append method is deprecated and will be removed from pandas in a future version. Use pandas.concat instead.\n",
      "  df_write = df_write.append(_v, ignore_index=True)\n",
      "C:\\Users\\julien\\AppData\\Local\\Temp\\ipykernel_5284\\1387881205.py:65: FutureWarning: The frame.append method is deprecated and will be removed from pandas in a future version. Use pandas.concat instead.\n",
      "  df_write = df_write.append(_v, ignore_index=True)\n",
      "C:\\Users\\julien\\AppData\\Local\\Temp\\ipykernel_5284\\1387881205.py:65: FutureWarning: The frame.append method is deprecated and will be removed from pandas in a future version. Use pandas.concat instead.\n",
      "  df_write = df_write.append(_v, ignore_index=True)\n",
      "C:\\Users\\julien\\AppData\\Local\\Temp\\ipykernel_5284\\1387881205.py:80: FutureWarning: The frame.append method is deprecated and will be removed from pandas in a future version. Use pandas.concat instead.\n",
      "  df_write = df_write.append(_v, ignore_index=True)\n",
      "C:\\Users\\julien\\AppData\\Local\\Temp\\ipykernel_5284\\1387881205.py:80: FutureWarning: The frame.append method is deprecated and will be removed from pandas in a future version. Use pandas.concat instead.\n",
      "  df_write = df_write.append(_v, ignore_index=True)\n",
      "C:\\Users\\julien\\AppData\\Local\\Temp\\ipykernel_5284\\1387881205.py:80: FutureWarning: The frame.append method is deprecated and will be removed from pandas in a future version. Use pandas.concat instead.\n",
      "  df_write = df_write.append(_v, ignore_index=True)\n"
     ]
    },
    {
     "name": "stdout",
     "output_type": "stream",
     "text": [
      "['329_2_12-62_1681527558981.json', '222_79_12-62_1681458774705.json', '135_16_12-62_1681398989654.json', '181_102_12-62_1681427846000.json', '198_89_12-62_1681441186292.json', '327_58_12-62_1681526741992.json', '324_142_12-62_1681525466994.json', '196_110_12-62_1681440043578.json', '191_18_12-62_1681433386785.json', '134_113_12-62_1681398790580.json', '287_83_12-62_1681498435782.json', '128_84_12-62_1681395052650.json', '308_135_12-62_1681510958522.json', '282_93_12-62_1681495904136.json', '141_124_12-62_1681402970067.json', '357_15_12-62_1681547167952.json', '326_26_12-62_1681526135215.json', '318_42_12-62_1681516060071.json', '185_70_12-62_1681429843885.json', '298_75_12-62_1681504384818.json', '310_15_12-62_1681511535758.json', '225_68_12-62_1681460516174.json', '286_100_12-62_1681497943813.json', '311_89_12-62_1681512334815.json', '343_76_12-62_1681538412891.json']\n"
     ]
    },
    {
     "name": "stderr",
     "output_type": "stream",
     "text": [
      "C:\\Users\\julien\\AppData\\Local\\Temp\\ipykernel_5284\\1387881205.py:65: FutureWarning: The frame.append method is deprecated and will be removed from pandas in a future version. Use pandas.concat instead.\n",
      "  df_write = df_write.append(_v, ignore_index=True)\n",
      "C:\\Users\\julien\\AppData\\Local\\Temp\\ipykernel_5284\\1387881205.py:65: FutureWarning: The frame.append method is deprecated and will be removed from pandas in a future version. Use pandas.concat instead.\n",
      "  df_write = df_write.append(_v, ignore_index=True)\n",
      "C:\\Users\\julien\\AppData\\Local\\Temp\\ipykernel_5284\\1387881205.py:65: FutureWarning: The frame.append method is deprecated and will be removed from pandas in a future version. Use pandas.concat instead.\n",
      "  df_write = df_write.append(_v, ignore_index=True)\n",
      "C:\\Users\\julien\\AppData\\Local\\Temp\\ipykernel_5284\\1387881205.py:65: FutureWarning: The frame.append method is deprecated and will be removed from pandas in a future version. Use pandas.concat instead.\n",
      "  df_write = df_write.append(_v, ignore_index=True)\n",
      "C:\\Users\\julien\\AppData\\Local\\Temp\\ipykernel_5284\\1387881205.py:80: FutureWarning: The frame.append method is deprecated and will be removed from pandas in a future version. Use pandas.concat instead.\n",
      "  df_write = df_write.append(_v, ignore_index=True)\n",
      "C:\\Users\\julien\\AppData\\Local\\Temp\\ipykernel_5284\\1387881205.py:80: FutureWarning: The frame.append method is deprecated and will be removed from pandas in a future version. Use pandas.concat instead.\n",
      "  df_write = df_write.append(_v, ignore_index=True)\n",
      "C:\\Users\\julien\\AppData\\Local\\Temp\\ipykernel_5284\\1387881205.py:80: FutureWarning: The frame.append method is deprecated and will be removed from pandas in a future version. Use pandas.concat instead.\n",
      "  df_write = df_write.append(_v, ignore_index=True)\n"
     ]
    },
    {
     "name": "stdout",
     "output_type": "stream",
     "text": [
      "['331_33_12-62_1681528785065.json', '44_31_12-62_1681323589241.json', '121_145_12-62_1681391189318.json', '320_103_12-62_1681517352951.json', '308_83_12-62_1681510738065.json', '295_79_12-62_1681502832643.json', '121_145_12-62_1681391040666.json', '163_103_12-62_1681417895039.json', '155_128_12-62_1681412441066.json', '196_96_12-62_1681440000785.json', '283_112_12-62_1681496442113.json', '202_7_12-62_1681443346801.json', '198_115_12-62_1681441284819.json', '347_65_12-62_1681541382851.json', '287_119_12-62_1681498564831.json', '164_147_12-62_1681418799559.json', '161_54_12-62_1681416586338.json', '190_16_12-62_1681432814423.json', '312_30_12-62_1681512741171.json', '325_120_12-62_1681525933639.json', '354_1_12-62_1681545408866.json', '233_31_12-62_1681464838766.json', '232_49_12-62_1681464421991.json', '302_94_12-62_1681506891897.json', '131_115_12-62_1681396950824.json']\n"
     ]
    },
    {
     "name": "stderr",
     "output_type": "stream",
     "text": [
      "C:\\Users\\julien\\AppData\\Local\\Temp\\ipykernel_5284\\1387881205.py:65: FutureWarning: The frame.append method is deprecated and will be removed from pandas in a future version. Use pandas.concat instead.\n",
      "  df_write = df_write.append(_v, ignore_index=True)\n",
      "C:\\Users\\julien\\AppData\\Local\\Temp\\ipykernel_5284\\1387881205.py:65: FutureWarning: The frame.append method is deprecated and will be removed from pandas in a future version. Use pandas.concat instead.\n",
      "  df_write = df_write.append(_v, ignore_index=True)\n",
      "C:\\Users\\julien\\AppData\\Local\\Temp\\ipykernel_5284\\1387881205.py:65: FutureWarning: The frame.append method is deprecated and will be removed from pandas in a future version. Use pandas.concat instead.\n",
      "  df_write = df_write.append(_v, ignore_index=True)\n",
      "C:\\Users\\julien\\AppData\\Local\\Temp\\ipykernel_5284\\1387881205.py:65: FutureWarning: The frame.append method is deprecated and will be removed from pandas in a future version. Use pandas.concat instead.\n",
      "  df_write = df_write.append(_v, ignore_index=True)\n",
      "C:\\Users\\julien\\AppData\\Local\\Temp\\ipykernel_5284\\1387881205.py:80: FutureWarning: The frame.append method is deprecated and will be removed from pandas in a future version. Use pandas.concat instead.\n",
      "  df_write = df_write.append(_v, ignore_index=True)\n",
      "C:\\Users\\julien\\AppData\\Local\\Temp\\ipykernel_5284\\1387881205.py:80: FutureWarning: The frame.append method is deprecated and will be removed from pandas in a future version. Use pandas.concat instead.\n",
      "  df_write = df_write.append(_v, ignore_index=True)\n",
      "C:\\Users\\julien\\AppData\\Local\\Temp\\ipykernel_5284\\1387881205.py:80: FutureWarning: The frame.append method is deprecated and will be removed from pandas in a future version. Use pandas.concat instead.\n",
      "  df_write = df_write.append(_v, ignore_index=True)\n"
     ]
    },
    {
     "name": "stdout",
     "output_type": "stream",
     "text": [
      "['157_27_12-62_1681413152805.json', '357_61_12-62_1681547376602.json', '307_124_12-62_1681510396653.json', '275_136_12-62_1681492603523.json', '208_134_12-62_1681447676421.json', '311_50_12-62_1681512212792.json', '327_119_12-62_1681526953754.json', '203_15_12-62_1681443907646.json', '198_116_12-62_1681441290786.json', '326_133_12-62_1681526491682.json', '199_8_12-62_1681441457144.json', '169_57_12-62_1681421202963.json', '289_136_12-62_1681499816714.json', '122_48_12-62_1681391248295.json', '164_48_12-62_1681418343398.json', '209_145_12-62_1681448351405.json', '216_138_12-62_1681452496423.json', '188_84_12-62_1681431639061.json', '299_8_12-62_1681504698303.json', '325_116_12-62_1681525899949.json', '129_131_12-62_1681395778951.json', '318_87_12-62_1681516242319.json', '141_143_12-62_1681403029582.json', '200_133_12-62_1681442653290.json', '294_127_12-62_1681502473633.json']\n"
     ]
    },
    {
     "name": "stderr",
     "output_type": "stream",
     "text": [
      "C:\\Users\\julien\\AppData\\Local\\Temp\\ipykernel_5284\\1387881205.py:65: FutureWarning: The frame.append method is deprecated and will be removed from pandas in a future version. Use pandas.concat instead.\n",
      "  df_write = df_write.append(_v, ignore_index=True)\n",
      "C:\\Users\\julien\\AppData\\Local\\Temp\\ipykernel_5284\\1387881205.py:65: FutureWarning: The frame.append method is deprecated and will be removed from pandas in a future version. Use pandas.concat instead.\n",
      "  df_write = df_write.append(_v, ignore_index=True)\n",
      "C:\\Users\\julien\\AppData\\Local\\Temp\\ipykernel_5284\\1387881205.py:65: FutureWarning: The frame.append method is deprecated and will be removed from pandas in a future version. Use pandas.concat instead.\n",
      "  df_write = df_write.append(_v, ignore_index=True)\n",
      "C:\\Users\\julien\\AppData\\Local\\Temp\\ipykernel_5284\\1387881205.py:65: FutureWarning: The frame.append method is deprecated and will be removed from pandas in a future version. Use pandas.concat instead.\n",
      "  df_write = df_write.append(_v, ignore_index=True)\n",
      "C:\\Users\\julien\\AppData\\Local\\Temp\\ipykernel_5284\\1387881205.py:80: FutureWarning: The frame.append method is deprecated and will be removed from pandas in a future version. Use pandas.concat instead.\n",
      "  df_write = df_write.append(_v, ignore_index=True)\n",
      "C:\\Users\\julien\\AppData\\Local\\Temp\\ipykernel_5284\\1387881205.py:80: FutureWarning: The frame.append method is deprecated and will be removed from pandas in a future version. Use pandas.concat instead.\n",
      "  df_write = df_write.append(_v, ignore_index=True)\n",
      "C:\\Users\\julien\\AppData\\Local\\Temp\\ipykernel_5284\\1387881205.py:80: FutureWarning: The frame.append method is deprecated and will be removed from pandas in a future version. Use pandas.concat instead.\n",
      "  df_write = df_write.append(_v, ignore_index=True)\n"
     ]
    },
    {
     "name": "stdout",
     "output_type": "stream",
     "text": [
      "['194_44_12-62_1681438532781.json', '181_4_12-62_1681427505221.json', '196_67_12-62_1681439892028.json', '206_61_12-62_1681446027746.json', '320_47_12-62_1681517142018.json', '172_108_12-62_1681422995897.json', '206_111_12-62_1681446265274.json', '327_105_12-62_1681526919375.json', '321_27_12-62_1681517605577.json', '274_51_12-62_1681491775449.json', '168_34_12-62_1681420646365.json', '346_36_12-62_1681540626394.json', '34_7_12-62_1681317728089.json', '297_32_12-62_1681503737979.json', '184_63_12-62_1681429301981.json', '178_132_12-62_1681426296143.json', '174_18_12-62_1681423681726.json', '216_76_12-62_1681452189315.json', '35_136_12-62_1681318788556.json', '198_23_12-62_1681440943171.json', '136_16_12-62_1681399571426.json', '326_145_12-62_1681526627051.json', '302_109_12-62_1681506940427.json', '272_94_12-62_1681490857219.json', '184_103_12-62_1681429427864.json']\n"
     ]
    },
    {
     "name": "stderr",
     "output_type": "stream",
     "text": [
      "C:\\Users\\julien\\AppData\\Local\\Temp\\ipykernel_5284\\1387881205.py:65: FutureWarning: The frame.append method is deprecated and will be removed from pandas in a future version. Use pandas.concat instead.\n",
      "  df_write = df_write.append(_v, ignore_index=True)\n",
      "C:\\Users\\julien\\AppData\\Local\\Temp\\ipykernel_5284\\1387881205.py:65: FutureWarning: The frame.append method is deprecated and will be removed from pandas in a future version. Use pandas.concat instead.\n",
      "  df_write = df_write.append(_v, ignore_index=True)\n",
      "C:\\Users\\julien\\AppData\\Local\\Temp\\ipykernel_5284\\1387881205.py:65: FutureWarning: The frame.append method is deprecated and will be removed from pandas in a future version. Use pandas.concat instead.\n",
      "  df_write = df_write.append(_v, ignore_index=True)\n",
      "C:\\Users\\julien\\AppData\\Local\\Temp\\ipykernel_5284\\1387881205.py:65: FutureWarning: The frame.append method is deprecated and will be removed from pandas in a future version. Use pandas.concat instead.\n",
      "  df_write = df_write.append(_v, ignore_index=True)\n",
      "C:\\Users\\julien\\AppData\\Local\\Temp\\ipykernel_5284\\1387881205.py:80: FutureWarning: The frame.append method is deprecated and will be removed from pandas in a future version. Use pandas.concat instead.\n",
      "  df_write = df_write.append(_v, ignore_index=True)\n",
      "C:\\Users\\julien\\AppData\\Local\\Temp\\ipykernel_5284\\1387881205.py:80: FutureWarning: The frame.append method is deprecated and will be removed from pandas in a future version. Use pandas.concat instead.\n",
      "  df_write = df_write.append(_v, ignore_index=True)\n",
      "C:\\Users\\julien\\AppData\\Local\\Temp\\ipykernel_5284\\1387881205.py:80: FutureWarning: The frame.append method is deprecated and will be removed from pandas in a future version. Use pandas.concat instead.\n",
      "  df_write = df_write.append(_v, ignore_index=True)\n"
     ]
    },
    {
     "name": "stdout",
     "output_type": "stream",
     "text": [
      "['37_146_12-62_1681320002557.json', '282_60_12-62_1681495786465.json', '333_149_12-62_1681530431091.json', '209_148_12-62_1681448222722.json', '348_58_12-62_1681541925440.json', '337_137_12-62_1681532581994.json', '303_20_12-62_1681507161633.json', '227_57_12-62_1681461659610.json', '342_141_12-62_1681538051704.json', '316_58_12-62_1681515110237.json', '315_16_12-62_1681514417434.json', '277_48_12-62_1681493309226.json', '149_89_12-62_1681407472111.json', '228_9_12-62_1681462015657.json', '224_146_12-62_1681460140325.json', '34_40_12-62_1681317860224.json', '223_149_12-62_1681459946220.json', '182_81_12-62_1681428366451.json', '184_97_12-62_1681429404125.json', '287_142_12-62_1681498673749.json', '155_9_12-62_1681412091704.json', '144_148_12-62_1681405011191.json', '172_47_12-62_1681422789386.json', '332_9_12-62_1681529226963.json', '304_2_12-62_1681507697945.json']\n"
     ]
    },
    {
     "name": "stderr",
     "output_type": "stream",
     "text": [
      "C:\\Users\\julien\\AppData\\Local\\Temp\\ipykernel_5284\\1387881205.py:65: FutureWarning: The frame.append method is deprecated and will be removed from pandas in a future version. Use pandas.concat instead.\n",
      "  df_write = df_write.append(_v, ignore_index=True)\n",
      "C:\\Users\\julien\\AppData\\Local\\Temp\\ipykernel_5284\\1387881205.py:65: FutureWarning: The frame.append method is deprecated and will be removed from pandas in a future version. Use pandas.concat instead.\n",
      "  df_write = df_write.append(_v, ignore_index=True)\n",
      "C:\\Users\\julien\\AppData\\Local\\Temp\\ipykernel_5284\\1387881205.py:65: FutureWarning: The frame.append method is deprecated and will be removed from pandas in a future version. Use pandas.concat instead.\n",
      "  df_write = df_write.append(_v, ignore_index=True)\n",
      "C:\\Users\\julien\\AppData\\Local\\Temp\\ipykernel_5284\\1387881205.py:65: FutureWarning: The frame.append method is deprecated and will be removed from pandas in a future version. Use pandas.concat instead.\n",
      "  df_write = df_write.append(_v, ignore_index=True)\n",
      "C:\\Users\\julien\\AppData\\Local\\Temp\\ipykernel_5284\\1387881205.py:80: FutureWarning: The frame.append method is deprecated and will be removed from pandas in a future version. Use pandas.concat instead.\n",
      "  df_write = df_write.append(_v, ignore_index=True)\n",
      "C:\\Users\\julien\\AppData\\Local\\Temp\\ipykernel_5284\\1387881205.py:80: FutureWarning: The frame.append method is deprecated and will be removed from pandas in a future version. Use pandas.concat instead.\n",
      "  df_write = df_write.append(_v, ignore_index=True)\n",
      "C:\\Users\\julien\\AppData\\Local\\Temp\\ipykernel_5284\\1387881205.py:80: FutureWarning: The frame.append method is deprecated and will be removed from pandas in a future version. Use pandas.concat instead.\n",
      "  df_write = df_write.append(_v, ignore_index=True)\n"
     ]
    },
    {
     "name": "stdout",
     "output_type": "stream",
     "text": [
      "['135_2_12-62_1681398943608.json', '210_123_12-62_1681448775049.json', '208_108_12-62_1681447548436.json', '172_46_12-62_1681422788948.json', '222_149_12-62_1681459041121.json', '325_129_12-62_1681525955857.json', '356_65_12-62_1681546771508.json', '189_129_12-62_1681432652361.json', '344_88_12-62_1681539056922.json', '274_128_12-62_1681492085094.json', '39_127_12-62_1681321083933.json', '178_120_12-62_1681426260517.json', '143_33_12-62_1681403756540.json', '184_36_12-62_1681429206491.json', '311_99_12-62_1681512413083.json', '171_96_12-62_1681422384453.json', '296_97_12-62_1681503430927.json', '317_9_12-62_1681515432111.json', '121_119_12-62_1681390910591.json', '302_61_12-62_1681506735199.json', '208_144_12-62_1681447709258.json', '215_140_12-62_1681451818623.json', '233_122_12-62_1681489877397.json', '291_66_12-62_1681500658508.json', '166_149_12-62_1681420141957.json']\n"
     ]
    },
    {
     "name": "stderr",
     "output_type": "stream",
     "text": [
      "C:\\Users\\julien\\AppData\\Local\\Temp\\ipykernel_5284\\1387881205.py:65: FutureWarning: The frame.append method is deprecated and will be removed from pandas in a future version. Use pandas.concat instead.\n",
      "  df_write = df_write.append(_v, ignore_index=True)\n",
      "C:\\Users\\julien\\AppData\\Local\\Temp\\ipykernel_5284\\1387881205.py:65: FutureWarning: The frame.append method is deprecated and will be removed from pandas in a future version. Use pandas.concat instead.\n",
      "  df_write = df_write.append(_v, ignore_index=True)\n",
      "C:\\Users\\julien\\AppData\\Local\\Temp\\ipykernel_5284\\1387881205.py:65: FutureWarning: The frame.append method is deprecated and will be removed from pandas in a future version. Use pandas.concat instead.\n",
      "  df_write = df_write.append(_v, ignore_index=True)\n",
      "C:\\Users\\julien\\AppData\\Local\\Temp\\ipykernel_5284\\1387881205.py:65: FutureWarning: The frame.append method is deprecated and will be removed from pandas in a future version. Use pandas.concat instead.\n",
      "  df_write = df_write.append(_v, ignore_index=True)\n",
      "C:\\Users\\julien\\AppData\\Local\\Temp\\ipykernel_5284\\1387881205.py:80: FutureWarning: The frame.append method is deprecated and will be removed from pandas in a future version. Use pandas.concat instead.\n",
      "  df_write = df_write.append(_v, ignore_index=True)\n",
      "C:\\Users\\julien\\AppData\\Local\\Temp\\ipykernel_5284\\1387881205.py:80: FutureWarning: The frame.append method is deprecated and will be removed from pandas in a future version. Use pandas.concat instead.\n",
      "  df_write = df_write.append(_v, ignore_index=True)\n",
      "C:\\Users\\julien\\AppData\\Local\\Temp\\ipykernel_5284\\1387881205.py:80: FutureWarning: The frame.append method is deprecated and will be removed from pandas in a future version. Use pandas.concat instead.\n",
      "  df_write = df_write.append(_v, ignore_index=True)\n"
     ]
    },
    {
     "name": "stdout",
     "output_type": "stream",
     "text": [
      "['144_96_12-62_1681404616549.json', '271_47_12-62_1681490123739.json', '301_57_12-62_1681506111667.json', '340_26_12-62_1681533926727.json', '160_81_12-62_1681416146346.json', '181_38_12-62_1681427631080.json', '229_89_12-62_1681462851831.json', '143_83_12-62_1681403935531.json', '343_129_12-62_1681538609778.json', '189_83_12-62_1681432479622.json', '344_13_12-62_1681538753629.json', '171_136_12-62_1681422563459.json', '166_136_12-62_1681419872811.json', '302_115_12-62_1681506962112.json', '345_98_12-62_1681540291581.json', '168_4_12-62_1681420512336.json', '309_145_12-62_1681511457391.json', '196_88_12-62_1681439955215.json', '39_24_12-62_1681320728031.json', '37_59_12-62_1681319644527.json', '201_31_12-62_1681442854850.json', '44_36_12-62_1681323601667.json', '36_143_12-62_1681319378096.json', '138_81_12-62_1681401043762.json', '31_144_12-62_1681316669552.json']\n"
     ]
    },
    {
     "name": "stderr",
     "output_type": "stream",
     "text": [
      "C:\\Users\\julien\\AppData\\Local\\Temp\\ipykernel_5284\\1387881205.py:65: FutureWarning: The frame.append method is deprecated and will be removed from pandas in a future version. Use pandas.concat instead.\n",
      "  df_write = df_write.append(_v, ignore_index=True)\n",
      "C:\\Users\\julien\\AppData\\Local\\Temp\\ipykernel_5284\\1387881205.py:65: FutureWarning: The frame.append method is deprecated and will be removed from pandas in a future version. Use pandas.concat instead.\n",
      "  df_write = df_write.append(_v, ignore_index=True)\n",
      "C:\\Users\\julien\\AppData\\Local\\Temp\\ipykernel_5284\\1387881205.py:65: FutureWarning: The frame.append method is deprecated and will be removed from pandas in a future version. Use pandas.concat instead.\n",
      "  df_write = df_write.append(_v, ignore_index=True)\n",
      "C:\\Users\\julien\\AppData\\Local\\Temp\\ipykernel_5284\\1387881205.py:65: FutureWarning: The frame.append method is deprecated and will be removed from pandas in a future version. Use pandas.concat instead.\n",
      "  df_write = df_write.append(_v, ignore_index=True)\n",
      "C:\\Users\\julien\\AppData\\Local\\Temp\\ipykernel_5284\\1387881205.py:80: FutureWarning: The frame.append method is deprecated and will be removed from pandas in a future version. Use pandas.concat instead.\n",
      "  df_write = df_write.append(_v, ignore_index=True)\n",
      "C:\\Users\\julien\\AppData\\Local\\Temp\\ipykernel_5284\\1387881205.py:80: FutureWarning: The frame.append method is deprecated and will be removed from pandas in a future version. Use pandas.concat instead.\n",
      "  df_write = df_write.append(_v, ignore_index=True)\n",
      "C:\\Users\\julien\\AppData\\Local\\Temp\\ipykernel_5284\\1387881205.py:80: FutureWarning: The frame.append method is deprecated and will be removed from pandas in a future version. Use pandas.concat instead.\n",
      "  df_write = df_write.append(_v, ignore_index=True)\n"
     ]
    },
    {
     "name": "stdout",
     "output_type": "stream",
     "text": [
      "['178_0_12-62_1681425756653.json', '197_129_12-62_1681440759012.json', '193_50_12-62_1681437996792.json', '196_101_12-62_1681440010293.json', '310_146_12-62_1681512141883.json', '121_147_12-62_1681391194769.json', '37_105_12-62_1681319830152.json', '202_129_12-62_1681443789597.json', '226_146_12-62_1681461570349.json', '38_134_12-62_1681320568611.json', '36_98_12-62_1681319210156.json', '173_29_12-62_1681423193465.json', '142_91_12-62_1681403395621.json', '139_94_12-62_1681401708143.json', '221_13_12-62_1681457947210.json', '340_12_12-62_1681536525576.json', '128_121_12-62_1681395194447.json', '211_147_12-62_1681449632222.json', '339_71_12-62_1681533529252.json', '147_55_12-62_1681406172115.json', '332_99_12-62_1681529556072.json', '185_80_12-62_1681429865649.json', '216_57_12-62_1681452095275.json', '296_37_12-62_1681503215347.json', '163_123_12-62_1681418002097.json']\n"
     ]
    },
    {
     "name": "stderr",
     "output_type": "stream",
     "text": [
      "C:\\Users\\julien\\AppData\\Local\\Temp\\ipykernel_5284\\1387881205.py:65: FutureWarning: The frame.append method is deprecated and will be removed from pandas in a future version. Use pandas.concat instead.\n",
      "  df_write = df_write.append(_v, ignore_index=True)\n",
      "C:\\Users\\julien\\AppData\\Local\\Temp\\ipykernel_5284\\1387881205.py:65: FutureWarning: The frame.append method is deprecated and will be removed from pandas in a future version. Use pandas.concat instead.\n",
      "  df_write = df_write.append(_v, ignore_index=True)\n",
      "C:\\Users\\julien\\AppData\\Local\\Temp\\ipykernel_5284\\1387881205.py:65: FutureWarning: The frame.append method is deprecated and will be removed from pandas in a future version. Use pandas.concat instead.\n",
      "  df_write = df_write.append(_v, ignore_index=True)\n",
      "C:\\Users\\julien\\AppData\\Local\\Temp\\ipykernel_5284\\1387881205.py:65: FutureWarning: The frame.append method is deprecated and will be removed from pandas in a future version. Use pandas.concat instead.\n",
      "  df_write = df_write.append(_v, ignore_index=True)\n",
      "C:\\Users\\julien\\AppData\\Local\\Temp\\ipykernel_5284\\1387881205.py:80: FutureWarning: The frame.append method is deprecated and will be removed from pandas in a future version. Use pandas.concat instead.\n",
      "  df_write = df_write.append(_v, ignore_index=True)\n",
      "C:\\Users\\julien\\AppData\\Local\\Temp\\ipykernel_5284\\1387881205.py:80: FutureWarning: The frame.append method is deprecated and will be removed from pandas in a future version. Use pandas.concat instead.\n",
      "  df_write = df_write.append(_v, ignore_index=True)\n",
      "C:\\Users\\julien\\AppData\\Local\\Temp\\ipykernel_5284\\1387881205.py:80: FutureWarning: The frame.append method is deprecated and will be removed from pandas in a future version. Use pandas.concat instead.\n",
      "  df_write = df_write.append(_v, ignore_index=True)\n"
     ]
    },
    {
     "name": "stdout",
     "output_type": "stream",
     "text": [
      "['194_147_12-62_1681439320775.json', '296_122_12-62_1681503523331.json', '338_125_12-62_1681533144432.json', '165_105_12-62_1681419211543.json', '135_48_12-62_1681399107216.json', '291_24_12-62_1681500496470.json', '35_85_12-62_1681318597071.json', '154_96_12-62_1681411872526.json', '338_107_12-62_1681533069462.json', '197_70_12-62_1681440521939.json', '295_121_12-62_1681502999317.json', '342_33_12-62_1681537667179.json', '351_8_12-62_1681543605858.json', '36_139_12-62_1681319367612.json', '296_2_12-62_1681503098790.json', '350_120_12-62_1681543428675.json', '189_142_12-62_1681432698801.json', '154_147_12-62_1681412154453.json', '341_71_12-62_1681537277219.json', '227_55_12-62_1681461653630.json', '326_147_12-62_1681526523526.json', '332_28_12-62_1681529307517.json', '148_22_12-62_1681406611650.json', '218_46_12-62_1681453373440.json', '215_48_12-62_1681451456621.json']\n"
     ]
    },
    {
     "name": "stderr",
     "output_type": "stream",
     "text": [
      "C:\\Users\\julien\\AppData\\Local\\Temp\\ipykernel_5284\\1387881205.py:65: FutureWarning: The frame.append method is deprecated and will be removed from pandas in a future version. Use pandas.concat instead.\n",
      "  df_write = df_write.append(_v, ignore_index=True)\n",
      "C:\\Users\\julien\\AppData\\Local\\Temp\\ipykernel_5284\\1387881205.py:65: FutureWarning: The frame.append method is deprecated and will be removed from pandas in a future version. Use pandas.concat instead.\n",
      "  df_write = df_write.append(_v, ignore_index=True)\n",
      "C:\\Users\\julien\\AppData\\Local\\Temp\\ipykernel_5284\\1387881205.py:65: FutureWarning: The frame.append method is deprecated and will be removed from pandas in a future version. Use pandas.concat instead.\n",
      "  df_write = df_write.append(_v, ignore_index=True)\n",
      "C:\\Users\\julien\\AppData\\Local\\Temp\\ipykernel_5284\\1387881205.py:65: FutureWarning: The frame.append method is deprecated and will be removed from pandas in a future version. Use pandas.concat instead.\n",
      "  df_write = df_write.append(_v, ignore_index=True)\n",
      "C:\\Users\\julien\\AppData\\Local\\Temp\\ipykernel_5284\\1387881205.py:80: FutureWarning: The frame.append method is deprecated and will be removed from pandas in a future version. Use pandas.concat instead.\n",
      "  df_write = df_write.append(_v, ignore_index=True)\n",
      "C:\\Users\\julien\\AppData\\Local\\Temp\\ipykernel_5284\\1387881205.py:80: FutureWarning: The frame.append method is deprecated and will be removed from pandas in a future version. Use pandas.concat instead.\n",
      "  df_write = df_write.append(_v, ignore_index=True)\n",
      "C:\\Users\\julien\\AppData\\Local\\Temp\\ipykernel_5284\\1387881205.py:80: FutureWarning: The frame.append method is deprecated and will be removed from pandas in a future version. Use pandas.concat instead.\n",
      "  df_write = df_write.append(_v, ignore_index=True)\n"
     ]
    },
    {
     "name": "stdout",
     "output_type": "stream",
     "text": [
      "['204_142_12-62_1681445011101.json', '276_81_12-62_1681492921853.json', '295_61_12-62_1681502774277.json', '172_35_12-62_1681422752155.json', '291_147_12-62_1681501009607.json', '280_27_12-62_1681494763680.json', '184_42_12-62_1681429230071.json', '356_66_12-62_1681546775694.json', '274_6_12-62_1681491602659.json', '327_56_12-62_1681526732125.json', '231_76_12-62_1681464019566.json', '185_141_12-62_1681430079468.json', '219_40_12-62_1681456799248.json', '352_126_12-62_1681544737223.json', '301_137_12-62_1681506451009.json', '286_71_12-62_1681497817133.json', '285_14_12-62_1681497101571.json', '170_36_12-62_1681421638243.json', '284_145_12-62_1681497147465.json', '137_72_12-62_1681400379856.json', '175_16_12-62_1681424183140.json', '122_128_12-62_1681391511733.json', '219_118_12-62_1681457111865.json', '321_40_12-62_1681517657311.json', '215_93_12-62_1681451645681.json']\n"
     ]
    },
    {
     "name": "stderr",
     "output_type": "stream",
     "text": [
      "C:\\Users\\julien\\AppData\\Local\\Temp\\ipykernel_5284\\1387881205.py:65: FutureWarning: The frame.append method is deprecated and will be removed from pandas in a future version. Use pandas.concat instead.\n",
      "  df_write = df_write.append(_v, ignore_index=True)\n",
      "C:\\Users\\julien\\AppData\\Local\\Temp\\ipykernel_5284\\1387881205.py:65: FutureWarning: The frame.append method is deprecated and will be removed from pandas in a future version. Use pandas.concat instead.\n",
      "  df_write = df_write.append(_v, ignore_index=True)\n",
      "C:\\Users\\julien\\AppData\\Local\\Temp\\ipykernel_5284\\1387881205.py:65: FutureWarning: The frame.append method is deprecated and will be removed from pandas in a future version. Use pandas.concat instead.\n",
      "  df_write = df_write.append(_v, ignore_index=True)\n",
      "C:\\Users\\julien\\AppData\\Local\\Temp\\ipykernel_5284\\1387881205.py:65: FutureWarning: The frame.append method is deprecated and will be removed from pandas in a future version. Use pandas.concat instead.\n",
      "  df_write = df_write.append(_v, ignore_index=True)\n",
      "C:\\Users\\julien\\AppData\\Local\\Temp\\ipykernel_5284\\1387881205.py:80: FutureWarning: The frame.append method is deprecated and will be removed from pandas in a future version. Use pandas.concat instead.\n",
      "  df_write = df_write.append(_v, ignore_index=True)\n",
      "C:\\Users\\julien\\AppData\\Local\\Temp\\ipykernel_5284\\1387881205.py:80: FutureWarning: The frame.append method is deprecated and will be removed from pandas in a future version. Use pandas.concat instead.\n",
      "  df_write = df_write.append(_v, ignore_index=True)\n",
      "C:\\Users\\julien\\AppData\\Local\\Temp\\ipykernel_5284\\1387881205.py:80: FutureWarning: The frame.append method is deprecated and will be removed from pandas in a future version. Use pandas.concat instead.\n",
      "  df_write = df_write.append(_v, ignore_index=True)\n"
     ]
    },
    {
     "name": "stdout",
     "output_type": "stream",
     "text": [
      "['138_149_12-62_1681401335699.json', '206_133_12-62_1681446369670.json', '229_44_12-62_1681462664493.json', '298_22_12-62_1681504194354.json', '138_32_12-62_1681400868442.json', '31_80_12-62_1681316449694.json', '149_40_12-62_1681407266257.json', '322_66_12-62_1681524090518.json', '179_76_12-62_1681426612686.json', '132_114_12-62_1681397575576.json', '180_149_12-62_1681427474644.json', '155_0_12-62_1681412070779.json', '135_141_12-62_1681399478965.json', '284_147_12-62_1681497040165.json', '232_117_12-62_1681464619733.json', '327_91_12-62_1681526880040.json', '212_37_12-62_1681449564319.json', '295_81_12-62_1681502838634.json', '45_22_12-62_1681324090550.json', '299_5_12-62_1681504681394.json', '222_46_12-62_1681458657337.json', '319_24_12-62_1681516541115.json', '352_63_12-62_1681544467047.json', '161_147_12-62_1681417039050.json', '142_145_12-62_1681403568817.json']\n"
     ]
    },
    {
     "name": "stderr",
     "output_type": "stream",
     "text": [
      "C:\\Users\\julien\\AppData\\Local\\Temp\\ipykernel_5284\\1387881205.py:65: FutureWarning: The frame.append method is deprecated and will be removed from pandas in a future version. Use pandas.concat instead.\n",
      "  df_write = df_write.append(_v, ignore_index=True)\n",
      "C:\\Users\\julien\\AppData\\Local\\Temp\\ipykernel_5284\\1387881205.py:65: FutureWarning: The frame.append method is deprecated and will be removed from pandas in a future version. Use pandas.concat instead.\n",
      "  df_write = df_write.append(_v, ignore_index=True)\n",
      "C:\\Users\\julien\\AppData\\Local\\Temp\\ipykernel_5284\\1387881205.py:65: FutureWarning: The frame.append method is deprecated and will be removed from pandas in a future version. Use pandas.concat instead.\n",
      "  df_write = df_write.append(_v, ignore_index=True)\n",
      "C:\\Users\\julien\\AppData\\Local\\Temp\\ipykernel_5284\\1387881205.py:65: FutureWarning: The frame.append method is deprecated and will be removed from pandas in a future version. Use pandas.concat instead.\n",
      "  df_write = df_write.append(_v, ignore_index=True)\n",
      "C:\\Users\\julien\\AppData\\Local\\Temp\\ipykernel_5284\\1387881205.py:80: FutureWarning: The frame.append method is deprecated and will be removed from pandas in a future version. Use pandas.concat instead.\n",
      "  df_write = df_write.append(_v, ignore_index=True)\n",
      "C:\\Users\\julien\\AppData\\Local\\Temp\\ipykernel_5284\\1387881205.py:80: FutureWarning: The frame.append method is deprecated and will be removed from pandas in a future version. Use pandas.concat instead.\n",
      "  df_write = df_write.append(_v, ignore_index=True)\n",
      "C:\\Users\\julien\\AppData\\Local\\Temp\\ipykernel_5284\\1387881205.py:80: FutureWarning: The frame.append method is deprecated and will be removed from pandas in a future version. Use pandas.concat instead.\n",
      "  df_write = df_write.append(_v, ignore_index=True)\n"
     ]
    },
    {
     "name": "stdout",
     "output_type": "stream",
     "text": [
      "['142_75_12-62_1681403319784.json', '197_143_12-62_1681440833374.json', '278_112_12-62_1681494028426.json', '227_2_12-62_1681461479884.json', '208_71_12-62_1681447360560.json', '186_147_12-62_1681430976631.json', '296_74_12-62_1681503345301.json', '42_56_12-62_1681322582134.json', '198_31_12-62_1681440987223.json', '297_72_12-62_1681503874612.json', '346_9_12-62_1681540519010.json', '157_47_12-62_1681413233624.json', '179_61_12-62_1681426567237.json', '275_75_12-62_1681492403613.json', '180_22_12-62_1681426976491.json', '150_38_12-62_1681407857549.json', '312_38_12-62_1681512771456.json', '149_9_12-62_1681407153151.json', '308_102_12-62_1681510824932.json', '313_72_12-62_1681513505081.json', '280_142_12-62_1681495112678.json', '187_46_12-62_1681430903422.json', '307_34_12-62_1681510068266.json', '305_120_12-62_1681508850173.json', '182_77_12-62_1681428346901.json']\n"
     ]
    },
    {
     "name": "stderr",
     "output_type": "stream",
     "text": [
      "C:\\Users\\julien\\AppData\\Local\\Temp\\ipykernel_5284\\1387881205.py:65: FutureWarning: The frame.append method is deprecated and will be removed from pandas in a future version. Use pandas.concat instead.\n",
      "  df_write = df_write.append(_v, ignore_index=True)\n",
      "C:\\Users\\julien\\AppData\\Local\\Temp\\ipykernel_5284\\1387881205.py:65: FutureWarning: The frame.append method is deprecated and will be removed from pandas in a future version. Use pandas.concat instead.\n",
      "  df_write = df_write.append(_v, ignore_index=True)\n",
      "C:\\Users\\julien\\AppData\\Local\\Temp\\ipykernel_5284\\1387881205.py:65: FutureWarning: The frame.append method is deprecated and will be removed from pandas in a future version. Use pandas.concat instead.\n",
      "  df_write = df_write.append(_v, ignore_index=True)\n",
      "C:\\Users\\julien\\AppData\\Local\\Temp\\ipykernel_5284\\1387881205.py:65: FutureWarning: The frame.append method is deprecated and will be removed from pandas in a future version. Use pandas.concat instead.\n",
      "  df_write = df_write.append(_v, ignore_index=True)\n",
      "C:\\Users\\julien\\AppData\\Local\\Temp\\ipykernel_5284\\1387881205.py:80: FutureWarning: The frame.append method is deprecated and will be removed from pandas in a future version. Use pandas.concat instead.\n",
      "  df_write = df_write.append(_v, ignore_index=True)\n",
      "C:\\Users\\julien\\AppData\\Local\\Temp\\ipykernel_5284\\1387881205.py:80: FutureWarning: The frame.append method is deprecated and will be removed from pandas in a future version. Use pandas.concat instead.\n",
      "  df_write = df_write.append(_v, ignore_index=True)\n",
      "C:\\Users\\julien\\AppData\\Local\\Temp\\ipykernel_5284\\1387881205.py:80: FutureWarning: The frame.append method is deprecated and will be removed from pandas in a future version. Use pandas.concat instead.\n",
      "  df_write = df_write.append(_v, ignore_index=True)\n"
     ]
    },
    {
     "name": "stdout",
     "output_type": "stream",
     "text": [
      "['222_147_12-62_1681459396186.json', '339_101_12-62_1681533660444.json', '324_15_12-62_1681525029621.json', '281_58_12-62_1681495305813.json', '142_32_12-62_1681403183032.json', '204_148_12-62_1681445181769.json', '352_36_12-62_1681544348087.json', '354_72_12-62_1681545664648.json', '37_12_12-62_1681319458059.json', '293_84_12-62_1681501698744.json', '203_146_12-62_1681444343686.json', '285_48_12-62_1681497220722.json', '332_36_12-62_1681529340251.json', '358_85_12-62_1681547992492.json', '32_76_12-62_1681316951894.json', '31_83_12-62_1681316460384.json', '320_112_12-62_1681517377021.json', '328_78_12-62_1681527299019.json', '293_99_12-62_1681501766500.json', '180_31_12-62_1681427020711.json', '136_23_12-62_1681399584673.json', '148_79_12-62_1681406811250.json', '344_139_12-62_1681539265435.json', '226_138_12-62_1681461418896.json', '166_129_12-62_1681419853463.json']\n"
     ]
    },
    {
     "name": "stderr",
     "output_type": "stream",
     "text": [
      "C:\\Users\\julien\\AppData\\Local\\Temp\\ipykernel_5284\\1387881205.py:65: FutureWarning: The frame.append method is deprecated and will be removed from pandas in a future version. Use pandas.concat instead.\n",
      "  df_write = df_write.append(_v, ignore_index=True)\n",
      "C:\\Users\\julien\\AppData\\Local\\Temp\\ipykernel_5284\\1387881205.py:65: FutureWarning: The frame.append method is deprecated and will be removed from pandas in a future version. Use pandas.concat instead.\n",
      "  df_write = df_write.append(_v, ignore_index=True)\n",
      "C:\\Users\\julien\\AppData\\Local\\Temp\\ipykernel_5284\\1387881205.py:65: FutureWarning: The frame.append method is deprecated and will be removed from pandas in a future version. Use pandas.concat instead.\n",
      "  df_write = df_write.append(_v, ignore_index=True)\n",
      "C:\\Users\\julien\\AppData\\Local\\Temp\\ipykernel_5284\\1387881205.py:65: FutureWarning: The frame.append method is deprecated and will be removed from pandas in a future version. Use pandas.concat instead.\n",
      "  df_write = df_write.append(_v, ignore_index=True)\n",
      "C:\\Users\\julien\\AppData\\Local\\Temp\\ipykernel_5284\\1387881205.py:80: FutureWarning: The frame.append method is deprecated and will be removed from pandas in a future version. Use pandas.concat instead.\n",
      "  df_write = df_write.append(_v, ignore_index=True)\n",
      "C:\\Users\\julien\\AppData\\Local\\Temp\\ipykernel_5284\\1387881205.py:80: FutureWarning: The frame.append method is deprecated and will be removed from pandas in a future version. Use pandas.concat instead.\n",
      "  df_write = df_write.append(_v, ignore_index=True)\n",
      "C:\\Users\\julien\\AppData\\Local\\Temp\\ipykernel_5284\\1387881205.py:80: FutureWarning: The frame.append method is deprecated and will be removed from pandas in a future version. Use pandas.concat instead.\n",
      "  df_write = df_write.append(_v, ignore_index=True)\n"
     ]
    },
    {
     "name": "stdout",
     "output_type": "stream",
     "text": [
      "['300_94_12-62_1681505666502.json', '289_121_12-62_1681499756461.json', '218_21_12-62_1681453262111.json', '125_80_12-62_1681393382136.json', '201_107_12-62_1681443135376.json', '170_89_12-62_1681421786998.json', '230_148_12-62_1681463946210.json', '308_42_12-62_1681510622321.json', '296_64_12-62_1681503318187.json', '296_42_12-62_1681503229710.json', '180_32_12-62_1681427022186.json', '181_40_12-62_1681427635204.json', '313_83_12-62_1681513537468.json', '286_129_12-62_1681498075395.json', '168_35_12-62_1681420651572.json', '300_104_12-62_1681505690011.json', '328_90_12-62_1681527342451.json', '354_51_12-62_1681545599686.json', '182_39_12-62_1681428176905.json', '218_25_12-62_1681453281939.json', '302_25_12-62_1681506594329.json', '140_110_12-62_1681402336334.json', '325_115_12-62_1681525894719.json', '340_103_12-62_1681536824956.json', '45_14_12-62_1681324070125.json']\n"
     ]
    },
    {
     "name": "stderr",
     "output_type": "stream",
     "text": [
      "C:\\Users\\julien\\AppData\\Local\\Temp\\ipykernel_5284\\1387881205.py:65: FutureWarning: The frame.append method is deprecated and will be removed from pandas in a future version. Use pandas.concat instead.\n",
      "  df_write = df_write.append(_v, ignore_index=True)\n",
      "C:\\Users\\julien\\AppData\\Local\\Temp\\ipykernel_5284\\1387881205.py:65: FutureWarning: The frame.append method is deprecated and will be removed from pandas in a future version. Use pandas.concat instead.\n",
      "  df_write = df_write.append(_v, ignore_index=True)\n",
      "C:\\Users\\julien\\AppData\\Local\\Temp\\ipykernel_5284\\1387881205.py:65: FutureWarning: The frame.append method is deprecated and will be removed from pandas in a future version. Use pandas.concat instead.\n",
      "  df_write = df_write.append(_v, ignore_index=True)\n",
      "C:\\Users\\julien\\AppData\\Local\\Temp\\ipykernel_5284\\1387881205.py:65: FutureWarning: The frame.append method is deprecated and will be removed from pandas in a future version. Use pandas.concat instead.\n",
      "  df_write = df_write.append(_v, ignore_index=True)\n",
      "C:\\Users\\julien\\AppData\\Local\\Temp\\ipykernel_5284\\1387881205.py:80: FutureWarning: The frame.append method is deprecated and will be removed from pandas in a future version. Use pandas.concat instead.\n",
      "  df_write = df_write.append(_v, ignore_index=True)\n",
      "C:\\Users\\julien\\AppData\\Local\\Temp\\ipykernel_5284\\1387881205.py:80: FutureWarning: The frame.append method is deprecated and will be removed from pandas in a future version. Use pandas.concat instead.\n",
      "  df_write = df_write.append(_v, ignore_index=True)\n",
      "C:\\Users\\julien\\AppData\\Local\\Temp\\ipykernel_5284\\1387881205.py:80: FutureWarning: The frame.append method is deprecated and will be removed from pandas in a future version. Use pandas.concat instead.\n",
      "  df_write = df_write.append(_v, ignore_index=True)\n"
     ]
    },
    {
     "name": "stdout",
     "output_type": "stream",
     "text": [
      "['126_134_12-62_1681394180607.json', '204_93_12-62_1681444807507.json', '39_121_12-62_1681321052692.json', '167_74_12-62_1681420188566.json', '181_98_12-62_1681427831549.json', '231_43_12-62_1681463891482.json', '179_34_12-62_1681426476836.json', '211_9_12-62_1681448921027.json', '350_148_12-62_1681543892067.json', '137_86_12-62_1681400428800.json', '233_93_12-62_1681465039688.json', '188_130_12-62_1681432049373.json', '210_107_12-62_1681448710855.json', '351_104_12-62_1681543967922.json', '154_141_12-62_1681412020951.json', '189_147_12-62_1681433115952.json', '353_124_12-62_1681545316944.json', '338_81_12-62_1681532976250.json', '277_137_12-62_1681493612725.json', '184_47_12-62_1681429242400.json', '132_106_12-62_1681397537168.json', '309_105_12-62_1681511333887.json', '187_148_12-62_1681431522257.json', '191_144_12-62_1681437258956.json', '170_119_12-62_1681421914093.json']\n"
     ]
    },
    {
     "name": "stderr",
     "output_type": "stream",
     "text": [
      "C:\\Users\\julien\\AppData\\Local\\Temp\\ipykernel_5284\\1387881205.py:65: FutureWarning: The frame.append method is deprecated and will be removed from pandas in a future version. Use pandas.concat instead.\n",
      "  df_write = df_write.append(_v, ignore_index=True)\n",
      "C:\\Users\\julien\\AppData\\Local\\Temp\\ipykernel_5284\\1387881205.py:65: FutureWarning: The frame.append method is deprecated and will be removed from pandas in a future version. Use pandas.concat instead.\n",
      "  df_write = df_write.append(_v, ignore_index=True)\n",
      "C:\\Users\\julien\\AppData\\Local\\Temp\\ipykernel_5284\\1387881205.py:65: FutureWarning: The frame.append method is deprecated and will be removed from pandas in a future version. Use pandas.concat instead.\n",
      "  df_write = df_write.append(_v, ignore_index=True)\n",
      "C:\\Users\\julien\\AppData\\Local\\Temp\\ipykernel_5284\\1387881205.py:65: FutureWarning: The frame.append method is deprecated and will be removed from pandas in a future version. Use pandas.concat instead.\n",
      "  df_write = df_write.append(_v, ignore_index=True)\n",
      "C:\\Users\\julien\\AppData\\Local\\Temp\\ipykernel_5284\\1387881205.py:80: FutureWarning: The frame.append method is deprecated and will be removed from pandas in a future version. Use pandas.concat instead.\n",
      "  df_write = df_write.append(_v, ignore_index=True)\n",
      "C:\\Users\\julien\\AppData\\Local\\Temp\\ipykernel_5284\\1387881205.py:80: FutureWarning: The frame.append method is deprecated and will be removed from pandas in a future version. Use pandas.concat instead.\n",
      "  df_write = df_write.append(_v, ignore_index=True)\n",
      "C:\\Users\\julien\\AppData\\Local\\Temp\\ipykernel_5284\\1387881205.py:80: FutureWarning: The frame.append method is deprecated and will be removed from pandas in a future version. Use pandas.concat instead.\n",
      "  df_write = df_write.append(_v, ignore_index=True)\n"
     ]
    },
    {
     "name": "stdout",
     "output_type": "stream",
     "text": [
      "['329_86_12-62_1681527862651.json', '339_31_12-62_1681533360518.json', '195_75_12-62_1681439284585.json', '222_48_12-62_1681458665909.json', '150_5_12-62_1681407716693.json', '274_61_12-62_1681491830259.json', '135_13_12-62_1681398982217.json', '161_149_12-62_1681417239407.json', '182_19_12-62_1681428077420.json', '35_93_12-62_1681318639072.json', '322_37_12-62_1681523954343.json', '277_51_12-62_1681493323676.json', '205_48_12-62_1681445262238.json', '336_56_12-62_1681531601511.json', '154_24_12-62_1681411583825.json', '188_35_12-62_1681431452090.json', '182_57_12-62_1681428261737.json', '204_60_12-62_1681444609637.json', '301_66_12-62_1681506180614.json', '354_111_12-62_1681545801209.json', '334_92_12-62_1681530555532.json', '303_63_12-62_1681507337272.json', '191_114_12-62_1681437150115.json', '303_71_12-62_1681507362756.json', '149_146_12-62_1681407667323.json']\n"
     ]
    },
    {
     "name": "stderr",
     "output_type": "stream",
     "text": [
      "C:\\Users\\julien\\AppData\\Local\\Temp\\ipykernel_5284\\1387881205.py:65: FutureWarning: The frame.append method is deprecated and will be removed from pandas in a future version. Use pandas.concat instead.\n",
      "  df_write = df_write.append(_v, ignore_index=True)\n",
      "C:\\Users\\julien\\AppData\\Local\\Temp\\ipykernel_5284\\1387881205.py:65: FutureWarning: The frame.append method is deprecated and will be removed from pandas in a future version. Use pandas.concat instead.\n",
      "  df_write = df_write.append(_v, ignore_index=True)\n",
      "C:\\Users\\julien\\AppData\\Local\\Temp\\ipykernel_5284\\1387881205.py:65: FutureWarning: The frame.append method is deprecated and will be removed from pandas in a future version. Use pandas.concat instead.\n",
      "  df_write = df_write.append(_v, ignore_index=True)\n",
      "C:\\Users\\julien\\AppData\\Local\\Temp\\ipykernel_5284\\1387881205.py:65: FutureWarning: The frame.append method is deprecated and will be removed from pandas in a future version. Use pandas.concat instead.\n",
      "  df_write = df_write.append(_v, ignore_index=True)\n",
      "C:\\Users\\julien\\AppData\\Local\\Temp\\ipykernel_5284\\1387881205.py:80: FutureWarning: The frame.append method is deprecated and will be removed from pandas in a future version. Use pandas.concat instead.\n",
      "  df_write = df_write.append(_v, ignore_index=True)\n",
      "C:\\Users\\julien\\AppData\\Local\\Temp\\ipykernel_5284\\1387881205.py:80: FutureWarning: The frame.append method is deprecated and will be removed from pandas in a future version. Use pandas.concat instead.\n",
      "  df_write = df_write.append(_v, ignore_index=True)\n",
      "C:\\Users\\julien\\AppData\\Local\\Temp\\ipykernel_5284\\1387881205.py:80: FutureWarning: The frame.append method is deprecated and will be removed from pandas in a future version. Use pandas.concat instead.\n",
      "  df_write = df_write.append(_v, ignore_index=True)\n"
     ]
    },
    {
     "name": "stdout",
     "output_type": "stream",
     "text": [
      "['40_107_12-62_1681321580589.json', '350_149_12-62_1681543897677.json', '40_58_12-62_1681321382132.json', '310_66_12-62_1681511739655.json', '160_139_12-62_1681416354453.json', '313_145_12-62_1681513888132.json', '335_36_12-62_1681530996828.json', '43_130_12-62_1681323397442.json', '288_82_12-62_1681499059869.json', '180_108_12-62_1681427341583.json', '191_7_12-62_1681433363851.json', '315_71_12-62_1681514641668.json', '129_40_12-62_1681395443449.json', '232_134_12-62_1681464683934.json', '355_129_12-62_1681546460497.json', '122_78_12-62_1681391350414.json', '202_109_12-62_1681443725112.json', '179_69_12-62_1681426597493.json', '340_80_12-62_1681534113038.json', '291_148_12-62_1681501011974.json', '134_148_12-62_1681399044185.json', '206_62_12-62_1681446031375.json', '351_4_12-62_1681543587080.json', '167_12_12-62_1681419981469.json', '149_8_12-62_1681407149147.json']\n"
     ]
    },
    {
     "name": "stderr",
     "output_type": "stream",
     "text": [
      "C:\\Users\\julien\\AppData\\Local\\Temp\\ipykernel_5284\\1387881205.py:65: FutureWarning: The frame.append method is deprecated and will be removed from pandas in a future version. Use pandas.concat instead.\n",
      "  df_write = df_write.append(_v, ignore_index=True)\n",
      "C:\\Users\\julien\\AppData\\Local\\Temp\\ipykernel_5284\\1387881205.py:65: FutureWarning: The frame.append method is deprecated and will be removed from pandas in a future version. Use pandas.concat instead.\n",
      "  df_write = df_write.append(_v, ignore_index=True)\n",
      "C:\\Users\\julien\\AppData\\Local\\Temp\\ipykernel_5284\\1387881205.py:65: FutureWarning: The frame.append method is deprecated and will be removed from pandas in a future version. Use pandas.concat instead.\n",
      "  df_write = df_write.append(_v, ignore_index=True)\n",
      "C:\\Users\\julien\\AppData\\Local\\Temp\\ipykernel_5284\\1387881205.py:65: FutureWarning: The frame.append method is deprecated and will be removed from pandas in a future version. Use pandas.concat instead.\n",
      "  df_write = df_write.append(_v, ignore_index=True)\n",
      "C:\\Users\\julien\\AppData\\Local\\Temp\\ipykernel_5284\\1387881205.py:80: FutureWarning: The frame.append method is deprecated and will be removed from pandas in a future version. Use pandas.concat instead.\n",
      "  df_write = df_write.append(_v, ignore_index=True)\n",
      "C:\\Users\\julien\\AppData\\Local\\Temp\\ipykernel_5284\\1387881205.py:80: FutureWarning: The frame.append method is deprecated and will be removed from pandas in a future version. Use pandas.concat instead.\n",
      "  df_write = df_write.append(_v, ignore_index=True)\n",
      "C:\\Users\\julien\\AppData\\Local\\Temp\\ipykernel_5284\\1387881205.py:80: FutureWarning: The frame.append method is deprecated and will be removed from pandas in a future version. Use pandas.concat instead.\n",
      "  df_write = df_write.append(_v, ignore_index=True)\n"
     ]
    },
    {
     "name": "stdout",
     "output_type": "stream",
     "text": [
      "['203_50_12-62_1681444016246.json', '192_46_12-62_1681437441376.json', '222_89_12-62_1681458802223.json', '304_134_12-62_1681508340018.json', '176_38_12-62_1681424846096.json', '284_83_12-62_1681496832639.json', '155_41_12-62_1681412190081.json', '334_85_12-62_1681530513962.json', '169_12_12-62_1681421079932.json', '155_117_12-62_1681412400563.json', '176_148_12-62_1681425202774.json', '149_60_12-62_1681407347715.json', '179_1_12-62_1681426356848.json', '296_19_12-62_1681503146777.json', '325_132_12-62_1681525964694.json', '281_129_12-62_1681495522077.json', '337_20_12-62_1681532026338.json', '351_31_12-62_1681543698796.json', '273_10_12-62_1681491098822.json', '222_66_12-62_1681458733251.json', '183_44_12-62_1681428762576.json', '163_125_12-62_1681418009151.json', '155_67_12-62_1681412261323.json', '186_9_12-62_1681430168617.json', '296_27_12-62_1681503168307.json']\n"
     ]
    },
    {
     "name": "stderr",
     "output_type": "stream",
     "text": [
      "C:\\Users\\julien\\AppData\\Local\\Temp\\ipykernel_5284\\1387881205.py:65: FutureWarning: The frame.append method is deprecated and will be removed from pandas in a future version. Use pandas.concat instead.\n",
      "  df_write = df_write.append(_v, ignore_index=True)\n",
      "C:\\Users\\julien\\AppData\\Local\\Temp\\ipykernel_5284\\1387881205.py:65: FutureWarning: The frame.append method is deprecated and will be removed from pandas in a future version. Use pandas.concat instead.\n",
      "  df_write = df_write.append(_v, ignore_index=True)\n",
      "C:\\Users\\julien\\AppData\\Local\\Temp\\ipykernel_5284\\1387881205.py:65: FutureWarning: The frame.append method is deprecated and will be removed from pandas in a future version. Use pandas.concat instead.\n",
      "  df_write = df_write.append(_v, ignore_index=True)\n",
      "C:\\Users\\julien\\AppData\\Local\\Temp\\ipykernel_5284\\1387881205.py:65: FutureWarning: The frame.append method is deprecated and will be removed from pandas in a future version. Use pandas.concat instead.\n",
      "  df_write = df_write.append(_v, ignore_index=True)\n",
      "C:\\Users\\julien\\AppData\\Local\\Temp\\ipykernel_5284\\1387881205.py:80: FutureWarning: The frame.append method is deprecated and will be removed from pandas in a future version. Use pandas.concat instead.\n",
      "  df_write = df_write.append(_v, ignore_index=True)\n",
      "C:\\Users\\julien\\AppData\\Local\\Temp\\ipykernel_5284\\1387881205.py:80: FutureWarning: The frame.append method is deprecated and will be removed from pandas in a future version. Use pandas.concat instead.\n",
      "  df_write = df_write.append(_v, ignore_index=True)\n",
      "C:\\Users\\julien\\AppData\\Local\\Temp\\ipykernel_5284\\1387881205.py:80: FutureWarning: The frame.append method is deprecated and will be removed from pandas in a future version. Use pandas.concat instead.\n",
      "  df_write = df_write.append(_v, ignore_index=True)\n"
     ]
    },
    {
     "name": "stdout",
     "output_type": "stream",
     "text": [
      "['334_43_12-62_1681530367148.json', '314_135_12-62_1681514297946.json', '185_30_12-62_1681429678550.json', '201_62_12-62_1681442972702.json', '286_65_12-62_1681497798996.json', '180_91_12-62_1681427281534.json', '130_65_12-62_1681396137547.json', '210_72_12-62_1681448578892.json', '36_83_12-62_1681319143874.json', '319_8_12-62_1681516489098.json', '298_59_12-62_1681504307769.json', '188_44_12-62_1681431474169.json', '290_121_12-62_1681500343077.json', '151_85_12-62_1681408619382.json', '338_40_12-62_1681532828111.json', '36_42_12-62_1681318995208.json', '128_112_12-62_1681395153775.json', '296_86_12-62_1681503371944.json', '127_146_12-62_1681394721261.json', '38_137_12-62_1681320580334.json', '309_69_12-62_1681511218902.json', '130_26_12-62_1681395946338.json', '285_120_12-62_1681497471124.json', '37_104_12-62_1681319821531.json', '353_14_12-62_1681544927218.json']\n"
     ]
    },
    {
     "name": "stderr",
     "output_type": "stream",
     "text": [
      "C:\\Users\\julien\\AppData\\Local\\Temp\\ipykernel_5284\\1387881205.py:65: FutureWarning: The frame.append method is deprecated and will be removed from pandas in a future version. Use pandas.concat instead.\n",
      "  df_write = df_write.append(_v, ignore_index=True)\n",
      "C:\\Users\\julien\\AppData\\Local\\Temp\\ipykernel_5284\\1387881205.py:65: FutureWarning: The frame.append method is deprecated and will be removed from pandas in a future version. Use pandas.concat instead.\n",
      "  df_write = df_write.append(_v, ignore_index=True)\n",
      "C:\\Users\\julien\\AppData\\Local\\Temp\\ipykernel_5284\\1387881205.py:65: FutureWarning: The frame.append method is deprecated and will be removed from pandas in a future version. Use pandas.concat instead.\n",
      "  df_write = df_write.append(_v, ignore_index=True)\n",
      "C:\\Users\\julien\\AppData\\Local\\Temp\\ipykernel_5284\\1387881205.py:65: FutureWarning: The frame.append method is deprecated and will be removed from pandas in a future version. Use pandas.concat instead.\n",
      "  df_write = df_write.append(_v, ignore_index=True)\n",
      "C:\\Users\\julien\\AppData\\Local\\Temp\\ipykernel_5284\\1387881205.py:80: FutureWarning: The frame.append method is deprecated and will be removed from pandas in a future version. Use pandas.concat instead.\n",
      "  df_write = df_write.append(_v, ignore_index=True)\n",
      "C:\\Users\\julien\\AppData\\Local\\Temp\\ipykernel_5284\\1387881205.py:80: FutureWarning: The frame.append method is deprecated and will be removed from pandas in a future version. Use pandas.concat instead.\n",
      "  df_write = df_write.append(_v, ignore_index=True)\n",
      "C:\\Users\\julien\\AppData\\Local\\Temp\\ipykernel_5284\\1387881205.py:80: FutureWarning: The frame.append method is deprecated and will be removed from pandas in a future version. Use pandas.concat instead.\n",
      "  df_write = df_write.append(_v, ignore_index=True)\n"
     ]
    },
    {
     "name": "stdout",
     "output_type": "stream",
     "text": [
      "['352_66_12-62_1681544478670.json', '198_101_12-62_1681441245902.json', '283_9_12-62_1681496107803.json', '292_126_12-62_1681501335879.json', '133_124_12-62_1681398248038.json', '289_3_12-62_1681499327783.json', '225_147_12-62_1681461258667.json', '181_47_12-62_1681427651600.json', '303_11_12-62_1681507133128.json', '332_40_12-62_1681529354624.json', '32_77_12-62_1681316954733.json', '342_2_12-62_1681537552064.json', '140_85_12-62_1681402243594.json', '334_81_12-62_1681530505571.json', '208_25_12-62_1681447109409.json', '173_146_12-62_1681423598839.json', '326_58_12-62_1681526229080.json', '35_36_12-62_1681318438133.json', '199_146_12-62_1681442037714.json', '148_68_12-62_1681406792961.json', '194_34_12-62_1681438498498.json', '34_119_12-62_1681318171068.json', '127_15_12-62_1681394304309.json', '129_54_12-62_1681395491355.json', '305_24_12-62_1681508490745.json']\n"
     ]
    },
    {
     "name": "stderr",
     "output_type": "stream",
     "text": [
      "C:\\Users\\julien\\AppData\\Local\\Temp\\ipykernel_5284\\1387881205.py:65: FutureWarning: The frame.append method is deprecated and will be removed from pandas in a future version. Use pandas.concat instead.\n",
      "  df_write = df_write.append(_v, ignore_index=True)\n",
      "C:\\Users\\julien\\AppData\\Local\\Temp\\ipykernel_5284\\1387881205.py:65: FutureWarning: The frame.append method is deprecated and will be removed from pandas in a future version. Use pandas.concat instead.\n",
      "  df_write = df_write.append(_v, ignore_index=True)\n",
      "C:\\Users\\julien\\AppData\\Local\\Temp\\ipykernel_5284\\1387881205.py:65: FutureWarning: The frame.append method is deprecated and will be removed from pandas in a future version. Use pandas.concat instead.\n",
      "  df_write = df_write.append(_v, ignore_index=True)\n",
      "C:\\Users\\julien\\AppData\\Local\\Temp\\ipykernel_5284\\1387881205.py:65: FutureWarning: The frame.append method is deprecated and will be removed from pandas in a future version. Use pandas.concat instead.\n",
      "  df_write = df_write.append(_v, ignore_index=True)\n",
      "C:\\Users\\julien\\AppData\\Local\\Temp\\ipykernel_5284\\1387881205.py:80: FutureWarning: The frame.append method is deprecated and will be removed from pandas in a future version. Use pandas.concat instead.\n",
      "  df_write = df_write.append(_v, ignore_index=True)\n",
      "C:\\Users\\julien\\AppData\\Local\\Temp\\ipykernel_5284\\1387881205.py:80: FutureWarning: The frame.append method is deprecated and will be removed from pandas in a future version. Use pandas.concat instead.\n",
      "  df_write = df_write.append(_v, ignore_index=True)\n",
      "C:\\Users\\julien\\AppData\\Local\\Temp\\ipykernel_5284\\1387881205.py:80: FutureWarning: The frame.append method is deprecated and will be removed from pandas in a future version. Use pandas.concat instead.\n",
      "  df_write = df_write.append(_v, ignore_index=True)\n"
     ]
    },
    {
     "name": "stdout",
     "output_type": "stream",
     "text": [
      "['206_149_12-62_1681446543107.json', '40_130_12-62_1681321662902.json', '219_16_12-62_1681453866550.json', '127_125_12-62_1681394668380.json', '311_86_12-62_1681512327909.json', '207_143_12-62_1681446974432.json', '319_32_12-62_1681516578280.json', '129_104_12-62_1681395682149.json', '356_47_12-62_1681546703578.json', '214_149_12-62_1681451501955.json', '290_89_12-62_1681500198444.json', '132_48_12-62_1681397290336.json', '211_96_12-62_1681449229961.json', '335_21_12-62_1681530923040.json', '222_53_12-62_1681458676492.json', '313_149_12-62_1681513990072.json', '272_34_12-62_1681490632335.json', '208_44_12-62_1681447223338.json', '43_100_12-62_1681323301044.json', '35_95_12-62_1681318643751.json', '213_41_12-62_1681450215303.json', '348_70_12-62_1681542026173.json', '221_116_12-62_1681458360396.json', '292_65_12-62_1681501137681.json', '301_121_12-62_1681506402136.json']\n"
     ]
    },
    {
     "name": "stderr",
     "output_type": "stream",
     "text": [
      "C:\\Users\\julien\\AppData\\Local\\Temp\\ipykernel_5284\\1387881205.py:65: FutureWarning: The frame.append method is deprecated and will be removed from pandas in a future version. Use pandas.concat instead.\n",
      "  df_write = df_write.append(_v, ignore_index=True)\n",
      "C:\\Users\\julien\\AppData\\Local\\Temp\\ipykernel_5284\\1387881205.py:65: FutureWarning: The frame.append method is deprecated and will be removed from pandas in a future version. Use pandas.concat instead.\n",
      "  df_write = df_write.append(_v, ignore_index=True)\n",
      "C:\\Users\\julien\\AppData\\Local\\Temp\\ipykernel_5284\\1387881205.py:65: FutureWarning: The frame.append method is deprecated and will be removed from pandas in a future version. Use pandas.concat instead.\n",
      "  df_write = df_write.append(_v, ignore_index=True)\n",
      "C:\\Users\\julien\\AppData\\Local\\Temp\\ipykernel_5284\\1387881205.py:65: FutureWarning: The frame.append method is deprecated and will be removed from pandas in a future version. Use pandas.concat instead.\n",
      "  df_write = df_write.append(_v, ignore_index=True)\n",
      "C:\\Users\\julien\\AppData\\Local\\Temp\\ipykernel_5284\\1387881205.py:80: FutureWarning: The frame.append method is deprecated and will be removed from pandas in a future version. Use pandas.concat instead.\n",
      "  df_write = df_write.append(_v, ignore_index=True)\n",
      "C:\\Users\\julien\\AppData\\Local\\Temp\\ipykernel_5284\\1387881205.py:80: FutureWarning: The frame.append method is deprecated and will be removed from pandas in a future version. Use pandas.concat instead.\n",
      "  df_write = df_write.append(_v, ignore_index=True)\n",
      "C:\\Users\\julien\\AppData\\Local\\Temp\\ipykernel_5284\\1387881205.py:80: FutureWarning: The frame.append method is deprecated and will be removed from pandas in a future version. Use pandas.concat instead.\n",
      "  df_write = df_write.append(_v, ignore_index=True)\n"
     ]
    },
    {
     "name": "stdout",
     "output_type": "stream",
     "text": [
      "['149_145_12-62_1681407791837.json', '317_112_12-62_1681515778263.json', '351_129_12-62_1681544087461.json', '293_50_12-62_1681501581444.json', '130_89_12-62_1681396216887.json', '207_108_12-62_1681446842155.json', '337_97_12-62_1681532396609.json', '162_27_12-62_1681417021169.json', '139_148_12-62_1681402009458.json', '282_12_12-62_1681495624429.json', '288_109_12-62_1681499158081.json', '207_20_12-62_1681446507473.json', '332_85_12-62_1681529509084.json', '132_44_12-62_1681397272169.json', '155_37_12-62_1681412186704.json', '273_91_12-62_1681491384242.json', '342_105_12-62_1681537923854.json', '39_91_12-62_1681320957912.json', '42_25_12-62_1681322455025.json', '304_61_12-62_1681508006202.json', '354_3_12-62_1681545414850.json', '325_109_12-62_1681525879131.json', '224_126_12-62_1681460078126.json', '166_88_12-62_1681419694146.json', '319_67_12-62_1681516701117.json']\n"
     ]
    },
    {
     "name": "stderr",
     "output_type": "stream",
     "text": [
      "C:\\Users\\julien\\AppData\\Local\\Temp\\ipykernel_5284\\1387881205.py:65: FutureWarning: The frame.append method is deprecated and will be removed from pandas in a future version. Use pandas.concat instead.\n",
      "  df_write = df_write.append(_v, ignore_index=True)\n",
      "C:\\Users\\julien\\AppData\\Local\\Temp\\ipykernel_5284\\1387881205.py:65: FutureWarning: The frame.append method is deprecated and will be removed from pandas in a future version. Use pandas.concat instead.\n",
      "  df_write = df_write.append(_v, ignore_index=True)\n",
      "C:\\Users\\julien\\AppData\\Local\\Temp\\ipykernel_5284\\1387881205.py:65: FutureWarning: The frame.append method is deprecated and will be removed from pandas in a future version. Use pandas.concat instead.\n",
      "  df_write = df_write.append(_v, ignore_index=True)\n",
      "C:\\Users\\julien\\AppData\\Local\\Temp\\ipykernel_5284\\1387881205.py:65: FutureWarning: The frame.append method is deprecated and will be removed from pandas in a future version. Use pandas.concat instead.\n",
      "  df_write = df_write.append(_v, ignore_index=True)\n",
      "C:\\Users\\julien\\AppData\\Local\\Temp\\ipykernel_5284\\1387881205.py:80: FutureWarning: The frame.append method is deprecated and will be removed from pandas in a future version. Use pandas.concat instead.\n",
      "  df_write = df_write.append(_v, ignore_index=True)\n",
      "C:\\Users\\julien\\AppData\\Local\\Temp\\ipykernel_5284\\1387881205.py:80: FutureWarning: The frame.append method is deprecated and will be removed from pandas in a future version. Use pandas.concat instead.\n",
      "  df_write = df_write.append(_v, ignore_index=True)\n",
      "C:\\Users\\julien\\AppData\\Local\\Temp\\ipykernel_5284\\1387881205.py:80: FutureWarning: The frame.append method is deprecated and will be removed from pandas in a future version. Use pandas.concat instead.\n",
      "  df_write = df_write.append(_v, ignore_index=True)\n"
     ]
    },
    {
     "name": "stdout",
     "output_type": "stream",
     "text": [
      "['337_120_12-62_1681532528092.json', '162_94_12-62_1681417256754.json', '137_94_12-62_1681400477992.json', '346_68_12-62_1681540773249.json', '353_60_12-62_1681545093071.json', '352_17_12-62_1681544265934.json', '130_1_12-62_1681395853636.json', '303_62_12-62_1681507333537.json', '212_59_12-62_1681449630587.json', '34_50_12-62_1681317898050.json', '139_72_12-62_1681401615352.json', '191_6_12-62_1681436706090.json', '182_26_12-62_1681428100726.json', '180_74_12-62_1681427208290.json', '214_92_12-62_1681451017111.json', '225_40_12-62_1681460379125.json', '217_91_12-62_1681452943505.json', '334_90_12-62_1681530548870.json', '33_127_12-62_1681317599426.json', '311_82_12-62_1681512312789.json', '189_51_12-62_1681432357179.json', '144_25_12-62_1681404307542.json', '293_75_12-62_1681501673518.json', '31_66_12-62_1681316404415.json', '150_114_12-62_1681408161457.json']\n"
     ]
    },
    {
     "name": "stderr",
     "output_type": "stream",
     "text": [
      "C:\\Users\\julien\\AppData\\Local\\Temp\\ipykernel_5284\\1387881205.py:65: FutureWarning: The frame.append method is deprecated and will be removed from pandas in a future version. Use pandas.concat instead.\n",
      "  df_write = df_write.append(_v, ignore_index=True)\n",
      "C:\\Users\\julien\\AppData\\Local\\Temp\\ipykernel_5284\\1387881205.py:65: FutureWarning: The frame.append method is deprecated and will be removed from pandas in a future version. Use pandas.concat instead.\n",
      "  df_write = df_write.append(_v, ignore_index=True)\n",
      "C:\\Users\\julien\\AppData\\Local\\Temp\\ipykernel_5284\\1387881205.py:65: FutureWarning: The frame.append method is deprecated and will be removed from pandas in a future version. Use pandas.concat instead.\n",
      "  df_write = df_write.append(_v, ignore_index=True)\n",
      "C:\\Users\\julien\\AppData\\Local\\Temp\\ipykernel_5284\\1387881205.py:65: FutureWarning: The frame.append method is deprecated and will be removed from pandas in a future version. Use pandas.concat instead.\n",
      "  df_write = df_write.append(_v, ignore_index=True)\n",
      "C:\\Users\\julien\\AppData\\Local\\Temp\\ipykernel_5284\\1387881205.py:80: FutureWarning: The frame.append method is deprecated and will be removed from pandas in a future version. Use pandas.concat instead.\n",
      "  df_write = df_write.append(_v, ignore_index=True)\n",
      "C:\\Users\\julien\\AppData\\Local\\Temp\\ipykernel_5284\\1387881205.py:80: FutureWarning: The frame.append method is deprecated and will be removed from pandas in a future version. Use pandas.concat instead.\n",
      "  df_write = df_write.append(_v, ignore_index=True)\n",
      "C:\\Users\\julien\\AppData\\Local\\Temp\\ipykernel_5284\\1387881205.py:80: FutureWarning: The frame.append method is deprecated and will be removed from pandas in a future version. Use pandas.concat instead.\n",
      "  df_write = df_write.append(_v, ignore_index=True)\n"
     ]
    },
    {
     "name": "stdout",
     "output_type": "stream",
     "text": [
      "['191_142_12-62_1681437256098.json', '157_2_12-62_1681413074547.json', '37_89_12-62_1681319754484.json', '180_29_12-62_1681426995738.json', '32_143_12-62_1681317129905.json', '353_132_12-62_1681545340552.json', '199_58_12-62_1681441655593.json', '181_11_12-62_1681427530861.json', '317_149_12-62_1681516148590.json', '355_40_12-62_1681546119386.json', '123_64_12-62_1681391781744.json', '176_97_12-62_1681425044127.json', '193_94_12-62_1681438167691.json', '322_116_12-62_1681524270239.json', '312_82_12-62_1681512975187.json', '174_141_12-62_1681424097796.json', '284_11_12-62_1681496624829.json', '296_130_12-62_1681503543386.json', '321_121_12-62_1681517935254.json', '330_148_12-62_1681528878398.json', '148_48_12-62_1681406707804.json', '277_34_12-62_1681493262672.json', '145_61_12-62_1681405031787.json', '123_2_12-62_1681391601456.json', '217_29_12-62_1681452654970.json']\n"
     ]
    },
    {
     "name": "stderr",
     "output_type": "stream",
     "text": [
      "C:\\Users\\julien\\AppData\\Local\\Temp\\ipykernel_5284\\1387881205.py:65: FutureWarning: The frame.append method is deprecated and will be removed from pandas in a future version. Use pandas.concat instead.\n",
      "  df_write = df_write.append(_v, ignore_index=True)\n",
      "C:\\Users\\julien\\AppData\\Local\\Temp\\ipykernel_5284\\1387881205.py:65: FutureWarning: The frame.append method is deprecated and will be removed from pandas in a future version. Use pandas.concat instead.\n",
      "  df_write = df_write.append(_v, ignore_index=True)\n",
      "C:\\Users\\julien\\AppData\\Local\\Temp\\ipykernel_5284\\1387881205.py:65: FutureWarning: The frame.append method is deprecated and will be removed from pandas in a future version. Use pandas.concat instead.\n",
      "  df_write = df_write.append(_v, ignore_index=True)\n",
      "C:\\Users\\julien\\AppData\\Local\\Temp\\ipykernel_5284\\1387881205.py:65: FutureWarning: The frame.append method is deprecated and will be removed from pandas in a future version. Use pandas.concat instead.\n",
      "  df_write = df_write.append(_v, ignore_index=True)\n",
      "C:\\Users\\julien\\AppData\\Local\\Temp\\ipykernel_5284\\1387881205.py:80: FutureWarning: The frame.append method is deprecated and will be removed from pandas in a future version. Use pandas.concat instead.\n",
      "  df_write = df_write.append(_v, ignore_index=True)\n",
      "C:\\Users\\julien\\AppData\\Local\\Temp\\ipykernel_5284\\1387881205.py:80: FutureWarning: The frame.append method is deprecated and will be removed from pandas in a future version. Use pandas.concat instead.\n",
      "  df_write = df_write.append(_v, ignore_index=True)\n",
      "C:\\Users\\julien\\AppData\\Local\\Temp\\ipykernel_5284\\1387881205.py:80: FutureWarning: The frame.append method is deprecated and will be removed from pandas in a future version. Use pandas.concat instead.\n",
      "  df_write = df_write.append(_v, ignore_index=True)\n"
     ]
    },
    {
     "name": "stdout",
     "output_type": "stream",
     "text": [
      "['182_113_12-62_1681428487817.json', '354_33_12-62_1681545536069.json', '144_87_12-62_1681404573377.json', '144_102_12-62_1681404627783.json', '38_117_12-62_1681320497012.json', '284_32_12-62_1681496697213.json', '293_80_12-62_1681501683414.json', '281_104_12-62_1681495448415.json', '216_75_12-62_1681452183670.json', '43_56_12-62_1681323143399.json', '129_109_12-62_1681395700806.json', '134_74_12-62_1681398626062.json', '342_148_12-62_1681538079847.json', '319_54_12-62_1681516640405.json', '310_14_12-62_1681511530441.json', '348_63_12-62_1681542002316.json', '200_74_12-62_1681442438901.json', '278_17_12-62_1681493704095.json', '277_136_12-62_1681493609550.json', '193_99_12-62_1681438182037.json', '233_113_12-62_1681489831551.json', '133_90_12-62_1681398117659.json', '285_106_12-62_1681497418010.json', '43_65_12-62_1681323187830.json', '340_74_12-62_1681534096359.json']\n"
     ]
    },
    {
     "name": "stderr",
     "output_type": "stream",
     "text": [
      "C:\\Users\\julien\\AppData\\Local\\Temp\\ipykernel_5284\\1387881205.py:65: FutureWarning: The frame.append method is deprecated and will be removed from pandas in a future version. Use pandas.concat instead.\n",
      "  df_write = df_write.append(_v, ignore_index=True)\n",
      "C:\\Users\\julien\\AppData\\Local\\Temp\\ipykernel_5284\\1387881205.py:65: FutureWarning: The frame.append method is deprecated and will be removed from pandas in a future version. Use pandas.concat instead.\n",
      "  df_write = df_write.append(_v, ignore_index=True)\n",
      "C:\\Users\\julien\\AppData\\Local\\Temp\\ipykernel_5284\\1387881205.py:65: FutureWarning: The frame.append method is deprecated and will be removed from pandas in a future version. Use pandas.concat instead.\n",
      "  df_write = df_write.append(_v, ignore_index=True)\n",
      "C:\\Users\\julien\\AppData\\Local\\Temp\\ipykernel_5284\\1387881205.py:65: FutureWarning: The frame.append method is deprecated and will be removed from pandas in a future version. Use pandas.concat instead.\n",
      "  df_write = df_write.append(_v, ignore_index=True)\n",
      "C:\\Users\\julien\\AppData\\Local\\Temp\\ipykernel_5284\\1387881205.py:80: FutureWarning: The frame.append method is deprecated and will be removed from pandas in a future version. Use pandas.concat instead.\n",
      "  df_write = df_write.append(_v, ignore_index=True)\n",
      "C:\\Users\\julien\\AppData\\Local\\Temp\\ipykernel_5284\\1387881205.py:80: FutureWarning: The frame.append method is deprecated and will be removed from pandas in a future version. Use pandas.concat instead.\n",
      "  df_write = df_write.append(_v, ignore_index=True)\n",
      "C:\\Users\\julien\\AppData\\Local\\Temp\\ipykernel_5284\\1387881205.py:80: FutureWarning: The frame.append method is deprecated and will be removed from pandas in a future version. Use pandas.concat instead.\n",
      "  df_write = df_write.append(_v, ignore_index=True)\n"
     ]
    },
    {
     "name": "stdout",
     "output_type": "stream",
     "text": [
      "['338_7_12-62_1681532677897.json', '138_84_12-62_1681401053779.json', '276_69_12-62_1681492888715.json', '231_31_12-62_1681463860413.json', '157_106_12-62_1681413433584.json', '166_22_12-62_1681419475105.json', '208_81_12-62_1681447398124.json', '354_149_12-62_1681545962719.json', '142_51_12-62_1681403232737.json', '275_117_12-62_1681492542516.json', '136_32_12-62_1681399641617.json', '351_109_12-62_1681543981263.json', '213_149_12-62_1681450994866.json', '316_124_12-62_1681515330336.json', '334_23_12-62_1681530291057.json', '229_146_12-62_1681463272466.json', '177_32_12-62_1681425333652.json', '328_145_12-62_1681527646919.json', '144_34_12-62_1681404349535.json', '139_132_12-62_1681401836086.json', '149_0_12-62_1681407118102.json', '345_147_12-62_1681540833205.json', '219_17_12-62_1681456706235.json', '351_137_12-62_1681544117316.json', '339_148_12-62_1681533943321.json']\n"
     ]
    },
    {
     "name": "stderr",
     "output_type": "stream",
     "text": [
      "C:\\Users\\julien\\AppData\\Local\\Temp\\ipykernel_5284\\1387881205.py:65: FutureWarning: The frame.append method is deprecated and will be removed from pandas in a future version. Use pandas.concat instead.\n",
      "  df_write = df_write.append(_v, ignore_index=True)\n",
      "C:\\Users\\julien\\AppData\\Local\\Temp\\ipykernel_5284\\1387881205.py:65: FutureWarning: The frame.append method is deprecated and will be removed from pandas in a future version. Use pandas.concat instead.\n",
      "  df_write = df_write.append(_v, ignore_index=True)\n",
      "C:\\Users\\julien\\AppData\\Local\\Temp\\ipykernel_5284\\1387881205.py:65: FutureWarning: The frame.append method is deprecated and will be removed from pandas in a future version. Use pandas.concat instead.\n",
      "  df_write = df_write.append(_v, ignore_index=True)\n",
      "C:\\Users\\julien\\AppData\\Local\\Temp\\ipykernel_5284\\1387881205.py:65: FutureWarning: The frame.append method is deprecated and will be removed from pandas in a future version. Use pandas.concat instead.\n",
      "  df_write = df_write.append(_v, ignore_index=True)\n",
      "C:\\Users\\julien\\AppData\\Local\\Temp\\ipykernel_5284\\1387881205.py:80: FutureWarning: The frame.append method is deprecated and will be removed from pandas in a future version. Use pandas.concat instead.\n",
      "  df_write = df_write.append(_v, ignore_index=True)\n",
      "C:\\Users\\julien\\AppData\\Local\\Temp\\ipykernel_5284\\1387881205.py:80: FutureWarning: The frame.append method is deprecated and will be removed from pandas in a future version. Use pandas.concat instead.\n",
      "  df_write = df_write.append(_v, ignore_index=True)\n",
      "C:\\Users\\julien\\AppData\\Local\\Temp\\ipykernel_5284\\1387881205.py:80: FutureWarning: The frame.append method is deprecated and will be removed from pandas in a future version. Use pandas.concat instead.\n",
      "  df_write = df_write.append(_v, ignore_index=True)\n"
     ]
    },
    {
     "name": "stdout",
     "output_type": "stream",
     "text": [
      "['297_65_12-62_1681503854548.json', '210_148_12-62_1681449103158.json', '37_61_12-62_1681319664936.json', '165_95_12-62_1681419185013.json', '130_113_12-62_1681396326003.json', '273_148_12-62_1681491556554.json', '297_141_12-62_1681504095233.json', '171_25_12-62_1681422088760.json', '280_54_12-62_1681494839935.json', '214_45_12-62_1681450794745.json', '136_58_12-62_1681399756306.json', '318_57_12-62_1681516131284.json', '219_137_12-62_1681457193711.json', '31_115_12-62_1681316572765.json', '31_54_12-62_1681316345580.json', '168_142_12-62_1681421013787.json', '345_18_12-62_1681539939753.json', '210_11_12-62_1681448288078.json', '348_98_12-62_1681542118639.json', '314_144_12-62_1681514330088.json', '218_148_12-62_1681454012326.json', '217_41_12-62_1681452715961.json', '164_126_12-62_1681418713194.json', '309_125_12-62_1681511411488.json', '319_44_12-62_1681516613044.json']\n"
     ]
    },
    {
     "name": "stderr",
     "output_type": "stream",
     "text": [
      "C:\\Users\\julien\\AppData\\Local\\Temp\\ipykernel_5284\\1387881205.py:65: FutureWarning: The frame.append method is deprecated and will be removed from pandas in a future version. Use pandas.concat instead.\n",
      "  df_write = df_write.append(_v, ignore_index=True)\n",
      "C:\\Users\\julien\\AppData\\Local\\Temp\\ipykernel_5284\\1387881205.py:65: FutureWarning: The frame.append method is deprecated and will be removed from pandas in a future version. Use pandas.concat instead.\n",
      "  df_write = df_write.append(_v, ignore_index=True)\n",
      "C:\\Users\\julien\\AppData\\Local\\Temp\\ipykernel_5284\\1387881205.py:65: FutureWarning: The frame.append method is deprecated and will be removed from pandas in a future version. Use pandas.concat instead.\n",
      "  df_write = df_write.append(_v, ignore_index=True)\n",
      "C:\\Users\\julien\\AppData\\Local\\Temp\\ipykernel_5284\\1387881205.py:65: FutureWarning: The frame.append method is deprecated and will be removed from pandas in a future version. Use pandas.concat instead.\n",
      "  df_write = df_write.append(_v, ignore_index=True)\n",
      "C:\\Users\\julien\\AppData\\Local\\Temp\\ipykernel_5284\\1387881205.py:80: FutureWarning: The frame.append method is deprecated and will be removed from pandas in a future version. Use pandas.concat instead.\n",
      "  df_write = df_write.append(_v, ignore_index=True)\n",
      "C:\\Users\\julien\\AppData\\Local\\Temp\\ipykernel_5284\\1387881205.py:80: FutureWarning: The frame.append method is deprecated and will be removed from pandas in a future version. Use pandas.concat instead.\n",
      "  df_write = df_write.append(_v, ignore_index=True)\n",
      "C:\\Users\\julien\\AppData\\Local\\Temp\\ipykernel_5284\\1387881205.py:80: FutureWarning: The frame.append method is deprecated and will be removed from pandas in a future version. Use pandas.concat instead.\n",
      "  df_write = df_write.append(_v, ignore_index=True)\n"
     ]
    },
    {
     "name": "stdout",
     "output_type": "stream",
     "text": [
      "['131_126_12-62_1681396998167.json', '182_28_12-62_1681428108401.json', '44_47_12-62_1681323632209.json', '198_139_12-62_1681441381507.json', '207_78_12-62_1681446723825.json', '233_35_12-62_1681464851153.json', '300_148_12-62_1681506117422.json', '31_110_12-62_1681316559196.json', '223_101_12-62_1681459451382.json', '332_2_12-62_1681529210613.json', '216_98_12-62_1681452312617.json', '357_22_12-62_1681547190867.json', '132_146_12-62_1681397697517.json', '138_20_12-62_1681400786746.json', '201_43_12-62_1681442892792.json', '336_48_12-62_1681531574053.json', '219_55_12-62_1681456842193.json', '312_9_12-62_1681512663624.json', '272_16_12-62_1681490563132.json', '43_126_12-62_1681323386318.json', '132_15_12-62_1681397160319.json', '205_58_12-62_1681445298560.json', '212_65_12-62_1681449673358.json', '298_123_12-62_1681504553794.json', '160_66_12-62_1681416107798.json']\n"
     ]
    },
    {
     "name": "stderr",
     "output_type": "stream",
     "text": [
      "C:\\Users\\julien\\AppData\\Local\\Temp\\ipykernel_5284\\1387881205.py:65: FutureWarning: The frame.append method is deprecated and will be removed from pandas in a future version. Use pandas.concat instead.\n",
      "  df_write = df_write.append(_v, ignore_index=True)\n",
      "C:\\Users\\julien\\AppData\\Local\\Temp\\ipykernel_5284\\1387881205.py:65: FutureWarning: The frame.append method is deprecated and will be removed from pandas in a future version. Use pandas.concat instead.\n",
      "  df_write = df_write.append(_v, ignore_index=True)\n",
      "C:\\Users\\julien\\AppData\\Local\\Temp\\ipykernel_5284\\1387881205.py:65: FutureWarning: The frame.append method is deprecated and will be removed from pandas in a future version. Use pandas.concat instead.\n",
      "  df_write = df_write.append(_v, ignore_index=True)\n",
      "C:\\Users\\julien\\AppData\\Local\\Temp\\ipykernel_5284\\1387881205.py:65: FutureWarning: The frame.append method is deprecated and will be removed from pandas in a future version. Use pandas.concat instead.\n",
      "  df_write = df_write.append(_v, ignore_index=True)\n",
      "C:\\Users\\julien\\AppData\\Local\\Temp\\ipykernel_5284\\1387881205.py:80: FutureWarning: The frame.append method is deprecated and will be removed from pandas in a future version. Use pandas.concat instead.\n",
      "  df_write = df_write.append(_v, ignore_index=True)\n",
      "C:\\Users\\julien\\AppData\\Local\\Temp\\ipykernel_5284\\1387881205.py:80: FutureWarning: The frame.append method is deprecated and will be removed from pandas in a future version. Use pandas.concat instead.\n",
      "  df_write = df_write.append(_v, ignore_index=True)\n",
      "C:\\Users\\julien\\AppData\\Local\\Temp\\ipykernel_5284\\1387881205.py:80: FutureWarning: The frame.append method is deprecated and will be removed from pandas in a future version. Use pandas.concat instead.\n",
      "  df_write = df_write.append(_v, ignore_index=True)\n"
     ]
    },
    {
     "name": "stdout",
     "output_type": "stream",
     "text": [
      "['347_49_12-62_1681541310877.json', '230_131_12-62_1681463677825.json', '276_5_12-62_1681492673451.json', '204_23_12-62_1681444455089.json', '324_47_12-62_1681525149794.json', '232_82_12-62_1681464524091.json', '339_82_12-62_1681533568684.json', '337_91_12-62_1681532374671.json', '192_35_12-62_1681437399121.json', '216_85_12-62_1681452223818.json', '227_109_12-62_1681461848374.json', '202_16_12-62_1681443379201.json', '314_95_12-62_1681514134280.json', '162_120_12-62_1681417348461.json', '300_21_12-62_1681505358470.json', '230_23_12-62_1681463239923.json', '39_149_12-62_1681321141545.json', '308_16_12-62_1681510539890.json', '193_64_12-62_1681438057614.json', '312_83_12-62_1681512976724.json', '347_78_12-62_1681541423191.json', '125_5_12-62_1681393107701.json', '224_107_12-62_1681460003818.json', '141_9_12-62_1681402529741.json', '162_52_12-62_1681417107912.json']\n"
     ]
    },
    {
     "name": "stderr",
     "output_type": "stream",
     "text": [
      "C:\\Users\\julien\\AppData\\Local\\Temp\\ipykernel_5284\\1387881205.py:65: FutureWarning: The frame.append method is deprecated and will be removed from pandas in a future version. Use pandas.concat instead.\n",
      "  df_write = df_write.append(_v, ignore_index=True)\n",
      "C:\\Users\\julien\\AppData\\Local\\Temp\\ipykernel_5284\\1387881205.py:65: FutureWarning: The frame.append method is deprecated and will be removed from pandas in a future version. Use pandas.concat instead.\n",
      "  df_write = df_write.append(_v, ignore_index=True)\n",
      "C:\\Users\\julien\\AppData\\Local\\Temp\\ipykernel_5284\\1387881205.py:65: FutureWarning: The frame.append method is deprecated and will be removed from pandas in a future version. Use pandas.concat instead.\n",
      "  df_write = df_write.append(_v, ignore_index=True)\n",
      "C:\\Users\\julien\\AppData\\Local\\Temp\\ipykernel_5284\\1387881205.py:65: FutureWarning: The frame.append method is deprecated and will be removed from pandas in a future version. Use pandas.concat instead.\n",
      "  df_write = df_write.append(_v, ignore_index=True)\n",
      "C:\\Users\\julien\\AppData\\Local\\Temp\\ipykernel_5284\\1387881205.py:80: FutureWarning: The frame.append method is deprecated and will be removed from pandas in a future version. Use pandas.concat instead.\n",
      "  df_write = df_write.append(_v, ignore_index=True)\n",
      "C:\\Users\\julien\\AppData\\Local\\Temp\\ipykernel_5284\\1387881205.py:80: FutureWarning: The frame.append method is deprecated and will be removed from pandas in a future version. Use pandas.concat instead.\n",
      "  df_write = df_write.append(_v, ignore_index=True)\n",
      "C:\\Users\\julien\\AppData\\Local\\Temp\\ipykernel_5284\\1387881205.py:80: FutureWarning: The frame.append method is deprecated and will be removed from pandas in a future version. Use pandas.concat instead.\n",
      "  df_write = df_write.append(_v, ignore_index=True)\n"
     ]
    },
    {
     "name": "stdout",
     "output_type": "stream",
     "text": [
      "['313_65_12-62_1681513482506.json', '210_47_12-62_1681448458588.json', '325_147_12-62_1681526154475.json', '233_28_12-62_1681464811867.json', '168_114_12-62_1681420901935.json', '342_129_12-62_1681538007446.json', '336_30_12-62_1681531530403.json', '203_143_12-62_1681444339576.json', '346_60_12-62_1681540750407.json', '354_143_12-62_1681545929893.json', '347_24_12-62_1681541190974.json', '177_9_12-62_1681425257718.json', '307_43_12-62_1681510093688.json', '350_103_12-62_1681543318792.json', '186_124_12-62_1681430624434.json', '220_149_12-62_1681458005028.json', '295_8_12-62_1681502589233.json', '160_36_12-62_1681415993916.json', '43_120_12-62_1681323373378.json', '297_108_12-62_1681503995215.json', '167_70_12-62_1681420179146.json', '43_80_12-62_1681323233142.json', '154_12_12-62_1681411543758.json', '184_12_12-62_1681429128673.json', '217_48_12-62_1681452734845.json']\n"
     ]
    },
    {
     "name": "stderr",
     "output_type": "stream",
     "text": [
      "C:\\Users\\julien\\AppData\\Local\\Temp\\ipykernel_5284\\1387881205.py:65: FutureWarning: The frame.append method is deprecated and will be removed from pandas in a future version. Use pandas.concat instead.\n",
      "  df_write = df_write.append(_v, ignore_index=True)\n",
      "C:\\Users\\julien\\AppData\\Local\\Temp\\ipykernel_5284\\1387881205.py:65: FutureWarning: The frame.append method is deprecated and will be removed from pandas in a future version. Use pandas.concat instead.\n",
      "  df_write = df_write.append(_v, ignore_index=True)\n",
      "C:\\Users\\julien\\AppData\\Local\\Temp\\ipykernel_5284\\1387881205.py:65: FutureWarning: The frame.append method is deprecated and will be removed from pandas in a future version. Use pandas.concat instead.\n",
      "  df_write = df_write.append(_v, ignore_index=True)\n",
      "C:\\Users\\julien\\AppData\\Local\\Temp\\ipykernel_5284\\1387881205.py:65: FutureWarning: The frame.append method is deprecated and will be removed from pandas in a future version. Use pandas.concat instead.\n",
      "  df_write = df_write.append(_v, ignore_index=True)\n",
      "C:\\Users\\julien\\AppData\\Local\\Temp\\ipykernel_5284\\1387881205.py:80: FutureWarning: The frame.append method is deprecated and will be removed from pandas in a future version. Use pandas.concat instead.\n",
      "  df_write = df_write.append(_v, ignore_index=True)\n",
      "C:\\Users\\julien\\AppData\\Local\\Temp\\ipykernel_5284\\1387881205.py:80: FutureWarning: The frame.append method is deprecated and will be removed from pandas in a future version. Use pandas.concat instead.\n",
      "  df_write = df_write.append(_v, ignore_index=True)\n",
      "C:\\Users\\julien\\AppData\\Local\\Temp\\ipykernel_5284\\1387881205.py:80: FutureWarning: The frame.append method is deprecated and will be removed from pandas in a future version. Use pandas.concat instead.\n",
      "  df_write = df_write.append(_v, ignore_index=True)\n"
     ]
    },
    {
     "name": "stdout",
     "output_type": "stream",
     "text": [
      "['320_129_12-62_1681517453667.json', '195_35_12-62_1681439116887.json', '184_148_12-62_1681429660924.json', '346_14_12-62_1681540534109.json', '178_147_12-62_1681426332245.json', '214_69_12-62_1681450896765.json', '33_1_12-62_1681317170376.json', '173_62_12-62_1681423329882.json', '341_27_12-62_1681537077330.json', '165_86_12-62_1681419131209.json', '192_111_12-62_1681437695081.json', '313_138_12-62_1681513724463.json', '225_25_12-62_1681460283186.json', '328_107_12-62_1681527371572.json', '231_13_12-62_1681463779715.json', '302_133_12-62_1681507041557.json', '302_68_12-62_1681506771774.json', '308_87_12-62_1681510751353.json', '197_34_12-62_1681440319524.json', '351_39_12-62_1681543719179.json', '161_134_12-62_1681416873626.json', '32_111_12-62_1681317045905.json', '317_81_12-62_1681515674422.json', '199_24_12-62_1681441508218.json', '310_119_12-62_1681511905397.json']\n"
     ]
    },
    {
     "name": "stderr",
     "output_type": "stream",
     "text": [
      "C:\\Users\\julien\\AppData\\Local\\Temp\\ipykernel_5284\\1387881205.py:65: FutureWarning: The frame.append method is deprecated and will be removed from pandas in a future version. Use pandas.concat instead.\n",
      "  df_write = df_write.append(_v, ignore_index=True)\n",
      "C:\\Users\\julien\\AppData\\Local\\Temp\\ipykernel_5284\\1387881205.py:65: FutureWarning: The frame.append method is deprecated and will be removed from pandas in a future version. Use pandas.concat instead.\n",
      "  df_write = df_write.append(_v, ignore_index=True)\n",
      "C:\\Users\\julien\\AppData\\Local\\Temp\\ipykernel_5284\\1387881205.py:65: FutureWarning: The frame.append method is deprecated and will be removed from pandas in a future version. Use pandas.concat instead.\n",
      "  df_write = df_write.append(_v, ignore_index=True)\n",
      "C:\\Users\\julien\\AppData\\Local\\Temp\\ipykernel_5284\\1387881205.py:65: FutureWarning: The frame.append method is deprecated and will be removed from pandas in a future version. Use pandas.concat instead.\n",
      "  df_write = df_write.append(_v, ignore_index=True)\n",
      "C:\\Users\\julien\\AppData\\Local\\Temp\\ipykernel_5284\\1387881205.py:80: FutureWarning: The frame.append method is deprecated and will be removed from pandas in a future version. Use pandas.concat instead.\n",
      "  df_write = df_write.append(_v, ignore_index=True)\n",
      "C:\\Users\\julien\\AppData\\Local\\Temp\\ipykernel_5284\\1387881205.py:80: FutureWarning: The frame.append method is deprecated and will be removed from pandas in a future version. Use pandas.concat instead.\n",
      "  df_write = df_write.append(_v, ignore_index=True)\n",
      "C:\\Users\\julien\\AppData\\Local\\Temp\\ipykernel_5284\\1387881205.py:80: FutureWarning: The frame.append method is deprecated and will be removed from pandas in a future version. Use pandas.concat instead.\n",
      "  df_write = df_write.append(_v, ignore_index=True)\n"
     ]
    },
    {
     "name": "stdout",
     "output_type": "stream",
     "text": [
      "['340_80_12-62_1681536751462.json', '197_96_12-62_1681440624066.json', '218_147_12-62_1681454005467.json', '287_61_12-62_1681498381376.json', '284_49_12-62_1681496732138.json', '175_72_12-62_1681424410481.json', '137_66_12-62_1681400359024.json', '322_68_12-62_1681518267840.json', '185_137_12-62_1681430070848.json', '283_138_12-62_1681496537461.json', '322_145_12-62_1681524394412.json', '157_77_12-62_1681413325250.json', '357_14_12-62_1681547166603.json', '209_137_12-62_1681448191864.json', '271_146_12-62_1681490602169.json', '40_35_12-62_1681321303379.json', '168_86_12-62_1681420802763.json', '219_6_12-62_1681453841183.json', '211_31_12-62_1681449015465.json', '283_113_12-62_1681496446521.json', '344_84_12-62_1681539040891.json', '292_111_12-62_1681501281743.json', '335_138_12-62_1681531347728.json', '203_0_12-62_1681443863824.json', '320_96_12-62_1681517340436.json']\n"
     ]
    },
    {
     "name": "stderr",
     "output_type": "stream",
     "text": [
      "C:\\Users\\julien\\AppData\\Local\\Temp\\ipykernel_5284\\1387881205.py:65: FutureWarning: The frame.append method is deprecated and will be removed from pandas in a future version. Use pandas.concat instead.\n",
      "  df_write = df_write.append(_v, ignore_index=True)\n",
      "C:\\Users\\julien\\AppData\\Local\\Temp\\ipykernel_5284\\1387881205.py:65: FutureWarning: The frame.append method is deprecated and will be removed from pandas in a future version. Use pandas.concat instead.\n",
      "  df_write = df_write.append(_v, ignore_index=True)\n",
      "C:\\Users\\julien\\AppData\\Local\\Temp\\ipykernel_5284\\1387881205.py:65: FutureWarning: The frame.append method is deprecated and will be removed from pandas in a future version. Use pandas.concat instead.\n",
      "  df_write = df_write.append(_v, ignore_index=True)\n",
      "C:\\Users\\julien\\AppData\\Local\\Temp\\ipykernel_5284\\1387881205.py:65: FutureWarning: The frame.append method is deprecated and will be removed from pandas in a future version. Use pandas.concat instead.\n",
      "  df_write = df_write.append(_v, ignore_index=True)\n",
      "C:\\Users\\julien\\AppData\\Local\\Temp\\ipykernel_5284\\1387881205.py:80: FutureWarning: The frame.append method is deprecated and will be removed from pandas in a future version. Use pandas.concat instead.\n",
      "  df_write = df_write.append(_v, ignore_index=True)\n",
      "C:\\Users\\julien\\AppData\\Local\\Temp\\ipykernel_5284\\1387881205.py:80: FutureWarning: The frame.append method is deprecated and will be removed from pandas in a future version. Use pandas.concat instead.\n",
      "  df_write = df_write.append(_v, ignore_index=True)\n",
      "C:\\Users\\julien\\AppData\\Local\\Temp\\ipykernel_5284\\1387881205.py:80: FutureWarning: The frame.append method is deprecated and will be removed from pandas in a future version. Use pandas.concat instead.\n",
      "  df_write = df_write.append(_v, ignore_index=True)\n"
     ]
    },
    {
     "name": "stdout",
     "output_type": "stream",
     "text": [
      "['148_142_12-62_1681407063625.json', '232_113_12-62_1681464610511.json', '132_109_12-62_1681397551199.json', '338_149_12-62_1681533206366.json', '155_38_12-62_1681412187530.json', '315_45_12-62_1681514534291.json', '331_59_12-62_1681528869510.json', '331_76_12-62_1681528936612.json', '42_0_12-62_1681322361369.json', '126_147_12-62_1681394364906.json', '183_140_12-62_1681429061230.json', '297_52_12-62_1681503798640.json', '226_126_12-62_1681461389845.json', '227_148_12-62_1681462295461.json', '346_76_12-62_1681540798662.json', '44_76_12-62_1681323734543.json', '325_149_12-62_1681526240141.json', '193_111_12-62_1681438221985.json', '212_53_12-62_1681449613165.json', '212_25_12-62_1681449498886.json', '277_131_12-62_1681493597444.json', '314_129_12-62_1681514279760.json', '137_120_12-62_1681400565220.json', '148_149_12-62_1681407482866.json', '304_120_12-62_1681508297120.json']\n"
     ]
    },
    {
     "name": "stderr",
     "output_type": "stream",
     "text": [
      "C:\\Users\\julien\\AppData\\Local\\Temp\\ipykernel_5284\\1387881205.py:65: FutureWarning: The frame.append method is deprecated and will be removed from pandas in a future version. Use pandas.concat instead.\n",
      "  df_write = df_write.append(_v, ignore_index=True)\n",
      "C:\\Users\\julien\\AppData\\Local\\Temp\\ipykernel_5284\\1387881205.py:65: FutureWarning: The frame.append method is deprecated and will be removed from pandas in a future version. Use pandas.concat instead.\n",
      "  df_write = df_write.append(_v, ignore_index=True)\n",
      "C:\\Users\\julien\\AppData\\Local\\Temp\\ipykernel_5284\\1387881205.py:65: FutureWarning: The frame.append method is deprecated and will be removed from pandas in a future version. Use pandas.concat instead.\n",
      "  df_write = df_write.append(_v, ignore_index=True)\n",
      "C:\\Users\\julien\\AppData\\Local\\Temp\\ipykernel_5284\\1387881205.py:65: FutureWarning: The frame.append method is deprecated and will be removed from pandas in a future version. Use pandas.concat instead.\n",
      "  df_write = df_write.append(_v, ignore_index=True)\n",
      "C:\\Users\\julien\\AppData\\Local\\Temp\\ipykernel_5284\\1387881205.py:80: FutureWarning: The frame.append method is deprecated and will be removed from pandas in a future version. Use pandas.concat instead.\n",
      "  df_write = df_write.append(_v, ignore_index=True)\n",
      "C:\\Users\\julien\\AppData\\Local\\Temp\\ipykernel_5284\\1387881205.py:80: FutureWarning: The frame.append method is deprecated and will be removed from pandas in a future version. Use pandas.concat instead.\n",
      "  df_write = df_write.append(_v, ignore_index=True)\n",
      "C:\\Users\\julien\\AppData\\Local\\Temp\\ipykernel_5284\\1387881205.py:80: FutureWarning: The frame.append method is deprecated and will be removed from pandas in a future version. Use pandas.concat instead.\n",
      "  df_write = df_write.append(_v, ignore_index=True)\n"
     ]
    },
    {
     "name": "stdout",
     "output_type": "stream",
     "text": [
      "['193_127_12-62_1681438270650.json', '204_147_12-62_1681445033027.json', '347_101_12-62_1681541509730.json', '204_65_12-62_1681444637393.json', '310_97_12-62_1681511841802.json', '134_103_12-62_1681398746641.json', '222_122_12-62_1681458938314.json', '343_38_12-62_1681538232155.json', '344_68_12-62_1681538995970.json', '275_58_12-62_1681492339162.json', '353_107_12-62_1681545247069.json', '149_129_12-62_1681407615364.json', '194_109_12-62_1681438821509.json', '333_39_12-62_1681529824982.json', '143_53_12-62_1681403824842.json', '291_56_12-62_1681500601447.json', '31_140_12-62_1681316655800.json', '338_18_12-62_1681532723339.json', '165_115_12-62_1681419242022.json', '156_101_12-62_1681412876399.json', '209_31_12-62_1681447830154.json', '321_119_12-62_1681517905615.json', '352_144_12-62_1681544833796.json', '232_37_12-62_1681464391714.json', '196_142_12-62_1681440169653.json']\n"
     ]
    },
    {
     "name": "stderr",
     "output_type": "stream",
     "text": [
      "C:\\Users\\julien\\AppData\\Local\\Temp\\ipykernel_5284\\1387881205.py:65: FutureWarning: The frame.append method is deprecated and will be removed from pandas in a future version. Use pandas.concat instead.\n",
      "  df_write = df_write.append(_v, ignore_index=True)\n",
      "C:\\Users\\julien\\AppData\\Local\\Temp\\ipykernel_5284\\1387881205.py:65: FutureWarning: The frame.append method is deprecated and will be removed from pandas in a future version. Use pandas.concat instead.\n",
      "  df_write = df_write.append(_v, ignore_index=True)\n",
      "C:\\Users\\julien\\AppData\\Local\\Temp\\ipykernel_5284\\1387881205.py:65: FutureWarning: The frame.append method is deprecated and will be removed from pandas in a future version. Use pandas.concat instead.\n",
      "  df_write = df_write.append(_v, ignore_index=True)\n",
      "C:\\Users\\julien\\AppData\\Local\\Temp\\ipykernel_5284\\1387881205.py:65: FutureWarning: The frame.append method is deprecated and will be removed from pandas in a future version. Use pandas.concat instead.\n",
      "  df_write = df_write.append(_v, ignore_index=True)\n",
      "C:\\Users\\julien\\AppData\\Local\\Temp\\ipykernel_5284\\1387881205.py:80: FutureWarning: The frame.append method is deprecated and will be removed from pandas in a future version. Use pandas.concat instead.\n",
      "  df_write = df_write.append(_v, ignore_index=True)\n",
      "C:\\Users\\julien\\AppData\\Local\\Temp\\ipykernel_5284\\1387881205.py:80: FutureWarning: The frame.append method is deprecated and will be removed from pandas in a future version. Use pandas.concat instead.\n",
      "  df_write = df_write.append(_v, ignore_index=True)\n",
      "C:\\Users\\julien\\AppData\\Local\\Temp\\ipykernel_5284\\1387881205.py:80: FutureWarning: The frame.append method is deprecated and will be removed from pandas in a future version. Use pandas.concat instead.\n",
      "  df_write = df_write.append(_v, ignore_index=True)\n"
     ]
    },
    {
     "name": "stdout",
     "output_type": "stream",
     "text": [
      "['335_20_12-62_1681530919889.json', '291_67_12-62_1681500661705.json', '44_92_12-62_1681323811678.json', '43_34_12-62_1681323076692.json', '315_147_12-62_1681515018307.json', '195_52_12-62_1681439172891.json', '312_146_12-62_1681513336405.json', '285_95_12-62_1681497392765.json', '349_148_12-62_1681543105464.json', '184_110_12-62_1681429439653.json', '159_73_12-62_1681415596278.json', '197_45_12-62_1681440376462.json', '174_76_12-62_1681423885532.json', '190_107_12-62_1681433180408.json', '138_79_12-62_1681401037861.json', '35_111_12-62_1681318695672.json', '221_2_12-62_1681457917248.json', '354_88_12-62_1681545709765.json', '309_142_12-62_1681511451999.json', '222_94_12-62_1681458832565.json', '169_92_12-62_1681421330643.json', '156_85_12-62_1681412820417.json', '177_135_12-62_1681425689213.json', '214_65_12-62_1681450876710.json', '355_50_12-62_1681546141393.json']\n"
     ]
    },
    {
     "name": "stderr",
     "output_type": "stream",
     "text": [
      "C:\\Users\\julien\\AppData\\Local\\Temp\\ipykernel_5284\\1387881205.py:65: FutureWarning: The frame.append method is deprecated and will be removed from pandas in a future version. Use pandas.concat instead.\n",
      "  df_write = df_write.append(_v, ignore_index=True)\n",
      "C:\\Users\\julien\\AppData\\Local\\Temp\\ipykernel_5284\\1387881205.py:65: FutureWarning: The frame.append method is deprecated and will be removed from pandas in a future version. Use pandas.concat instead.\n",
      "  df_write = df_write.append(_v, ignore_index=True)\n",
      "C:\\Users\\julien\\AppData\\Local\\Temp\\ipykernel_5284\\1387881205.py:65: FutureWarning: The frame.append method is deprecated and will be removed from pandas in a future version. Use pandas.concat instead.\n",
      "  df_write = df_write.append(_v, ignore_index=True)\n",
      "C:\\Users\\julien\\AppData\\Local\\Temp\\ipykernel_5284\\1387881205.py:65: FutureWarning: The frame.append method is deprecated and will be removed from pandas in a future version. Use pandas.concat instead.\n",
      "  df_write = df_write.append(_v, ignore_index=True)\n",
      "C:\\Users\\julien\\AppData\\Local\\Temp\\ipykernel_5284\\1387881205.py:80: FutureWarning: The frame.append method is deprecated and will be removed from pandas in a future version. Use pandas.concat instead.\n",
      "  df_write = df_write.append(_v, ignore_index=True)\n",
      "C:\\Users\\julien\\AppData\\Local\\Temp\\ipykernel_5284\\1387881205.py:80: FutureWarning: The frame.append method is deprecated and will be removed from pandas in a future version. Use pandas.concat instead.\n",
      "  df_write = df_write.append(_v, ignore_index=True)\n",
      "C:\\Users\\julien\\AppData\\Local\\Temp\\ipykernel_5284\\1387881205.py:80: FutureWarning: The frame.append method is deprecated and will be removed from pandas in a future version. Use pandas.concat instead.\n",
      "  df_write = df_write.append(_v, ignore_index=True)\n"
     ]
    },
    {
     "name": "stdout",
     "output_type": "stream",
     "text": [
      "['31_86_12-62_1681316468884.json', '212_1_12-62_1681449430049.json', '356_129_12-62_1681547025755.json', '176_96_12-62_1681425043362.json', '219_14_12-62_1681456698147.json', '222_103_12-62_1681458858295.json', '190_4_12-62_1681432776187.json', '203_58_12-62_1681444040799.json', '322_33_12-62_1681518166317.json', '286_68_12-62_1681497806908.json', '145_0_12-62_1681404798957.json', '282_66_12-62_1681495803898.json', '322_57_12-62_1681518225040.json', '343_99_12-62_1681538503974.json', '123_20_12-62_1681391638947.json', '230_149_12-62_1681463840394.json', '319_85_12-62_1681516746179.json', '184_105_12-62_1681429432467.json', '125_149_12-62_1681393863657.json', '290_105_12-62_1681500270678.json', '223_73_12-62_1681459344895.json', '227_49_12-62_1681461639999.json', '149_125_12-62_1681407599060.json', '151_29_12-62_1681408414895.json', '304_34_12-62_1681507856381.json']\n"
     ]
    },
    {
     "name": "stderr",
     "output_type": "stream",
     "text": [
      "C:\\Users\\julien\\AppData\\Local\\Temp\\ipykernel_5284\\1387881205.py:65: FutureWarning: The frame.append method is deprecated and will be removed from pandas in a future version. Use pandas.concat instead.\n",
      "  df_write = df_write.append(_v, ignore_index=True)\n",
      "C:\\Users\\julien\\AppData\\Local\\Temp\\ipykernel_5284\\1387881205.py:65: FutureWarning: The frame.append method is deprecated and will be removed from pandas in a future version. Use pandas.concat instead.\n",
      "  df_write = df_write.append(_v, ignore_index=True)\n",
      "C:\\Users\\julien\\AppData\\Local\\Temp\\ipykernel_5284\\1387881205.py:65: FutureWarning: The frame.append method is deprecated and will be removed from pandas in a future version. Use pandas.concat instead.\n",
      "  df_write = df_write.append(_v, ignore_index=True)\n",
      "C:\\Users\\julien\\AppData\\Local\\Temp\\ipykernel_5284\\1387881205.py:65: FutureWarning: The frame.append method is deprecated and will be removed from pandas in a future version. Use pandas.concat instead.\n",
      "  df_write = df_write.append(_v, ignore_index=True)\n",
      "C:\\Users\\julien\\AppData\\Local\\Temp\\ipykernel_5284\\1387881205.py:80: FutureWarning: The frame.append method is deprecated and will be removed from pandas in a future version. Use pandas.concat instead.\n",
      "  df_write = df_write.append(_v, ignore_index=True)\n",
      "C:\\Users\\julien\\AppData\\Local\\Temp\\ipykernel_5284\\1387881205.py:80: FutureWarning: The frame.append method is deprecated and will be removed from pandas in a future version. Use pandas.concat instead.\n",
      "  df_write = df_write.append(_v, ignore_index=True)\n",
      "C:\\Users\\julien\\AppData\\Local\\Temp\\ipykernel_5284\\1387881205.py:80: FutureWarning: The frame.append method is deprecated and will be removed from pandas in a future version. Use pandas.concat instead.\n",
      "  df_write = df_write.append(_v, ignore_index=True)\n"
     ]
    },
    {
     "name": "stdout",
     "output_type": "stream",
     "text": [
      "['217_58_12-62_1681452771510.json', '349_146_12-62_1681542836116.json', '313_149_12-62_1681513747826.json', '294_130_12-62_1681502479978.json', '295_38_12-62_1681502689714.json', '351_116_12-62_1681544012580.json', '176_13_12-62_1681424755842.json', '231_83_12-62_1681464041690.json', '307_9_12-62_1681509983604.json', '351_1_12-62_1681543575764.json', '336_60_12-62_1681531633370.json', '199_145_12-62_1681442031547.json', '288_81_12-62_1681499058765.json', '197_9_12-62_1681440234209.json', '335_68_12-62_1681531111801.json', '326_86_12-62_1681526333984.json', '151_86_12-62_1681408620520.json', '150_3_12-62_1681407709712.json', '200_73_12-62_1681442437392.json', '176_101_12-62_1681425053322.json', '317_14_12-62_1681515449453.json', '311_56_12-62_1681512225128.json', '230_126_12-62_1681463666088.json', '352_7_12-62_1681544232935.json', '226_44_12-62_1681461091053.json']\n"
     ]
    },
    {
     "name": "stderr",
     "output_type": "stream",
     "text": [
      "C:\\Users\\julien\\AppData\\Local\\Temp\\ipykernel_5284\\1387881205.py:65: FutureWarning: The frame.append method is deprecated and will be removed from pandas in a future version. Use pandas.concat instead.\n",
      "  df_write = df_write.append(_v, ignore_index=True)\n",
      "C:\\Users\\julien\\AppData\\Local\\Temp\\ipykernel_5284\\1387881205.py:65: FutureWarning: The frame.append method is deprecated and will be removed from pandas in a future version. Use pandas.concat instead.\n",
      "  df_write = df_write.append(_v, ignore_index=True)\n",
      "C:\\Users\\julien\\AppData\\Local\\Temp\\ipykernel_5284\\1387881205.py:65: FutureWarning: The frame.append method is deprecated and will be removed from pandas in a future version. Use pandas.concat instead.\n",
      "  df_write = df_write.append(_v, ignore_index=True)\n",
      "C:\\Users\\julien\\AppData\\Local\\Temp\\ipykernel_5284\\1387881205.py:65: FutureWarning: The frame.append method is deprecated and will be removed from pandas in a future version. Use pandas.concat instead.\n",
      "  df_write = df_write.append(_v, ignore_index=True)\n",
      "C:\\Users\\julien\\AppData\\Local\\Temp\\ipykernel_5284\\1387881205.py:80: FutureWarning: The frame.append method is deprecated and will be removed from pandas in a future version. Use pandas.concat instead.\n",
      "  df_write = df_write.append(_v, ignore_index=True)\n",
      "C:\\Users\\julien\\AppData\\Local\\Temp\\ipykernel_5284\\1387881205.py:80: FutureWarning: The frame.append method is deprecated and will be removed from pandas in a future version. Use pandas.concat instead.\n",
      "  df_write = df_write.append(_v, ignore_index=True)\n",
      "C:\\Users\\julien\\AppData\\Local\\Temp\\ipykernel_5284\\1387881205.py:80: FutureWarning: The frame.append method is deprecated and will be removed from pandas in a future version. Use pandas.concat instead.\n",
      "  df_write = df_write.append(_v, ignore_index=True)\n"
     ]
    },
    {
     "name": "stdout",
     "output_type": "stream",
     "text": [
      "['190_115_12-62_1681433205953.json', '214_60_12-62_1681450857980.json', '280_146_12-62_1681495126022.json', '352_68_12-62_1681544484516.json', '159_107_12-62_1681415718883.json', '209_71_12-62_1681447963985.json', '189_46_12-62_1681432341636.json', '193_93_12-62_1681438164363.json', '286_110_12-62_1681497979321.json', '281_81_12-62_1681495366051.json', '141_140_12-62_1681403018099.json', '173_148_12-62_1681423926973.json', '154_4_12-62_1681411523483.json', '285_125_12-62_1681497481351.json', '332_122_12-62_1681529634737.json', '280_63_12-62_1681494881984.json', '164_92_12-62_1681418549511.json', '175_136_12-62_1681424666356.json', '181_116_12-62_1681427881037.json', '287_149_12-62_1681499097409.json', '36_12_12-62_1681318889095.json', '41_64_12-62_1681322028669.json', '227_0_12-62_1681461475332.json', '323_22_12-62_1681524505054.json', '322_4_12-62_1681518038439.json']\n"
     ]
    },
    {
     "name": "stderr",
     "output_type": "stream",
     "text": [
      "C:\\Users\\julien\\AppData\\Local\\Temp\\ipykernel_5284\\1387881205.py:65: FutureWarning: The frame.append method is deprecated and will be removed from pandas in a future version. Use pandas.concat instead.\n",
      "  df_write = df_write.append(_v, ignore_index=True)\n",
      "C:\\Users\\julien\\AppData\\Local\\Temp\\ipykernel_5284\\1387881205.py:65: FutureWarning: The frame.append method is deprecated and will be removed from pandas in a future version. Use pandas.concat instead.\n",
      "  df_write = df_write.append(_v, ignore_index=True)\n",
      "C:\\Users\\julien\\AppData\\Local\\Temp\\ipykernel_5284\\1387881205.py:65: FutureWarning: The frame.append method is deprecated and will be removed from pandas in a future version. Use pandas.concat instead.\n",
      "  df_write = df_write.append(_v, ignore_index=True)\n",
      "C:\\Users\\julien\\AppData\\Local\\Temp\\ipykernel_5284\\1387881205.py:65: FutureWarning: The frame.append method is deprecated and will be removed from pandas in a future version. Use pandas.concat instead.\n",
      "  df_write = df_write.append(_v, ignore_index=True)\n",
      "C:\\Users\\julien\\AppData\\Local\\Temp\\ipykernel_5284\\1387881205.py:80: FutureWarning: The frame.append method is deprecated and will be removed from pandas in a future version. Use pandas.concat instead.\n",
      "  df_write = df_write.append(_v, ignore_index=True)\n",
      "C:\\Users\\julien\\AppData\\Local\\Temp\\ipykernel_5284\\1387881205.py:80: FutureWarning: The frame.append method is deprecated and will be removed from pandas in a future version. Use pandas.concat instead.\n",
      "  df_write = df_write.append(_v, ignore_index=True)\n",
      "C:\\Users\\julien\\AppData\\Local\\Temp\\ipykernel_5284\\1387881205.py:80: FutureWarning: The frame.append method is deprecated and will be removed from pandas in a future version. Use pandas.concat instead.\n",
      "  df_write = df_write.append(_v, ignore_index=True)\n"
     ]
    },
    {
     "name": "stdout",
     "output_type": "stream",
     "text": [
      "['277_15_12-62_1681493180893.json', '156_148_12-62_1681413169245.json', '284_99_12-62_1681496898363.json', '273_20_12-62_1681491133860.json', '228_148_12-62_1681462717476.json', '189_117_12-62_1681432609384.json', '149_108_12-62_1681407535642.json', '131_98_12-62_1681396899393.json', '279_30_12-62_1681494260811.json', '344_42_12-62_1681538886415.json', '326_62_12-62_1681526262409.json', '271_31_12-62_1681490079555.json', '341_116_12-62_1681537420405.json', '321_51_12-62_1681517681401.json', '154_5_12-62_1681411526548.json', '296_14_12-62_1681503129276.json', '330_25_12-62_1681528168216.json', '204_25_12-62_1681444458084.json', '326_147_12-62_1681526743468.json', '145_69_12-62_1681405049050.json', '174_114_12-62_1681423998163.json', '139_86_12-62_1681401662956.json', '192_148_12-62_1681438144752.json', '276_6_12-62_1681492676678.json', '230_66_12-62_1681463437289.json']\n"
     ]
    },
    {
     "name": "stderr",
     "output_type": "stream",
     "text": [
      "C:\\Users\\julien\\AppData\\Local\\Temp\\ipykernel_5284\\1387881205.py:65: FutureWarning: The frame.append method is deprecated and will be removed from pandas in a future version. Use pandas.concat instead.\n",
      "  df_write = df_write.append(_v, ignore_index=True)\n",
      "C:\\Users\\julien\\AppData\\Local\\Temp\\ipykernel_5284\\1387881205.py:65: FutureWarning: The frame.append method is deprecated and will be removed from pandas in a future version. Use pandas.concat instead.\n",
      "  df_write = df_write.append(_v, ignore_index=True)\n",
      "C:\\Users\\julien\\AppData\\Local\\Temp\\ipykernel_5284\\1387881205.py:65: FutureWarning: The frame.append method is deprecated and will be removed from pandas in a future version. Use pandas.concat instead.\n",
      "  df_write = df_write.append(_v, ignore_index=True)\n",
      "C:\\Users\\julien\\AppData\\Local\\Temp\\ipykernel_5284\\1387881205.py:65: FutureWarning: The frame.append method is deprecated and will be removed from pandas in a future version. Use pandas.concat instead.\n",
      "  df_write = df_write.append(_v, ignore_index=True)\n",
      "C:\\Users\\julien\\AppData\\Local\\Temp\\ipykernel_5284\\1387881205.py:80: FutureWarning: The frame.append method is deprecated and will be removed from pandas in a future version. Use pandas.concat instead.\n",
      "  df_write = df_write.append(_v, ignore_index=True)\n",
      "C:\\Users\\julien\\AppData\\Local\\Temp\\ipykernel_5284\\1387881205.py:80: FutureWarning: The frame.append method is deprecated and will be removed from pandas in a future version. Use pandas.concat instead.\n",
      "  df_write = df_write.append(_v, ignore_index=True)\n",
      "C:\\Users\\julien\\AppData\\Local\\Temp\\ipykernel_5284\\1387881205.py:80: FutureWarning: The frame.append method is deprecated and will be removed from pandas in a future version. Use pandas.concat instead.\n",
      "  df_write = df_write.append(_v, ignore_index=True)\n"
     ]
    },
    {
     "name": "stdout",
     "output_type": "stream",
     "text": [
      "['182_132_12-62_1681428563250.json', '195_29_12-62_1681439086251.json', '328_100_12-62_1681527358331.json', '222_45_12-62_1681458655714.json', '218_111_12-62_1681453624100.json', '199_3_12-62_1681441435278.json', '178_104_12-62_1681426184285.json', '272_59_12-62_1681490698599.json', '229_63_12-62_1681462743729.json', '319_122_12-62_1681516883595.json', '326_121_12-62_1681526456834.json', '196_119_12-62_1681440075714.json', '324_23_12-62_1681525059763.json', '355_82_12-62_1681546279337.json', '318_41_12-62_1681516054730.json', '35_1_12-62_1681318305353.json', '345_55_12-62_1681539587949.json', '301_6_12-62_1681505935717.json', '186_95_12-62_1681430516785.json', '210_102_12-62_1681448693694.json', '217_105_12-62_1681452987925.json', '303_85_12-62_1681507415351.json', '121_147_12-62_1681391048746.json', '357_147_12-62_1681547910149.json', '289_98_12-62_1681499665586.json']\n"
     ]
    },
    {
     "name": "stderr",
     "output_type": "stream",
     "text": [
      "C:\\Users\\julien\\AppData\\Local\\Temp\\ipykernel_5284\\1387881205.py:65: FutureWarning: The frame.append method is deprecated and will be removed from pandas in a future version. Use pandas.concat instead.\n",
      "  df_write = df_write.append(_v, ignore_index=True)\n",
      "C:\\Users\\julien\\AppData\\Local\\Temp\\ipykernel_5284\\1387881205.py:65: FutureWarning: The frame.append method is deprecated and will be removed from pandas in a future version. Use pandas.concat instead.\n",
      "  df_write = df_write.append(_v, ignore_index=True)\n",
      "C:\\Users\\julien\\AppData\\Local\\Temp\\ipykernel_5284\\1387881205.py:65: FutureWarning: The frame.append method is deprecated and will be removed from pandas in a future version. Use pandas.concat instead.\n",
      "  df_write = df_write.append(_v, ignore_index=True)\n",
      "C:\\Users\\julien\\AppData\\Local\\Temp\\ipykernel_5284\\1387881205.py:65: FutureWarning: The frame.append method is deprecated and will be removed from pandas in a future version. Use pandas.concat instead.\n",
      "  df_write = df_write.append(_v, ignore_index=True)\n",
      "C:\\Users\\julien\\AppData\\Local\\Temp\\ipykernel_5284\\1387881205.py:80: FutureWarning: The frame.append method is deprecated and will be removed from pandas in a future version. Use pandas.concat instead.\n",
      "  df_write = df_write.append(_v, ignore_index=True)\n",
      "C:\\Users\\julien\\AppData\\Local\\Temp\\ipykernel_5284\\1387881205.py:80: FutureWarning: The frame.append method is deprecated and will be removed from pandas in a future version. Use pandas.concat instead.\n",
      "  df_write = df_write.append(_v, ignore_index=True)\n",
      "C:\\Users\\julien\\AppData\\Local\\Temp\\ipykernel_5284\\1387881205.py:80: FutureWarning: The frame.append method is deprecated and will be removed from pandas in a future version. Use pandas.concat instead.\n",
      "  df_write = df_write.append(_v, ignore_index=True)\n"
     ]
    },
    {
     "name": "stdout",
     "output_type": "stream",
     "text": [
      "['198_91_12-62_1681441210355.json', '198_127_12-62_1681441345089.json', '272_67_12-62_1681490750192.json', '345_139_12-62_1681540454380.json', '146_57_12-62_1681405556017.json', '155_125_12-62_1681412433952.json', '164_24_12-62_1681418245692.json', '345_40_12-62_1681539516853.json', '150_29_12-62_1681407787852.json', '138_10_12-62_1681400739943.json', '340_52_12-62_1681536649682.json', '308_109_12-62_1681510850796.json', '216_84_12-62_1681452219431.json', '342_7_12-62_1681537564407.json', '275_102_12-62_1681492497708.json', '293_139_12-62_1681501915429.json', '304_10_12-62_1681507733513.json', '344_138_12-62_1681539262217.json', '131_69_12-62_1681396778668.json', '169_58_12-62_1681421206802.json', '134_146_12-62_1681398903664.json', '123_61_12-62_1681391772457.json', '149_93_12-62_1681407500407.json', '173_148_12-62_1681423604961.json', '222_4_12-62_1681458505321.json']\n"
     ]
    },
    {
     "name": "stderr",
     "output_type": "stream",
     "text": [
      "C:\\Users\\julien\\AppData\\Local\\Temp\\ipykernel_5284\\1387881205.py:65: FutureWarning: The frame.append method is deprecated and will be removed from pandas in a future version. Use pandas.concat instead.\n",
      "  df_write = df_write.append(_v, ignore_index=True)\n",
      "C:\\Users\\julien\\AppData\\Local\\Temp\\ipykernel_5284\\1387881205.py:65: FutureWarning: The frame.append method is deprecated and will be removed from pandas in a future version. Use pandas.concat instead.\n",
      "  df_write = df_write.append(_v, ignore_index=True)\n",
      "C:\\Users\\julien\\AppData\\Local\\Temp\\ipykernel_5284\\1387881205.py:65: FutureWarning: The frame.append method is deprecated and will be removed from pandas in a future version. Use pandas.concat instead.\n",
      "  df_write = df_write.append(_v, ignore_index=True)\n",
      "C:\\Users\\julien\\AppData\\Local\\Temp\\ipykernel_5284\\1387881205.py:65: FutureWarning: The frame.append method is deprecated and will be removed from pandas in a future version. Use pandas.concat instead.\n",
      "  df_write = df_write.append(_v, ignore_index=True)\n",
      "C:\\Users\\julien\\AppData\\Local\\Temp\\ipykernel_5284\\1387881205.py:80: FutureWarning: The frame.append method is deprecated and will be removed from pandas in a future version. Use pandas.concat instead.\n",
      "  df_write = df_write.append(_v, ignore_index=True)\n",
      "C:\\Users\\julien\\AppData\\Local\\Temp\\ipykernel_5284\\1387881205.py:80: FutureWarning: The frame.append method is deprecated and will be removed from pandas in a future version. Use pandas.concat instead.\n",
      "  df_write = df_write.append(_v, ignore_index=True)\n",
      "C:\\Users\\julien\\AppData\\Local\\Temp\\ipykernel_5284\\1387881205.py:80: FutureWarning: The frame.append method is deprecated and will be removed from pandas in a future version. Use pandas.concat instead.\n",
      "  df_write = df_write.append(_v, ignore_index=True)\n"
     ]
    },
    {
     "name": "stdout",
     "output_type": "stream",
     "text": [
      "['187_106_12-62_1681431142134.json', '328_31_12-62_1681527151360.json', '308_63_12-62_1681510691596.json', '327_53_12-62_1681526719772.json', '332_27_12-62_1681529300970.json', '210_149_12-62_1681449106539.json', '187_51_12-62_1681430933686.json', '37_142_12-62_1681319984755.json', '292_106_12-62_1681501271626.json', '292_52_12-62_1681501084904.json', '165_111_12-62_1681419232285.json', '140_126_12-62_1681402407666.json', '173_38_12-62_1681423235469.json', '208_26_12-62_1681447111322.json', '138_142_12-62_1681401313794.json', '125_12_12-62_1681393037554.json', '133_41_12-62_1681397906458.json', '131_60_12-62_1681396751927.json', '151_33_12-62_1681408454262.json', '352_19_12-62_1681544272530.json', '208_6_12-62_1681447043528.json', '340_104_12-62_1681536828416.json', '37_66_12-62_1681319685765.json', '147_147_12-62_1681406509567.json', '344_79_12-62_1681539031474.json']\n"
     ]
    },
    {
     "name": "stderr",
     "output_type": "stream",
     "text": [
      "C:\\Users\\julien\\AppData\\Local\\Temp\\ipykernel_5284\\1387881205.py:65: FutureWarning: The frame.append method is deprecated and will be removed from pandas in a future version. Use pandas.concat instead.\n",
      "  df_write = df_write.append(_v, ignore_index=True)\n",
      "C:\\Users\\julien\\AppData\\Local\\Temp\\ipykernel_5284\\1387881205.py:65: FutureWarning: The frame.append method is deprecated and will be removed from pandas in a future version. Use pandas.concat instead.\n",
      "  df_write = df_write.append(_v, ignore_index=True)\n",
      "C:\\Users\\julien\\AppData\\Local\\Temp\\ipykernel_5284\\1387881205.py:65: FutureWarning: The frame.append method is deprecated and will be removed from pandas in a future version. Use pandas.concat instead.\n",
      "  df_write = df_write.append(_v, ignore_index=True)\n",
      "C:\\Users\\julien\\AppData\\Local\\Temp\\ipykernel_5284\\1387881205.py:65: FutureWarning: The frame.append method is deprecated and will be removed from pandas in a future version. Use pandas.concat instead.\n",
      "  df_write = df_write.append(_v, ignore_index=True)\n",
      "C:\\Users\\julien\\AppData\\Local\\Temp\\ipykernel_5284\\1387881205.py:80: FutureWarning: The frame.append method is deprecated and will be removed from pandas in a future version. Use pandas.concat instead.\n",
      "  df_write = df_write.append(_v, ignore_index=True)\n",
      "C:\\Users\\julien\\AppData\\Local\\Temp\\ipykernel_5284\\1387881205.py:80: FutureWarning: The frame.append method is deprecated and will be removed from pandas in a future version. Use pandas.concat instead.\n",
      "  df_write = df_write.append(_v, ignore_index=True)\n",
      "C:\\Users\\julien\\AppData\\Local\\Temp\\ipykernel_5284\\1387881205.py:80: FutureWarning: The frame.append method is deprecated and will be removed from pandas in a future version. Use pandas.concat instead.\n",
      "  df_write = df_write.append(_v, ignore_index=True)\n"
     ]
    },
    {
     "name": "stdout",
     "output_type": "stream",
     "text": [
      "['42_65_12-62_1681322625486.json', '183_108_12-62_1681428959800.json', '274_19_12-62_1681491638117.json', '296_31_12-62_1681503202619.json', '123_74_12-62_1681391823644.json', '331_133_12-62_1681529141791.json', '352_10_12-62_1681544239850.json', '225_88_12-62_1681460579103.json', '279_139_12-62_1681494656480.json', '339_49_12-62_1681533431734.json', '131_113_12-62_1681396943483.json', '178_115_12-62_1681426230251.json', '357_70_12-62_1681547400000.json', '316_23_12-62_1681515003717.json', '148_101_12-62_1681406898387.json', '155_22_12-62_1681412120568.json', '345_132_12-62_1681540430291.json', '161_104_12-62_1681416782751.json', '176_61_12-62_1681424925615.json', '221_43_12-62_1681458051450.json', '322_14_12-62_1681523830166.json', '209_133_12-62_1681448183040.json', '37_40_12-62_1681319571918.json', '188_76_12-62_1681431600122.json', '141_70_12-62_1681402755722.json']\n"
     ]
    },
    {
     "name": "stderr",
     "output_type": "stream",
     "text": [
      "C:\\Users\\julien\\AppData\\Local\\Temp\\ipykernel_5284\\1387881205.py:65: FutureWarning: The frame.append method is deprecated and will be removed from pandas in a future version. Use pandas.concat instead.\n",
      "  df_write = df_write.append(_v, ignore_index=True)\n",
      "C:\\Users\\julien\\AppData\\Local\\Temp\\ipykernel_5284\\1387881205.py:65: FutureWarning: The frame.append method is deprecated and will be removed from pandas in a future version. Use pandas.concat instead.\n",
      "  df_write = df_write.append(_v, ignore_index=True)\n",
      "C:\\Users\\julien\\AppData\\Local\\Temp\\ipykernel_5284\\1387881205.py:65: FutureWarning: The frame.append method is deprecated and will be removed from pandas in a future version. Use pandas.concat instead.\n",
      "  df_write = df_write.append(_v, ignore_index=True)\n",
      "C:\\Users\\julien\\AppData\\Local\\Temp\\ipykernel_5284\\1387881205.py:65: FutureWarning: The frame.append method is deprecated and will be removed from pandas in a future version. Use pandas.concat instead.\n",
      "  df_write = df_write.append(_v, ignore_index=True)\n",
      "C:\\Users\\julien\\AppData\\Local\\Temp\\ipykernel_5284\\1387881205.py:80: FutureWarning: The frame.append method is deprecated and will be removed from pandas in a future version. Use pandas.concat instead.\n",
      "  df_write = df_write.append(_v, ignore_index=True)\n",
      "C:\\Users\\julien\\AppData\\Local\\Temp\\ipykernel_5284\\1387881205.py:80: FutureWarning: The frame.append method is deprecated and will be removed from pandas in a future version. Use pandas.concat instead.\n",
      "  df_write = df_write.append(_v, ignore_index=True)\n",
      "C:\\Users\\julien\\AppData\\Local\\Temp\\ipykernel_5284\\1387881205.py:80: FutureWarning: The frame.append method is deprecated and will be removed from pandas in a future version. Use pandas.concat instead.\n",
      "  df_write = df_write.append(_v, ignore_index=True)\n"
     ]
    },
    {
     "name": "stdout",
     "output_type": "stream",
     "text": [
      "['301_63_12-62_1681506164669.json', '206_30_12-62_1681445850918.json', '143_19_12-62_1681403682478.json', '31_90_12-62_1681316492810.json', '211_108_12-62_1681449264129.json', '285_9_12-62_1681497089428.json', '162_13_12-62_1681416981489.json', '203_18_12-62_1681443918026.json', '206_51_12-62_1681445954855.json', '142_94_12-62_1681403404817.json', '288_129_12-62_1681499234163.json', '333_44_12-62_1681529842105.json', '148_55_12-62_1681406738431.json', '288_18_12-62_1681498805992.json', '322_125_12-62_1681524324118.json', '332_63_12-62_1681529431972.json', '171_140_12-62_1681422572806.json', '328_35_12-62_1681527158206.json', '210_55_12-62_1681448498915.json', '220_73_12-62_1681457599061.json', '316_36_12-62_1681515048879.json', '188_121_12-62_1681432021882.json', '232_39_12-62_1681464394844.json', '137_135_12-62_1681400627649.json', '210_90_12-62_1681448649958.json']\n"
     ]
    },
    {
     "name": "stderr",
     "output_type": "stream",
     "text": [
      "C:\\Users\\julien\\AppData\\Local\\Temp\\ipykernel_5284\\1387881205.py:65: FutureWarning: The frame.append method is deprecated and will be removed from pandas in a future version. Use pandas.concat instead.\n",
      "  df_write = df_write.append(_v, ignore_index=True)\n",
      "C:\\Users\\julien\\AppData\\Local\\Temp\\ipykernel_5284\\1387881205.py:65: FutureWarning: The frame.append method is deprecated and will be removed from pandas in a future version. Use pandas.concat instead.\n",
      "  df_write = df_write.append(_v, ignore_index=True)\n",
      "C:\\Users\\julien\\AppData\\Local\\Temp\\ipykernel_5284\\1387881205.py:65: FutureWarning: The frame.append method is deprecated and will be removed from pandas in a future version. Use pandas.concat instead.\n",
      "  df_write = df_write.append(_v, ignore_index=True)\n",
      "C:\\Users\\julien\\AppData\\Local\\Temp\\ipykernel_5284\\1387881205.py:65: FutureWarning: The frame.append method is deprecated and will be removed from pandas in a future version. Use pandas.concat instead.\n",
      "  df_write = df_write.append(_v, ignore_index=True)\n",
      "C:\\Users\\julien\\AppData\\Local\\Temp\\ipykernel_5284\\1387881205.py:80: FutureWarning: The frame.append method is deprecated and will be removed from pandas in a future version. Use pandas.concat instead.\n",
      "  df_write = df_write.append(_v, ignore_index=True)\n",
      "C:\\Users\\julien\\AppData\\Local\\Temp\\ipykernel_5284\\1387881205.py:80: FutureWarning: The frame.append method is deprecated and will be removed from pandas in a future version. Use pandas.concat instead.\n",
      "  df_write = df_write.append(_v, ignore_index=True)\n",
      "C:\\Users\\julien\\AppData\\Local\\Temp\\ipykernel_5284\\1387881205.py:80: FutureWarning: The frame.append method is deprecated and will be removed from pandas in a future version. Use pandas.concat instead.\n",
      "  df_write = df_write.append(_v, ignore_index=True)\n"
     ]
    },
    {
     "name": "stdout",
     "output_type": "stream",
     "text": [
      "['320_43_12-62_1681517132506.json', '217_24_12-62_1681452634750.json', '219_134_12-62_1681457186004.json', '205_104_12-62_1681445513354.json', '230_88_12-62_1681463510354.json', '304_96_12-62_1681508184344.json', '207_55_12-62_1681446635852.json', '146_21_12-62_1681405415707.json', '340_78_12-62_1681536744884.json', '154_109_12-62_1681411904438.json', '43_107_12-62_1681323319718.json', '157_96_12-62_1681413401628.json', '338_73_12-62_1681532954893.json', '351_59_12-62_1681543769295.json', '136_28_12-62_1681399602100.json', '199_106_12-62_1681441842142.json', '38_62_12-62_1681320280363.json', '280_121_12-62_1681495062826.json', '157_83_12-62_1681413345039.json', '42_75_12-62_1681322667055.json', '196_81_12-62_1681439930471.json', '141_117_12-62_1681402929742.json', '212_88_12-62_1681449733767.json', '211_6_12-62_1681448909911.json', '154_67_12-62_1681411770359.json']\n"
     ]
    },
    {
     "name": "stderr",
     "output_type": "stream",
     "text": [
      "C:\\Users\\julien\\AppData\\Local\\Temp\\ipykernel_5284\\1387881205.py:65: FutureWarning: The frame.append method is deprecated and will be removed from pandas in a future version. Use pandas.concat instead.\n",
      "  df_write = df_write.append(_v, ignore_index=True)\n",
      "C:\\Users\\julien\\AppData\\Local\\Temp\\ipykernel_5284\\1387881205.py:65: FutureWarning: The frame.append method is deprecated and will be removed from pandas in a future version. Use pandas.concat instead.\n",
      "  df_write = df_write.append(_v, ignore_index=True)\n",
      "C:\\Users\\julien\\AppData\\Local\\Temp\\ipykernel_5284\\1387881205.py:65: FutureWarning: The frame.append method is deprecated and will be removed from pandas in a future version. Use pandas.concat instead.\n",
      "  df_write = df_write.append(_v, ignore_index=True)\n",
      "C:\\Users\\julien\\AppData\\Local\\Temp\\ipykernel_5284\\1387881205.py:65: FutureWarning: The frame.append method is deprecated and will be removed from pandas in a future version. Use pandas.concat instead.\n",
      "  df_write = df_write.append(_v, ignore_index=True)\n",
      "C:\\Users\\julien\\AppData\\Local\\Temp\\ipykernel_5284\\1387881205.py:80: FutureWarning: The frame.append method is deprecated and will be removed from pandas in a future version. Use pandas.concat instead.\n",
      "  df_write = df_write.append(_v, ignore_index=True)\n",
      "C:\\Users\\julien\\AppData\\Local\\Temp\\ipykernel_5284\\1387881205.py:80: FutureWarning: The frame.append method is deprecated and will be removed from pandas in a future version. Use pandas.concat instead.\n",
      "  df_write = df_write.append(_v, ignore_index=True)\n",
      "C:\\Users\\julien\\AppData\\Local\\Temp\\ipykernel_5284\\1387881205.py:80: FutureWarning: The frame.append method is deprecated and will be removed from pandas in a future version. Use pandas.concat instead.\n",
      "  df_write = df_write.append(_v, ignore_index=True)\n"
     ]
    },
    {
     "name": "stdout",
     "output_type": "stream",
     "text": [
      "['199_25_12-62_1681441509390.json', '198_5_12-62_1681440883538.json', '215_82_12-62_1681451586745.json', '194_25_12-62_1681438462356.json', '319_134_12-62_1681516919605.json', '166_16_12-62_1681419455912.json', '36_140_12-62_1681319371011.json', '311_47_12-62_1681512201806.json', '286_105_12-62_1681497959588.json', '189_127_12-62_1681432649569.json', '299_36_12-62_1681504831718.json', '231_104_12-62_1681464125810.json', '292_15_12-62_1681500961323.json', '210_108_12-62_1681448714514.json', '224_51_12-62_1681459808046.json', '326_145_12-62_1681526522152.json', '333_115_12-62_1681530083777.json', '315_96_12-62_1681514740730.json', '201_148_12-62_1681443637098.json', '155_88_12-62_1681412309833.json', '343_10_12-62_1681538125340.json', '212_79_12-62_1681449705711.json', '145_131_12-62_1681405269654.json', '122_132_12-62_1681391526038.json', '156_17_12-62_1681412557757.json']\n"
     ]
    },
    {
     "name": "stderr",
     "output_type": "stream",
     "text": [
      "C:\\Users\\julien\\AppData\\Local\\Temp\\ipykernel_5284\\1387881205.py:65: FutureWarning: The frame.append method is deprecated and will be removed from pandas in a future version. Use pandas.concat instead.\n",
      "  df_write = df_write.append(_v, ignore_index=True)\n",
      "C:\\Users\\julien\\AppData\\Local\\Temp\\ipykernel_5284\\1387881205.py:65: FutureWarning: The frame.append method is deprecated and will be removed from pandas in a future version. Use pandas.concat instead.\n",
      "  df_write = df_write.append(_v, ignore_index=True)\n",
      "C:\\Users\\julien\\AppData\\Local\\Temp\\ipykernel_5284\\1387881205.py:65: FutureWarning: The frame.append method is deprecated and will be removed from pandas in a future version. Use pandas.concat instead.\n",
      "  df_write = df_write.append(_v, ignore_index=True)\n",
      "C:\\Users\\julien\\AppData\\Local\\Temp\\ipykernel_5284\\1387881205.py:65: FutureWarning: The frame.append method is deprecated and will be removed from pandas in a future version. Use pandas.concat instead.\n",
      "  df_write = df_write.append(_v, ignore_index=True)\n",
      "C:\\Users\\julien\\AppData\\Local\\Temp\\ipykernel_5284\\1387881205.py:80: FutureWarning: The frame.append method is deprecated and will be removed from pandas in a future version. Use pandas.concat instead.\n",
      "  df_write = df_write.append(_v, ignore_index=True)\n",
      "C:\\Users\\julien\\AppData\\Local\\Temp\\ipykernel_5284\\1387881205.py:80: FutureWarning: The frame.append method is deprecated and will be removed from pandas in a future version. Use pandas.concat instead.\n",
      "  df_write = df_write.append(_v, ignore_index=True)\n",
      "C:\\Users\\julien\\AppData\\Local\\Temp\\ipykernel_5284\\1387881205.py:80: FutureWarning: The frame.append method is deprecated and will be removed from pandas in a future version. Use pandas.concat instead.\n",
      "  df_write = df_write.append(_v, ignore_index=True)\n"
     ]
    },
    {
     "name": "stdout",
     "output_type": "stream",
     "text": [
      "['233_55_12-62_1681464900436.json', '31_97_12-62_1681316522169.json', '136_82_12-62_1681399862143.json', '219_0_12-62_1681453816331.json', '291_136_12-62_1681500869844.json', '39_113_12-62_1681321019029.json', '123_31_12-62_1681391688003.json', '352_0_12-62_1681544205046.json', '350_82_12-62_1681543210751.json', '202_118_12-62_1681443743528.json', '191_60_12-62_1681436943983.json', '342_116_12-62_1681537951757.json', '169_149_12-62_1681421712838.json', '318_86_12-62_1681516241111.json', '352_79_12-62_1681544524415.json', '180_47_12-62_1681427084907.json', '274_110_12-62_1681491999227.json', '337_78_12-62_1681532303540.json', '326_40_12-62_1681526188214.json', '307_91_12-62_1681510279165.json', '339_137_12-62_1681533801252.json', '311_6_12-62_1681512048485.json', '204_4_12-62_1681444392730.json', '301_134_12-62_1681506443724.json', '315_11_12-62_1681514406406.json']\n"
     ]
    },
    {
     "name": "stderr",
     "output_type": "stream",
     "text": [
      "C:\\Users\\julien\\AppData\\Local\\Temp\\ipykernel_5284\\1387881205.py:65: FutureWarning: The frame.append method is deprecated and will be removed from pandas in a future version. Use pandas.concat instead.\n",
      "  df_write = df_write.append(_v, ignore_index=True)\n",
      "C:\\Users\\julien\\AppData\\Local\\Temp\\ipykernel_5284\\1387881205.py:65: FutureWarning: The frame.append method is deprecated and will be removed from pandas in a future version. Use pandas.concat instead.\n",
      "  df_write = df_write.append(_v, ignore_index=True)\n",
      "C:\\Users\\julien\\AppData\\Local\\Temp\\ipykernel_5284\\1387881205.py:65: FutureWarning: The frame.append method is deprecated and will be removed from pandas in a future version. Use pandas.concat instead.\n",
      "  df_write = df_write.append(_v, ignore_index=True)\n",
      "C:\\Users\\julien\\AppData\\Local\\Temp\\ipykernel_5284\\1387881205.py:65: FutureWarning: The frame.append method is deprecated and will be removed from pandas in a future version. Use pandas.concat instead.\n",
      "  df_write = df_write.append(_v, ignore_index=True)\n",
      "C:\\Users\\julien\\AppData\\Local\\Temp\\ipykernel_5284\\1387881205.py:80: FutureWarning: The frame.append method is deprecated and will be removed from pandas in a future version. Use pandas.concat instead.\n",
      "  df_write = df_write.append(_v, ignore_index=True)\n",
      "C:\\Users\\julien\\AppData\\Local\\Temp\\ipykernel_5284\\1387881205.py:80: FutureWarning: The frame.append method is deprecated and will be removed from pandas in a future version. Use pandas.concat instead.\n",
      "  df_write = df_write.append(_v, ignore_index=True)\n",
      "C:\\Users\\julien\\AppData\\Local\\Temp\\ipykernel_5284\\1387881205.py:80: FutureWarning: The frame.append method is deprecated and will be removed from pandas in a future version. Use pandas.concat instead.\n",
      "  df_write = df_write.append(_v, ignore_index=True)\n"
     ]
    },
    {
     "name": "stdout",
     "output_type": "stream",
     "text": [
      "['44_48_12-62_1681323635970.json', '337_144_12-62_1681532599534.json', '196_115_12-62_1681440064054.json', '37_54_12-62_1681319627456.json', '279_49_12-62_1681494309417.json', '156_90_12-62_1681412851047.json', '201_148_12-62_1681443298904.json', '130_19_12-62_1681395914789.json', '154_84_12-62_1681411813253.json', '231_22_12-62_1681463803461.json', '305_76_12-62_1681508684115.json', '312_105_12-62_1681513068716.json', '280_66_12-62_1681494887862.json', '341_101_12-62_1681537379609.json', '233_54_12-62_1681464897247.json', '292_19_12-62_1681500968434.json', '31_55_12-62_1681316347785.json', '331_107_12-62_1681529028769.json', '222_118_12-62_1681458902035.json', '304_20_12-62_1681507774000.json', '164_74_12-62_1681418453020.json', '357_101_12-62_1681547496621.json', '335_55_12-62_1681531054178.json', '140_75_12-62_1681402214746.json', '272_139_12-62_1681491000985.json']\n"
     ]
    },
    {
     "name": "stderr",
     "output_type": "stream",
     "text": [
      "C:\\Users\\julien\\AppData\\Local\\Temp\\ipykernel_5284\\1387881205.py:65: FutureWarning: The frame.append method is deprecated and will be removed from pandas in a future version. Use pandas.concat instead.\n",
      "  df_write = df_write.append(_v, ignore_index=True)\n",
      "C:\\Users\\julien\\AppData\\Local\\Temp\\ipykernel_5284\\1387881205.py:65: FutureWarning: The frame.append method is deprecated and will be removed from pandas in a future version. Use pandas.concat instead.\n",
      "  df_write = df_write.append(_v, ignore_index=True)\n",
      "C:\\Users\\julien\\AppData\\Local\\Temp\\ipykernel_5284\\1387881205.py:65: FutureWarning: The frame.append method is deprecated and will be removed from pandas in a future version. Use pandas.concat instead.\n",
      "  df_write = df_write.append(_v, ignore_index=True)\n",
      "C:\\Users\\julien\\AppData\\Local\\Temp\\ipykernel_5284\\1387881205.py:65: FutureWarning: The frame.append method is deprecated and will be removed from pandas in a future version. Use pandas.concat instead.\n",
      "  df_write = df_write.append(_v, ignore_index=True)\n",
      "C:\\Users\\julien\\AppData\\Local\\Temp\\ipykernel_5284\\1387881205.py:80: FutureWarning: The frame.append method is deprecated and will be removed from pandas in a future version. Use pandas.concat instead.\n",
      "  df_write = df_write.append(_v, ignore_index=True)\n",
      "C:\\Users\\julien\\AppData\\Local\\Temp\\ipykernel_5284\\1387881205.py:80: FutureWarning: The frame.append method is deprecated and will be removed from pandas in a future version. Use pandas.concat instead.\n",
      "  df_write = df_write.append(_v, ignore_index=True)\n",
      "C:\\Users\\julien\\AppData\\Local\\Temp\\ipykernel_5284\\1387881205.py:80: FutureWarning: The frame.append method is deprecated and will be removed from pandas in a future version. Use pandas.concat instead.\n",
      "  df_write = df_write.append(_v, ignore_index=True)\n"
     ]
    },
    {
     "name": "stdout",
     "output_type": "stream",
     "text": [
      "['301_26_12-62_1681505993637.json', '145_126_12-62_1681405261493.json', '334_73_12-62_1681530485940.json', '151_114_12-62_1681408736610.json', '211_114_12-62_1681449281045.json', '356_85_12-62_1681546832032.json', '344_73_12-62_1681539018287.json', '203_129_12-62_1681444301390.json', '207_91_12-62_1681446784792.json', '278_107_12-62_1681494013014.json', '169_40_12-62_1681421160556.json', '220_91_12-62_1681457682713.json', '309_89_12-62_1681511276692.json', '33_117_12-62_1681317559024.json', '295_76_12-62_1681502820634.json', '219_124_12-62_1681457148373.json', '142_148_12-62_1681403968474.json', '349_102_12-62_1681542684619.json', '150_76_12-62_1681408025077.json', '321_29_12-62_1681517608554.json', '216_144_12-62_1681452517371.json', '201_35_12-62_1681442860021.json', '164_98_12-62_1681418572405.json', '337_41_12-62_1681532129678.json', '219_53_12-62_1681453987165.json']\n"
     ]
    },
    {
     "name": "stderr",
     "output_type": "stream",
     "text": [
      "C:\\Users\\julien\\AppData\\Local\\Temp\\ipykernel_5284\\1387881205.py:65: FutureWarning: The frame.append method is deprecated and will be removed from pandas in a future version. Use pandas.concat instead.\n",
      "  df_write = df_write.append(_v, ignore_index=True)\n",
      "C:\\Users\\julien\\AppData\\Local\\Temp\\ipykernel_5284\\1387881205.py:65: FutureWarning: The frame.append method is deprecated and will be removed from pandas in a future version. Use pandas.concat instead.\n",
      "  df_write = df_write.append(_v, ignore_index=True)\n",
      "C:\\Users\\julien\\AppData\\Local\\Temp\\ipykernel_5284\\1387881205.py:65: FutureWarning: The frame.append method is deprecated and will be removed from pandas in a future version. Use pandas.concat instead.\n",
      "  df_write = df_write.append(_v, ignore_index=True)\n",
      "C:\\Users\\julien\\AppData\\Local\\Temp\\ipykernel_5284\\1387881205.py:65: FutureWarning: The frame.append method is deprecated and will be removed from pandas in a future version. Use pandas.concat instead.\n",
      "  df_write = df_write.append(_v, ignore_index=True)\n",
      "C:\\Users\\julien\\AppData\\Local\\Temp\\ipykernel_5284\\1387881205.py:80: FutureWarning: The frame.append method is deprecated and will be removed from pandas in a future version. Use pandas.concat instead.\n",
      "  df_write = df_write.append(_v, ignore_index=True)\n",
      "C:\\Users\\julien\\AppData\\Local\\Temp\\ipykernel_5284\\1387881205.py:80: FutureWarning: The frame.append method is deprecated and will be removed from pandas in a future version. Use pandas.concat instead.\n",
      "  df_write = df_write.append(_v, ignore_index=True)\n",
      "C:\\Users\\julien\\AppData\\Local\\Temp\\ipykernel_5284\\1387881205.py:80: FutureWarning: The frame.append method is deprecated and will be removed from pandas in a future version. Use pandas.concat instead.\n",
      "  df_write = df_write.append(_v, ignore_index=True)\n"
     ]
    },
    {
     "name": "stdout",
     "output_type": "stream",
     "text": [
      "['145_77_12-62_1681405071383.json', '314_136_12-62_1681514299841.json', '222_116_12-62_1681458894105.json', '276_148_12-62_1681493114195.json', '311_96_12-62_1681512396159.json', '225_127_12-62_1681460785048.json', '134_86_12-62_1681398662610.json', '185_110_12-62_1681429983142.json', '207_35_12-62_1681446570362.json', '352_22_12-62_1681544285126.json', '137_48_12-62_1681400278396.json', '181_9_12-62_1681427526166.json', '281_77_12-62_1681495357797.json', '337_143_12-62_1681532598021.json', '188_72_12-62_1681431585554.json', '278_2_12-62_1681493671354.json', '282_145_12-62_1681496060948.json', '336_96_12-62_1681531760451.json', '198_54_12-62_1681441051036.json', '129_97_12-62_1681395659124.json', '355_45_12-62_1681546133151.json', '143_63_12-62_1681403873520.json', '271_113_12-62_1681490379183.json', '132_18_12-62_1681397171815.json', '340_63_12-62_1681536698449.json']\n"
     ]
    },
    {
     "name": "stderr",
     "output_type": "stream",
     "text": [
      "C:\\Users\\julien\\AppData\\Local\\Temp\\ipykernel_5284\\1387881205.py:65: FutureWarning: The frame.append method is deprecated and will be removed from pandas in a future version. Use pandas.concat instead.\n",
      "  df_write = df_write.append(_v, ignore_index=True)\n",
      "C:\\Users\\julien\\AppData\\Local\\Temp\\ipykernel_5284\\1387881205.py:65: FutureWarning: The frame.append method is deprecated and will be removed from pandas in a future version. Use pandas.concat instead.\n",
      "  df_write = df_write.append(_v, ignore_index=True)\n",
      "C:\\Users\\julien\\AppData\\Local\\Temp\\ipykernel_5284\\1387881205.py:65: FutureWarning: The frame.append method is deprecated and will be removed from pandas in a future version. Use pandas.concat instead.\n",
      "  df_write = df_write.append(_v, ignore_index=True)\n",
      "C:\\Users\\julien\\AppData\\Local\\Temp\\ipykernel_5284\\1387881205.py:65: FutureWarning: The frame.append method is deprecated and will be removed from pandas in a future version. Use pandas.concat instead.\n",
      "  df_write = df_write.append(_v, ignore_index=True)\n",
      "C:\\Users\\julien\\AppData\\Local\\Temp\\ipykernel_5284\\1387881205.py:80: FutureWarning: The frame.append method is deprecated and will be removed from pandas in a future version. Use pandas.concat instead.\n",
      "  df_write = df_write.append(_v, ignore_index=True)\n",
      "C:\\Users\\julien\\AppData\\Local\\Temp\\ipykernel_5284\\1387881205.py:80: FutureWarning: The frame.append method is deprecated and will be removed from pandas in a future version. Use pandas.concat instead.\n",
      "  df_write = df_write.append(_v, ignore_index=True)\n",
      "C:\\Users\\julien\\AppData\\Local\\Temp\\ipykernel_5284\\1387881205.py:80: FutureWarning: The frame.append method is deprecated and will be removed from pandas in a future version. Use pandas.concat instead.\n",
      "  df_write = df_write.append(_v, ignore_index=True)\n"
     ]
    },
    {
     "name": "stdout",
     "output_type": "stream",
     "text": [
      "['35_34_12-62_1681318429499.json', '287_149_12-62_1681498971933.json', '293_48_12-62_1681501574007.json', '314_52_12-62_1681513963154.json', '151_94_12-62_1681408669456.json', '318_64_12-62_1681516176961.json', '184_3_12-62_1681429111190.json', '228_31_12-62_1681462096822.json', '209_43_12-62_1681447859722.json', '288_33_12-62_1681498876568.json', '315_133_12-62_1681514866516.json', '228_81_12-62_1681462273428.json', '283_100_12-62_1681496411783.json', '344_149_12-62_1681539454252.json', '150_44_12-62_1681407890981.json', '210_71_12-62_1681448572451.json', '224_21_12-62_1681459689113.json', '342_26_12-62_1681537627849.json', '141_13_12-62_1681402542817.json', '277_148_12-62_1681493946490.json', '303_90_12-62_1681507452936.json', '176_1_12-62_1681424730565.json', '191_25_12-62_1681436800117.json', '156_138_12-62_1681413008790.json', '205_148_12-62_1681446005062.json']\n"
     ]
    },
    {
     "name": "stderr",
     "output_type": "stream",
     "text": [
      "C:\\Users\\julien\\AppData\\Local\\Temp\\ipykernel_5284\\1387881205.py:65: FutureWarning: The frame.append method is deprecated and will be removed from pandas in a future version. Use pandas.concat instead.\n",
      "  df_write = df_write.append(_v, ignore_index=True)\n",
      "C:\\Users\\julien\\AppData\\Local\\Temp\\ipykernel_5284\\1387881205.py:65: FutureWarning: The frame.append method is deprecated and will be removed from pandas in a future version. Use pandas.concat instead.\n",
      "  df_write = df_write.append(_v, ignore_index=True)\n",
      "C:\\Users\\julien\\AppData\\Local\\Temp\\ipykernel_5284\\1387881205.py:65: FutureWarning: The frame.append method is deprecated and will be removed from pandas in a future version. Use pandas.concat instead.\n",
      "  df_write = df_write.append(_v, ignore_index=True)\n",
      "C:\\Users\\julien\\AppData\\Local\\Temp\\ipykernel_5284\\1387881205.py:65: FutureWarning: The frame.append method is deprecated and will be removed from pandas in a future version. Use pandas.concat instead.\n",
      "  df_write = df_write.append(_v, ignore_index=True)\n",
      "C:\\Users\\julien\\AppData\\Local\\Temp\\ipykernel_5284\\1387881205.py:80: FutureWarning: The frame.append method is deprecated and will be removed from pandas in a future version. Use pandas.concat instead.\n",
      "  df_write = df_write.append(_v, ignore_index=True)\n",
      "C:\\Users\\julien\\AppData\\Local\\Temp\\ipykernel_5284\\1387881205.py:80: FutureWarning: The frame.append method is deprecated and will be removed from pandas in a future version. Use pandas.concat instead.\n",
      "  df_write = df_write.append(_v, ignore_index=True)\n",
      "C:\\Users\\julien\\AppData\\Local\\Temp\\ipykernel_5284\\1387881205.py:80: FutureWarning: The frame.append method is deprecated and will be removed from pandas in a future version. Use pandas.concat instead.\n",
      "  df_write = df_write.append(_v, ignore_index=True)\n"
     ]
    },
    {
     "name": "stdout",
     "output_type": "stream",
     "text": [
      "['292_43_12-62_1681501055925.json', '172_140_12-62_1681423080150.json', '326_119_12-62_1681526426747.json', '217_31_12-62_1681452687050.json', '222_50_12-62_1681458668214.json', '319_34_12-62_1681516583305.json', '342_107_12-62_1681537930993.json', '42_34_12-62_1681322510421.json', '310_145_12-62_1681511994544.json', '189_69_12-62_1681432434037.json', '358_32_12-62_1681547810456.json', '342_16_12-62_1681537588994.json', '330_28_12-62_1681528175682.json', '188_120_12-62_1681432019961.json', '177_16_12-62_1681425265028.json', '285_148_12-62_1681497770423.json', '147_17_12-62_1681406042934.json', '41_139_12-62_1681322310962.json', '329_59_12-62_1681527772171.json', '271_81_12-62_1681490252815.json', '189_41_12-62_1681432325417.json', '175_91_12-62_1681424528330.json', '281_37_12-62_1681495265512.json', '45_13_12-62_1681324065856.json', '208_23_12-62_1681447103492.json']\n"
     ]
    },
    {
     "name": "stderr",
     "output_type": "stream",
     "text": [
      "C:\\Users\\julien\\AppData\\Local\\Temp\\ipykernel_5284\\1387881205.py:65: FutureWarning: The frame.append method is deprecated and will be removed from pandas in a future version. Use pandas.concat instead.\n",
      "  df_write = df_write.append(_v, ignore_index=True)\n",
      "C:\\Users\\julien\\AppData\\Local\\Temp\\ipykernel_5284\\1387881205.py:65: FutureWarning: The frame.append method is deprecated and will be removed from pandas in a future version. Use pandas.concat instead.\n",
      "  df_write = df_write.append(_v, ignore_index=True)\n",
      "C:\\Users\\julien\\AppData\\Local\\Temp\\ipykernel_5284\\1387881205.py:65: FutureWarning: The frame.append method is deprecated and will be removed from pandas in a future version. Use pandas.concat instead.\n",
      "  df_write = df_write.append(_v, ignore_index=True)\n",
      "C:\\Users\\julien\\AppData\\Local\\Temp\\ipykernel_5284\\1387881205.py:65: FutureWarning: The frame.append method is deprecated and will be removed from pandas in a future version. Use pandas.concat instead.\n",
      "  df_write = df_write.append(_v, ignore_index=True)\n",
      "C:\\Users\\julien\\AppData\\Local\\Temp\\ipykernel_5284\\1387881205.py:80: FutureWarning: The frame.append method is deprecated and will be removed from pandas in a future version. Use pandas.concat instead.\n",
      "  df_write = df_write.append(_v, ignore_index=True)\n",
      "C:\\Users\\julien\\AppData\\Local\\Temp\\ipykernel_5284\\1387881205.py:80: FutureWarning: The frame.append method is deprecated and will be removed from pandas in a future version. Use pandas.concat instead.\n",
      "  df_write = df_write.append(_v, ignore_index=True)\n",
      "C:\\Users\\julien\\AppData\\Local\\Temp\\ipykernel_5284\\1387881205.py:80: FutureWarning: The frame.append method is deprecated and will be removed from pandas in a future version. Use pandas.concat instead.\n",
      "  df_write = df_write.append(_v, ignore_index=True)\n"
     ]
    },
    {
     "name": "stdout",
     "output_type": "stream",
     "text": [
      "['312_144_12-62_1681513216748.json', '132_75_12-62_1681397392479.json', '168_147_12-62_1681421131007.json', '187_8_12-62_1681430762549.json', '136_13_12-62_1681399563619.json', '227_40_12-62_1681461616269.json', '320_66_12-62_1681517230746.json', '122_146_12-62_1681391565421.json', '317_75_12-62_1681515652278.json', '315_89_12-62_1681514689168.json', '147_67_12-62_1681406221596.json', '182_137_12-62_1681428577694.json', '206_146_12-62_1681446409458.json', '304_53_12-62_1681507952715.json', '228_120_12-62_1681462418297.json', '294_46_12-62_1681502122064.json', '213_16_12-62_1681450107098.json', '148_5_12-62_1681406561551.json', '231_47_12-62_1681463906110.json', '173_146_12-62_1681423729714.json', '344_38_12-62_1681538867080.json', '298_128_12-62_1681504566017.json', '128_72_12-62_1681395008674.json', '300_54_12-62_1681505478191.json', '150_79_12-62_1681408034688.json']\n"
     ]
    },
    {
     "name": "stderr",
     "output_type": "stream",
     "text": [
      "C:\\Users\\julien\\AppData\\Local\\Temp\\ipykernel_5284\\1387881205.py:65: FutureWarning: The frame.append method is deprecated and will be removed from pandas in a future version. Use pandas.concat instead.\n",
      "  df_write = df_write.append(_v, ignore_index=True)\n",
      "C:\\Users\\julien\\AppData\\Local\\Temp\\ipykernel_5284\\1387881205.py:65: FutureWarning: The frame.append method is deprecated and will be removed from pandas in a future version. Use pandas.concat instead.\n",
      "  df_write = df_write.append(_v, ignore_index=True)\n",
      "C:\\Users\\julien\\AppData\\Local\\Temp\\ipykernel_5284\\1387881205.py:65: FutureWarning: The frame.append method is deprecated and will be removed from pandas in a future version. Use pandas.concat instead.\n",
      "  df_write = df_write.append(_v, ignore_index=True)\n",
      "C:\\Users\\julien\\AppData\\Local\\Temp\\ipykernel_5284\\1387881205.py:65: FutureWarning: The frame.append method is deprecated and will be removed from pandas in a future version. Use pandas.concat instead.\n",
      "  df_write = df_write.append(_v, ignore_index=True)\n",
      "C:\\Users\\julien\\AppData\\Local\\Temp\\ipykernel_5284\\1387881205.py:80: FutureWarning: The frame.append method is deprecated and will be removed from pandas in a future version. Use pandas.concat instead.\n",
      "  df_write = df_write.append(_v, ignore_index=True)\n",
      "C:\\Users\\julien\\AppData\\Local\\Temp\\ipykernel_5284\\1387881205.py:80: FutureWarning: The frame.append method is deprecated and will be removed from pandas in a future version. Use pandas.concat instead.\n",
      "  df_write = df_write.append(_v, ignore_index=True)\n",
      "C:\\Users\\julien\\AppData\\Local\\Temp\\ipykernel_5284\\1387881205.py:80: FutureWarning: The frame.append method is deprecated and will be removed from pandas in a future version. Use pandas.concat instead.\n",
      "  df_write = df_write.append(_v, ignore_index=True)\n"
     ]
    },
    {
     "name": "stdout",
     "output_type": "stream",
     "text": [
      "['198_30_12-62_1681440982979.json', '228_24_12-62_1681462057327.json', '310_83_12-62_1681511786117.json', '277_0_12-62_1681493135128.json', '134_15_12-62_1681398415295.json', '181_41_12-62_1681427637083.json', '224_106_12-62_1681460001882.json', '297_64_12-62_1681503851218.json', '169_32_12-62_1681421143410.json', '126_38_12-62_1681393776671.json', '42_63_12-62_1681322617998.json', '279_14_12-62_1681494197288.json', '299_137_12-62_1681505231922.json', '150_43_12-62_1681407884985.json', '140_24_12-62_1681401983343.json', '199_18_12-62_1681441496895.json', '328_120_12-62_1681527424903.json', '126_101_12-62_1681394029619.json', '191_25_12-62_1681433405986.json', '206_31_12-62_1681445857048.json', '146_147_12-62_1681406278070.json', '310_13_12-62_1681511524998.json', '227_3_12-62_1681461481521.json', '210_93_12-62_1681448664726.json', '283_65_12-62_1681496292368.json']\n"
     ]
    },
    {
     "name": "stderr",
     "output_type": "stream",
     "text": [
      "C:\\Users\\julien\\AppData\\Local\\Temp\\ipykernel_5284\\1387881205.py:65: FutureWarning: The frame.append method is deprecated and will be removed from pandas in a future version. Use pandas.concat instead.\n",
      "  df_write = df_write.append(_v, ignore_index=True)\n",
      "C:\\Users\\julien\\AppData\\Local\\Temp\\ipykernel_5284\\1387881205.py:65: FutureWarning: The frame.append method is deprecated and will be removed from pandas in a future version. Use pandas.concat instead.\n",
      "  df_write = df_write.append(_v, ignore_index=True)\n",
      "C:\\Users\\julien\\AppData\\Local\\Temp\\ipykernel_5284\\1387881205.py:65: FutureWarning: The frame.append method is deprecated and will be removed from pandas in a future version. Use pandas.concat instead.\n",
      "  df_write = df_write.append(_v, ignore_index=True)\n",
      "C:\\Users\\julien\\AppData\\Local\\Temp\\ipykernel_5284\\1387881205.py:65: FutureWarning: The frame.append method is deprecated and will be removed from pandas in a future version. Use pandas.concat instead.\n",
      "  df_write = df_write.append(_v, ignore_index=True)\n",
      "C:\\Users\\julien\\AppData\\Local\\Temp\\ipykernel_5284\\1387881205.py:80: FutureWarning: The frame.append method is deprecated and will be removed from pandas in a future version. Use pandas.concat instead.\n",
      "  df_write = df_write.append(_v, ignore_index=True)\n",
      "C:\\Users\\julien\\AppData\\Local\\Temp\\ipykernel_5284\\1387881205.py:80: FutureWarning: The frame.append method is deprecated and will be removed from pandas in a future version. Use pandas.concat instead.\n",
      "  df_write = df_write.append(_v, ignore_index=True)\n",
      "C:\\Users\\julien\\AppData\\Local\\Temp\\ipykernel_5284\\1387881205.py:80: FutureWarning: The frame.append method is deprecated and will be removed from pandas in a future version. Use pandas.concat instead.\n",
      "  df_write = df_write.append(_v, ignore_index=True)\n"
     ]
    },
    {
     "name": "stdout",
     "output_type": "stream",
     "text": [
      "['141_81_12-62_1681402791322.json', '135_105_12-62_1681399339019.json', '217_137_12-62_1681453123052.json', '192_27_12-62_1681437359445.json', '277_8_12-62_1681493158683.json', '182_86_12-62_1681428381671.json', '187_45_12-62_1681430900746.json', '336_25_12-62_1681531496477.json', '147_2_12-62_1681405998674.json', '216_30_12-62_1681452008881.json', '36_56_12-62_1681319048162.json', '337_107_12-62_1681532446535.json', '192_64_12-62_1681437521157.json', '307_33_12-62_1681510066043.json', '356_133_12-62_1681547037944.json', '155_47_12-62_1681412199975.json', '312_99_12-62_1681513048098.json', '141_127_12-62_1681402980128.json', '316_80_12-62_1681515186844.json', '283_56_12-62_1681496246670.json', '187_146_12-62_1681431420059.json', '40_20_12-62_1681321231068.json', '298_39_12-62_1681504254914.json', '195_147_12-62_1681439961764.json', '141_49_12-62_1681402669987.json']\n"
     ]
    },
    {
     "name": "stderr",
     "output_type": "stream",
     "text": [
      "C:\\Users\\julien\\AppData\\Local\\Temp\\ipykernel_5284\\1387881205.py:65: FutureWarning: The frame.append method is deprecated and will be removed from pandas in a future version. Use pandas.concat instead.\n",
      "  df_write = df_write.append(_v, ignore_index=True)\n",
      "C:\\Users\\julien\\AppData\\Local\\Temp\\ipykernel_5284\\1387881205.py:65: FutureWarning: The frame.append method is deprecated and will be removed from pandas in a future version. Use pandas.concat instead.\n",
      "  df_write = df_write.append(_v, ignore_index=True)\n",
      "C:\\Users\\julien\\AppData\\Local\\Temp\\ipykernel_5284\\1387881205.py:65: FutureWarning: The frame.append method is deprecated and will be removed from pandas in a future version. Use pandas.concat instead.\n",
      "  df_write = df_write.append(_v, ignore_index=True)\n",
      "C:\\Users\\julien\\AppData\\Local\\Temp\\ipykernel_5284\\1387881205.py:65: FutureWarning: The frame.append method is deprecated and will be removed from pandas in a future version. Use pandas.concat instead.\n",
      "  df_write = df_write.append(_v, ignore_index=True)\n",
      "C:\\Users\\julien\\AppData\\Local\\Temp\\ipykernel_5284\\1387881205.py:80: FutureWarning: The frame.append method is deprecated and will be removed from pandas in a future version. Use pandas.concat instead.\n",
      "  df_write = df_write.append(_v, ignore_index=True)\n",
      "C:\\Users\\julien\\AppData\\Local\\Temp\\ipykernel_5284\\1387881205.py:80: FutureWarning: The frame.append method is deprecated and will be removed from pandas in a future version. Use pandas.concat instead.\n",
      "  df_write = df_write.append(_v, ignore_index=True)\n",
      "C:\\Users\\julien\\AppData\\Local\\Temp\\ipykernel_5284\\1387881205.py:80: FutureWarning: The frame.append method is deprecated and will be removed from pandas in a future version. Use pandas.concat instead.\n",
      "  df_write = df_write.append(_v, ignore_index=True)\n"
     ]
    },
    {
     "name": "stdout",
     "output_type": "stream",
     "text": [
      "['199_78_12-62_1681441729452.json', '139_145_12-62_1681402000422.json', '289_18_12-62_1681499371894.json', '127_116_12-62_1681394631690.json', '281_40_12-62_1681495271385.json', '188_71_12-62_1681431584462.json', '337_65_12-62_1681532261749.json', '122_147_12-62_1681391567941.json', '291_41_12-62_1681500556599.json', '161_147_12-62_1681417236856.json', '285_78_12-62_1681497329331.json', '345_75_12-62_1681540197220.json', '276_46_12-62_1681492800348.json', '343_72_12-62_1681538391076.json', '131_80_12-62_1681396826797.json', '40_18_12-62_1681321223712.json', '210_130_12-62_1681448799060.json', '344_125_12-62_1681539218990.json', '341_12_12-62_1681537037159.json', '337_2_12-62_1681531973427.json', '339_70_12-62_1681533526477.json', '188_66_12-62_1681431578686.json', '174_96_12-62_1681423960424.json', '286_52_12-62_1681497743533.json', '273_100_12-62_1681491403309.json']\n"
     ]
    },
    {
     "name": "stderr",
     "output_type": "stream",
     "text": [
      "C:\\Users\\julien\\AppData\\Local\\Temp\\ipykernel_5284\\1387881205.py:65: FutureWarning: The frame.append method is deprecated and will be removed from pandas in a future version. Use pandas.concat instead.\n",
      "  df_write = df_write.append(_v, ignore_index=True)\n",
      "C:\\Users\\julien\\AppData\\Local\\Temp\\ipykernel_5284\\1387881205.py:65: FutureWarning: The frame.append method is deprecated and will be removed from pandas in a future version. Use pandas.concat instead.\n",
      "  df_write = df_write.append(_v, ignore_index=True)\n",
      "C:\\Users\\julien\\AppData\\Local\\Temp\\ipykernel_5284\\1387881205.py:65: FutureWarning: The frame.append method is deprecated and will be removed from pandas in a future version. Use pandas.concat instead.\n",
      "  df_write = df_write.append(_v, ignore_index=True)\n",
      "C:\\Users\\julien\\AppData\\Local\\Temp\\ipykernel_5284\\1387881205.py:65: FutureWarning: The frame.append method is deprecated and will be removed from pandas in a future version. Use pandas.concat instead.\n",
      "  df_write = df_write.append(_v, ignore_index=True)\n",
      "C:\\Users\\julien\\AppData\\Local\\Temp\\ipykernel_5284\\1387881205.py:80: FutureWarning: The frame.append method is deprecated and will be removed from pandas in a future version. Use pandas.concat instead.\n",
      "  df_write = df_write.append(_v, ignore_index=True)\n",
      "C:\\Users\\julien\\AppData\\Local\\Temp\\ipykernel_5284\\1387881205.py:80: FutureWarning: The frame.append method is deprecated and will be removed from pandas in a future version. Use pandas.concat instead.\n",
      "  df_write = df_write.append(_v, ignore_index=True)\n",
      "C:\\Users\\julien\\AppData\\Local\\Temp\\ipykernel_5284\\1387881205.py:80: FutureWarning: The frame.append method is deprecated and will be removed from pandas in a future version. Use pandas.concat instead.\n",
      "  df_write = df_write.append(_v, ignore_index=True)\n"
     ]
    },
    {
     "name": "stdout",
     "output_type": "stream",
     "text": [
      "['135_45_12-62_1681399099048.json', '278_118_12-62_1681494044448.json', '287_124_12-62_1681498606094.json', '230_148_12-62_1681463719829.json', '208_13_12-62_1681447070268.json', '325_11_12-62_1681525538255.json', '133_17_12-62_1681397796877.json', '145_36_12-62_1681404937726.json', '345_145_12-62_1681540466795.json', '175_110_12-62_1681424582446.json', '132_35_12-62_1681397250558.json', '36_72_12-62_1681319106192.json', '150_69_12-62_1681408001555.json', '330_32_12-62_1681528220540.json', '195_33_12-62_1681439109131.json', '189_108_12-62_1681432580349.json', '207_85_12-62_1681446743726.json', '344_133_12-62_1681539245766.json', '351_87_12-62_1681543875749.json', '142_8_12-62_1681403095077.json', '205_99_12-62_1681445496282.json', '204_98_12-62_1681444818913.json', '176_70_12-62_1681424951069.json', '343_33_12-62_1681538222294.json', '303_54_12-62_1681507279413.json']\n"
     ]
    },
    {
     "name": "stderr",
     "output_type": "stream",
     "text": [
      "C:\\Users\\julien\\AppData\\Local\\Temp\\ipykernel_5284\\1387881205.py:65: FutureWarning: The frame.append method is deprecated and will be removed from pandas in a future version. Use pandas.concat instead.\n",
      "  df_write = df_write.append(_v, ignore_index=True)\n",
      "C:\\Users\\julien\\AppData\\Local\\Temp\\ipykernel_5284\\1387881205.py:65: FutureWarning: The frame.append method is deprecated and will be removed from pandas in a future version. Use pandas.concat instead.\n",
      "  df_write = df_write.append(_v, ignore_index=True)\n",
      "C:\\Users\\julien\\AppData\\Local\\Temp\\ipykernel_5284\\1387881205.py:65: FutureWarning: The frame.append method is deprecated and will be removed from pandas in a future version. Use pandas.concat instead.\n",
      "  df_write = df_write.append(_v, ignore_index=True)\n",
      "C:\\Users\\julien\\AppData\\Local\\Temp\\ipykernel_5284\\1387881205.py:65: FutureWarning: The frame.append method is deprecated and will be removed from pandas in a future version. Use pandas.concat instead.\n",
      "  df_write = df_write.append(_v, ignore_index=True)\n",
      "C:\\Users\\julien\\AppData\\Local\\Temp\\ipykernel_5284\\1387881205.py:80: FutureWarning: The frame.append method is deprecated and will be removed from pandas in a future version. Use pandas.concat instead.\n",
      "  df_write = df_write.append(_v, ignore_index=True)\n",
      "C:\\Users\\julien\\AppData\\Local\\Temp\\ipykernel_5284\\1387881205.py:80: FutureWarning: The frame.append method is deprecated and will be removed from pandas in a future version. Use pandas.concat instead.\n",
      "  df_write = df_write.append(_v, ignore_index=True)\n",
      "C:\\Users\\julien\\AppData\\Local\\Temp\\ipykernel_5284\\1387881205.py:80: FutureWarning: The frame.append method is deprecated and will be removed from pandas in a future version. Use pandas.concat instead.\n",
      "  df_write = df_write.append(_v, ignore_index=True)\n"
     ]
    },
    {
     "name": "stdout",
     "output_type": "stream",
     "text": [
      "['139_45_12-62_1681401513055.json', '294_108_12-62_1681502393719.json', '177_140_12-62_1681425703464.json', '175_31_12-62_1681424254640.json', '309_83_12-62_1681511263927.json', '138_87_12-62_1681401061434.json', '132_26_12-62_1681397205224.json', '345_108_12-62_1681540329013.json', '192_138_12-62_1681437780674.json', '138_117_12-62_1681401210828.json', '183_7_12-62_1681428656656.json', '293_76_12-62_1681501675158.json', '185_127_12-62_1681430035914.json', '156_132_12-62_1681412983918.json', '330_9_12-62_1681528127408.json', '195_26_12-62_1681439072385.json', '316_9_12-62_1681514969398.json', '126_10_12-62_1681393667440.json', '342_50_12-62_1681537695152.json', '34_65_12-62_1681317964083.json', '343_109_12-62_1681538532840.json', '156_59_12-62_1681412714628.json', '283_101_12-62_1681496416425.json', '280_92_12-62_1681494966174.json', '308_38_12-62_1681510613383.json']\n"
     ]
    },
    {
     "name": "stderr",
     "output_type": "stream",
     "text": [
      "C:\\Users\\julien\\AppData\\Local\\Temp\\ipykernel_5284\\1387881205.py:65: FutureWarning: The frame.append method is deprecated and will be removed from pandas in a future version. Use pandas.concat instead.\n",
      "  df_write = df_write.append(_v, ignore_index=True)\n",
      "C:\\Users\\julien\\AppData\\Local\\Temp\\ipykernel_5284\\1387881205.py:65: FutureWarning: The frame.append method is deprecated and will be removed from pandas in a future version. Use pandas.concat instead.\n",
      "  df_write = df_write.append(_v, ignore_index=True)\n",
      "C:\\Users\\julien\\AppData\\Local\\Temp\\ipykernel_5284\\1387881205.py:65: FutureWarning: The frame.append method is deprecated and will be removed from pandas in a future version. Use pandas.concat instead.\n",
      "  df_write = df_write.append(_v, ignore_index=True)\n",
      "C:\\Users\\julien\\AppData\\Local\\Temp\\ipykernel_5284\\1387881205.py:65: FutureWarning: The frame.append method is deprecated and will be removed from pandas in a future version. Use pandas.concat instead.\n",
      "  df_write = df_write.append(_v, ignore_index=True)\n",
      "C:\\Users\\julien\\AppData\\Local\\Temp\\ipykernel_5284\\1387881205.py:80: FutureWarning: The frame.append method is deprecated and will be removed from pandas in a future version. Use pandas.concat instead.\n",
      "  df_write = df_write.append(_v, ignore_index=True)\n",
      "C:\\Users\\julien\\AppData\\Local\\Temp\\ipykernel_5284\\1387881205.py:80: FutureWarning: The frame.append method is deprecated and will be removed from pandas in a future version. Use pandas.concat instead.\n",
      "  df_write = df_write.append(_v, ignore_index=True)\n",
      "C:\\Users\\julien\\AppData\\Local\\Temp\\ipykernel_5284\\1387881205.py:80: FutureWarning: The frame.append method is deprecated and will be removed from pandas in a future version. Use pandas.concat instead.\n",
      "  df_write = df_write.append(_v, ignore_index=True)\n"
     ]
    },
    {
     "name": "stdout",
     "output_type": "stream",
     "text": [
      "['147_73_12-62_1681406232403.json', '272_138_12-62_1681491000328.json', '40_82_12-62_1681321473037.json', '304_70_12-62_1681508053533.json', '310_43_12-62_1681511646567.json', '297_16_12-62_1681503669453.json', '308_2_12-62_1681510490697.json', '205_26_12-62_1681445159305.json', '186_56_12-62_1681430354594.json', '348_121_12-62_1681542217884.json', '121_18_12-62_1681390503163.json', '314_140_12-62_1681514315461.json', '334_54_12-62_1681530399879.json', '192_128_12-62_1681437748920.json', '290_103_12-62_1681500265389.json', '189_104_12-62_1681432567901.json', '35_124_12-62_1681318752037.json', '311_91_12-62_1681512368043.json', '349_147_12-62_1681542987307.json', '225_5_12-62_1681460200965.json', '351_3_12-62_1681543583294.json', '349_18_12-62_1681542379375.json', '230_61_12-62_1681463421252.json', '219_148_12-62_1681457527080.json', '274_13_12-62_1681491626049.json']\n"
     ]
    },
    {
     "name": "stderr",
     "output_type": "stream",
     "text": [
      "C:\\Users\\julien\\AppData\\Local\\Temp\\ipykernel_5284\\1387881205.py:65: FutureWarning: The frame.append method is deprecated and will be removed from pandas in a future version. Use pandas.concat instead.\n",
      "  df_write = df_write.append(_v, ignore_index=True)\n",
      "C:\\Users\\julien\\AppData\\Local\\Temp\\ipykernel_5284\\1387881205.py:65: FutureWarning: The frame.append method is deprecated and will be removed from pandas in a future version. Use pandas.concat instead.\n",
      "  df_write = df_write.append(_v, ignore_index=True)\n",
      "C:\\Users\\julien\\AppData\\Local\\Temp\\ipykernel_5284\\1387881205.py:65: FutureWarning: The frame.append method is deprecated and will be removed from pandas in a future version. Use pandas.concat instead.\n",
      "  df_write = df_write.append(_v, ignore_index=True)\n",
      "C:\\Users\\julien\\AppData\\Local\\Temp\\ipykernel_5284\\1387881205.py:65: FutureWarning: The frame.append method is deprecated and will be removed from pandas in a future version. Use pandas.concat instead.\n",
      "  df_write = df_write.append(_v, ignore_index=True)\n",
      "C:\\Users\\julien\\AppData\\Local\\Temp\\ipykernel_5284\\1387881205.py:80: FutureWarning: The frame.append method is deprecated and will be removed from pandas in a future version. Use pandas.concat instead.\n",
      "  df_write = df_write.append(_v, ignore_index=True)\n",
      "C:\\Users\\julien\\AppData\\Local\\Temp\\ipykernel_5284\\1387881205.py:80: FutureWarning: The frame.append method is deprecated and will be removed from pandas in a future version. Use pandas.concat instead.\n",
      "  df_write = df_write.append(_v, ignore_index=True)\n",
      "C:\\Users\\julien\\AppData\\Local\\Temp\\ipykernel_5284\\1387881205.py:80: FutureWarning: The frame.append method is deprecated and will be removed from pandas in a future version. Use pandas.concat instead.\n",
      "  df_write = df_write.append(_v, ignore_index=True)\n"
     ]
    },
    {
     "name": "stdout",
     "output_type": "stream",
     "text": [
      "['208_147_12-62_1681447901630.json', '204_119_12-62_1681444900661.json', '149_96_12-62_1681407508845.json', '203_42_12-62_1681443996081.json', '324_36_12-62_1681525104108.json', '213_93_12-62_1681450417890.json', '126_45_12-62_1681393799819.json', '172_27_12-62_1681422711164.json', '175_140_12-62_1681424682431.json', '145_148_12-62_1681405459806.json', '279_132_12-62_1681494636314.json', '144_6_12-62_1681404261253.json', '321_92_12-62_1681517820885.json', '130_103_12-62_1681396289811.json', '130_63_12-62_1681396131187.json', '331_18_12-62_1681528717301.json', '180_45_12-62_1681427078068.json', '141_113_12-62_1681402919116.json', '294_13_12-62_1681501986715.json', '217_84_12-62_1681452905249.json', '160_25_12-62_1681415946162.json', '211_69_12-62_1681449143015.json', '329_25_12-62_1681527626051.json', '204_145_12-62_1681445024852.json', '40_6_12-62_1681321183993.json']\n"
     ]
    },
    {
     "name": "stderr",
     "output_type": "stream",
     "text": [
      "C:\\Users\\julien\\AppData\\Local\\Temp\\ipykernel_5284\\1387881205.py:65: FutureWarning: The frame.append method is deprecated and will be removed from pandas in a future version. Use pandas.concat instead.\n",
      "  df_write = df_write.append(_v, ignore_index=True)\n",
      "C:\\Users\\julien\\AppData\\Local\\Temp\\ipykernel_5284\\1387881205.py:65: FutureWarning: The frame.append method is deprecated and will be removed from pandas in a future version. Use pandas.concat instead.\n",
      "  df_write = df_write.append(_v, ignore_index=True)\n",
      "C:\\Users\\julien\\AppData\\Local\\Temp\\ipykernel_5284\\1387881205.py:65: FutureWarning: The frame.append method is deprecated and will be removed from pandas in a future version. Use pandas.concat instead.\n",
      "  df_write = df_write.append(_v, ignore_index=True)\n",
      "C:\\Users\\julien\\AppData\\Local\\Temp\\ipykernel_5284\\1387881205.py:65: FutureWarning: The frame.append method is deprecated and will be removed from pandas in a future version. Use pandas.concat instead.\n",
      "  df_write = df_write.append(_v, ignore_index=True)\n",
      "C:\\Users\\julien\\AppData\\Local\\Temp\\ipykernel_5284\\1387881205.py:80: FutureWarning: The frame.append method is deprecated and will be removed from pandas in a future version. Use pandas.concat instead.\n",
      "  df_write = df_write.append(_v, ignore_index=True)\n",
      "C:\\Users\\julien\\AppData\\Local\\Temp\\ipykernel_5284\\1387881205.py:80: FutureWarning: The frame.append method is deprecated and will be removed from pandas in a future version. Use pandas.concat instead.\n",
      "  df_write = df_write.append(_v, ignore_index=True)\n",
      "C:\\Users\\julien\\AppData\\Local\\Temp\\ipykernel_5284\\1387881205.py:80: FutureWarning: The frame.append method is deprecated and will be removed from pandas in a future version. Use pandas.concat instead.\n",
      "  df_write = df_write.append(_v, ignore_index=True)\n"
     ]
    },
    {
     "name": "stdout",
     "output_type": "stream",
     "text": [
      "['180_37_12-62_1681427039090.json', '164_30_12-62_1681418290347.json', '274_137_12-62_1681492110852.json', '209_139_12-62_1681448195029.json', '327_149_12-62_1681527141776.json', '144_10_12-62_1681404270699.json', '128_53_12-62_1681394927416.json', '132_9_12-62_1681397139770.json', '41_82_12-62_1681322079193.json', '289_147_12-62_1681500199786.json', '287_131_12-62_1681498633223.json', '284_130_12-62_1681496995578.json', '310_124_12-62_1681511932685.json', '233_24_12-62_1681464800277.json', '168_147_12-62_1681421024630.json', '352_29_12-62_1681544309939.json', '43_57_12-62_1681323147027.json', '172_25_12-62_1681422709318.json', '200_129_12-62_1681442643168.json', '303_12_12-62_1681507136534.json', '345_119_12-62_1681540371194.json', '125_122_12-62_1681393529980.json', '130_126_12-62_1681396400785.json', '323_149_12-62_1681525196476.json', '308_97_12-62_1681510804077.json']\n"
     ]
    },
    {
     "name": "stderr",
     "output_type": "stream",
     "text": [
      "C:\\Users\\julien\\AppData\\Local\\Temp\\ipykernel_5284\\1387881205.py:65: FutureWarning: The frame.append method is deprecated and will be removed from pandas in a future version. Use pandas.concat instead.\n",
      "  df_write = df_write.append(_v, ignore_index=True)\n",
      "C:\\Users\\julien\\AppData\\Local\\Temp\\ipykernel_5284\\1387881205.py:65: FutureWarning: The frame.append method is deprecated and will be removed from pandas in a future version. Use pandas.concat instead.\n",
      "  df_write = df_write.append(_v, ignore_index=True)\n",
      "C:\\Users\\julien\\AppData\\Local\\Temp\\ipykernel_5284\\1387881205.py:65: FutureWarning: The frame.append method is deprecated and will be removed from pandas in a future version. Use pandas.concat instead.\n",
      "  df_write = df_write.append(_v, ignore_index=True)\n",
      "C:\\Users\\julien\\AppData\\Local\\Temp\\ipykernel_5284\\1387881205.py:65: FutureWarning: The frame.append method is deprecated and will be removed from pandas in a future version. Use pandas.concat instead.\n",
      "  df_write = df_write.append(_v, ignore_index=True)\n",
      "C:\\Users\\julien\\AppData\\Local\\Temp\\ipykernel_5284\\1387881205.py:80: FutureWarning: The frame.append method is deprecated and will be removed from pandas in a future version. Use pandas.concat instead.\n",
      "  df_write = df_write.append(_v, ignore_index=True)\n",
      "C:\\Users\\julien\\AppData\\Local\\Temp\\ipykernel_5284\\1387881205.py:80: FutureWarning: The frame.append method is deprecated and will be removed from pandas in a future version. Use pandas.concat instead.\n",
      "  df_write = df_write.append(_v, ignore_index=True)\n",
      "C:\\Users\\julien\\AppData\\Local\\Temp\\ipykernel_5284\\1387881205.py:80: FutureWarning: The frame.append method is deprecated and will be removed from pandas in a future version. Use pandas.concat instead.\n",
      "  df_write = df_write.append(_v, ignore_index=True)\n"
     ]
    },
    {
     "name": "stdout",
     "output_type": "stream",
     "text": [
      "['146_31_12-62_1681405475389.json', '338_31_12-62_1681532805247.json', '218_36_12-62_1681453341582.json', '131_146_12-62_1681397222985.json', '223_24_12-62_1681459130681.json', '324_146_12-62_1681525480881.json', '197_104_12-62_1681440643779.json', '44_112_12-62_1681323878382.json', '37_17_12-62_1681319478064.json', '135_28_12-62_1681399026871.json', '304_7_12-62_1681507721473.json', '225_13_12-62_1681460239499.json', '199_142_12-62_1681442012360.json', '301_136_12-62_1681506449378.json', '165_6_12-62_1681418837031.json', '325_114_12-62_1681525889960.json', '231_28_12-62_1681463825041.json', '187_79_12-62_1681431058219.json', '350_145_12-62_1681543536019.json', '336_112_12-62_1681531810644.json', '196_134_12-62_1681440142046.json', '227_129_12-62_1681461919601.json', '342_3_12-62_1681537555707.json', '340_116_12-62_1681536855589.json', '274_115_12-62_1681492020930.json']\n"
     ]
    },
    {
     "name": "stderr",
     "output_type": "stream",
     "text": [
      "C:\\Users\\julien\\AppData\\Local\\Temp\\ipykernel_5284\\1387881205.py:65: FutureWarning: The frame.append method is deprecated and will be removed from pandas in a future version. Use pandas.concat instead.\n",
      "  df_write = df_write.append(_v, ignore_index=True)\n",
      "C:\\Users\\julien\\AppData\\Local\\Temp\\ipykernel_5284\\1387881205.py:65: FutureWarning: The frame.append method is deprecated and will be removed from pandas in a future version. Use pandas.concat instead.\n",
      "  df_write = df_write.append(_v, ignore_index=True)\n",
      "C:\\Users\\julien\\AppData\\Local\\Temp\\ipykernel_5284\\1387881205.py:65: FutureWarning: The frame.append method is deprecated and will be removed from pandas in a future version. Use pandas.concat instead.\n",
      "  df_write = df_write.append(_v, ignore_index=True)\n",
      "C:\\Users\\julien\\AppData\\Local\\Temp\\ipykernel_5284\\1387881205.py:65: FutureWarning: The frame.append method is deprecated and will be removed from pandas in a future version. Use pandas.concat instead.\n",
      "  df_write = df_write.append(_v, ignore_index=True)\n",
      "C:\\Users\\julien\\AppData\\Local\\Temp\\ipykernel_5284\\1387881205.py:80: FutureWarning: The frame.append method is deprecated and will be removed from pandas in a future version. Use pandas.concat instead.\n",
      "  df_write = df_write.append(_v, ignore_index=True)\n",
      "C:\\Users\\julien\\AppData\\Local\\Temp\\ipykernel_5284\\1387881205.py:80: FutureWarning: The frame.append method is deprecated and will be removed from pandas in a future version. Use pandas.concat instead.\n",
      "  df_write = df_write.append(_v, ignore_index=True)\n",
      "C:\\Users\\julien\\AppData\\Local\\Temp\\ipykernel_5284\\1387881205.py:80: FutureWarning: The frame.append method is deprecated and will be removed from pandas in a future version. Use pandas.concat instead.\n",
      "  df_write = df_write.append(_v, ignore_index=True)\n"
     ]
    },
    {
     "name": "stdout",
     "output_type": "stream",
     "text": [
      "['302_7_12-62_1681506539817.json', '295_34_12-62_1681502680894.json', '219_77_12-62_1681456948801.json', '275_104_12-62_1681492504085.json', '349_122_12-62_1681542768499.json', '345_148_12-62_1681540838354.json', '278_15_12-62_1681493698023.json', '132_69_12-62_1681397376036.json', '285_140_12-62_1681497520570.json', '196_34_12-62_1681439754669.json', '182_41_12-62_1681428189347.json', '179_59_12-62_1681426544204.json', '308_8_12-62_1681510510138.json', '193_44_12-62_1681437982007.json', '210_38_12-62_1681448423110.json', '334_147_12-62_1681531064164.json', '352_42_12-62_1681544371537.json', '188_48_12-62_1681431489072.json', '228_145_12-62_1681462603739.json', '308_81_12-62_1681510732880.json', '329_101_12-62_1681527922289.json', '331_95_12-62_1681528995633.json', '132_79_12-62_1681397408309.json', '313_12_12-62_1681513288596.json', '214_130_12-62_1681451176999.json']\n"
     ]
    },
    {
     "name": "stderr",
     "output_type": "stream",
     "text": [
      "C:\\Users\\julien\\AppData\\Local\\Temp\\ipykernel_5284\\1387881205.py:65: FutureWarning: The frame.append method is deprecated and will be removed from pandas in a future version. Use pandas.concat instead.\n",
      "  df_write = df_write.append(_v, ignore_index=True)\n",
      "C:\\Users\\julien\\AppData\\Local\\Temp\\ipykernel_5284\\1387881205.py:65: FutureWarning: The frame.append method is deprecated and will be removed from pandas in a future version. Use pandas.concat instead.\n",
      "  df_write = df_write.append(_v, ignore_index=True)\n",
      "C:\\Users\\julien\\AppData\\Local\\Temp\\ipykernel_5284\\1387881205.py:65: FutureWarning: The frame.append method is deprecated and will be removed from pandas in a future version. Use pandas.concat instead.\n",
      "  df_write = df_write.append(_v, ignore_index=True)\n",
      "C:\\Users\\julien\\AppData\\Local\\Temp\\ipykernel_5284\\1387881205.py:65: FutureWarning: The frame.append method is deprecated and will be removed from pandas in a future version. Use pandas.concat instead.\n",
      "  df_write = df_write.append(_v, ignore_index=True)\n",
      "C:\\Users\\julien\\AppData\\Local\\Temp\\ipykernel_5284\\1387881205.py:80: FutureWarning: The frame.append method is deprecated and will be removed from pandas in a future version. Use pandas.concat instead.\n",
      "  df_write = df_write.append(_v, ignore_index=True)\n",
      "C:\\Users\\julien\\AppData\\Local\\Temp\\ipykernel_5284\\1387881205.py:80: FutureWarning: The frame.append method is deprecated and will be removed from pandas in a future version. Use pandas.concat instead.\n",
      "  df_write = df_write.append(_v, ignore_index=True)\n",
      "C:\\Users\\julien\\AppData\\Local\\Temp\\ipykernel_5284\\1387881205.py:80: FutureWarning: The frame.append method is deprecated and will be removed from pandas in a future version. Use pandas.concat instead.\n",
      "  df_write = df_write.append(_v, ignore_index=True)\n"
     ]
    },
    {
     "name": "stdout",
     "output_type": "stream",
     "text": [
      "['298_11_12-62_1681504164800.json', '288_124_12-62_1681499224160.json', '137_52_12-62_1681400293919.json', '173_43_12-62_1681423247884.json', '223_57_12-62_1681459279142.json', '299_0_12-62_1681504653965.json', '340_124_12-62_1681536924617.json', '126_44_12-62_1681393795743.json', '175_113_12-62_1681424589388.json', '287_149_12-62_1681498703777.json', '170_46_12-62_1681421662547.json', '151_9_12-62_1681408366969.json', '145_142_12-62_1681405308590.json', '183_48_12-62_1681428770906.json', '231_140_12-62_1681464240103.json', '309_73_12-62_1681511231854.json', '137_34_12-62_1681400238417.json', '147_103_12-62_1681406345736.json', '167_106_12-62_1681420309386.json', '333_18_12-62_1681529774684.json', '156_18_12-62_1681412562635.json', '275_83_12-62_1681492423843.json', '194_92_12-62_1681438763742.json', '210_81_12-62_1681448601770.json', '340_109_12-62_1681536838316.json']\n"
     ]
    },
    {
     "name": "stderr",
     "output_type": "stream",
     "text": [
      "C:\\Users\\julien\\AppData\\Local\\Temp\\ipykernel_5284\\1387881205.py:65: FutureWarning: The frame.append method is deprecated and will be removed from pandas in a future version. Use pandas.concat instead.\n",
      "  df_write = df_write.append(_v, ignore_index=True)\n",
      "C:\\Users\\julien\\AppData\\Local\\Temp\\ipykernel_5284\\1387881205.py:65: FutureWarning: The frame.append method is deprecated and will be removed from pandas in a future version. Use pandas.concat instead.\n",
      "  df_write = df_write.append(_v, ignore_index=True)\n",
      "C:\\Users\\julien\\AppData\\Local\\Temp\\ipykernel_5284\\1387881205.py:65: FutureWarning: The frame.append method is deprecated and will be removed from pandas in a future version. Use pandas.concat instead.\n",
      "  df_write = df_write.append(_v, ignore_index=True)\n",
      "C:\\Users\\julien\\AppData\\Local\\Temp\\ipykernel_5284\\1387881205.py:65: FutureWarning: The frame.append method is deprecated and will be removed from pandas in a future version. Use pandas.concat instead.\n",
      "  df_write = df_write.append(_v, ignore_index=True)\n",
      "C:\\Users\\julien\\AppData\\Local\\Temp\\ipykernel_5284\\1387881205.py:80: FutureWarning: The frame.append method is deprecated and will be removed from pandas in a future version. Use pandas.concat instead.\n",
      "  df_write = df_write.append(_v, ignore_index=True)\n",
      "C:\\Users\\julien\\AppData\\Local\\Temp\\ipykernel_5284\\1387881205.py:80: FutureWarning: The frame.append method is deprecated and will be removed from pandas in a future version. Use pandas.concat instead.\n",
      "  df_write = df_write.append(_v, ignore_index=True)\n",
      "C:\\Users\\julien\\AppData\\Local\\Temp\\ipykernel_5284\\1387881205.py:80: FutureWarning: The frame.append method is deprecated and will be removed from pandas in a future version. Use pandas.concat instead.\n",
      "  df_write = df_write.append(_v, ignore_index=True)\n"
     ]
    },
    {
     "name": "stdout",
     "output_type": "stream",
     "text": [
      "['163_69_12-62_1681417759007.json', '219_88_12-62_1681457002746.json', '285_135_12-62_1681497507453.json', '316_0_12-62_1681514946280.json', '134_130_12-62_1681398862600.json', '129_75_12-62_1681395561380.json', '209_99_12-62_1681448059501.json', '157_100_12-62_1681413417730.json', '194_144_12-62_1681438958886.json', '273_54_12-62_1681491247158.json', '166_134_12-62_1681419870882.json', '215_26_12-62_1681451345908.json', '357_148_12-62_1681547775943.json', '301_79_12-62_1681506218442.json', '221_149_12-62_1681458812985.json', '130_133_12-62_1681396422421.json', '190_85_12-62_1681433103121.json', '43_121_12-62_1681323375245.json', '320_141_12-62_1681517493573.json', '159_58_12-62_1681415536131.json', '285_101_12-62_1681497409641.json', '288_67_12-62_1681499009067.json', '33_122_12-62_1681317587591.json', '282_105_12-62_1681495937986.json', '302_90_12-62_1681506879299.json']\n"
     ]
    },
    {
     "name": "stderr",
     "output_type": "stream",
     "text": [
      "C:\\Users\\julien\\AppData\\Local\\Temp\\ipykernel_5284\\1387881205.py:65: FutureWarning: The frame.append method is deprecated and will be removed from pandas in a future version. Use pandas.concat instead.\n",
      "  df_write = df_write.append(_v, ignore_index=True)\n",
      "C:\\Users\\julien\\AppData\\Local\\Temp\\ipykernel_5284\\1387881205.py:65: FutureWarning: The frame.append method is deprecated and will be removed from pandas in a future version. Use pandas.concat instead.\n",
      "  df_write = df_write.append(_v, ignore_index=True)\n",
      "C:\\Users\\julien\\AppData\\Local\\Temp\\ipykernel_5284\\1387881205.py:65: FutureWarning: The frame.append method is deprecated and will be removed from pandas in a future version. Use pandas.concat instead.\n",
      "  df_write = df_write.append(_v, ignore_index=True)\n",
      "C:\\Users\\julien\\AppData\\Local\\Temp\\ipykernel_5284\\1387881205.py:65: FutureWarning: The frame.append method is deprecated and will be removed from pandas in a future version. Use pandas.concat instead.\n",
      "  df_write = df_write.append(_v, ignore_index=True)\n",
      "C:\\Users\\julien\\AppData\\Local\\Temp\\ipykernel_5284\\1387881205.py:80: FutureWarning: The frame.append method is deprecated and will be removed from pandas in a future version. Use pandas.concat instead.\n",
      "  df_write = df_write.append(_v, ignore_index=True)\n",
      "C:\\Users\\julien\\AppData\\Local\\Temp\\ipykernel_5284\\1387881205.py:80: FutureWarning: The frame.append method is deprecated and will be removed from pandas in a future version. Use pandas.concat instead.\n",
      "  df_write = df_write.append(_v, ignore_index=True)\n",
      "C:\\Users\\julien\\AppData\\Local\\Temp\\ipykernel_5284\\1387881205.py:80: FutureWarning: The frame.append method is deprecated and will be removed from pandas in a future version. Use pandas.concat instead.\n",
      "  df_write = df_write.append(_v, ignore_index=True)\n"
     ]
    },
    {
     "name": "stdout",
     "output_type": "stream",
     "text": [
      "['197_16_12-62_1681440252043.json', '172_31_12-62_1681422744925.json', '281_86_12-62_1681495373441.json', '197_138_12-62_1681440799750.json', '129_31_12-62_1681395417139.json', '178_22_12-62_1681425841180.json', '356_115_12-62_1681546955848.json', '126_100_12-62_1681394024105.json', '177_67_12-62_1681425456962.json', '340_120_12-62_1681536911731.json', '159_78_12-62_1681415606177.json', '344_47_12-62_1681538904806.json', '298_103_12-62_1681504486300.json', '207_145_12-62_1681446984252.json', '187_124_12-62_1681431213397.json', '272_5_12-62_1681490530909.json', '279_80_12-62_1681494433636.json', '278_130_12-62_1681494091578.json', '307_145_12-62_1681510445948.json', '157_101_12-62_1681413419593.json', '230_11_12-62_1681463199593.json', '215_67_12-62_1681451540556.json', '279_63_12-62_1681494372264.json', '302_120_12-62_1681506996639.json', '335_136_12-62_1681531346426.json']\n"
     ]
    },
    {
     "name": "stderr",
     "output_type": "stream",
     "text": [
      "C:\\Users\\julien\\AppData\\Local\\Temp\\ipykernel_5284\\1387881205.py:65: FutureWarning: The frame.append method is deprecated and will be removed from pandas in a future version. Use pandas.concat instead.\n",
      "  df_write = df_write.append(_v, ignore_index=True)\n",
      "C:\\Users\\julien\\AppData\\Local\\Temp\\ipykernel_5284\\1387881205.py:65: FutureWarning: The frame.append method is deprecated and will be removed from pandas in a future version. Use pandas.concat instead.\n",
      "  df_write = df_write.append(_v, ignore_index=True)\n",
      "C:\\Users\\julien\\AppData\\Local\\Temp\\ipykernel_5284\\1387881205.py:65: FutureWarning: The frame.append method is deprecated and will be removed from pandas in a future version. Use pandas.concat instead.\n",
      "  df_write = df_write.append(_v, ignore_index=True)\n",
      "C:\\Users\\julien\\AppData\\Local\\Temp\\ipykernel_5284\\1387881205.py:65: FutureWarning: The frame.append method is deprecated and will be removed from pandas in a future version. Use pandas.concat instead.\n",
      "  df_write = df_write.append(_v, ignore_index=True)\n",
      "C:\\Users\\julien\\AppData\\Local\\Temp\\ipykernel_5284\\1387881205.py:80: FutureWarning: The frame.append method is deprecated and will be removed from pandas in a future version. Use pandas.concat instead.\n",
      "  df_write = df_write.append(_v, ignore_index=True)\n",
      "C:\\Users\\julien\\AppData\\Local\\Temp\\ipykernel_5284\\1387881205.py:80: FutureWarning: The frame.append method is deprecated and will be removed from pandas in a future version. Use pandas.concat instead.\n",
      "  df_write = df_write.append(_v, ignore_index=True)\n",
      "C:\\Users\\julien\\AppData\\Local\\Temp\\ipykernel_5284\\1387881205.py:80: FutureWarning: The frame.append method is deprecated and will be removed from pandas in a future version. Use pandas.concat instead.\n",
      "  df_write = df_write.append(_v, ignore_index=True)\n"
     ]
    },
    {
     "name": "stdout",
     "output_type": "stream",
     "text": [
      "['342_88_12-62_1681537847540.json', '226_116_12-62_1681461344776.json', '233_34_12-62_1681464850021.json', '42_91_12-62_1681322735285.json', '187_133_12-62_1681431233335.json', '214_3_12-62_1681450618857.json', '194_16_12-62_1681438414952.json', '151_56_12-62_1681408511195.json', '219_141_12-62_1681457199359.json', '192_72_12-62_1681437538210.json', '310_80_12-62_1681511781833.json', '336_80_12-62_1681531687344.json', '184_125_12-62_1681429484722.json', '222_68_12-62_1681458742058.json', '152_12_12-62_1681408921685.json', '351_99_12-62_1681543943025.json', '197_36_12-62_1681440328348.json', '310_75_12-62_1681511762201.json', '297_98_12-62_1681503965599.json', '141_129_12-62_1681402984377.json', '203_92_12-62_1681444170926.json', '274_62_12-62_1681491833773.json', '178_147_12-62_1681426546910.json', '224_28_12-62_1681459712766.json', '122_131_12-62_1681391523542.json']\n"
     ]
    },
    {
     "name": "stderr",
     "output_type": "stream",
     "text": [
      "C:\\Users\\julien\\AppData\\Local\\Temp\\ipykernel_5284\\1387881205.py:65: FutureWarning: The frame.append method is deprecated and will be removed from pandas in a future version. Use pandas.concat instead.\n",
      "  df_write = df_write.append(_v, ignore_index=True)\n",
      "C:\\Users\\julien\\AppData\\Local\\Temp\\ipykernel_5284\\1387881205.py:65: FutureWarning: The frame.append method is deprecated and will be removed from pandas in a future version. Use pandas.concat instead.\n",
      "  df_write = df_write.append(_v, ignore_index=True)\n",
      "C:\\Users\\julien\\AppData\\Local\\Temp\\ipykernel_5284\\1387881205.py:65: FutureWarning: The frame.append method is deprecated and will be removed from pandas in a future version. Use pandas.concat instead.\n",
      "  df_write = df_write.append(_v, ignore_index=True)\n",
      "C:\\Users\\julien\\AppData\\Local\\Temp\\ipykernel_5284\\1387881205.py:65: FutureWarning: The frame.append method is deprecated and will be removed from pandas in a future version. Use pandas.concat instead.\n",
      "  df_write = df_write.append(_v, ignore_index=True)\n",
      "C:\\Users\\julien\\AppData\\Local\\Temp\\ipykernel_5284\\1387881205.py:80: FutureWarning: The frame.append method is deprecated and will be removed from pandas in a future version. Use pandas.concat instead.\n",
      "  df_write = df_write.append(_v, ignore_index=True)\n",
      "C:\\Users\\julien\\AppData\\Local\\Temp\\ipykernel_5284\\1387881205.py:80: FutureWarning: The frame.append method is deprecated and will be removed from pandas in a future version. Use pandas.concat instead.\n",
      "  df_write = df_write.append(_v, ignore_index=True)\n",
      "C:\\Users\\julien\\AppData\\Local\\Temp\\ipykernel_5284\\1387881205.py:80: FutureWarning: The frame.append method is deprecated and will be removed from pandas in a future version. Use pandas.concat instead.\n",
      "  df_write = df_write.append(_v, ignore_index=True)\n"
     ]
    },
    {
     "name": "stdout",
     "output_type": "stream",
     "text": [
      "['356_84_12-62_1681546827901.json', '355_61_12-62_1681546185569.json', '291_113_12-62_1681500787926.json', '333_111_12-62_1681530077173.json', '168_63_12-62_1681420748823.json', '330_118_12-62_1681528529123.json', '43_141_12-62_1681323433195.json', '354_40_12-62_1681545563287.json', '165_27_12-62_1681418902860.json', '288_53_12-62_1681498941739.json', '205_94_12-62_1681445474697.json', '44_19_12-62_1681323534985.json', '175_88_12-62_1681424495871.json', '321_116_12-62_1681517888922.json', '324_43_12-62_1681525131365.json', '351_136_12-62_1681544113420.json', '351_73_12-62_1681543832420.json', '204_125_12-62_1681444954761.json', '205_44_12-62_1681445247127.json', '204_38_12-62_1681444516241.json', '229_115_12-62_1681462978638.json', '322_4_12-62_1681523783771.json', '280_23_12-62_1681494757096.json', '205_120_12-62_1681445595221.json', '165_114_12-62_1681419239772.json']\n"
     ]
    },
    {
     "name": "stderr",
     "output_type": "stream",
     "text": [
      "C:\\Users\\julien\\AppData\\Local\\Temp\\ipykernel_5284\\1387881205.py:65: FutureWarning: The frame.append method is deprecated and will be removed from pandas in a future version. Use pandas.concat instead.\n",
      "  df_write = df_write.append(_v, ignore_index=True)\n",
      "C:\\Users\\julien\\AppData\\Local\\Temp\\ipykernel_5284\\1387881205.py:65: FutureWarning: The frame.append method is deprecated and will be removed from pandas in a future version. Use pandas.concat instead.\n",
      "  df_write = df_write.append(_v, ignore_index=True)\n",
      "C:\\Users\\julien\\AppData\\Local\\Temp\\ipykernel_5284\\1387881205.py:65: FutureWarning: The frame.append method is deprecated and will be removed from pandas in a future version. Use pandas.concat instead.\n",
      "  df_write = df_write.append(_v, ignore_index=True)\n",
      "C:\\Users\\julien\\AppData\\Local\\Temp\\ipykernel_5284\\1387881205.py:65: FutureWarning: The frame.append method is deprecated and will be removed from pandas in a future version. Use pandas.concat instead.\n",
      "  df_write = df_write.append(_v, ignore_index=True)\n",
      "C:\\Users\\julien\\AppData\\Local\\Temp\\ipykernel_5284\\1387881205.py:80: FutureWarning: The frame.append method is deprecated and will be removed from pandas in a future version. Use pandas.concat instead.\n",
      "  df_write = df_write.append(_v, ignore_index=True)\n",
      "C:\\Users\\julien\\AppData\\Local\\Temp\\ipykernel_5284\\1387881205.py:80: FutureWarning: The frame.append method is deprecated and will be removed from pandas in a future version. Use pandas.concat instead.\n",
      "  df_write = df_write.append(_v, ignore_index=True)\n",
      "C:\\Users\\julien\\AppData\\Local\\Temp\\ipykernel_5284\\1387881205.py:80: FutureWarning: The frame.append method is deprecated and will be removed from pandas in a future version. Use pandas.concat instead.\n",
      "  df_write = df_write.append(_v, ignore_index=True)\n"
     ]
    },
    {
     "name": "stdout",
     "output_type": "stream",
     "text": [
      "['336_76_12-62_1681531679056.json', '299_16_12-62_1681504734060.json', '147_25_12-62_1681406057753.json', '225_33_12-62_1681460340316.json', '305_130_12-62_1681508885351.json', '203_66_12-62_1681444081438.json', '38_32_12-62_1681320165363.json', '220_126_12-62_1681457808648.json', '176_147_12-62_1681425543934.json', '230_115_12-62_1681463610040.json', '217_18_12-62_1681452613578.json', '179_57_12-62_1681426538922.json', '222_9_12-62_1681458520962.json', '201_67_12-62_1681442981273.json', '220_146_12-62_1681457993187.json', '178_43_12-62_1681425923192.json', '189_56_12-62_1681432368491.json', '272_63_12-62_1681490732414.json', '301_135_12-62_1681506447622.json', '192_47_12-62_1681437447140.json', '200_13_12-62_1681442136430.json', '233_60_12-62_1681464939812.json', '163_91_12-62_1681417837337.json', '44_33_12-62_1681323593836.json', '233_104_12-62_1681465068649.json']\n"
     ]
    },
    {
     "name": "stderr",
     "output_type": "stream",
     "text": [
      "C:\\Users\\julien\\AppData\\Local\\Temp\\ipykernel_5284\\1387881205.py:65: FutureWarning: The frame.append method is deprecated and will be removed from pandas in a future version. Use pandas.concat instead.\n",
      "  df_write = df_write.append(_v, ignore_index=True)\n",
      "C:\\Users\\julien\\AppData\\Local\\Temp\\ipykernel_5284\\1387881205.py:65: FutureWarning: The frame.append method is deprecated and will be removed from pandas in a future version. Use pandas.concat instead.\n",
      "  df_write = df_write.append(_v, ignore_index=True)\n",
      "C:\\Users\\julien\\AppData\\Local\\Temp\\ipykernel_5284\\1387881205.py:65: FutureWarning: The frame.append method is deprecated and will be removed from pandas in a future version. Use pandas.concat instead.\n",
      "  df_write = df_write.append(_v, ignore_index=True)\n",
      "C:\\Users\\julien\\AppData\\Local\\Temp\\ipykernel_5284\\1387881205.py:65: FutureWarning: The frame.append method is deprecated and will be removed from pandas in a future version. Use pandas.concat instead.\n",
      "  df_write = df_write.append(_v, ignore_index=True)\n",
      "C:\\Users\\julien\\AppData\\Local\\Temp\\ipykernel_5284\\1387881205.py:80: FutureWarning: The frame.append method is deprecated and will be removed from pandas in a future version. Use pandas.concat instead.\n",
      "  df_write = df_write.append(_v, ignore_index=True)\n",
      "C:\\Users\\julien\\AppData\\Local\\Temp\\ipykernel_5284\\1387881205.py:80: FutureWarning: The frame.append method is deprecated and will be removed from pandas in a future version. Use pandas.concat instead.\n",
      "  df_write = df_write.append(_v, ignore_index=True)\n",
      "C:\\Users\\julien\\AppData\\Local\\Temp\\ipykernel_5284\\1387881205.py:80: FutureWarning: The frame.append method is deprecated and will be removed from pandas in a future version. Use pandas.concat instead.\n",
      "  df_write = df_write.append(_v, ignore_index=True)\n"
     ]
    },
    {
     "name": "stdout",
     "output_type": "stream",
     "text": [
      "['339_114_12-62_1681533701633.json', '323_106_12-62_1681524838260.json', '128_148_12-62_1681395283110.json', '184_46_12-62_1681429241005.json', '184_50_12-62_1681429252811.json', '40_34_12-62_1681321299158.json', '274_47_12-62_1681491760885.json', '171_6_12-62_1681422039298.json', '147_23_12-62_1681406054356.json', '337_32_12-62_1681532093427.json', '213_13_12-62_1681450099088.json', '281_72_12-62_1681495349285.json', '173_51_12-62_1681423276289.json', '190_31_12-62_1681432900251.json', '159_49_12-62_1681415517770.json', '179_102_12-62_1681426714408.json', '131_67_12-62_1681396772998.json', '205_121_12-62_1681445600877.json', '290_122_12-62_1681500345087.json', '340_99_12-62_1681536819397.json', '348_146_12-62_1681542286670.json', '31_127_12-62_1681316617907.json', '181_28_12-62_1681427582201.json', '151_19_12-62_1681408393811.json', '200_8_12-62_1681442124688.json']\n"
     ]
    },
    {
     "name": "stderr",
     "output_type": "stream",
     "text": [
      "C:\\Users\\julien\\AppData\\Local\\Temp\\ipykernel_5284\\1387881205.py:65: FutureWarning: The frame.append method is deprecated and will be removed from pandas in a future version. Use pandas.concat instead.\n",
      "  df_write = df_write.append(_v, ignore_index=True)\n",
      "C:\\Users\\julien\\AppData\\Local\\Temp\\ipykernel_5284\\1387881205.py:65: FutureWarning: The frame.append method is deprecated and will be removed from pandas in a future version. Use pandas.concat instead.\n",
      "  df_write = df_write.append(_v, ignore_index=True)\n",
      "C:\\Users\\julien\\AppData\\Local\\Temp\\ipykernel_5284\\1387881205.py:65: FutureWarning: The frame.append method is deprecated and will be removed from pandas in a future version. Use pandas.concat instead.\n",
      "  df_write = df_write.append(_v, ignore_index=True)\n",
      "C:\\Users\\julien\\AppData\\Local\\Temp\\ipykernel_5284\\1387881205.py:65: FutureWarning: The frame.append method is deprecated and will be removed from pandas in a future version. Use pandas.concat instead.\n",
      "  df_write = df_write.append(_v, ignore_index=True)\n",
      "C:\\Users\\julien\\AppData\\Local\\Temp\\ipykernel_5284\\1387881205.py:80: FutureWarning: The frame.append method is deprecated and will be removed from pandas in a future version. Use pandas.concat instead.\n",
      "  df_write = df_write.append(_v, ignore_index=True)\n",
      "C:\\Users\\julien\\AppData\\Local\\Temp\\ipykernel_5284\\1387881205.py:80: FutureWarning: The frame.append method is deprecated and will be removed from pandas in a future version. Use pandas.concat instead.\n",
      "  df_write = df_write.append(_v, ignore_index=True)\n",
      "C:\\Users\\julien\\AppData\\Local\\Temp\\ipykernel_5284\\1387881205.py:80: FutureWarning: The frame.append method is deprecated and will be removed from pandas in a future version. Use pandas.concat instead.\n",
      "  df_write = df_write.append(_v, ignore_index=True)\n"
     ]
    },
    {
     "name": "stdout",
     "output_type": "stream",
     "text": [
      "['323_66_12-62_1681524717924.json', '290_35_12-62_1681500011922.json', '279_93_12-62_1681494512974.json', '191_145_12-62_1681437370869.json', '313_131_12-62_1681513705911.json', '144_103_12-62_1681404631209.json', '308_41_12-62_1681510618713.json', '42_54_12-62_1681322575969.json', '143_102_12-62_1681404023349.json', '209_15_12-62_1681447771852.json', '170_100_12-62_1681421851075.json', '231_149_12-62_1681464375325.json', '354_12_12-62_1681545441836.json', '186_21_12-62_1681430219287.json', '322_69_12-62_1681524100023.json', '171_74_12-62_1681422289748.json', '148_97_12-62_1681406888333.json', '215_27_12-62_1681451351270.json', '191_19_12-62_1681433388152.json', '340_5_12-62_1681533876376.json', '134_94_12-62_1681398698913.json', '33_98_12-62_1681317507023.json', '145_113_12-62_1681405207155.json', '136_27_12-62_1681399598490.json', '155_133_12-62_1681412453443.json']\n"
     ]
    },
    {
     "name": "stderr",
     "output_type": "stream",
     "text": [
      "C:\\Users\\julien\\AppData\\Local\\Temp\\ipykernel_5284\\1387881205.py:65: FutureWarning: The frame.append method is deprecated and will be removed from pandas in a future version. Use pandas.concat instead.\n",
      "  df_write = df_write.append(_v, ignore_index=True)\n",
      "C:\\Users\\julien\\AppData\\Local\\Temp\\ipykernel_5284\\1387881205.py:65: FutureWarning: The frame.append method is deprecated and will be removed from pandas in a future version. Use pandas.concat instead.\n",
      "  df_write = df_write.append(_v, ignore_index=True)\n",
      "C:\\Users\\julien\\AppData\\Local\\Temp\\ipykernel_5284\\1387881205.py:65: FutureWarning: The frame.append method is deprecated and will be removed from pandas in a future version. Use pandas.concat instead.\n",
      "  df_write = df_write.append(_v, ignore_index=True)\n",
      "C:\\Users\\julien\\AppData\\Local\\Temp\\ipykernel_5284\\1387881205.py:65: FutureWarning: The frame.append method is deprecated and will be removed from pandas in a future version. Use pandas.concat instead.\n",
      "  df_write = df_write.append(_v, ignore_index=True)\n",
      "C:\\Users\\julien\\AppData\\Local\\Temp\\ipykernel_5284\\1387881205.py:80: FutureWarning: The frame.append method is deprecated and will be removed from pandas in a future version. Use pandas.concat instead.\n",
      "  df_write = df_write.append(_v, ignore_index=True)\n",
      "C:\\Users\\julien\\AppData\\Local\\Temp\\ipykernel_5284\\1387881205.py:80: FutureWarning: The frame.append method is deprecated and will be removed from pandas in a future version. Use pandas.concat instead.\n",
      "  df_write = df_write.append(_v, ignore_index=True)\n",
      "C:\\Users\\julien\\AppData\\Local\\Temp\\ipykernel_5284\\1387881205.py:80: FutureWarning: The frame.append method is deprecated and will be removed from pandas in a future version. Use pandas.concat instead.\n",
      "  df_write = df_write.append(_v, ignore_index=True)\n"
     ]
    },
    {
     "name": "stdout",
     "output_type": "stream",
     "text": [
      "['323_96_12-62_1681524809694.json', '326_76_12-62_1681526302015.json', '32_107_12-62_1681317035280.json', '35_65_12-62_1681318542597.json', '186_83_12-62_1681430460954.json', '358_42_12-62_1681547849854.json', '312_67_12-62_1681512926614.json', '139_79_12-62_1681401635385.json', '134_26_12-62_1681398461621.json', '138_69_12-62_1681401002335.json', '354_32_12-62_1681545531033.json', '215_58_12-62_1681451489560.json', '194_111_12-62_1681438831913.json', '342_24_12-62_1681537619054.json', '192_51_12-62_1681437458279.json', '198_88_12-62_1681441185432.json', '228_69_12-62_1681462240568.json', '213_5_12-62_1681450077528.json', '198_53_12-62_1681441050367.json', '315_149_12-62_1681515023649.json', '123_4_12-62_1681391607218.json', '128_89_12-62_1681395070625.json', '340_111_12-62_1681536841542.json', '143_86_12-62_1681403949564.json', '182_62_12-62_1681428302218.json']\n"
     ]
    },
    {
     "name": "stderr",
     "output_type": "stream",
     "text": [
      "C:\\Users\\julien\\AppData\\Local\\Temp\\ipykernel_5284\\1387881205.py:65: FutureWarning: The frame.append method is deprecated and will be removed from pandas in a future version. Use pandas.concat instead.\n",
      "  df_write = df_write.append(_v, ignore_index=True)\n",
      "C:\\Users\\julien\\AppData\\Local\\Temp\\ipykernel_5284\\1387881205.py:65: FutureWarning: The frame.append method is deprecated and will be removed from pandas in a future version. Use pandas.concat instead.\n",
      "  df_write = df_write.append(_v, ignore_index=True)\n",
      "C:\\Users\\julien\\AppData\\Local\\Temp\\ipykernel_5284\\1387881205.py:65: FutureWarning: The frame.append method is deprecated and will be removed from pandas in a future version. Use pandas.concat instead.\n",
      "  df_write = df_write.append(_v, ignore_index=True)\n",
      "C:\\Users\\julien\\AppData\\Local\\Temp\\ipykernel_5284\\1387881205.py:65: FutureWarning: The frame.append method is deprecated and will be removed from pandas in a future version. Use pandas.concat instead.\n",
      "  df_write = df_write.append(_v, ignore_index=True)\n",
      "C:\\Users\\julien\\AppData\\Local\\Temp\\ipykernel_5284\\1387881205.py:80: FutureWarning: The frame.append method is deprecated and will be removed from pandas in a future version. Use pandas.concat instead.\n",
      "  df_write = df_write.append(_v, ignore_index=True)\n",
      "C:\\Users\\julien\\AppData\\Local\\Temp\\ipykernel_5284\\1387881205.py:80: FutureWarning: The frame.append method is deprecated and will be removed from pandas in a future version. Use pandas.concat instead.\n",
      "  df_write = df_write.append(_v, ignore_index=True)\n",
      "C:\\Users\\julien\\AppData\\Local\\Temp\\ipykernel_5284\\1387881205.py:80: FutureWarning: The frame.append method is deprecated and will be removed from pandas in a future version. Use pandas.concat instead.\n",
      "  df_write = df_write.append(_v, ignore_index=True)\n"
     ]
    },
    {
     "name": "stdout",
     "output_type": "stream",
     "text": [
      "['199_112_12-62_1681441859903.json', '305_12_12-62_1681508455891.json', '44_139_12-62_1681323973844.json', '338_131_12-62_1681533156002.json', '289_20_12-62_1681499377442.json', '121_110_12-62_1681390873892.json', '135_10_12-62_1681398968288.json', '123_68_12-62_1681391797678.json', '146_70_12-62_1681405621952.json', '208_131_12-62_1681447666953.json', '291_112_12-62_1681500787310.json', '36_141_12-62_1681319375648.json', '279_118_12-62_1681494591491.json', '143_25_12-62_1681403710328.json', '215_121_12-62_1681451751776.json', '41_17_12-62_1681321820664.json', '315_21_12-62_1681514438548.json', '133_95_12-62_1681398128814.json', '187_78_12-62_1681431053099.json', '192_147_12-62_1681438029116.json', '225_147_12-62_1681461152279.json', '299_69_12-62_1681504947654.json', '345_78_12-62_1681540204547.json', '137_148_12-62_1681401075805.json', '43_76_12-62_1681323218542.json']\n"
     ]
    },
    {
     "name": "stderr",
     "output_type": "stream",
     "text": [
      "C:\\Users\\julien\\AppData\\Local\\Temp\\ipykernel_5284\\1387881205.py:65: FutureWarning: The frame.append method is deprecated and will be removed from pandas in a future version. Use pandas.concat instead.\n",
      "  df_write = df_write.append(_v, ignore_index=True)\n",
      "C:\\Users\\julien\\AppData\\Local\\Temp\\ipykernel_5284\\1387881205.py:65: FutureWarning: The frame.append method is deprecated and will be removed from pandas in a future version. Use pandas.concat instead.\n",
      "  df_write = df_write.append(_v, ignore_index=True)\n",
      "C:\\Users\\julien\\AppData\\Local\\Temp\\ipykernel_5284\\1387881205.py:65: FutureWarning: The frame.append method is deprecated and will be removed from pandas in a future version. Use pandas.concat instead.\n",
      "  df_write = df_write.append(_v, ignore_index=True)\n",
      "C:\\Users\\julien\\AppData\\Local\\Temp\\ipykernel_5284\\1387881205.py:65: FutureWarning: The frame.append method is deprecated and will be removed from pandas in a future version. Use pandas.concat instead.\n",
      "  df_write = df_write.append(_v, ignore_index=True)\n",
      "C:\\Users\\julien\\AppData\\Local\\Temp\\ipykernel_5284\\1387881205.py:80: FutureWarning: The frame.append method is deprecated and will be removed from pandas in a future version. Use pandas.concat instead.\n",
      "  df_write = df_write.append(_v, ignore_index=True)\n",
      "C:\\Users\\julien\\AppData\\Local\\Temp\\ipykernel_5284\\1387881205.py:80: FutureWarning: The frame.append method is deprecated and will be removed from pandas in a future version. Use pandas.concat instead.\n",
      "  df_write = df_write.append(_v, ignore_index=True)\n",
      "C:\\Users\\julien\\AppData\\Local\\Temp\\ipykernel_5284\\1387881205.py:80: FutureWarning: The frame.append method is deprecated and will be removed from pandas in a future version. Use pandas.concat instead.\n",
      "  df_write = df_write.append(_v, ignore_index=True)\n"
     ]
    },
    {
     "name": "stdout",
     "output_type": "stream",
     "text": [
      "['123_14_12-62_1681391633615.json', '177_147_12-62_1681426125519.json', '141_73_12-62_1681402763172.json', '336_145_12-62_1681532059356.json', '44_120_12-62_1681323918957.json', '214_54_12-62_1681450824142.json', '128_123_12-62_1681395200483.json', '193_130_12-62_1681438277946.json', '212_22_12-62_1681449489490.json', '358_60_12-62_1681547926165.json', '218_149_12-62_1681453787019.json', '146_25_12-62_1681405432891.json', '309_60_12-62_1681511206061.json', '345_135_12-62_1681540441320.json', '353_141_12-62_1681545359237.json', '302_145_12-62_1681507079472.json', '212_49_12-62_1681449601585.json', '292_25_12-62_1681500986455.json', '339_134_12-62_1681533787042.json', '41_111_12-62_1681322196405.json', '169_50_12-62_1681421191309.json', '129_24_12-62_1681395383475.json', '177_143_12-62_1681425711191.json', '213_82_12-62_1681450351958.json', '35_28_12-62_1681318395204.json']\n"
     ]
    },
    {
     "name": "stderr",
     "output_type": "stream",
     "text": [
      "C:\\Users\\julien\\AppData\\Local\\Temp\\ipykernel_5284\\1387881205.py:65: FutureWarning: The frame.append method is deprecated and will be removed from pandas in a future version. Use pandas.concat instead.\n",
      "  df_write = df_write.append(_v, ignore_index=True)\n",
      "C:\\Users\\julien\\AppData\\Local\\Temp\\ipykernel_5284\\1387881205.py:65: FutureWarning: The frame.append method is deprecated and will be removed from pandas in a future version. Use pandas.concat instead.\n",
      "  df_write = df_write.append(_v, ignore_index=True)\n",
      "C:\\Users\\julien\\AppData\\Local\\Temp\\ipykernel_5284\\1387881205.py:65: FutureWarning: The frame.append method is deprecated and will be removed from pandas in a future version. Use pandas.concat instead.\n",
      "  df_write = df_write.append(_v, ignore_index=True)\n",
      "C:\\Users\\julien\\AppData\\Local\\Temp\\ipykernel_5284\\1387881205.py:65: FutureWarning: The frame.append method is deprecated and will be removed from pandas in a future version. Use pandas.concat instead.\n",
      "  df_write = df_write.append(_v, ignore_index=True)\n",
      "C:\\Users\\julien\\AppData\\Local\\Temp\\ipykernel_5284\\1387881205.py:80: FutureWarning: The frame.append method is deprecated and will be removed from pandas in a future version. Use pandas.concat instead.\n",
      "  df_write = df_write.append(_v, ignore_index=True)\n",
      "C:\\Users\\julien\\AppData\\Local\\Temp\\ipykernel_5284\\1387881205.py:80: FutureWarning: The frame.append method is deprecated and will be removed from pandas in a future version. Use pandas.concat instead.\n",
      "  df_write = df_write.append(_v, ignore_index=True)\n",
      "C:\\Users\\julien\\AppData\\Local\\Temp\\ipykernel_5284\\1387881205.py:80: FutureWarning: The frame.append method is deprecated and will be removed from pandas in a future version. Use pandas.concat instead.\n",
      "  df_write = df_write.append(_v, ignore_index=True)\n"
     ]
    },
    {
     "name": "stdout",
     "output_type": "stream",
     "text": [
      "['282_129_12-62_1681496028893.json', '344_37_12-62_1681538861706.json', '39_147_12-62_1681321138946.json', '225_58_12-62_1681460470115.json', '33_102_12-62_1681317520284.json', '165_92_12-62_1681419179402.json', '45_12_12-62_1681324061661.json', '187_121_12-62_1681431203791.json', '226_128_12-62_1681461393142.json', '342_98_12-62_1681537909216.json', '281_64_12-62_1681495336563.json', '281_3_12-62_1681495171984.json', '326_82_12-62_1681526317801.json', '182_99_12-62_1681428442136.json', '196_35_12-62_1681439760581.json', '172_107_12-62_1681422995219.json', '169_146_12-62_1681421473307.json', '350_115_12-62_1681543384341.json', '337_127_12-62_1681532552051.json', '329_110_12-62_1681527948102.json', '325_47_12-62_1681525669406.json', '350_94_12-62_1681543281558.json', '132_42_12-62_1681397266257.json', '352_116_12-62_1681544677428.json', '200_92_12-62_1681442503603.json']\n"
     ]
    },
    {
     "name": "stderr",
     "output_type": "stream",
     "text": [
      "C:\\Users\\julien\\AppData\\Local\\Temp\\ipykernel_5284\\1387881205.py:65: FutureWarning: The frame.append method is deprecated and will be removed from pandas in a future version. Use pandas.concat instead.\n",
      "  df_write = df_write.append(_v, ignore_index=True)\n",
      "C:\\Users\\julien\\AppData\\Local\\Temp\\ipykernel_5284\\1387881205.py:65: FutureWarning: The frame.append method is deprecated and will be removed from pandas in a future version. Use pandas.concat instead.\n",
      "  df_write = df_write.append(_v, ignore_index=True)\n",
      "C:\\Users\\julien\\AppData\\Local\\Temp\\ipykernel_5284\\1387881205.py:65: FutureWarning: The frame.append method is deprecated and will be removed from pandas in a future version. Use pandas.concat instead.\n",
      "  df_write = df_write.append(_v, ignore_index=True)\n",
      "C:\\Users\\julien\\AppData\\Local\\Temp\\ipykernel_5284\\1387881205.py:65: FutureWarning: The frame.append method is deprecated and will be removed from pandas in a future version. Use pandas.concat instead.\n",
      "  df_write = df_write.append(_v, ignore_index=True)\n",
      "C:\\Users\\julien\\AppData\\Local\\Temp\\ipykernel_5284\\1387881205.py:80: FutureWarning: The frame.append method is deprecated and will be removed from pandas in a future version. Use pandas.concat instead.\n",
      "  df_write = df_write.append(_v, ignore_index=True)\n",
      "C:\\Users\\julien\\AppData\\Local\\Temp\\ipykernel_5284\\1387881205.py:80: FutureWarning: The frame.append method is deprecated and will be removed from pandas in a future version. Use pandas.concat instead.\n",
      "  df_write = df_write.append(_v, ignore_index=True)\n",
      "C:\\Users\\julien\\AppData\\Local\\Temp\\ipykernel_5284\\1387881205.py:80: FutureWarning: The frame.append method is deprecated and will be removed from pandas in a future version. Use pandas.concat instead.\n",
      "  df_write = df_write.append(_v, ignore_index=True)\n"
     ]
    },
    {
     "name": "stdout",
     "output_type": "stream",
     "text": [
      "['317_33_12-62_1681515523811.json', '342_83_12-62_1681537827265.json', '351_132_12-62_1681544097510.json', '42_104_12-62_1681322772630.json', '301_59_12-62_1681506115882.json', '292_53_12-62_1681501087034.json', '343_50_12-62_1681538273867.json', '323_85_12-62_1681524766296.json', '347_140_12-62_1681541693689.json', '337_88_12-62_1681532341041.json', '314_5_12-62_1681513795992.json', '317_77_12-62_1681515659509.json', '180_93_12-62_1681427286375.json', '300_112_12-62_1681505709088.json', '204_92_12-62_1681444804107.json', '298_83_12-62_1681504406167.json', '139_11_12-62_1681401398850.json', '303_8_12-62_1681507126104.json', '218_69_12-62_1681453452815.json', '301_39_12-62_1681506052028.json', '33_144_12-62_1681317662694.json', '136_30_12-62_1681399630825.json', '339_40_12-62_1681533401722.json', '213_63_12-62_1681450297985.json', '129_43_12-62_1681395453099.json']\n"
     ]
    },
    {
     "name": "stderr",
     "output_type": "stream",
     "text": [
      "C:\\Users\\julien\\AppData\\Local\\Temp\\ipykernel_5284\\1387881205.py:65: FutureWarning: The frame.append method is deprecated and will be removed from pandas in a future version. Use pandas.concat instead.\n",
      "  df_write = df_write.append(_v, ignore_index=True)\n",
      "C:\\Users\\julien\\AppData\\Local\\Temp\\ipykernel_5284\\1387881205.py:65: FutureWarning: The frame.append method is deprecated and will be removed from pandas in a future version. Use pandas.concat instead.\n",
      "  df_write = df_write.append(_v, ignore_index=True)\n",
      "C:\\Users\\julien\\AppData\\Local\\Temp\\ipykernel_5284\\1387881205.py:65: FutureWarning: The frame.append method is deprecated and will be removed from pandas in a future version. Use pandas.concat instead.\n",
      "  df_write = df_write.append(_v, ignore_index=True)\n",
      "C:\\Users\\julien\\AppData\\Local\\Temp\\ipykernel_5284\\1387881205.py:65: FutureWarning: The frame.append method is deprecated and will be removed from pandas in a future version. Use pandas.concat instead.\n",
      "  df_write = df_write.append(_v, ignore_index=True)\n",
      "C:\\Users\\julien\\AppData\\Local\\Temp\\ipykernel_5284\\1387881205.py:80: FutureWarning: The frame.append method is deprecated and will be removed from pandas in a future version. Use pandas.concat instead.\n",
      "  df_write = df_write.append(_v, ignore_index=True)\n",
      "C:\\Users\\julien\\AppData\\Local\\Temp\\ipykernel_5284\\1387881205.py:80: FutureWarning: The frame.append method is deprecated and will be removed from pandas in a future version. Use pandas.concat instead.\n",
      "  df_write = df_write.append(_v, ignore_index=True)\n",
      "C:\\Users\\julien\\AppData\\Local\\Temp\\ipykernel_5284\\1387881205.py:80: FutureWarning: The frame.append method is deprecated and will be removed from pandas in a future version. Use pandas.concat instead.\n",
      "  df_write = df_write.append(_v, ignore_index=True)\n"
     ]
    },
    {
     "name": "stdout",
     "output_type": "stream",
     "text": [
      "['301_145_12-62_1681506600776.json', '288_50_12-62_1681498935548.json', '350_51_12-62_1681543071596.json', '276_34_12-62_1681492765538.json', '287_148_12-62_1681498968695.json', '37_49_12-62_1681319606867.json', '176_18_12-62_1681424769582.json', '180_33_12-62_1681427024457.json', '305_125_12-62_1681508868396.json', '176_34_12-62_1681424836445.json', '154_116_12-62_1681411930885.json', '299_60_12-62_1681504916952.json', '214_10_12-62_1681450645675.json', '159_105_12-62_1681415711397.json', '309_147_12-62_1681511700465.json', '212_102_12-62_1681449822300.json', '295_35_12-62_1681502683610.json', '154_132_12-62_1681412002036.json', '181_138_12-62_1681427965056.json', '232_51_12-62_1681464424120.json', '314_8_12-62_1681513807380.json', '334_149_12-62_1681531191053.json', '217_50_12-62_1681452743341.json', '145_144_12-62_1681405316196.json', '222_82_12-62_1681458785283.json']\n"
     ]
    },
    {
     "name": "stderr",
     "output_type": "stream",
     "text": [
      "C:\\Users\\julien\\AppData\\Local\\Temp\\ipykernel_5284\\1387881205.py:65: FutureWarning: The frame.append method is deprecated and will be removed from pandas in a future version. Use pandas.concat instead.\n",
      "  df_write = df_write.append(_v, ignore_index=True)\n",
      "C:\\Users\\julien\\AppData\\Local\\Temp\\ipykernel_5284\\1387881205.py:65: FutureWarning: The frame.append method is deprecated and will be removed from pandas in a future version. Use pandas.concat instead.\n",
      "  df_write = df_write.append(_v, ignore_index=True)\n",
      "C:\\Users\\julien\\AppData\\Local\\Temp\\ipykernel_5284\\1387881205.py:65: FutureWarning: The frame.append method is deprecated and will be removed from pandas in a future version. Use pandas.concat instead.\n",
      "  df_write = df_write.append(_v, ignore_index=True)\n",
      "C:\\Users\\julien\\AppData\\Local\\Temp\\ipykernel_5284\\1387881205.py:65: FutureWarning: The frame.append method is deprecated and will be removed from pandas in a future version. Use pandas.concat instead.\n",
      "  df_write = df_write.append(_v, ignore_index=True)\n",
      "C:\\Users\\julien\\AppData\\Local\\Temp\\ipykernel_5284\\1387881205.py:80: FutureWarning: The frame.append method is deprecated and will be removed from pandas in a future version. Use pandas.concat instead.\n",
      "  df_write = df_write.append(_v, ignore_index=True)\n",
      "C:\\Users\\julien\\AppData\\Local\\Temp\\ipykernel_5284\\1387881205.py:80: FutureWarning: The frame.append method is deprecated and will be removed from pandas in a future version. Use pandas.concat instead.\n",
      "  df_write = df_write.append(_v, ignore_index=True)\n",
      "C:\\Users\\julien\\AppData\\Local\\Temp\\ipykernel_5284\\1387881205.py:80: FutureWarning: The frame.append method is deprecated and will be removed from pandas in a future version. Use pandas.concat instead.\n",
      "  df_write = df_write.append(_v, ignore_index=True)\n"
     ]
    },
    {
     "name": "stdout",
     "output_type": "stream",
     "text": [
      "['340_71_12-62_1681536725560.json', '287_36_12-62_1681498295918.json', '177_125_12-62_1681425669533.json', '168_109_12-62_1681420890730.json', '320_131_12-62_1681517463318.json', '156_98_12-62_1681412866222.json', '134_22_12-62_1681398447180.json', '352_28_12-62_1681544304480.json', '125_39_12-62_1681393231735.json', '323_80_12-62_1681524758333.json', '150_54_12-62_1681407933264.json', '174_9_12-62_1681423649761.json', '191_106_12-62_1681437121767.json', '170_34_12-62_1681421635260.json', '186_6_12-62_1681430162823.json', '210_77_12-62_1681448588632.json', '31_71_12-62_1681316415234.json', '144_91_12-62_1681404606924.json', '202_64_12-62_1681443562568.json', '288_43_12-62_1681498913207.json', '125_121_12-62_1681393527841.json', '210_124_12-62_1681448775697.json', '202_9_12-62_1681443358870.json', '297_89_12-62_1681503913445.json', '333_25_12-62_1681529783253.json']\n"
     ]
    },
    {
     "name": "stderr",
     "output_type": "stream",
     "text": [
      "C:\\Users\\julien\\AppData\\Local\\Temp\\ipykernel_5284\\1387881205.py:65: FutureWarning: The frame.append method is deprecated and will be removed from pandas in a future version. Use pandas.concat instead.\n",
      "  df_write = df_write.append(_v, ignore_index=True)\n",
      "C:\\Users\\julien\\AppData\\Local\\Temp\\ipykernel_5284\\1387881205.py:65: FutureWarning: The frame.append method is deprecated and will be removed from pandas in a future version. Use pandas.concat instead.\n",
      "  df_write = df_write.append(_v, ignore_index=True)\n",
      "C:\\Users\\julien\\AppData\\Local\\Temp\\ipykernel_5284\\1387881205.py:65: FutureWarning: The frame.append method is deprecated and will be removed from pandas in a future version. Use pandas.concat instead.\n",
      "  df_write = df_write.append(_v, ignore_index=True)\n",
      "C:\\Users\\julien\\AppData\\Local\\Temp\\ipykernel_5284\\1387881205.py:65: FutureWarning: The frame.append method is deprecated and will be removed from pandas in a future version. Use pandas.concat instead.\n",
      "  df_write = df_write.append(_v, ignore_index=True)\n",
      "C:\\Users\\julien\\AppData\\Local\\Temp\\ipykernel_5284\\1387881205.py:80: FutureWarning: The frame.append method is deprecated and will be removed from pandas in a future version. Use pandas.concat instead.\n",
      "  df_write = df_write.append(_v, ignore_index=True)\n",
      "C:\\Users\\julien\\AppData\\Local\\Temp\\ipykernel_5284\\1387881205.py:80: FutureWarning: The frame.append method is deprecated and will be removed from pandas in a future version. Use pandas.concat instead.\n",
      "  df_write = df_write.append(_v, ignore_index=True)\n",
      "C:\\Users\\julien\\AppData\\Local\\Temp\\ipykernel_5284\\1387881205.py:80: FutureWarning: The frame.append method is deprecated and will be removed from pandas in a future version. Use pandas.concat instead.\n",
      "  df_write = df_write.append(_v, ignore_index=True)\n"
     ]
    },
    {
     "name": "stdout",
     "output_type": "stream",
     "text": [
      "['142_63_12-62_1681403284912.json', '217_59_12-62_1681452775075.json', '329_50_12-62_1681527738122.json', '172_98_12-62_1681422972760.json', '165_8_12-62_1681418843097.json', '169_56_12-62_1681421200041.json', '353_76_12-62_1681545145090.json', '227_135_12-62_1681461936441.json', '188_126_12-62_1681432036214.json', '200_81_12-62_1681442459497.json', '217_90_12-62_1681452942104.json', '144_147_12-62_1681405115503.json', '338_15_12-62_1681532715729.json', '183_2_12-62_1681428647269.json', '195_145_12-62_1681439568836.json', '215_84_12-62_1681451594363.json', '309_30_12-62_1681511113706.json', '129_64_12-62_1681395534968.json', '164_104_12-62_1681418597160.json', '282_91_12-62_1681495893996.json', '173_39_12-62_1681423238926.json', '219_38_12-62_1681456791412.json', '165_30_12-62_1681418933408.json', '133_60_12-62_1681398002379.json', '346_94_12-62_1681540868718.json']\n"
     ]
    },
    {
     "name": "stderr",
     "output_type": "stream",
     "text": [
      "C:\\Users\\julien\\AppData\\Local\\Temp\\ipykernel_5284\\1387881205.py:65: FutureWarning: The frame.append method is deprecated and will be removed from pandas in a future version. Use pandas.concat instead.\n",
      "  df_write = df_write.append(_v, ignore_index=True)\n",
      "C:\\Users\\julien\\AppData\\Local\\Temp\\ipykernel_5284\\1387881205.py:65: FutureWarning: The frame.append method is deprecated and will be removed from pandas in a future version. Use pandas.concat instead.\n",
      "  df_write = df_write.append(_v, ignore_index=True)\n",
      "C:\\Users\\julien\\AppData\\Local\\Temp\\ipykernel_5284\\1387881205.py:65: FutureWarning: The frame.append method is deprecated and will be removed from pandas in a future version. Use pandas.concat instead.\n",
      "  df_write = df_write.append(_v, ignore_index=True)\n",
      "C:\\Users\\julien\\AppData\\Local\\Temp\\ipykernel_5284\\1387881205.py:65: FutureWarning: The frame.append method is deprecated and will be removed from pandas in a future version. Use pandas.concat instead.\n",
      "  df_write = df_write.append(_v, ignore_index=True)\n",
      "C:\\Users\\julien\\AppData\\Local\\Temp\\ipykernel_5284\\1387881205.py:80: FutureWarning: The frame.append method is deprecated and will be removed from pandas in a future version. Use pandas.concat instead.\n",
      "  df_write = df_write.append(_v, ignore_index=True)\n",
      "C:\\Users\\julien\\AppData\\Local\\Temp\\ipykernel_5284\\1387881205.py:80: FutureWarning: The frame.append method is deprecated and will be removed from pandas in a future version. Use pandas.concat instead.\n",
      "  df_write = df_write.append(_v, ignore_index=True)\n",
      "C:\\Users\\julien\\AppData\\Local\\Temp\\ipykernel_5284\\1387881205.py:80: FutureWarning: The frame.append method is deprecated and will be removed from pandas in a future version. Use pandas.concat instead.\n",
      "  df_write = df_write.append(_v, ignore_index=True)\n"
     ]
    },
    {
     "name": "stdout",
     "output_type": "stream",
     "text": [
      "['305_53_12-62_1681508610245.json', '181_146_12-62_1681428120947.json', '160_26_12-62_1681415948819.json', '197_147_12-62_1681441187890.json', '135_72_12-62_1681399191753.json', '194_116_12-62_1681438850168.json', '228_147_12-62_1681462716100.json', '198_80_12-62_1681441162493.json', '148_77_12-62_1681406807828.json', '346_127_12-62_1681540990601.json', '299_90_12-62_1681505031054.json', '155_32_12-62_1681412173253.json', '166_128_12-62_1681419850828.json', '198_34_12-62_1681441000347.json', '179_20_12-62_1681426412124.json', '45_6_12-62_1681324051919.json', '220_15_12-62_1681457311442.json', '140_9_12-62_1681401944181.json', '121_27_12-62_1681390529535.json', '275_76_12-62_1681492404857.json', '188_97_12-62_1681431934533.json', '310_29_12-62_1681511598745.json', '134_109_12-62_1681398777230.json', '215_17_12-62_1681451312738.json', '145_75_12-62_1681405065895.json']\n"
     ]
    },
    {
     "name": "stderr",
     "output_type": "stream",
     "text": [
      "C:\\Users\\julien\\AppData\\Local\\Temp\\ipykernel_5284\\1387881205.py:65: FutureWarning: The frame.append method is deprecated and will be removed from pandas in a future version. Use pandas.concat instead.\n",
      "  df_write = df_write.append(_v, ignore_index=True)\n",
      "C:\\Users\\julien\\AppData\\Local\\Temp\\ipykernel_5284\\1387881205.py:65: FutureWarning: The frame.append method is deprecated and will be removed from pandas in a future version. Use pandas.concat instead.\n",
      "  df_write = df_write.append(_v, ignore_index=True)\n",
      "C:\\Users\\julien\\AppData\\Local\\Temp\\ipykernel_5284\\1387881205.py:65: FutureWarning: The frame.append method is deprecated and will be removed from pandas in a future version. Use pandas.concat instead.\n",
      "  df_write = df_write.append(_v, ignore_index=True)\n",
      "C:\\Users\\julien\\AppData\\Local\\Temp\\ipykernel_5284\\1387881205.py:65: FutureWarning: The frame.append method is deprecated and will be removed from pandas in a future version. Use pandas.concat instead.\n",
      "  df_write = df_write.append(_v, ignore_index=True)\n",
      "C:\\Users\\julien\\AppData\\Local\\Temp\\ipykernel_5284\\1387881205.py:80: FutureWarning: The frame.append method is deprecated and will be removed from pandas in a future version. Use pandas.concat instead.\n",
      "  df_write = df_write.append(_v, ignore_index=True)\n",
      "C:\\Users\\julien\\AppData\\Local\\Temp\\ipykernel_5284\\1387881205.py:80: FutureWarning: The frame.append method is deprecated and will be removed from pandas in a future version. Use pandas.concat instead.\n",
      "  df_write = df_write.append(_v, ignore_index=True)\n",
      "C:\\Users\\julien\\AppData\\Local\\Temp\\ipykernel_5284\\1387881205.py:80: FutureWarning: The frame.append method is deprecated and will be removed from pandas in a future version. Use pandas.concat instead.\n",
      "  df_write = df_write.append(_v, ignore_index=True)\n"
     ]
    },
    {
     "name": "stdout",
     "output_type": "stream",
     "text": [
      "['165_106_12-62_1681419215215.json', '323_140_12-62_1681524941077.json', '151_146_12-62_1681408857834.json', '314_74_12-62_1681514041523.json', '131_119_12-62_1681396960083.json', '230_17_12-62_1681463217759.json', '328_93_12-62_1681527344470.json', '189_116_12-62_1681432603911.json', '135_41_12-62_1681399089509.json', '196_74_12-62_1681439906672.json', '126_23_12-62_1681393699739.json', '352_149_12-62_1681545078114.json', '127_149_12-62_1681395075971.json', '215_76_12-62_1681451564270.json', '193_11_12-62_1681437870430.json', '148_123_12-62_1681406997778.json', '325_105_12-62_1681525864474.json', '164_63_12-62_1681418407456.json', '219_71_12-62_1681456925126.json', '288_62_12-62_1681498991871.json', '326_140_12-62_1681526507438.json', '210_86_12-62_1681448617666.json', '352_12_12-62_1681544246428.json', '272_18_12-62_1681490569065.json', '191_129_12-62_1681437212819.json']\n"
     ]
    },
    {
     "name": "stderr",
     "output_type": "stream",
     "text": [
      "C:\\Users\\julien\\AppData\\Local\\Temp\\ipykernel_5284\\1387881205.py:65: FutureWarning: The frame.append method is deprecated and will be removed from pandas in a future version. Use pandas.concat instead.\n",
      "  df_write = df_write.append(_v, ignore_index=True)\n",
      "C:\\Users\\julien\\AppData\\Local\\Temp\\ipykernel_5284\\1387881205.py:65: FutureWarning: The frame.append method is deprecated and will be removed from pandas in a future version. Use pandas.concat instead.\n",
      "  df_write = df_write.append(_v, ignore_index=True)\n",
      "C:\\Users\\julien\\AppData\\Local\\Temp\\ipykernel_5284\\1387881205.py:65: FutureWarning: The frame.append method is deprecated and will be removed from pandas in a future version. Use pandas.concat instead.\n",
      "  df_write = df_write.append(_v, ignore_index=True)\n",
      "C:\\Users\\julien\\AppData\\Local\\Temp\\ipykernel_5284\\1387881205.py:65: FutureWarning: The frame.append method is deprecated and will be removed from pandas in a future version. Use pandas.concat instead.\n",
      "  df_write = df_write.append(_v, ignore_index=True)\n",
      "C:\\Users\\julien\\AppData\\Local\\Temp\\ipykernel_5284\\1387881205.py:80: FutureWarning: The frame.append method is deprecated and will be removed from pandas in a future version. Use pandas.concat instead.\n",
      "  df_write = df_write.append(_v, ignore_index=True)\n",
      "C:\\Users\\julien\\AppData\\Local\\Temp\\ipykernel_5284\\1387881205.py:80: FutureWarning: The frame.append method is deprecated and will be removed from pandas in a future version. Use pandas.concat instead.\n",
      "  df_write = df_write.append(_v, ignore_index=True)\n",
      "C:\\Users\\julien\\AppData\\Local\\Temp\\ipykernel_5284\\1387881205.py:80: FutureWarning: The frame.append method is deprecated and will be removed from pandas in a future version. Use pandas.concat instead.\n",
      "  df_write = df_write.append(_v, ignore_index=True)\n"
     ]
    },
    {
     "name": "stdout",
     "output_type": "stream",
     "text": [
      "['337_3_12-62_1681531977916.json', '44_52_12-62_1681323645263.json', '340_102_12-62_1681536823444.json', '224_57_12-62_1681459821664.json', '41_94_12-62_1681322142569.json', '168_19_12-62_1681420570060.json', '307_53_12-62_1681510130855.json', '354_59_12-62_1681545616714.json', '160_147_12-62_1681416729285.json', '292_63_12-62_1681501132291.json', '302_124_12-62_1681507011874.json', '179_23_12-62_1681426423732.json', '145_7_12-62_1681404815464.json', '190_87_12-62_1681433109717.json', '224_133_12-62_1681460098592.json', '331_132_12-62_1681529138018.json', '301_139_12-62_1681506455605.json', '316_126_12-62_1681515338685.json', '319_139_12-62_1681516932843.json', '274_141_12-62_1681492121604.json', '142_89_12-62_1681403366358.json', '277_89_12-62_1681493441674.json', '283_108_12-62_1681496431161.json', '42_77_12-62_1681322674296.json', '173_125_12-62_1681423536081.json']\n"
     ]
    },
    {
     "name": "stderr",
     "output_type": "stream",
     "text": [
      "C:\\Users\\julien\\AppData\\Local\\Temp\\ipykernel_5284\\1387881205.py:65: FutureWarning: The frame.append method is deprecated and will be removed from pandas in a future version. Use pandas.concat instead.\n",
      "  df_write = df_write.append(_v, ignore_index=True)\n",
      "C:\\Users\\julien\\AppData\\Local\\Temp\\ipykernel_5284\\1387881205.py:65: FutureWarning: The frame.append method is deprecated and will be removed from pandas in a future version. Use pandas.concat instead.\n",
      "  df_write = df_write.append(_v, ignore_index=True)\n",
      "C:\\Users\\julien\\AppData\\Local\\Temp\\ipykernel_5284\\1387881205.py:65: FutureWarning: The frame.append method is deprecated and will be removed from pandas in a future version. Use pandas.concat instead.\n",
      "  df_write = df_write.append(_v, ignore_index=True)\n",
      "C:\\Users\\julien\\AppData\\Local\\Temp\\ipykernel_5284\\1387881205.py:65: FutureWarning: The frame.append method is deprecated and will be removed from pandas in a future version. Use pandas.concat instead.\n",
      "  df_write = df_write.append(_v, ignore_index=True)\n",
      "C:\\Users\\julien\\AppData\\Local\\Temp\\ipykernel_5284\\1387881205.py:80: FutureWarning: The frame.append method is deprecated and will be removed from pandas in a future version. Use pandas.concat instead.\n",
      "  df_write = df_write.append(_v, ignore_index=True)\n",
      "C:\\Users\\julien\\AppData\\Local\\Temp\\ipykernel_5284\\1387881205.py:80: FutureWarning: The frame.append method is deprecated and will be removed from pandas in a future version. Use pandas.concat instead.\n",
      "  df_write = df_write.append(_v, ignore_index=True)\n",
      "C:\\Users\\julien\\AppData\\Local\\Temp\\ipykernel_5284\\1387881205.py:80: FutureWarning: The frame.append method is deprecated and will be removed from pandas in a future version. Use pandas.concat instead.\n",
      "  df_write = df_write.append(_v, ignore_index=True)\n"
     ]
    },
    {
     "name": "stdout",
     "output_type": "stream",
     "text": [
      "['184_146_12-62_1681429656173.json', '227_113_12-62_1681461860350.json', '187_113_12-62_1681431166137.json', '228_27_12-62_1681462064721.json', '122_50_12-62_1681391253355.json', '284_61_12-62_1681496777892.json', '320_19_12-62_1681517038033.json', '279_78_12-62_1681494421988.json', '190_147_12-62_1681433318940.json', '32_118_12-62_1681317058062.json', '200_118_12-62_1681442584227.json', '206_2_12-62_1681445735161.json', '344_149_12-62_1681539609227.json', '296_98_12-62_1681503433737.json', '186_47_12-62_1681430326380.json', '348_16_12-62_1681541815122.json', '347_16_12-62_1681541156458.json', '355_117_12-62_1681546394764.json', '209_145_12-62_1681448209507.json', '198_55_12-62_1681441054746.json', '272_28_12-62_1681490597261.json', '197_73_12-62_1681440528794.json', '161_110_12-62_1681416799484.json', '279_149_12-62_1681494854420.json', '321_96_12-62_1681517825614.json']\n"
     ]
    },
    {
     "name": "stderr",
     "output_type": "stream",
     "text": [
      "C:\\Users\\julien\\AppData\\Local\\Temp\\ipykernel_5284\\1387881205.py:65: FutureWarning: The frame.append method is deprecated and will be removed from pandas in a future version. Use pandas.concat instead.\n",
      "  df_write = df_write.append(_v, ignore_index=True)\n",
      "C:\\Users\\julien\\AppData\\Local\\Temp\\ipykernel_5284\\1387881205.py:65: FutureWarning: The frame.append method is deprecated and will be removed from pandas in a future version. Use pandas.concat instead.\n",
      "  df_write = df_write.append(_v, ignore_index=True)\n",
      "C:\\Users\\julien\\AppData\\Local\\Temp\\ipykernel_5284\\1387881205.py:65: FutureWarning: The frame.append method is deprecated and will be removed from pandas in a future version. Use pandas.concat instead.\n",
      "  df_write = df_write.append(_v, ignore_index=True)\n",
      "C:\\Users\\julien\\AppData\\Local\\Temp\\ipykernel_5284\\1387881205.py:65: FutureWarning: The frame.append method is deprecated and will be removed from pandas in a future version. Use pandas.concat instead.\n",
      "  df_write = df_write.append(_v, ignore_index=True)\n",
      "C:\\Users\\julien\\AppData\\Local\\Temp\\ipykernel_5284\\1387881205.py:80: FutureWarning: The frame.append method is deprecated and will be removed from pandas in a future version. Use pandas.concat instead.\n",
      "  df_write = df_write.append(_v, ignore_index=True)\n",
      "C:\\Users\\julien\\AppData\\Local\\Temp\\ipykernel_5284\\1387881205.py:80: FutureWarning: The frame.append method is deprecated and will be removed from pandas in a future version. Use pandas.concat instead.\n",
      "  df_write = df_write.append(_v, ignore_index=True)\n",
      "C:\\Users\\julien\\AppData\\Local\\Temp\\ipykernel_5284\\1387881205.py:80: FutureWarning: The frame.append method is deprecated and will be removed from pandas in a future version. Use pandas.concat instead.\n",
      "  df_write = df_write.append(_v, ignore_index=True)\n"
     ]
    },
    {
     "name": "stdout",
     "output_type": "stream",
     "text": [
      "['147_91_12-62_1681406296643.json', '33_83_12-62_1681317438368.json', '320_105_12-62_1681517356669.json', '287_91_12-62_1681498481595.json', '310_117_12-62_1681511902390.json', '199_22_12-62_1681441502534.json', '228_92_12-62_1681462320572.json', '294_88_12-62_1681502299621.json', '135_65_12-62_1681399175128.json', '167_42_12-62_1681420087194.json', '38_78_12-62_1681320332678.json', '197_108_12-62_1681440653783.json', '121_131_12-62_1681390972121.json', '356_11_12-62_1681546578528.json', '286_88_12-62_1681497875850.json', '165_76_12-62_1681419094654.json', '334_15_12-62_1681530264362.json', '131_116_12-62_1681396952733.json', '318_71_12-62_1681516194063.json', '179_70_12-62_1681426598313.json', '133_18_12-62_1681397797995.json', '154_108_12-62_1681411901455.json', '196_28_12-62_1681439722112.json', '292_140_12-62_1681501375715.json', '344_70_12-62_1681539004526.json']\n"
     ]
    },
    {
     "name": "stderr",
     "output_type": "stream",
     "text": [
      "C:\\Users\\julien\\AppData\\Local\\Temp\\ipykernel_5284\\1387881205.py:65: FutureWarning: The frame.append method is deprecated and will be removed from pandas in a future version. Use pandas.concat instead.\n",
      "  df_write = df_write.append(_v, ignore_index=True)\n",
      "C:\\Users\\julien\\AppData\\Local\\Temp\\ipykernel_5284\\1387881205.py:65: FutureWarning: The frame.append method is deprecated and will be removed from pandas in a future version. Use pandas.concat instead.\n",
      "  df_write = df_write.append(_v, ignore_index=True)\n",
      "C:\\Users\\julien\\AppData\\Local\\Temp\\ipykernel_5284\\1387881205.py:65: FutureWarning: The frame.append method is deprecated and will be removed from pandas in a future version. Use pandas.concat instead.\n",
      "  df_write = df_write.append(_v, ignore_index=True)\n",
      "C:\\Users\\julien\\AppData\\Local\\Temp\\ipykernel_5284\\1387881205.py:65: FutureWarning: The frame.append method is deprecated and will be removed from pandas in a future version. Use pandas.concat instead.\n",
      "  df_write = df_write.append(_v, ignore_index=True)\n",
      "C:\\Users\\julien\\AppData\\Local\\Temp\\ipykernel_5284\\1387881205.py:80: FutureWarning: The frame.append method is deprecated and will be removed from pandas in a future version. Use pandas.concat instead.\n",
      "  df_write = df_write.append(_v, ignore_index=True)\n",
      "C:\\Users\\julien\\AppData\\Local\\Temp\\ipykernel_5284\\1387881205.py:80: FutureWarning: The frame.append method is deprecated and will be removed from pandas in a future version. Use pandas.concat instead.\n",
      "  df_write = df_write.append(_v, ignore_index=True)\n",
      "C:\\Users\\julien\\AppData\\Local\\Temp\\ipykernel_5284\\1387881205.py:80: FutureWarning: The frame.append method is deprecated and will be removed from pandas in a future version. Use pandas.concat instead.\n",
      "  df_write = df_write.append(_v, ignore_index=True)\n"
     ]
    },
    {
     "name": "stdout",
     "output_type": "stream",
     "text": [
      "['169_70_12-62_1681421244264.json', '326_138_12-62_1681526502130.json', '318_92_12-62_1681516268899.json', '181_13_12-62_1681427537627.json', '42_59_12-62_1681322590057.json', '128_124_12-62_1681395202560.json', '145_148_12-62_1681405713990.json', '189_147_12-62_1681432990720.json', '293_102_12-62_1681501775074.json', '168_24_12-62_1681420588767.json', '319_23_12-62_1681516539230.json', '191_59_12-62_1681436924485.json', '280_70_12-62_1681494894263.json', '304_58_12-62_1681507971159.json', '149_101_12-62_1681407521824.json', '313_146_12-62_1681513891572.json', '218_8_12-62_1681453200714.json', '179_11_12-62_1681426383983.json', '330_36_12-62_1681528233307.json', '122_36_12-62_1681391218196.json', '285_114_12-62_1681497443037.json', '169_149_12-62_1681421614710.json', '189_72_12-62_1681432446794.json', '216_140_12-62_1681452500430.json', '125_85_12-62_1681393389393.json']\n"
     ]
    },
    {
     "name": "stderr",
     "output_type": "stream",
     "text": [
      "C:\\Users\\julien\\AppData\\Local\\Temp\\ipykernel_5284\\1387881205.py:65: FutureWarning: The frame.append method is deprecated and will be removed from pandas in a future version. Use pandas.concat instead.\n",
      "  df_write = df_write.append(_v, ignore_index=True)\n",
      "C:\\Users\\julien\\AppData\\Local\\Temp\\ipykernel_5284\\1387881205.py:65: FutureWarning: The frame.append method is deprecated and will be removed from pandas in a future version. Use pandas.concat instead.\n",
      "  df_write = df_write.append(_v, ignore_index=True)\n",
      "C:\\Users\\julien\\AppData\\Local\\Temp\\ipykernel_5284\\1387881205.py:65: FutureWarning: The frame.append method is deprecated and will be removed from pandas in a future version. Use pandas.concat instead.\n",
      "  df_write = df_write.append(_v, ignore_index=True)\n",
      "C:\\Users\\julien\\AppData\\Local\\Temp\\ipykernel_5284\\1387881205.py:65: FutureWarning: The frame.append method is deprecated and will be removed from pandas in a future version. Use pandas.concat instead.\n",
      "  df_write = df_write.append(_v, ignore_index=True)\n",
      "C:\\Users\\julien\\AppData\\Local\\Temp\\ipykernel_5284\\1387881205.py:80: FutureWarning: The frame.append method is deprecated and will be removed from pandas in a future version. Use pandas.concat instead.\n",
      "  df_write = df_write.append(_v, ignore_index=True)\n",
      "C:\\Users\\julien\\AppData\\Local\\Temp\\ipykernel_5284\\1387881205.py:80: FutureWarning: The frame.append method is deprecated and will be removed from pandas in a future version. Use pandas.concat instead.\n",
      "  df_write = df_write.append(_v, ignore_index=True)\n",
      "C:\\Users\\julien\\AppData\\Local\\Temp\\ipykernel_5284\\1387881205.py:80: FutureWarning: The frame.append method is deprecated and will be removed from pandas in a future version. Use pandas.concat instead.\n",
      "  df_write = df_write.append(_v, ignore_index=True)\n"
     ]
    },
    {
     "name": "stdout",
     "output_type": "stream",
     "text": [
      "['344_66_12-62_1681538988114.json', '133_35_12-62_1681397888326.json', '286_49_12-62_1681497733473.json', '337_62_12-62_1681532250357.json', '131_148_12-62_1681397334365.json', '197_124_12-62_1681440735548.json', '331_142_12-62_1681529173785.json', '173_116_12-62_1681423505921.json', '328_28_12-62_1681527124498.json', '307_146_12-62_1681510586395.json', '169_22_12-62_1681421106336.json', '317_43_12-62_1681515554007.json', '305_34_12-62_1681508556772.json', '146_85_12-62_1681405687335.json', '350_39_12-62_1681543031088.json', '227_147_12-62_1681462292269.json', '195_148_12-62_1681439733579.json', '296_4_12-62_1681503102722.json', '215_20_12-62_1681451324771.json', '327_79_12-62_1681526828168.json', '355_37_12-62_1681546109428.json', '300_129_12-62_1681505806136.json', '45_28_12-62_1681324111967.json', '206_72_12-62_1681446068053.json', '185_75_12-62_1681429858664.json']\n"
     ]
    },
    {
     "name": "stderr",
     "output_type": "stream",
     "text": [
      "C:\\Users\\julien\\AppData\\Local\\Temp\\ipykernel_5284\\1387881205.py:65: FutureWarning: The frame.append method is deprecated and will be removed from pandas in a future version. Use pandas.concat instead.\n",
      "  df_write = df_write.append(_v, ignore_index=True)\n",
      "C:\\Users\\julien\\AppData\\Local\\Temp\\ipykernel_5284\\1387881205.py:65: FutureWarning: The frame.append method is deprecated and will be removed from pandas in a future version. Use pandas.concat instead.\n",
      "  df_write = df_write.append(_v, ignore_index=True)\n",
      "C:\\Users\\julien\\AppData\\Local\\Temp\\ipykernel_5284\\1387881205.py:65: FutureWarning: The frame.append method is deprecated and will be removed from pandas in a future version. Use pandas.concat instead.\n",
      "  df_write = df_write.append(_v, ignore_index=True)\n",
      "C:\\Users\\julien\\AppData\\Local\\Temp\\ipykernel_5284\\1387881205.py:65: FutureWarning: The frame.append method is deprecated and will be removed from pandas in a future version. Use pandas.concat instead.\n",
      "  df_write = df_write.append(_v, ignore_index=True)\n",
      "C:\\Users\\julien\\AppData\\Local\\Temp\\ipykernel_5284\\1387881205.py:80: FutureWarning: The frame.append method is deprecated and will be removed from pandas in a future version. Use pandas.concat instead.\n",
      "  df_write = df_write.append(_v, ignore_index=True)\n",
      "C:\\Users\\julien\\AppData\\Local\\Temp\\ipykernel_5284\\1387881205.py:80: FutureWarning: The frame.append method is deprecated and will be removed from pandas in a future version. Use pandas.concat instead.\n",
      "  df_write = df_write.append(_v, ignore_index=True)\n",
      "C:\\Users\\julien\\AppData\\Local\\Temp\\ipykernel_5284\\1387881205.py:80: FutureWarning: The frame.append method is deprecated and will be removed from pandas in a future version. Use pandas.concat instead.\n",
      "  df_write = df_write.append(_v, ignore_index=True)\n"
     ]
    },
    {
     "name": "stdout",
     "output_type": "stream",
     "text": [
      "['228_59_12-62_1681462191192.json', '140_79_12-62_1681402223560.json', '223_107_12-62_1681459468198.json', '315_76_12-62_1681514659348.json', '334_30_12-62_1681530328983.json', '343_145_12-62_1681538813770.json', '144_145_12-62_1681404892373.json', '340_89_12-62_1681536775840.json', '282_35_12-62_1681495706369.json', '345_31_12-62_1681539465971.json', '218_34_12-62_1681453335448.json', '224_98_12-62_1681459987646.json', '280_49_12-62_1681494827340.json', '296_117_12-62_1681503490542.json', '144_123_12-62_1681404712577.json', '179_100_12-62_1681426702771.json', '308_77_12-62_1681510727016.json', '333_137_12-62_1681530159326.json', '180_136_12-62_1681427438023.json', '289_62_12-62_1681499538195.json', '167_148_12-62_1681420626787.json', '299_80_12-62_1681504985331.json', '136_37_12-62_1681399661891.json', '311_2_12-62_1681512031467.json', '44_43_12-62_1681323617782.json']\n"
     ]
    },
    {
     "name": "stderr",
     "output_type": "stream",
     "text": [
      "C:\\Users\\julien\\AppData\\Local\\Temp\\ipykernel_5284\\1387881205.py:65: FutureWarning: The frame.append method is deprecated and will be removed from pandas in a future version. Use pandas.concat instead.\n",
      "  df_write = df_write.append(_v, ignore_index=True)\n",
      "C:\\Users\\julien\\AppData\\Local\\Temp\\ipykernel_5284\\1387881205.py:65: FutureWarning: The frame.append method is deprecated and will be removed from pandas in a future version. Use pandas.concat instead.\n",
      "  df_write = df_write.append(_v, ignore_index=True)\n",
      "C:\\Users\\julien\\AppData\\Local\\Temp\\ipykernel_5284\\1387881205.py:65: FutureWarning: The frame.append method is deprecated and will be removed from pandas in a future version. Use pandas.concat instead.\n",
      "  df_write = df_write.append(_v, ignore_index=True)\n",
      "C:\\Users\\julien\\AppData\\Local\\Temp\\ipykernel_5284\\1387881205.py:65: FutureWarning: The frame.append method is deprecated and will be removed from pandas in a future version. Use pandas.concat instead.\n",
      "  df_write = df_write.append(_v, ignore_index=True)\n",
      "C:\\Users\\julien\\AppData\\Local\\Temp\\ipykernel_5284\\1387881205.py:80: FutureWarning: The frame.append method is deprecated and will be removed from pandas in a future version. Use pandas.concat instead.\n",
      "  df_write = df_write.append(_v, ignore_index=True)\n",
      "C:\\Users\\julien\\AppData\\Local\\Temp\\ipykernel_5284\\1387881205.py:80: FutureWarning: The frame.append method is deprecated and will be removed from pandas in a future version. Use pandas.concat instead.\n",
      "  df_write = df_write.append(_v, ignore_index=True)\n",
      "C:\\Users\\julien\\AppData\\Local\\Temp\\ipykernel_5284\\1387881205.py:80: FutureWarning: The frame.append method is deprecated and will be removed from pandas in a future version. Use pandas.concat instead.\n",
      "  df_write = df_write.append(_v, ignore_index=True)\n"
     ]
    },
    {
     "name": "stdout",
     "output_type": "stream",
     "text": [
      "['161_108_12-62_1681416796501.json', '210_40_12-62_1681448425775.json', '173_33_12-62_1681423223551.json', '214_48_12-62_1681450807065.json', '291_148_12-62_1681500899763.json', '185_146_12-62_1681430257584.json', '271_8_12-62_1681489994718.json', '184_14_12-62_1681429130585.json', '133_116_12-62_1681398201703.json', '149_148_12-62_1681408067225.json', '292_66_12-62_1681501142062.json', '161_57_12-62_1681416594152.json', '345_93_12-62_1681540270339.json', '329_97_12-62_1681527905840.json', '146_135_12-62_1681405931651.json', '121_122_12-62_1681390947018.json', '129_134_12-62_1681395789813.json', '199_11_12-62_1681441463625.json', '333_42_12-62_1681529835870.json', '43_88_12-62_1681323256058.json', '184_145_12-62_1681429525027.json', '345_106_12-62_1681540321855.json', '218_114_12-62_1681453637757.json', '297_38_12-62_1681503757711.json', '353_5_12-62_1681544898440.json']\n"
     ]
    },
    {
     "name": "stderr",
     "output_type": "stream",
     "text": [
      "C:\\Users\\julien\\AppData\\Local\\Temp\\ipykernel_5284\\1387881205.py:65: FutureWarning: The frame.append method is deprecated and will be removed from pandas in a future version. Use pandas.concat instead.\n",
      "  df_write = df_write.append(_v, ignore_index=True)\n",
      "C:\\Users\\julien\\AppData\\Local\\Temp\\ipykernel_5284\\1387881205.py:65: FutureWarning: The frame.append method is deprecated and will be removed from pandas in a future version. Use pandas.concat instead.\n",
      "  df_write = df_write.append(_v, ignore_index=True)\n",
      "C:\\Users\\julien\\AppData\\Local\\Temp\\ipykernel_5284\\1387881205.py:65: FutureWarning: The frame.append method is deprecated and will be removed from pandas in a future version. Use pandas.concat instead.\n",
      "  df_write = df_write.append(_v, ignore_index=True)\n",
      "C:\\Users\\julien\\AppData\\Local\\Temp\\ipykernel_5284\\1387881205.py:65: FutureWarning: The frame.append method is deprecated and will be removed from pandas in a future version. Use pandas.concat instead.\n",
      "  df_write = df_write.append(_v, ignore_index=True)\n",
      "C:\\Users\\julien\\AppData\\Local\\Temp\\ipykernel_5284\\1387881205.py:80: FutureWarning: The frame.append method is deprecated and will be removed from pandas in a future version. Use pandas.concat instead.\n",
      "  df_write = df_write.append(_v, ignore_index=True)\n",
      "C:\\Users\\julien\\AppData\\Local\\Temp\\ipykernel_5284\\1387881205.py:80: FutureWarning: The frame.append method is deprecated and will be removed from pandas in a future version. Use pandas.concat instead.\n",
      "  df_write = df_write.append(_v, ignore_index=True)\n",
      "C:\\Users\\julien\\AppData\\Local\\Temp\\ipykernel_5284\\1387881205.py:80: FutureWarning: The frame.append method is deprecated and will be removed from pandas in a future version. Use pandas.concat instead.\n",
      "  df_write = df_write.append(_v, ignore_index=True)\n"
     ]
    },
    {
     "name": "stdout",
     "output_type": "stream",
     "text": [
      "['156_97_12-62_1681412865255.json', '357_23_12-62_1681547194663.json', '318_96_12-62_1681516278164.json', '318_37_12-62_1681516041358.json', '277_93_12-62_1681493475291.json', '318_91_12-62_1681516264739.json', '282_127_12-62_1681496025148.json', '309_23_12-62_1681511074782.json', '301_81_12-62_1681506227267.json', '288_61_12-62_1681498986777.json', '321_131_12-62_1681517958841.json', '357_149_12-62_1681547659450.json', '32_34_12-62_1681316836069.json', '143_88_12-62_1681403958345.json', '201_10_12-62_1681442765905.json', '226_74_12-62_1681461207956.json', '231_34_12-62_1681463868758.json', '350_38_12-62_1681543030421.json', '272_69_12-62_1681490756533.json', '298_135_12-62_1681504585158.json', '204_114_12-62_1681444880363.json', '319_77_12-62_1681516722259.json', '304_84_12-62_1681508121833.json', '205_144_12-62_1681445684303.json', '169_54_12-62_1681421196423.json']\n"
     ]
    },
    {
     "name": "stderr",
     "output_type": "stream",
     "text": [
      "C:\\Users\\julien\\AppData\\Local\\Temp\\ipykernel_5284\\1387881205.py:65: FutureWarning: The frame.append method is deprecated and will be removed from pandas in a future version. Use pandas.concat instead.\n",
      "  df_write = df_write.append(_v, ignore_index=True)\n",
      "C:\\Users\\julien\\AppData\\Local\\Temp\\ipykernel_5284\\1387881205.py:65: FutureWarning: The frame.append method is deprecated and will be removed from pandas in a future version. Use pandas.concat instead.\n",
      "  df_write = df_write.append(_v, ignore_index=True)\n",
      "C:\\Users\\julien\\AppData\\Local\\Temp\\ipykernel_5284\\1387881205.py:65: FutureWarning: The frame.append method is deprecated and will be removed from pandas in a future version. Use pandas.concat instead.\n",
      "  df_write = df_write.append(_v, ignore_index=True)\n",
      "C:\\Users\\julien\\AppData\\Local\\Temp\\ipykernel_5284\\1387881205.py:65: FutureWarning: The frame.append method is deprecated and will be removed from pandas in a future version. Use pandas.concat instead.\n",
      "  df_write = df_write.append(_v, ignore_index=True)\n",
      "C:\\Users\\julien\\AppData\\Local\\Temp\\ipykernel_5284\\1387881205.py:80: FutureWarning: The frame.append method is deprecated and will be removed from pandas in a future version. Use pandas.concat instead.\n",
      "  df_write = df_write.append(_v, ignore_index=True)\n",
      "C:\\Users\\julien\\AppData\\Local\\Temp\\ipykernel_5284\\1387881205.py:80: FutureWarning: The frame.append method is deprecated and will be removed from pandas in a future version. Use pandas.concat instead.\n",
      "  df_write = df_write.append(_v, ignore_index=True)\n",
      "C:\\Users\\julien\\AppData\\Local\\Temp\\ipykernel_5284\\1387881205.py:80: FutureWarning: The frame.append method is deprecated and will be removed from pandas in a future version. Use pandas.concat instead.\n",
      "  df_write = df_write.append(_v, ignore_index=True)\n"
     ]
    },
    {
     "name": "stdout",
     "output_type": "stream",
     "text": [
      "['315_72_12-62_1681514644919.json', '344_99_12-62_1681539103934.json', '322_135_12-62_1681524349430.json', '298_113_12-62_1681504513943.json', '189_80_12-62_1681432467327.json', '141_24_12-62_1681402570756.json', '160_103_12-62_1681416221278.json', '348_31_12-62_1681541874903.json', '147_46_12-62_1681406140259.json', '310_57_12-62_1681511694021.json', '160_23_12-62_1681415939373.json', '136_52_12-62_1681399725769.json', '211_127_12-62_1681449339219.json', '356_57_12-62_1681546728606.json', '188_107_12-62_1681431960566.json', '175_149_12-62_1681425008221.json', '33_45_12-62_1681317307721.json', '129_18_12-62_1681395365440.json', '129_149_12-62_1681395823603.json', '192_0_12-62_1681437286521.json', '146_12_12-62_1681405393063.json', '129_4_12-62_1681395317375.json', '177_88_12-62_1681425535358.json', '338_140_12-62_1681533180810.json', '206_145_12-62_1681446408632.json']\n"
     ]
    },
    {
     "name": "stderr",
     "output_type": "stream",
     "text": [
      "C:\\Users\\julien\\AppData\\Local\\Temp\\ipykernel_5284\\1387881205.py:65: FutureWarning: The frame.append method is deprecated and will be removed from pandas in a future version. Use pandas.concat instead.\n",
      "  df_write = df_write.append(_v, ignore_index=True)\n",
      "C:\\Users\\julien\\AppData\\Local\\Temp\\ipykernel_5284\\1387881205.py:65: FutureWarning: The frame.append method is deprecated and will be removed from pandas in a future version. Use pandas.concat instead.\n",
      "  df_write = df_write.append(_v, ignore_index=True)\n",
      "C:\\Users\\julien\\AppData\\Local\\Temp\\ipykernel_5284\\1387881205.py:65: FutureWarning: The frame.append method is deprecated and will be removed from pandas in a future version. Use pandas.concat instead.\n",
      "  df_write = df_write.append(_v, ignore_index=True)\n",
      "C:\\Users\\julien\\AppData\\Local\\Temp\\ipykernel_5284\\1387881205.py:65: FutureWarning: The frame.append method is deprecated and will be removed from pandas in a future version. Use pandas.concat instead.\n",
      "  df_write = df_write.append(_v, ignore_index=True)\n",
      "C:\\Users\\julien\\AppData\\Local\\Temp\\ipykernel_5284\\1387881205.py:80: FutureWarning: The frame.append method is deprecated and will be removed from pandas in a future version. Use pandas.concat instead.\n",
      "  df_write = df_write.append(_v, ignore_index=True)\n",
      "C:\\Users\\julien\\AppData\\Local\\Temp\\ipykernel_5284\\1387881205.py:80: FutureWarning: The frame.append method is deprecated and will be removed from pandas in a future version. Use pandas.concat instead.\n",
      "  df_write = df_write.append(_v, ignore_index=True)\n",
      "C:\\Users\\julien\\AppData\\Local\\Temp\\ipykernel_5284\\1387881205.py:80: FutureWarning: The frame.append method is deprecated and will be removed from pandas in a future version. Use pandas.concat instead.\n",
      "  df_write = df_write.append(_v, ignore_index=True)\n"
     ]
    },
    {
     "name": "stdout",
     "output_type": "stream",
     "text": [
      "['163_138_12-62_1681418053538.json', '299_88_12-62_1681505003603.json', '197_147_12-62_1681440851165.json', '297_23_12-62_1681503693293.json', '287_22_12-62_1681498231712.json', '297_77_12-62_1681503882440.json', '301_90_12-62_1681506282161.json', '288_29_12-62_1681498844735.json', '343_138_12-62_1681538648279.json', '290_79_12-62_1681500163289.json', '323_145_12-62_1681525073555.json', '140_128_12-62_1681402412098.json', '279_137_12-62_1681494647046.json', '200_44_12-62_1681442298696.json', '222_62_12-62_1681458725455.json', '282_107_12-62_1681495949071.json', '164_93_12-62_1681418554544.json', '313_95_12-62_1681513591236.json', '167_28_12-62_1681420026754.json', '305_107_12-62_1681508788829.json', '353_145_12-62_1681545366280.json', '322_97_12-62_1681524199429.json', '220_82_12-62_1681457637736.json', '170_104_12-62_1681421861550.json', '289_107_12-62_1681499685166.json']\n"
     ]
    },
    {
     "name": "stderr",
     "output_type": "stream",
     "text": [
      "C:\\Users\\julien\\AppData\\Local\\Temp\\ipykernel_5284\\1387881205.py:65: FutureWarning: The frame.append method is deprecated and will be removed from pandas in a future version. Use pandas.concat instead.\n",
      "  df_write = df_write.append(_v, ignore_index=True)\n",
      "C:\\Users\\julien\\AppData\\Local\\Temp\\ipykernel_5284\\1387881205.py:65: FutureWarning: The frame.append method is deprecated and will be removed from pandas in a future version. Use pandas.concat instead.\n",
      "  df_write = df_write.append(_v, ignore_index=True)\n",
      "C:\\Users\\julien\\AppData\\Local\\Temp\\ipykernel_5284\\1387881205.py:65: FutureWarning: The frame.append method is deprecated and will be removed from pandas in a future version. Use pandas.concat instead.\n",
      "  df_write = df_write.append(_v, ignore_index=True)\n",
      "C:\\Users\\julien\\AppData\\Local\\Temp\\ipykernel_5284\\1387881205.py:65: FutureWarning: The frame.append method is deprecated and will be removed from pandas in a future version. Use pandas.concat instead.\n",
      "  df_write = df_write.append(_v, ignore_index=True)\n",
      "C:\\Users\\julien\\AppData\\Local\\Temp\\ipykernel_5284\\1387881205.py:80: FutureWarning: The frame.append method is deprecated and will be removed from pandas in a future version. Use pandas.concat instead.\n",
      "  df_write = df_write.append(_v, ignore_index=True)\n",
      "C:\\Users\\julien\\AppData\\Local\\Temp\\ipykernel_5284\\1387881205.py:80: FutureWarning: The frame.append method is deprecated and will be removed from pandas in a future version. Use pandas.concat instead.\n",
      "  df_write = df_write.append(_v, ignore_index=True)\n",
      "C:\\Users\\julien\\AppData\\Local\\Temp\\ipykernel_5284\\1387881205.py:80: FutureWarning: The frame.append method is deprecated and will be removed from pandas in a future version. Use pandas.concat instead.\n",
      "  df_write = df_write.append(_v, ignore_index=True)\n"
     ]
    },
    {
     "name": "stdout",
     "output_type": "stream",
     "text": [
      "['157_37_12-62_1681413203698.json', '350_77_12-62_1681543190413.json', '317_76_12-62_1681515655665.json', '191_42_12-62_1681433505420.json', '227_104_12-62_1681461833468.json', '294_131_12-62_1681502483690.json', '284_119_12-62_1681496951206.json', '161_149_12-62_1681416920153.json', '155_11_12-62_1681412096418.json', '182_115_12-62_1681428492153.json', '325_46_12-62_1681525665403.json', '171_148_12-62_1681422723685.json', '188_103_12-62_1681431951515.json', '347_147_12-62_1681542084889.json', '348_14_12-62_1681541808992.json', '171_33_12-62_1681422141284.json', '128_39_12-62_1681394892167.json', '230_16_12-62_1681463215921.json', '336_128_12-62_1681531880990.json', '198_66_12-62_1681441117190.json', '348_112_12-62_1681542166715.json', '330_17_12-62_1681528142852.json', '154_0_12-62_1681411512014.json', '135_149_12-62_1681399898967.json', '340_84_12-62_1681534123928.json']\n"
     ]
    },
    {
     "name": "stderr",
     "output_type": "stream",
     "text": [
      "C:\\Users\\julien\\AppData\\Local\\Temp\\ipykernel_5284\\1387881205.py:65: FutureWarning: The frame.append method is deprecated and will be removed from pandas in a future version. Use pandas.concat instead.\n",
      "  df_write = df_write.append(_v, ignore_index=True)\n",
      "C:\\Users\\julien\\AppData\\Local\\Temp\\ipykernel_5284\\1387881205.py:65: FutureWarning: The frame.append method is deprecated and will be removed from pandas in a future version. Use pandas.concat instead.\n",
      "  df_write = df_write.append(_v, ignore_index=True)\n",
      "C:\\Users\\julien\\AppData\\Local\\Temp\\ipykernel_5284\\1387881205.py:65: FutureWarning: The frame.append method is deprecated and will be removed from pandas in a future version. Use pandas.concat instead.\n",
      "  df_write = df_write.append(_v, ignore_index=True)\n",
      "C:\\Users\\julien\\AppData\\Local\\Temp\\ipykernel_5284\\1387881205.py:65: FutureWarning: The frame.append method is deprecated and will be removed from pandas in a future version. Use pandas.concat instead.\n",
      "  df_write = df_write.append(_v, ignore_index=True)\n",
      "C:\\Users\\julien\\AppData\\Local\\Temp\\ipykernel_5284\\1387881205.py:80: FutureWarning: The frame.append method is deprecated and will be removed from pandas in a future version. Use pandas.concat instead.\n",
      "  df_write = df_write.append(_v, ignore_index=True)\n",
      "C:\\Users\\julien\\AppData\\Local\\Temp\\ipykernel_5284\\1387881205.py:80: FutureWarning: The frame.append method is deprecated and will be removed from pandas in a future version. Use pandas.concat instead.\n",
      "  df_write = df_write.append(_v, ignore_index=True)\n",
      "C:\\Users\\julien\\AppData\\Local\\Temp\\ipykernel_5284\\1387881205.py:80: FutureWarning: The frame.append method is deprecated and will be removed from pandas in a future version. Use pandas.concat instead.\n",
      "  df_write = df_write.append(_v, ignore_index=True)\n"
     ]
    },
    {
     "name": "stdout",
     "output_type": "stream",
     "text": [
      "['216_40_12-62_1681452044956.json', '211_147_12-62_1681449522423.json', '286_132_12-62_1681498082989.json', '221_66_12-62_1681458156076.json', '161_82_12-62_1681416706259.json', '138_143_12-62_1681401315949.json', '340_66_12-62_1681534071203.json', '137_113_12-62_1681400529271.json', '140_59_12-62_1681402149356.json', '155_107_12-62_1681412373187.json', '197_113_12-62_1681440669987.json', '187_11_12-62_1681430766528.json', '222_110_12-62_1681458879772.json', '192_63_12-62_1681437518898.json', '217_147_12-62_1681453305359.json', '174_101_12-62_1681423970400.json', '161_23_12-62_1681416480961.json', '293_10_12-62_1681501443226.json', '309_15_12-62_1681511059593.json', '36_110_12-62_1681319247344.json', '150_17_12-62_1681407753070.json', '313_135_12-62_1681513718895.json', '150_119_12-62_1681408174918.json', '321_11_12-62_1681517565570.json', '148_129_12-62_1681407008554.json']\n"
     ]
    },
    {
     "name": "stderr",
     "output_type": "stream",
     "text": [
      "C:\\Users\\julien\\AppData\\Local\\Temp\\ipykernel_5284\\1387881205.py:65: FutureWarning: The frame.append method is deprecated and will be removed from pandas in a future version. Use pandas.concat instead.\n",
      "  df_write = df_write.append(_v, ignore_index=True)\n",
      "C:\\Users\\julien\\AppData\\Local\\Temp\\ipykernel_5284\\1387881205.py:65: FutureWarning: The frame.append method is deprecated and will be removed from pandas in a future version. Use pandas.concat instead.\n",
      "  df_write = df_write.append(_v, ignore_index=True)\n",
      "C:\\Users\\julien\\AppData\\Local\\Temp\\ipykernel_5284\\1387881205.py:65: FutureWarning: The frame.append method is deprecated and will be removed from pandas in a future version. Use pandas.concat instead.\n",
      "  df_write = df_write.append(_v, ignore_index=True)\n",
      "C:\\Users\\julien\\AppData\\Local\\Temp\\ipykernel_5284\\1387881205.py:65: FutureWarning: The frame.append method is deprecated and will be removed from pandas in a future version. Use pandas.concat instead.\n",
      "  df_write = df_write.append(_v, ignore_index=True)\n",
      "C:\\Users\\julien\\AppData\\Local\\Temp\\ipykernel_5284\\1387881205.py:80: FutureWarning: The frame.append method is deprecated and will be removed from pandas in a future version. Use pandas.concat instead.\n",
      "  df_write = df_write.append(_v, ignore_index=True)\n",
      "C:\\Users\\julien\\AppData\\Local\\Temp\\ipykernel_5284\\1387881205.py:80: FutureWarning: The frame.append method is deprecated and will be removed from pandas in a future version. Use pandas.concat instead.\n",
      "  df_write = df_write.append(_v, ignore_index=True)\n",
      "C:\\Users\\julien\\AppData\\Local\\Temp\\ipykernel_5284\\1387881205.py:80: FutureWarning: The frame.append method is deprecated and will be removed from pandas in a future version. Use pandas.concat instead.\n",
      "  df_write = df_write.append(_v, ignore_index=True)\n"
     ]
    },
    {
     "name": "stdout",
     "output_type": "stream",
     "text": [
      "['168_55_12-62_1681420707959.json', '227_31_12-62_1681461585805.json', '291_6_12-62_1681500450819.json', '314_79_12-62_1681514052800.json', '142_20_12-62_1681403122850.json', '272_133_12-62_1681490983907.json', '348_87_12-62_1681542075034.json', '159_62_12-62_1681415567709.json', '155_39_12-62_1681412188432.json', '350_83_12-62_1681543214051.json', '183_137_12-62_1681429057121.json', '193_148_12-62_1681438487727.json', '272_35_12-62_1681490634236.json', '171_126_12-62_1681422524081.json', '201_86_12-62_1681443034101.json', '181_50_12-62_1681427659375.json', '178_34_12-62_1681425896963.json', '322_25_12-62_1681518118545.json', '40_9_12-62_1681321191431.json', '163_133_12-62_1681418036788.json', '282_148_12-62_1681496066391.json', '207_83_12-62_1681446736856.json', '325_16_12-62_1681525554709.json', '150_21_12-62_1681407768568.json', '290_90_12-62_1681500226617.json']\n"
     ]
    },
    {
     "name": "stderr",
     "output_type": "stream",
     "text": [
      "C:\\Users\\julien\\AppData\\Local\\Temp\\ipykernel_5284\\1387881205.py:65: FutureWarning: The frame.append method is deprecated and will be removed from pandas in a future version. Use pandas.concat instead.\n",
      "  df_write = df_write.append(_v, ignore_index=True)\n",
      "C:\\Users\\julien\\AppData\\Local\\Temp\\ipykernel_5284\\1387881205.py:65: FutureWarning: The frame.append method is deprecated and will be removed from pandas in a future version. Use pandas.concat instead.\n",
      "  df_write = df_write.append(_v, ignore_index=True)\n",
      "C:\\Users\\julien\\AppData\\Local\\Temp\\ipykernel_5284\\1387881205.py:65: FutureWarning: The frame.append method is deprecated and will be removed from pandas in a future version. Use pandas.concat instead.\n",
      "  df_write = df_write.append(_v, ignore_index=True)\n",
      "C:\\Users\\julien\\AppData\\Local\\Temp\\ipykernel_5284\\1387881205.py:65: FutureWarning: The frame.append method is deprecated and will be removed from pandas in a future version. Use pandas.concat instead.\n",
      "  df_write = df_write.append(_v, ignore_index=True)\n",
      "C:\\Users\\julien\\AppData\\Local\\Temp\\ipykernel_5284\\1387881205.py:80: FutureWarning: The frame.append method is deprecated and will be removed from pandas in a future version. Use pandas.concat instead.\n",
      "  df_write = df_write.append(_v, ignore_index=True)\n",
      "C:\\Users\\julien\\AppData\\Local\\Temp\\ipykernel_5284\\1387881205.py:80: FutureWarning: The frame.append method is deprecated and will be removed from pandas in a future version. Use pandas.concat instead.\n",
      "  df_write = df_write.append(_v, ignore_index=True)\n",
      "C:\\Users\\julien\\AppData\\Local\\Temp\\ipykernel_5284\\1387881205.py:80: FutureWarning: The frame.append method is deprecated and will be removed from pandas in a future version. Use pandas.concat instead.\n",
      "  df_write = df_write.append(_v, ignore_index=True)\n"
     ]
    },
    {
     "name": "stdout",
     "output_type": "stream",
     "text": [
      "['185_3_12-62_1681429571143.json', '298_146_12-62_1681504618251.json', '125_50_12-62_1681393266618.json', '209_33_12-62_1681447834179.json', '231_24_12-62_1681463811297.json', '122_30_12-62_1681391204195.json', '159_119_12-62_1681415742178.json', '314_105_12-62_1681514176158.json', '181_143_12-62_1681427972661.json', '355_109_12-62_1681546369483.json', '351_126_12-62_1681544079404.json', '139_56_12-62_1681401546081.json', '293_65_12-62_1681501646056.json', '33_53_12-62_1681317338068.json', '353_127_12-62_1681545328380.json', '174_17_12-62_1681423678711.json', '325_92_12-62_1681525823571.json', '210_125_12-62_1681448777975.json', '190_71_12-62_1681433043969.json', '308_19_12-62_1681510556568.json', '126_68_12-62_1681393893412.json', '132_6_12-62_1681397128125.json', '321_125_12-62_1681517948967.json', '340_68_12-62_1681534076715.json', '191_107_12-62_1681437125397.json']\n"
     ]
    },
    {
     "name": "stderr",
     "output_type": "stream",
     "text": [
      "C:\\Users\\julien\\AppData\\Local\\Temp\\ipykernel_5284\\1387881205.py:65: FutureWarning: The frame.append method is deprecated and will be removed from pandas in a future version. Use pandas.concat instead.\n",
      "  df_write = df_write.append(_v, ignore_index=True)\n",
      "C:\\Users\\julien\\AppData\\Local\\Temp\\ipykernel_5284\\1387881205.py:65: FutureWarning: The frame.append method is deprecated and will be removed from pandas in a future version. Use pandas.concat instead.\n",
      "  df_write = df_write.append(_v, ignore_index=True)\n",
      "C:\\Users\\julien\\AppData\\Local\\Temp\\ipykernel_5284\\1387881205.py:65: FutureWarning: The frame.append method is deprecated and will be removed from pandas in a future version. Use pandas.concat instead.\n",
      "  df_write = df_write.append(_v, ignore_index=True)\n",
      "C:\\Users\\julien\\AppData\\Local\\Temp\\ipykernel_5284\\1387881205.py:65: FutureWarning: The frame.append method is deprecated and will be removed from pandas in a future version. Use pandas.concat instead.\n",
      "  df_write = df_write.append(_v, ignore_index=True)\n",
      "C:\\Users\\julien\\AppData\\Local\\Temp\\ipykernel_5284\\1387881205.py:80: FutureWarning: The frame.append method is deprecated and will be removed from pandas in a future version. Use pandas.concat instead.\n",
      "  df_write = df_write.append(_v, ignore_index=True)\n",
      "C:\\Users\\julien\\AppData\\Local\\Temp\\ipykernel_5284\\1387881205.py:80: FutureWarning: The frame.append method is deprecated and will be removed from pandas in a future version. Use pandas.concat instead.\n",
      "  df_write = df_write.append(_v, ignore_index=True)\n",
      "C:\\Users\\julien\\AppData\\Local\\Temp\\ipykernel_5284\\1387881205.py:80: FutureWarning: The frame.append method is deprecated and will be removed from pandas in a future version. Use pandas.concat instead.\n",
      "  df_write = df_write.append(_v, ignore_index=True)\n"
     ]
    },
    {
     "name": "stdout",
     "output_type": "stream",
     "text": [
      "['167_51_12-62_1681420108025.json', '167_147_12-62_1681420722508.json', '215_78_12-62_1681451570419.json', '189_144_12-62_1681432707838.json', '278_128_12-62_1681494084332.json', '186_31_12-62_1681430278527.json', '276_52_12-62_1681492826235.json', '121_31_12-62_1681390569642.json', '281_112_12-62_1681495465906.json', '211_38_12-62_1681449042772.json', '159_65_12-62_1681415573451.json', '229_117_12-62_1681462987655.json', '146_134_12-62_1681405927917.json', '204_104_12-62_1681444838142.json', '342_93_12-62_1681537889357.json', '188_106_12-62_1681431958534.json', '161_102_12-62_1681416779140.json', '310_140_12-62_1681511978587.json', '122_138_12-62_1681391547669.json', '355_25_12-62_1681546059065.json', '33_3_12-62_1681317175068.json', '121_69_12-62_1681390734445.json', '164_82_12-62_1681418496364.json', '342_120_12-62_1681537986486.json', '313_20_12-62_1681513312864.json']\n"
     ]
    },
    {
     "name": "stderr",
     "output_type": "stream",
     "text": [
      "C:\\Users\\julien\\AppData\\Local\\Temp\\ipykernel_5284\\1387881205.py:65: FutureWarning: The frame.append method is deprecated and will be removed from pandas in a future version. Use pandas.concat instead.\n",
      "  df_write = df_write.append(_v, ignore_index=True)\n",
      "C:\\Users\\julien\\AppData\\Local\\Temp\\ipykernel_5284\\1387881205.py:65: FutureWarning: The frame.append method is deprecated and will be removed from pandas in a future version. Use pandas.concat instead.\n",
      "  df_write = df_write.append(_v, ignore_index=True)\n",
      "C:\\Users\\julien\\AppData\\Local\\Temp\\ipykernel_5284\\1387881205.py:65: FutureWarning: The frame.append method is deprecated and will be removed from pandas in a future version. Use pandas.concat instead.\n",
      "  df_write = df_write.append(_v, ignore_index=True)\n",
      "C:\\Users\\julien\\AppData\\Local\\Temp\\ipykernel_5284\\1387881205.py:65: FutureWarning: The frame.append method is deprecated and will be removed from pandas in a future version. Use pandas.concat instead.\n",
      "  df_write = df_write.append(_v, ignore_index=True)\n",
      "C:\\Users\\julien\\AppData\\Local\\Temp\\ipykernel_5284\\1387881205.py:80: FutureWarning: The frame.append method is deprecated and will be removed from pandas in a future version. Use pandas.concat instead.\n",
      "  df_write = df_write.append(_v, ignore_index=True)\n",
      "C:\\Users\\julien\\AppData\\Local\\Temp\\ipykernel_5284\\1387881205.py:80: FutureWarning: The frame.append method is deprecated and will be removed from pandas in a future version. Use pandas.concat instead.\n",
      "  df_write = df_write.append(_v, ignore_index=True)\n",
      "C:\\Users\\julien\\AppData\\Local\\Temp\\ipykernel_5284\\1387881205.py:80: FutureWarning: The frame.append method is deprecated and will be removed from pandas in a future version. Use pandas.concat instead.\n",
      "  df_write = df_write.append(_v, ignore_index=True)\n"
     ]
    },
    {
     "name": "stdout",
     "output_type": "stream",
     "text": [
      "['303_9_12-62_1681507128555.json', '313_51_12-62_1681513407757.json', '147_131_12-62_1681406463044.json', '140_81_12-62_1681402228004.json', '155_94_12-62_1681412342088.json', '271_90_12-62_1681490302227.json', '195_6_12-62_1681439014144.json', '165_89_12-62_1681419147792.json', '139_134_12-62_1681401840270.json', '150_101_12-62_1681408124791.json', '189_146_12-62_1681432714965.json', '184_9_12-62_1681429118818.json', '36_115_12-62_1681319264956.json', '33_124_12-62_1681317594175.json', '216_139_12-62_1681452498894.json', '203_5_12-62_1681443878972.json', '180_24_12-62_1681426978557.json', '332_71_12-62_1681529462854.json', '157_134_12-62_1681413544460.json', '166_140_12-62_1681419883309.json', '166_61_12-62_1681419624606.json', '219_42_12-62_1681456808927.json', '278_95_12-62_1681493976389.json', '305_16_12-62_1681508472757.json', '303_130_12-62_1681507595761.json']\n"
     ]
    },
    {
     "name": "stderr",
     "output_type": "stream",
     "text": [
      "C:\\Users\\julien\\AppData\\Local\\Temp\\ipykernel_5284\\1387881205.py:65: FutureWarning: The frame.append method is deprecated and will be removed from pandas in a future version. Use pandas.concat instead.\n",
      "  df_write = df_write.append(_v, ignore_index=True)\n",
      "C:\\Users\\julien\\AppData\\Local\\Temp\\ipykernel_5284\\1387881205.py:65: FutureWarning: The frame.append method is deprecated and will be removed from pandas in a future version. Use pandas.concat instead.\n",
      "  df_write = df_write.append(_v, ignore_index=True)\n",
      "C:\\Users\\julien\\AppData\\Local\\Temp\\ipykernel_5284\\1387881205.py:65: FutureWarning: The frame.append method is deprecated and will be removed from pandas in a future version. Use pandas.concat instead.\n",
      "  df_write = df_write.append(_v, ignore_index=True)\n",
      "C:\\Users\\julien\\AppData\\Local\\Temp\\ipykernel_5284\\1387881205.py:65: FutureWarning: The frame.append method is deprecated and will be removed from pandas in a future version. Use pandas.concat instead.\n",
      "  df_write = df_write.append(_v, ignore_index=True)\n",
      "C:\\Users\\julien\\AppData\\Local\\Temp\\ipykernel_5284\\1387881205.py:80: FutureWarning: The frame.append method is deprecated and will be removed from pandas in a future version. Use pandas.concat instead.\n",
      "  df_write = df_write.append(_v, ignore_index=True)\n",
      "C:\\Users\\julien\\AppData\\Local\\Temp\\ipykernel_5284\\1387881205.py:80: FutureWarning: The frame.append method is deprecated and will be removed from pandas in a future version. Use pandas.concat instead.\n",
      "  df_write = df_write.append(_v, ignore_index=True)\n",
      "C:\\Users\\julien\\AppData\\Local\\Temp\\ipykernel_5284\\1387881205.py:80: FutureWarning: The frame.append method is deprecated and will be removed from pandas in a future version. Use pandas.concat instead.\n",
      "  df_write = df_write.append(_v, ignore_index=True)\n"
     ]
    },
    {
     "name": "stdout",
     "output_type": "stream",
     "text": [
      "['123_41_12-62_1681391703954.json', '294_101_12-62_1681502368914.json', '175_33_12-62_1681424259955.json', '140_54_12-62_1681402128491.json', '232_149_12-62_1681464917789.json', '280_126_12-62_1681495068047.json', '181_88_12-62_1681427780867.json', '333_102_12-62_1681530050486.json', '292_50_12-62_1681501077575.json', '357_29_12-62_1681547212681.json', '154_39_12-62_1681411654597.json', '317_145_12-62_1681516010250.json', '177_24_12-62_1681425288169.json', '41_53_12-62_1681321964035.json', '177_20_12-62_1681425275559.json', '352_75_12-62_1681544512241.json', '166_145_12-62_1681419896945.json', '177_145_12-62_1681425877226.json', '130_83_12-62_1681396199022.json', '322_67_12-62_1681524094545.json', '358_82_12-62_1681547985641.json', '278_23_12-62_1681493712782.json', '213_147_12-62_1681450726362.json', '297_91_12-62_1681503945827.json', '345_4_12-62_1681539896884.json']\n"
     ]
    },
    {
     "name": "stderr",
     "output_type": "stream",
     "text": [
      "C:\\Users\\julien\\AppData\\Local\\Temp\\ipykernel_5284\\1387881205.py:65: FutureWarning: The frame.append method is deprecated and will be removed from pandas in a future version. Use pandas.concat instead.\n",
      "  df_write = df_write.append(_v, ignore_index=True)\n",
      "C:\\Users\\julien\\AppData\\Local\\Temp\\ipykernel_5284\\1387881205.py:65: FutureWarning: The frame.append method is deprecated and will be removed from pandas in a future version. Use pandas.concat instead.\n",
      "  df_write = df_write.append(_v, ignore_index=True)\n",
      "C:\\Users\\julien\\AppData\\Local\\Temp\\ipykernel_5284\\1387881205.py:65: FutureWarning: The frame.append method is deprecated and will be removed from pandas in a future version. Use pandas.concat instead.\n",
      "  df_write = df_write.append(_v, ignore_index=True)\n",
      "C:\\Users\\julien\\AppData\\Local\\Temp\\ipykernel_5284\\1387881205.py:65: FutureWarning: The frame.append method is deprecated and will be removed from pandas in a future version. Use pandas.concat instead.\n",
      "  df_write = df_write.append(_v, ignore_index=True)\n",
      "C:\\Users\\julien\\AppData\\Local\\Temp\\ipykernel_5284\\1387881205.py:80: FutureWarning: The frame.append method is deprecated and will be removed from pandas in a future version. Use pandas.concat instead.\n",
      "  df_write = df_write.append(_v, ignore_index=True)\n",
      "C:\\Users\\julien\\AppData\\Local\\Temp\\ipykernel_5284\\1387881205.py:80: FutureWarning: The frame.append method is deprecated and will be removed from pandas in a future version. Use pandas.concat instead.\n",
      "  df_write = df_write.append(_v, ignore_index=True)\n",
      "C:\\Users\\julien\\AppData\\Local\\Temp\\ipykernel_5284\\1387881205.py:80: FutureWarning: The frame.append method is deprecated and will be removed from pandas in a future version. Use pandas.concat instead.\n",
      "  df_write = df_write.append(_v, ignore_index=True)\n"
     ]
    },
    {
     "name": "stdout",
     "output_type": "stream",
     "text": [
      "['292_104_12-62_1681501269356.json', '162_33_12-62_1681417061355.json', '218_79_12-62_1681453481918.json', '314_146_12-62_1681514337230.json', '168_54_12-62_1681420706203.json', '232_148_12-62_1681464823227.json', '193_27_12-62_1681437915423.json', '285_66_12-62_1681497290821.json', '178_39_12-62_1681425913499.json', '276_1_12-62_1681492665682.json', '201_147_12-62_1681443431642.json', '166_41_12-62_1681419555049.json', '183_64_12-62_1681428829588.json', '199_45_12-62_1681441611380.json', '139_110_12-62_1681401760481.json', '135_140_12-62_1681399473418.json', '271_104_12-62_1681490346852.json', '330_37_12-62_1681528236982.json', '292_120_12-62_1681501323775.json', '216_9_12-62_1681451915232.json', '163_37_12-62_1681417642304.json', '348_71_12-62_1681542030740.json', '275_54_12-62_1681492329035.json', '181_32_12-62_1681427610499.json', '281_147_12-62_1681495768931.json']\n"
     ]
    },
    {
     "name": "stderr",
     "output_type": "stream",
     "text": [
      "C:\\Users\\julien\\AppData\\Local\\Temp\\ipykernel_5284\\1387881205.py:65: FutureWarning: The frame.append method is deprecated and will be removed from pandas in a future version. Use pandas.concat instead.\n",
      "  df_write = df_write.append(_v, ignore_index=True)\n",
      "C:\\Users\\julien\\AppData\\Local\\Temp\\ipykernel_5284\\1387881205.py:65: FutureWarning: The frame.append method is deprecated and will be removed from pandas in a future version. Use pandas.concat instead.\n",
      "  df_write = df_write.append(_v, ignore_index=True)\n",
      "C:\\Users\\julien\\AppData\\Local\\Temp\\ipykernel_5284\\1387881205.py:65: FutureWarning: The frame.append method is deprecated and will be removed from pandas in a future version. Use pandas.concat instead.\n",
      "  df_write = df_write.append(_v, ignore_index=True)\n",
      "C:\\Users\\julien\\AppData\\Local\\Temp\\ipykernel_5284\\1387881205.py:65: FutureWarning: The frame.append method is deprecated and will be removed from pandas in a future version. Use pandas.concat instead.\n",
      "  df_write = df_write.append(_v, ignore_index=True)\n",
      "C:\\Users\\julien\\AppData\\Local\\Temp\\ipykernel_5284\\1387881205.py:80: FutureWarning: The frame.append method is deprecated and will be removed from pandas in a future version. Use pandas.concat instead.\n",
      "  df_write = df_write.append(_v, ignore_index=True)\n",
      "C:\\Users\\julien\\AppData\\Local\\Temp\\ipykernel_5284\\1387881205.py:80: FutureWarning: The frame.append method is deprecated and will be removed from pandas in a future version. Use pandas.concat instead.\n",
      "  df_write = df_write.append(_v, ignore_index=True)\n",
      "C:\\Users\\julien\\AppData\\Local\\Temp\\ipykernel_5284\\1387881205.py:80: FutureWarning: The frame.append method is deprecated and will be removed from pandas in a future version. Use pandas.concat instead.\n",
      "  df_write = df_write.append(_v, ignore_index=True)\n"
     ]
    },
    {
     "name": "stdout",
     "output_type": "stream",
     "text": [
      "['195_131_12-62_1681439529114.json', '126_84_12-62_1681393947903.json', '316_85_12-62_1681515200367.json', '43_23_12-62_1681323017445.json', '325_140_12-62_1681525989492.json', '38_72_12-62_1681320307596.json', '212_144_12-62_1681450017056.json', '348_66_12-62_1681542016225.json', '135_73_12-62_1681399193041.json', '292_108_12-62_1681501275211.json', '272_105_12-62_1681490893953.json', '273_84_12-62_1681491346193.json', '43_9_12-62_1681322987899.json', '41_146_12-62_1681322335819.json', '180_122_12-62_1681427398303.json', '345_91_12-62_1681540262105.json', '357_141_12-62_1681547640890.json', '290_66_12-62_1681500124251.json', '123_9_12-62_1681391617862.json', '317_118_12-62_1681515799779.json', '284_145_12-62_1681497038051.json', '293_63_12-62_1681501639721.json', '154_130_12-62_1681411992378.json', '174_98_12-62_1681423963958.json', '300_137_12-62_1681505844592.json']\n"
     ]
    },
    {
     "name": "stderr",
     "output_type": "stream",
     "text": [
      "C:\\Users\\julien\\AppData\\Local\\Temp\\ipykernel_5284\\1387881205.py:65: FutureWarning: The frame.append method is deprecated and will be removed from pandas in a future version. Use pandas.concat instead.\n",
      "  df_write = df_write.append(_v, ignore_index=True)\n",
      "C:\\Users\\julien\\AppData\\Local\\Temp\\ipykernel_5284\\1387881205.py:65: FutureWarning: The frame.append method is deprecated and will be removed from pandas in a future version. Use pandas.concat instead.\n",
      "  df_write = df_write.append(_v, ignore_index=True)\n",
      "C:\\Users\\julien\\AppData\\Local\\Temp\\ipykernel_5284\\1387881205.py:65: FutureWarning: The frame.append method is deprecated and will be removed from pandas in a future version. Use pandas.concat instead.\n",
      "  df_write = df_write.append(_v, ignore_index=True)\n",
      "C:\\Users\\julien\\AppData\\Local\\Temp\\ipykernel_5284\\1387881205.py:65: FutureWarning: The frame.append method is deprecated and will be removed from pandas in a future version. Use pandas.concat instead.\n",
      "  df_write = df_write.append(_v, ignore_index=True)\n",
      "C:\\Users\\julien\\AppData\\Local\\Temp\\ipykernel_5284\\1387881205.py:80: FutureWarning: The frame.append method is deprecated and will be removed from pandas in a future version. Use pandas.concat instead.\n",
      "  df_write = df_write.append(_v, ignore_index=True)\n",
      "C:\\Users\\julien\\AppData\\Local\\Temp\\ipykernel_5284\\1387881205.py:80: FutureWarning: The frame.append method is deprecated and will be removed from pandas in a future version. Use pandas.concat instead.\n",
      "  df_write = df_write.append(_v, ignore_index=True)\n",
      "C:\\Users\\julien\\AppData\\Local\\Temp\\ipykernel_5284\\1387881205.py:80: FutureWarning: The frame.append method is deprecated and will be removed from pandas in a future version. Use pandas.concat instead.\n",
      "  df_write = df_write.append(_v, ignore_index=True)\n"
     ]
    },
    {
     "name": "stdout",
     "output_type": "stream",
     "text": [
      "['148_0_12-62_1681406541967.json', '336_69_12-62_1681531653864.json', '339_109_12-62_1681533682408.json', '132_47_12-62_1681397285086.json', '311_148_12-62_1681512606280.json', '319_68_12-62_1681516703682.json', '202_112_12-62_1681443735044.json', '344_48_12-62_1681538908402.json', '159_98_12-62_1681415685847.json', '148_42_12-62_1681406693231.json', '339_32_12-62_1681533361399.json', '312_108_12-62_1681513081120.json', '134_24_12-62_1681398454377.json', '280_94_12-62_1681494972278.json', '285_62_12-62_1681497281311.json', '186_111_12-62_1681430568219.json', '160_74_12-62_1681416123146.json', '307_5_12-62_1681509972009.json', '165_48_12-62_1681418983873.json', '144_46_12-62_1681404385528.json', '230_4_12-62_1681463173285.json', '186_148_12-62_1681430705666.json', '202_0_12-62_1681443322291.json', '324_27_12-62_1681525067560.json', '213_118_12-62_1681450475687.json']\n"
     ]
    },
    {
     "name": "stderr",
     "output_type": "stream",
     "text": [
      "C:\\Users\\julien\\AppData\\Local\\Temp\\ipykernel_5284\\1387881205.py:65: FutureWarning: The frame.append method is deprecated and will be removed from pandas in a future version. Use pandas.concat instead.\n",
      "  df_write = df_write.append(_v, ignore_index=True)\n",
      "C:\\Users\\julien\\AppData\\Local\\Temp\\ipykernel_5284\\1387881205.py:65: FutureWarning: The frame.append method is deprecated and will be removed from pandas in a future version. Use pandas.concat instead.\n",
      "  df_write = df_write.append(_v, ignore_index=True)\n",
      "C:\\Users\\julien\\AppData\\Local\\Temp\\ipykernel_5284\\1387881205.py:65: FutureWarning: The frame.append method is deprecated and will be removed from pandas in a future version. Use pandas.concat instead.\n",
      "  df_write = df_write.append(_v, ignore_index=True)\n",
      "C:\\Users\\julien\\AppData\\Local\\Temp\\ipykernel_5284\\1387881205.py:65: FutureWarning: The frame.append method is deprecated and will be removed from pandas in a future version. Use pandas.concat instead.\n",
      "  df_write = df_write.append(_v, ignore_index=True)\n",
      "C:\\Users\\julien\\AppData\\Local\\Temp\\ipykernel_5284\\1387881205.py:80: FutureWarning: The frame.append method is deprecated and will be removed from pandas in a future version. Use pandas.concat instead.\n",
      "  df_write = df_write.append(_v, ignore_index=True)\n",
      "C:\\Users\\julien\\AppData\\Local\\Temp\\ipykernel_5284\\1387881205.py:80: FutureWarning: The frame.append method is deprecated and will be removed from pandas in a future version. Use pandas.concat instead.\n",
      "  df_write = df_write.append(_v, ignore_index=True)\n",
      "C:\\Users\\julien\\AppData\\Local\\Temp\\ipykernel_5284\\1387881205.py:80: FutureWarning: The frame.append method is deprecated and will be removed from pandas in a future version. Use pandas.concat instead.\n",
      "  df_write = df_write.append(_v, ignore_index=True)\n"
     ]
    },
    {
     "name": "stdout",
     "output_type": "stream",
     "text": [
      "['293_147_12-62_1681502049550.json', '336_51_12-62_1681531584529.json', '162_37_12-62_1681417070897.json', '322_77_12-62_1681524118400.json', '319_66_12-62_1681516698740.json', '311_24_12-62_1681512118953.json', '151_132_12-62_1681408824300.json', '187_116_12-62_1681431173983.json', '287_113_12-62_1681498547119.json', '33_139_12-62_1681317642648.json', '334_61_12-62_1681530444281.json', '170_72_12-62_1681421756307.json', '224_56_12-62_1681459819534.json', '203_82_12-62_1681444122373.json', '126_36_12-62_1681393769194.json', '278_16_12-62_1681493699826.json', '224_65_12-62_1681459852318.json', '282_57_12-62_1681495763604.json', '38_54_12-62_1681320238778.json', '285_146_12-62_1681497667528.json', '284_16_12-62_1681496636068.json', '322_57_12-62_1681524050881.json', '185_54_12-62_1681429771414.json', '282_3_12-62_1681495600190.json', '122_11_12-62_1681391107957.json']\n"
     ]
    },
    {
     "name": "stderr",
     "output_type": "stream",
     "text": [
      "C:\\Users\\julien\\AppData\\Local\\Temp\\ipykernel_5284\\1387881205.py:65: FutureWarning: The frame.append method is deprecated and will be removed from pandas in a future version. Use pandas.concat instead.\n",
      "  df_write = df_write.append(_v, ignore_index=True)\n",
      "C:\\Users\\julien\\AppData\\Local\\Temp\\ipykernel_5284\\1387881205.py:65: FutureWarning: The frame.append method is deprecated and will be removed from pandas in a future version. Use pandas.concat instead.\n",
      "  df_write = df_write.append(_v, ignore_index=True)\n",
      "C:\\Users\\julien\\AppData\\Local\\Temp\\ipykernel_5284\\1387881205.py:65: FutureWarning: The frame.append method is deprecated and will be removed from pandas in a future version. Use pandas.concat instead.\n",
      "  df_write = df_write.append(_v, ignore_index=True)\n",
      "C:\\Users\\julien\\AppData\\Local\\Temp\\ipykernel_5284\\1387881205.py:65: FutureWarning: The frame.append method is deprecated and will be removed from pandas in a future version. Use pandas.concat instead.\n",
      "  df_write = df_write.append(_v, ignore_index=True)\n",
      "C:\\Users\\julien\\AppData\\Local\\Temp\\ipykernel_5284\\1387881205.py:80: FutureWarning: The frame.append method is deprecated and will be removed from pandas in a future version. Use pandas.concat instead.\n",
      "  df_write = df_write.append(_v, ignore_index=True)\n",
      "C:\\Users\\julien\\AppData\\Local\\Temp\\ipykernel_5284\\1387881205.py:80: FutureWarning: The frame.append method is deprecated and will be removed from pandas in a future version. Use pandas.concat instead.\n",
      "  df_write = df_write.append(_v, ignore_index=True)\n",
      "C:\\Users\\julien\\AppData\\Local\\Temp\\ipykernel_5284\\1387881205.py:80: FutureWarning: The frame.append method is deprecated and will be removed from pandas in a future version. Use pandas.concat instead.\n",
      "  df_write = df_write.append(_v, ignore_index=True)\n"
     ]
    },
    {
     "name": "stdout",
     "output_type": "stream",
     "text": [
      "['200_2_12-62_1681442089795.json', '207_0_12-62_1681446439929.json', '310_88_12-62_1681511798877.json', '357_86_12-62_1681547435600.json', '337_8_12-62_1681531992393.json', '206_116_12-62_1681446288250.json', '228_105_12-62_1681462355418.json', '295_41_12-62_1681502697609.json', '38_123_12-62_1681320531384.json', '280_122_12-62_1681495063131.json', '355_95_12-62_1681546329242.json', '129_101_12-62_1681395670537.json', '38_53_12-62_1681320236185.json', '311_30_12-62_1681512155807.json', '221_30_12-62_1681458005965.json', '356_31_12-62_1681546665080.json', '182_76_12-62_1681428341677.json', '318_128_12-62_1681516390205.json', '161_10_12-62_1681416446578.json', '278_0_12-62_1681493667196.json', '42_129_12-62_1681322882279.json', '351_26_12-62_1681543663987.json', '216_74_12-62_1681452178248.json', '214_42_12-62_1681450785895.json', '146_26_12-62_1681405434750.json']\n"
     ]
    },
    {
     "name": "stderr",
     "output_type": "stream",
     "text": [
      "C:\\Users\\julien\\AppData\\Local\\Temp\\ipykernel_5284\\1387881205.py:65: FutureWarning: The frame.append method is deprecated and will be removed from pandas in a future version. Use pandas.concat instead.\n",
      "  df_write = df_write.append(_v, ignore_index=True)\n",
      "C:\\Users\\julien\\AppData\\Local\\Temp\\ipykernel_5284\\1387881205.py:65: FutureWarning: The frame.append method is deprecated and will be removed from pandas in a future version. Use pandas.concat instead.\n",
      "  df_write = df_write.append(_v, ignore_index=True)\n",
      "C:\\Users\\julien\\AppData\\Local\\Temp\\ipykernel_5284\\1387881205.py:65: FutureWarning: The frame.append method is deprecated and will be removed from pandas in a future version. Use pandas.concat instead.\n",
      "  df_write = df_write.append(_v, ignore_index=True)\n",
      "C:\\Users\\julien\\AppData\\Local\\Temp\\ipykernel_5284\\1387881205.py:65: FutureWarning: The frame.append method is deprecated and will be removed from pandas in a future version. Use pandas.concat instead.\n",
      "  df_write = df_write.append(_v, ignore_index=True)\n",
      "C:\\Users\\julien\\AppData\\Local\\Temp\\ipykernel_5284\\1387881205.py:80: FutureWarning: The frame.append method is deprecated and will be removed from pandas in a future version. Use pandas.concat instead.\n",
      "  df_write = df_write.append(_v, ignore_index=True)\n",
      "C:\\Users\\julien\\AppData\\Local\\Temp\\ipykernel_5284\\1387881205.py:80: FutureWarning: The frame.append method is deprecated and will be removed from pandas in a future version. Use pandas.concat instead.\n",
      "  df_write = df_write.append(_v, ignore_index=True)\n",
      "C:\\Users\\julien\\AppData\\Local\\Temp\\ipykernel_5284\\1387881205.py:80: FutureWarning: The frame.append method is deprecated and will be removed from pandas in a future version. Use pandas.concat instead.\n",
      "  df_write = df_write.append(_v, ignore_index=True)\n"
     ]
    },
    {
     "name": "stdout",
     "output_type": "stream",
     "text": [
      "['278_89_12-62_1681493939260.json', '182_107_12-62_1681428476409.json', '40_84_12-62_1681321480662.json', '322_137_12-62_1681524359173.json', '346_106_12-62_1681540906430.json', '354_24_12-62_1681545493652.json', '329_13_12-62_1681527585882.json', '155_149_12-62_1681412722515.json', '354_149_12-62_1681546309196.json', '292_148_12-62_1681501612591.json', '213_117_12-62_1681450473752.json', '42_79_12-62_1681322681346.json', '201_71_12-62_1681442994735.json', '195_79_12-62_1681439297390.json', '136_14_12-62_1681399565251.json', '199_137_12-62_1681441994083.json', '219_9_12-62_1681453848963.json', '314_50_12-62_1681513955024.json', '312_45_12-62_1681512810333.json', '301_46_12-62_1681506080454.json', '132_89_12-62_1681397445310.json', '300_49_12-62_1681505459741.json', '216_92_12-62_1681452279667.json', '291_52_12-62_1681500589764.json', '135_147_12-62_1681399764381.json']\n"
     ]
    },
    {
     "name": "stderr",
     "output_type": "stream",
     "text": [
      "C:\\Users\\julien\\AppData\\Local\\Temp\\ipykernel_5284\\1387881205.py:65: FutureWarning: The frame.append method is deprecated and will be removed from pandas in a future version. Use pandas.concat instead.\n",
      "  df_write = df_write.append(_v, ignore_index=True)\n",
      "C:\\Users\\julien\\AppData\\Local\\Temp\\ipykernel_5284\\1387881205.py:65: FutureWarning: The frame.append method is deprecated and will be removed from pandas in a future version. Use pandas.concat instead.\n",
      "  df_write = df_write.append(_v, ignore_index=True)\n",
      "C:\\Users\\julien\\AppData\\Local\\Temp\\ipykernel_5284\\1387881205.py:65: FutureWarning: The frame.append method is deprecated and will be removed from pandas in a future version. Use pandas.concat instead.\n",
      "  df_write = df_write.append(_v, ignore_index=True)\n",
      "C:\\Users\\julien\\AppData\\Local\\Temp\\ipykernel_5284\\1387881205.py:65: FutureWarning: The frame.append method is deprecated and will be removed from pandas in a future version. Use pandas.concat instead.\n",
      "  df_write = df_write.append(_v, ignore_index=True)\n",
      "C:\\Users\\julien\\AppData\\Local\\Temp\\ipykernel_5284\\1387881205.py:80: FutureWarning: The frame.append method is deprecated and will be removed from pandas in a future version. Use pandas.concat instead.\n",
      "  df_write = df_write.append(_v, ignore_index=True)\n",
      "C:\\Users\\julien\\AppData\\Local\\Temp\\ipykernel_5284\\1387881205.py:80: FutureWarning: The frame.append method is deprecated and will be removed from pandas in a future version. Use pandas.concat instead.\n",
      "  df_write = df_write.append(_v, ignore_index=True)\n",
      "C:\\Users\\julien\\AppData\\Local\\Temp\\ipykernel_5284\\1387881205.py:80: FutureWarning: The frame.append method is deprecated and will be removed from pandas in a future version. Use pandas.concat instead.\n",
      "  df_write = df_write.append(_v, ignore_index=True)\n"
     ]
    },
    {
     "name": "stdout",
     "output_type": "stream",
     "text": [
      "['232_42_12-62_1681464401003.json', '328_123_12-62_1681527439927.json', '217_88_12-62_1681452916869.json', '301_13_12-62_1681505954792.json', '217_145_12-62_1681453143777.json', '299_50_12-62_1681504869891.json', '310_82_12-62_1681511784095.json', '205_61_12-62_1681445329015.json', '148_43_12-62_1681406694567.json', '31_45_12-62_1681316314568.json', '137_74_12-62_1681400386807.json', '45_7_12-62_1681324053379.json', '39_23_12-62_1681320726160.json', '352_99_12-62_1681544614066.json', '356_117_12-62_1681546967303.json', '283_102_12-62_1681496417632.json', '348_101_12-62_1681542129669.json', '41_136_12-62_1681322299177.json', '152_31_12-62_1681408981943.json', '210_64_12-62_1681448551155.json', '32_26_12-62_1681316792749.json', '353_103_12-62_1681545234294.json', '170_95_12-62_1681421831307.json', '159_26_12-62_1681415396505.json', '159_63_12-62_1681415571277.json']\n"
     ]
    },
    {
     "name": "stderr",
     "output_type": "stream",
     "text": [
      "C:\\Users\\julien\\AppData\\Local\\Temp\\ipykernel_5284\\1387881205.py:65: FutureWarning: The frame.append method is deprecated and will be removed from pandas in a future version. Use pandas.concat instead.\n",
      "  df_write = df_write.append(_v, ignore_index=True)\n",
      "C:\\Users\\julien\\AppData\\Local\\Temp\\ipykernel_5284\\1387881205.py:65: FutureWarning: The frame.append method is deprecated and will be removed from pandas in a future version. Use pandas.concat instead.\n",
      "  df_write = df_write.append(_v, ignore_index=True)\n",
      "C:\\Users\\julien\\AppData\\Local\\Temp\\ipykernel_5284\\1387881205.py:65: FutureWarning: The frame.append method is deprecated and will be removed from pandas in a future version. Use pandas.concat instead.\n",
      "  df_write = df_write.append(_v, ignore_index=True)\n",
      "C:\\Users\\julien\\AppData\\Local\\Temp\\ipykernel_5284\\1387881205.py:65: FutureWarning: The frame.append method is deprecated and will be removed from pandas in a future version. Use pandas.concat instead.\n",
      "  df_write = df_write.append(_v, ignore_index=True)\n",
      "C:\\Users\\julien\\AppData\\Local\\Temp\\ipykernel_5284\\1387881205.py:80: FutureWarning: The frame.append method is deprecated and will be removed from pandas in a future version. Use pandas.concat instead.\n",
      "  df_write = df_write.append(_v, ignore_index=True)\n",
      "C:\\Users\\julien\\AppData\\Local\\Temp\\ipykernel_5284\\1387881205.py:80: FutureWarning: The frame.append method is deprecated and will be removed from pandas in a future version. Use pandas.concat instead.\n",
      "  df_write = df_write.append(_v, ignore_index=True)\n",
      "C:\\Users\\julien\\AppData\\Local\\Temp\\ipykernel_5284\\1387881205.py:80: FutureWarning: The frame.append method is deprecated and will be removed from pandas in a future version. Use pandas.concat instead.\n",
      "  df_write = df_write.append(_v, ignore_index=True)\n"
     ]
    },
    {
     "name": "stdout",
     "output_type": "stream",
     "text": [
      "['211_109_12-62_1681449266465.json', '303_132_12-62_1681507602211.json', '319_12_12-62_1681516505036.json', '289_26_12-62_1681499395681.json', '274_57_12-62_1681491796963.json', '181_12_12-62_1681427534547.json', '127_145_12-62_1681394716152.json', '334_140_12-62_1681530811289.json', '35_126_12-62_1681318758216.json', '177_41_12-62_1681425353220.json', '214_113_12-62_1681451092991.json', '190_13_12-62_1681432799881.json', '150_66_12-62_1681407991415.json', '215_60_12-62_1681451519403.json', '173_84_12-62_1681423395986.json', '139_149_12-62_1681402011672.json', '33_73_12-62_1681317407939.json', '146_10_12-62_1681405386863.json', '186_102_12-62_1681430541239.json', '211_26_12-62_1681448980647.json', '343_87_12-62_1681538460836.json', '41_42_12-62_1681321928603.json', '357_95_12-62_1681547477958.json', '356_8_12-62_1681546565942.json', '198_95_12-62_1681441223197.json']\n"
     ]
    },
    {
     "name": "stderr",
     "output_type": "stream",
     "text": [
      "C:\\Users\\julien\\AppData\\Local\\Temp\\ipykernel_5284\\1387881205.py:65: FutureWarning: The frame.append method is deprecated and will be removed from pandas in a future version. Use pandas.concat instead.\n",
      "  df_write = df_write.append(_v, ignore_index=True)\n",
      "C:\\Users\\julien\\AppData\\Local\\Temp\\ipykernel_5284\\1387881205.py:65: FutureWarning: The frame.append method is deprecated and will be removed from pandas in a future version. Use pandas.concat instead.\n",
      "  df_write = df_write.append(_v, ignore_index=True)\n",
      "C:\\Users\\julien\\AppData\\Local\\Temp\\ipykernel_5284\\1387881205.py:65: FutureWarning: The frame.append method is deprecated and will be removed from pandas in a future version. Use pandas.concat instead.\n",
      "  df_write = df_write.append(_v, ignore_index=True)\n",
      "C:\\Users\\julien\\AppData\\Local\\Temp\\ipykernel_5284\\1387881205.py:65: FutureWarning: The frame.append method is deprecated and will be removed from pandas in a future version. Use pandas.concat instead.\n",
      "  df_write = df_write.append(_v, ignore_index=True)\n",
      "C:\\Users\\julien\\AppData\\Local\\Temp\\ipykernel_5284\\1387881205.py:80: FutureWarning: The frame.append method is deprecated and will be removed from pandas in a future version. Use pandas.concat instead.\n",
      "  df_write = df_write.append(_v, ignore_index=True)\n",
      "C:\\Users\\julien\\AppData\\Local\\Temp\\ipykernel_5284\\1387881205.py:80: FutureWarning: The frame.append method is deprecated and will be removed from pandas in a future version. Use pandas.concat instead.\n",
      "  df_write = df_write.append(_v, ignore_index=True)\n",
      "C:\\Users\\julien\\AppData\\Local\\Temp\\ipykernel_5284\\1387881205.py:80: FutureWarning: The frame.append method is deprecated and will be removed from pandas in a future version. Use pandas.concat instead.\n",
      "  df_write = df_write.append(_v, ignore_index=True)\n"
     ]
    },
    {
     "name": "stdout",
     "output_type": "stream",
     "text": [
      "['200_67_12-62_1681442408396.json', '298_32_12-62_1681504237624.json', '191_109_12-62_1681437132741.json', '325_136_12-62_1681525976393.json', '188_92_12-62_1681431924774.json', '322_132_12-62_1681524338183.json', '210_87_12-62_1681448621779.json', '223_114_12-62_1681459490174.json', '326_95_12-62_1681526370609.json', '278_61_12-62_1681493870119.json', '211_24_12-62_1681448977094.json', '33_130_12-62_1681317608918.json', '343_47_12-62_1681538265062.json', '288_144_12-62_1681499275218.json', '308_55_12-62_1681510657582.json', '281_135_12-62_1681495537217.json', '130_88_12-62_1681396212739.json', '295_73_12-62_1681502811858.json', '190_93_12-62_1681433143894.json', '155_40_12-62_1681412189411.json', '290_7_12-62_1681499909101.json', '215_144_12-62_1681451835593.json', '39_82_12-62_1681320910476.json', '336_17_12-62_1681531472110.json', '40_55_12-62_1681321368554.json']\n"
     ]
    },
    {
     "name": "stderr",
     "output_type": "stream",
     "text": [
      "C:\\Users\\julien\\AppData\\Local\\Temp\\ipykernel_5284\\1387881205.py:65: FutureWarning: The frame.append method is deprecated and will be removed from pandas in a future version. Use pandas.concat instead.\n",
      "  df_write = df_write.append(_v, ignore_index=True)\n",
      "C:\\Users\\julien\\AppData\\Local\\Temp\\ipykernel_5284\\1387881205.py:65: FutureWarning: The frame.append method is deprecated and will be removed from pandas in a future version. Use pandas.concat instead.\n",
      "  df_write = df_write.append(_v, ignore_index=True)\n",
      "C:\\Users\\julien\\AppData\\Local\\Temp\\ipykernel_5284\\1387881205.py:65: FutureWarning: The frame.append method is deprecated and will be removed from pandas in a future version. Use pandas.concat instead.\n",
      "  df_write = df_write.append(_v, ignore_index=True)\n",
      "C:\\Users\\julien\\AppData\\Local\\Temp\\ipykernel_5284\\1387881205.py:65: FutureWarning: The frame.append method is deprecated and will be removed from pandas in a future version. Use pandas.concat instead.\n",
      "  df_write = df_write.append(_v, ignore_index=True)\n",
      "C:\\Users\\julien\\AppData\\Local\\Temp\\ipykernel_5284\\1387881205.py:80: FutureWarning: The frame.append method is deprecated and will be removed from pandas in a future version. Use pandas.concat instead.\n",
      "  df_write = df_write.append(_v, ignore_index=True)\n",
      "C:\\Users\\julien\\AppData\\Local\\Temp\\ipykernel_5284\\1387881205.py:80: FutureWarning: The frame.append method is deprecated and will be removed from pandas in a future version. Use pandas.concat instead.\n",
      "  df_write = df_write.append(_v, ignore_index=True)\n",
      "C:\\Users\\julien\\AppData\\Local\\Temp\\ipykernel_5284\\1387881205.py:80: FutureWarning: The frame.append method is deprecated and will be removed from pandas in a future version. Use pandas.concat instead.\n",
      "  df_write = df_write.append(_v, ignore_index=True)\n"
     ]
    },
    {
     "name": "stdout",
     "output_type": "stream",
     "text": [
      "['285_102_12-62_1681497411346.json', '327_23_12-62_1681526610082.json', '33_89_12-62_1681317457882.json', '290_106_12-62_1681500271455.json', '230_137_12-62_1681463692756.json', '280_75_12-62_1681494903910.json', '279_105_12-62_1681494555062.json', '166_64_12-62_1681419629075.json', '343_146_12-62_1681538815762.json', '139_24_12-62_1681401431683.json', '345_127_12-62_1681540411241.json', '340_15_12-62_1681536532697.json', '322_149_12-62_1681524787893.json', '336_21_12-62_1681531485181.json', '228_118_12-62_1681462388507.json', '177_34_12-62_1681425340632.json', '284_124_12-62_1681496983986.json', '155_148_12-62_1681412832138.json', '285_148_12-62_1681497544666.json', '336_66_12-62_1681531647985.json', '139_140_12-62_1681401862481.json', '133_83_12-62_1681398079268.json', '316_103_12-62_1681515260550.json', '189_22_12-62_1681432232289.json', '147_42_12-62_1681406128315.json']\n"
     ]
    },
    {
     "name": "stderr",
     "output_type": "stream",
     "text": [
      "C:\\Users\\julien\\AppData\\Local\\Temp\\ipykernel_5284\\1387881205.py:65: FutureWarning: The frame.append method is deprecated and will be removed from pandas in a future version. Use pandas.concat instead.\n",
      "  df_write = df_write.append(_v, ignore_index=True)\n",
      "C:\\Users\\julien\\AppData\\Local\\Temp\\ipykernel_5284\\1387881205.py:65: FutureWarning: The frame.append method is deprecated and will be removed from pandas in a future version. Use pandas.concat instead.\n",
      "  df_write = df_write.append(_v, ignore_index=True)\n",
      "C:\\Users\\julien\\AppData\\Local\\Temp\\ipykernel_5284\\1387881205.py:65: FutureWarning: The frame.append method is deprecated and will be removed from pandas in a future version. Use pandas.concat instead.\n",
      "  df_write = df_write.append(_v, ignore_index=True)\n",
      "C:\\Users\\julien\\AppData\\Local\\Temp\\ipykernel_5284\\1387881205.py:65: FutureWarning: The frame.append method is deprecated and will be removed from pandas in a future version. Use pandas.concat instead.\n",
      "  df_write = df_write.append(_v, ignore_index=True)\n",
      "C:\\Users\\julien\\AppData\\Local\\Temp\\ipykernel_5284\\1387881205.py:80: FutureWarning: The frame.append method is deprecated and will be removed from pandas in a future version. Use pandas.concat instead.\n",
      "  df_write = df_write.append(_v, ignore_index=True)\n",
      "C:\\Users\\julien\\AppData\\Local\\Temp\\ipykernel_5284\\1387881205.py:80: FutureWarning: The frame.append method is deprecated and will be removed from pandas in a future version. Use pandas.concat instead.\n",
      "  df_write = df_write.append(_v, ignore_index=True)\n",
      "C:\\Users\\julien\\AppData\\Local\\Temp\\ipykernel_5284\\1387881205.py:80: FutureWarning: The frame.append method is deprecated and will be removed from pandas in a future version. Use pandas.concat instead.\n",
      "  df_write = df_write.append(_v, ignore_index=True)\n"
     ]
    },
    {
     "name": "stdout",
     "output_type": "stream",
     "text": [
      "['292_118_12-62_1681501298530.json', '332_45_12-62_1681529372961.json', '127_38_12-62_1681394397517.json', '289_135_12-62_1681499811900.json', '201_126_12-62_1681443220744.json', '149_48_12-62_1681407289273.json', '348_37_12-62_1681541885924.json', '349_104_12-62_1681542689624.json', '39_57_12-62_1681320830131.json', '288_121_12-62_1681499214049.json', '350_50_12-62_1681543068834.json', '220_29_12-62_1681457372067.json', '129_60_12-62_1681395521580.json', '316_148_12-62_1681515599887.json', '155_136_12-62_1681412458297.json', '32_147_12-62_1681317144737.json', '351_88_12-62_1681543879451.json', '149_138_12-62_1681407645534.json', '135_136_12-62_1681399464499.json', '231_144_12-62_1681464248717.json', '339_126_12-62_1681533752152.json', '233_75_12-62_1681464979137.json', '312_79_12-62_1681512965305.json', '169_13_12-62_1681421080922.json', '282_138_12-62_1681496044621.json']\n"
     ]
    },
    {
     "name": "stderr",
     "output_type": "stream",
     "text": [
      "C:\\Users\\julien\\AppData\\Local\\Temp\\ipykernel_5284\\1387881205.py:65: FutureWarning: The frame.append method is deprecated and will be removed from pandas in a future version. Use pandas.concat instead.\n",
      "  df_write = df_write.append(_v, ignore_index=True)\n",
      "C:\\Users\\julien\\AppData\\Local\\Temp\\ipykernel_5284\\1387881205.py:65: FutureWarning: The frame.append method is deprecated and will be removed from pandas in a future version. Use pandas.concat instead.\n",
      "  df_write = df_write.append(_v, ignore_index=True)\n",
      "C:\\Users\\julien\\AppData\\Local\\Temp\\ipykernel_5284\\1387881205.py:65: FutureWarning: The frame.append method is deprecated and will be removed from pandas in a future version. Use pandas.concat instead.\n",
      "  df_write = df_write.append(_v, ignore_index=True)\n",
      "C:\\Users\\julien\\AppData\\Local\\Temp\\ipykernel_5284\\1387881205.py:65: FutureWarning: The frame.append method is deprecated and will be removed from pandas in a future version. Use pandas.concat instead.\n",
      "  df_write = df_write.append(_v, ignore_index=True)\n",
      "C:\\Users\\julien\\AppData\\Local\\Temp\\ipykernel_5284\\1387881205.py:80: FutureWarning: The frame.append method is deprecated and will be removed from pandas in a future version. Use pandas.concat instead.\n",
      "  df_write = df_write.append(_v, ignore_index=True)\n",
      "C:\\Users\\julien\\AppData\\Local\\Temp\\ipykernel_5284\\1387881205.py:80: FutureWarning: The frame.append method is deprecated and will be removed from pandas in a future version. Use pandas.concat instead.\n",
      "  df_write = df_write.append(_v, ignore_index=True)\n",
      "C:\\Users\\julien\\AppData\\Local\\Temp\\ipykernel_5284\\1387881205.py:80: FutureWarning: The frame.append method is deprecated and will be removed from pandas in a future version. Use pandas.concat instead.\n",
      "  df_write = df_write.append(_v, ignore_index=True)\n"
     ]
    },
    {
     "name": "stdout",
     "output_type": "stream",
     "text": [
      "['31_62_12-62_1681316394831.json', '333_96_12-62_1681530031342.json', '203_75_12-62_1681444107502.json', '335_142_12-62_1681531360432.json', '317_79_12-62_1681515666125.json', '333_59_12-62_1681529885387.json', '348_61_12-62_1681541993018.json', '346_132_12-62_1681541003152.json', '205_101_12-62_1681445505069.json', '125_51_12-62_1681393269912.json', '358_24_12-62_1681547757331.json', '297_112_12-62_1681504003293.json', '142_130_12-62_1681403521543.json', '154_89_12-62_1681411833439.json', '302_45_12-62_1681506661324.json', '332_123_12-62_1681529639291.json', '135_98_12-62_1681399308121.json', '177_104_12-62_1681425603859.json', '146_47_12-62_1681405520745.json', '320_32_12-62_1681517107227.json', '203_132_12-62_1681444308018.json', '340_85_12-62_1681534130296.json', '184_56_12-62_1681429270291.json', '199_110_12-62_1681441849122.json', '139_120_12-62_1681401804832.json']\n"
     ]
    },
    {
     "name": "stderr",
     "output_type": "stream",
     "text": [
      "C:\\Users\\julien\\AppData\\Local\\Temp\\ipykernel_5284\\1387881205.py:65: FutureWarning: The frame.append method is deprecated and will be removed from pandas in a future version. Use pandas.concat instead.\n",
      "  df_write = df_write.append(_v, ignore_index=True)\n",
      "C:\\Users\\julien\\AppData\\Local\\Temp\\ipykernel_5284\\1387881205.py:65: FutureWarning: The frame.append method is deprecated and will be removed from pandas in a future version. Use pandas.concat instead.\n",
      "  df_write = df_write.append(_v, ignore_index=True)\n",
      "C:\\Users\\julien\\AppData\\Local\\Temp\\ipykernel_5284\\1387881205.py:65: FutureWarning: The frame.append method is deprecated and will be removed from pandas in a future version. Use pandas.concat instead.\n",
      "  df_write = df_write.append(_v, ignore_index=True)\n",
      "C:\\Users\\julien\\AppData\\Local\\Temp\\ipykernel_5284\\1387881205.py:65: FutureWarning: The frame.append method is deprecated and will be removed from pandas in a future version. Use pandas.concat instead.\n",
      "  df_write = df_write.append(_v, ignore_index=True)\n",
      "C:\\Users\\julien\\AppData\\Local\\Temp\\ipykernel_5284\\1387881205.py:80: FutureWarning: The frame.append method is deprecated and will be removed from pandas in a future version. Use pandas.concat instead.\n",
      "  df_write = df_write.append(_v, ignore_index=True)\n",
      "C:\\Users\\julien\\AppData\\Local\\Temp\\ipykernel_5284\\1387881205.py:80: FutureWarning: The frame.append method is deprecated and will be removed from pandas in a future version. Use pandas.concat instead.\n",
      "  df_write = df_write.append(_v, ignore_index=True)\n",
      "C:\\Users\\julien\\AppData\\Local\\Temp\\ipykernel_5284\\1387881205.py:80: FutureWarning: The frame.append method is deprecated and will be removed from pandas in a future version. Use pandas.concat instead.\n",
      "  df_write = df_write.append(_v, ignore_index=True)\n"
     ]
    },
    {
     "name": "stdout",
     "output_type": "stream",
     "text": [
      "['206_65_12-62_1681446041482.json', '154_79_12-62_1681411798977.json', '140_117_12-62_1681402358769.json', '175_67_12-62_1681424395718.json', '330_76_12-62_1681528385301.json', '322_89_12-62_1681524149664.json', '358_88_12-62_1681548001046.json', '166_75_12-62_1681419666568.json', '172_100_12-62_1681422975830.json', '332_87_12-62_1681529509879.json', '188_22_12-62_1681431388028.json', '151_4_12-62_1681408347770.json', '36_7_12-62_1681318878516.json', '154_49_12-62_1681411692898.json', '146_121_12-62_1681405879355.json', '353_113_12-62_1681545265405.json', '190_48_12-62_1681432963917.json', '349_149_12-62_1681542992042.json', '341_77_12-62_1681537289419.json', '228_63_12-62_1681462222027.json', '150_149_12-62_1681408432052.json', '134_85_12-62_1681398660503.json', '33_9_12-62_1681317192334.json', '309_9_12-62_1681511046069.json', '316_78_12-62_1681515180119.json']\n"
     ]
    },
    {
     "ename": "KeyboardInterrupt",
     "evalue": "",
     "output_type": "error",
     "traceback": [
      "\u001b[1;31m---------------------------------------------------------------------------\u001b[0m",
      "\u001b[1;31mKeyboardInterrupt\u001b[0m                         Traceback (most recent call last)",
      "Cell \u001b[1;32mIn[21], line 1\u001b[0m\n\u001b[1;32m----> 1\u001b[0m \u001b[43mtreat_files_byBatch\u001b[49m\u001b[43m(\u001b[49m\u001b[43mlife_entities\u001b[49m\u001b[43m,\u001b[49m\u001b[43mstr_path_outcome\u001b[49m\u001b[38;5;241;43m=\u001b[39;49m\u001b[43mpathOutcome\u001b[49m\u001b[43m \u001b[49m\u001b[43m,\u001b[49m\u001b[43mdict_len_part\u001b[49m\u001b[38;5;241;43m=\u001b[39;49m\u001b[43mdict_len_part\u001b[49m\u001b[43m,\u001b[49m\u001b[43mnbPartTurn\u001b[49m\u001b[38;5;241;43m=\u001b[39;49m\u001b[43mnbPartTurn\u001b[49m\u001b[43m,\u001b[49m\u001b[43mroot_path_gen_turn\u001b[49m\u001b[38;5;241;43m=\u001b[39;49m\u001b[43mroot_path_gen_turn\u001b[49m\u001b[43m,\u001b[49m\u001b[43mlen_batch\u001b[49m\u001b[43m \u001b[49m\u001b[38;5;241;43m=\u001b[39;49m\u001b[43m \u001b[49m\u001b[38;5;241;43m25\u001b[39;49m\u001b[43m)\u001b[49m\n",
      "Cell \u001b[1;32mIn[16], line 17\u001b[0m, in \u001b[0;36mtreat_files_byBatch\u001b[1;34m(life_entities, str_path_outcome, dict_len_part, nbPartTurn, root_path_gen_turn, len_batch)\u001b[0m\n\u001b[0;32m      9\u001b[0m \u001b[38;5;124;03m'''\u001b[39;00m\n\u001b[0;32m     10\u001b[0m \u001b[38;5;124;03mfor _filename in batch_ :\u001b[39;00m\n\u001b[0;32m     11\u001b[0m \u001b[38;5;124;03m    count_f_outcome+=1\u001b[39;00m\n\u001b[0;32m     12\u001b[0m \u001b[38;5;124;03m    if b_filename_isvalid(_filename):\u001b[39;00m\n\u001b[0;32m     13\u001b[0m \u001b[38;5;124;03m        numGen , numFight , ids_str , outcome_filename = filename_isvalid(_filename)  \u001b[39;00m\n\u001b[0;32m     14\u001b[0m \u001b[38;5;124;03m        ids = splitIds(ids_str)'''\u001b[39;00m\n\u001b[0;32m     16\u001b[0m \u001b[38;5;28mprint\u001b[39m(batch_)\n\u001b[1;32m---> 17\u001b[0m \u001b[43mtreate_batch\u001b[49m\u001b[43m(\u001b[49m\u001b[43mdct_num\u001b[49m\u001b[43m,\u001b[49m\u001b[43mroot_path_gen_turn\u001b[49m\u001b[43m,\u001b[49m\u001b[43mbatch_\u001b[49m\u001b[43m,\u001b[49m\u001b[43mdict_len_part\u001b[49m\u001b[43m,\u001b[49m\u001b[43mnbPartTurn\u001b[49m\u001b[43m,\u001b[49m\u001b[43mlife_entities\u001b[49m\u001b[43m,\u001b[49m\u001b[43mstr_path\u001b[49m\u001b[38;5;241;43m=\u001b[39;49m\u001b[43mstr_path_outcome\u001b[49m\u001b[43m)\u001b[49m        \n\u001b[0;32m     18\u001b[0m btlf\u001b[38;5;241m.\u001b[39mupdateTreatedFiles(batch_)\n\u001b[0;32m     19\u001b[0m batch_ \u001b[38;5;241m=\u001b[39m btlf\u001b[38;5;241m.\u001b[39mgetNextBatch()\n",
      "Cell \u001b[1;32mIn[15], line 12\u001b[0m, in \u001b[0;36mtreate_batch\u001b[1;34m(dct_num, root_path_gen_turn, batch_, dict_len_part, nbPartTurn, life_entities, str_path, ignore_col, index_col_)\u001b[0m\n\u001b[0;32m     10\u001b[0m \u001b[38;5;28;01mif\u001b[39;00m b_filename_isvalid(filename_batch):\n\u001b[0;32m     11\u001b[0m             _quatuor\u001b[38;5;241m=\u001b[39m filename_isvalid(filename_batch)  \n\u001b[1;32m---> 12\u001b[0m _rda \u001b[38;5;241m=\u001b[39m \u001b[43mparse_fileOutcome_retDF\u001b[49m\u001b[43m(\u001b[49m\u001b[43mfilename_batch\u001b[49m\u001b[43m,\u001b[49m\u001b[43mstr_path\u001b[49m\u001b[43m,\u001b[49m\u001b[43mquatuor\u001b[49m\u001b[38;5;241;43m=\u001b[39;49m\u001b[43m_quatuor\u001b[49m\u001b[43m)\u001b[49m\n\u001b[0;32m     13\u001b[0m \u001b[38;5;28;01mif\u001b[39;00m(_rda \u001b[38;5;129;01mis\u001b[39;00m \u001b[38;5;28;01mNone\u001b[39;00m ):\n\u001b[0;32m     14\u001b[0m     \u001b[38;5;28mprint\u001b[39m(filename_batch)\n",
      "Cell \u001b[1;32mIn[6], line 24\u001b[0m, in \u001b[0;36mparse_fileOutcome_retDF\u001b[1;34m(example_1_outcome, pathOutcome, quatuor, ancien)\u001b[0m\n\u001b[0;32m     22\u001b[0m \u001b[38;5;66;03m#lst_actions = dct_outcome[\"actions\"]if ancien else dct_outcome[\"fight\"][\"actions\"]\u001b[39;00m\n\u001b[0;32m     23\u001b[0m \u001b[38;5;28;01mif\u001b[39;00m(\u001b[38;5;28mbool\u001b[39m(lst_actions )):\n\u001b[1;32m---> 24\u001b[0m     \u001b[43mrda\u001b[49m\u001b[38;5;241;43m.\u001b[39;49m\u001b[43mgetFight\u001b[49m\u001b[43m \u001b[49m\u001b[43m(\u001b[49m\u001b[43mlst_actions\u001b[49m\u001b[43m)\u001b[49m\n\u001b[0;32m     25\u001b[0m     \u001b[38;5;28;01mreturn\u001b[39;00m rda\n\u001b[0;32m     26\u001b[0m \u001b[38;5;28;01melse\u001b[39;00m :\n",
      "Cell \u001b[1;32mIn[5], line 429\u001b[0m, in \u001b[0;36mReadActions.getFight\u001b[1;34m(self, lst_actions)\u001b[0m\n\u001b[0;32m    427\u001b[0m \u001b[38;5;28;01mif\u001b[39;00m(\u001b[38;5;28mself\u001b[39m\u001b[38;5;241m.\u001b[39misEndFight(act_token )):\n\u001b[0;32m    428\u001b[0m     \u001b[38;5;28;01mreturn\u001b[39;00m k \n\u001b[1;32m--> 429\u001b[0m nbReads , ent_id \u001b[38;5;241m=\u001b[39m \u001b[38;5;28;43mself\u001b[39;49m\u001b[38;5;241;43m.\u001b[39;49m\u001b[43mgetTurn\u001b[49m\u001b[43m(\u001b[49m\u001b[43mlst_actions\u001b[49m\u001b[43m[\u001b[49m\u001b[43mk\u001b[49m\u001b[43m:\u001b[49m\u001b[43m]\u001b[49m\u001b[43m,\u001b[49m\u001b[43midx_turn\u001b[49m\u001b[43m)\u001b[49m\n\u001b[0;32m    430\u001b[0m \u001b[38;5;28;01mif\u001b[39;00m(nbReads\u001b[38;5;241m==\u001b[39m\u001b[38;5;241m-\u001b[39m\u001b[38;5;241m1\u001b[39m):\n\u001b[0;32m    431\u001b[0m     \u001b[38;5;28;01mbreak\u001b[39;00m\n",
      "Cell \u001b[1;32mIn[5], line 361\u001b[0m, in \u001b[0;36mReadActions.getTurn\u001b[1;34m(self, lst_actions, idx_turn)\u001b[0m\n\u001b[0;32m    358\u001b[0m act_token \u001b[38;5;241m=\u001b[39m ReadActions\u001b[38;5;241m.\u001b[39mgetCodeToken(lst_actions[k])\n\u001b[0;32m    359\u001b[0m entity_id \u001b[38;5;241m=\u001b[39m  ReadActions\u001b[38;5;241m.\u001b[39mgetEntityToken(lst_actions[k\u001b[38;5;241m-\u001b[39m\u001b[38;5;241m1\u001b[39m])\n\u001b[1;32m--> 361\u001b[0m \u001b[38;5;28;43mself\u001b[39;49m\u001b[38;5;241;43m.\u001b[39;49m\u001b[43maddNewTurn\u001b[49m\u001b[43m(\u001b[49m\u001b[43midx_turn\u001b[49m\u001b[43m)\u001b[49m\n\u001b[0;32m    362\u001b[0m \u001b[38;5;28mself\u001b[39m\u001b[38;5;241m.\u001b[39msetIDs(entity_id)\n\u001b[0;32m    364\u001b[0m \u001b[38;5;66;03m#si le tour est vide : \u001b[39;00m\n",
      "Cell \u001b[1;32mIn[5], line 245\u001b[0m, in \u001b[0;36mReadActions.addNewTurn\u001b[1;34m(self, idx_turn)\u001b[0m\n\u001b[0;32m    243\u001b[0m \u001b[38;5;28mself\u001b[39m\u001b[38;5;241m.\u001b[39maddNewRow()\n\u001b[0;32m    244\u001b[0m \u001b[38;5;66;03m#self.numTurn = idx_turn\u001b[39;00m\n\u001b[1;32m--> 245\u001b[0m \u001b[38;5;28;43mself\u001b[39;49m\u001b[38;5;241;43m.\u001b[39;49m\u001b[43msetColumn\u001b[49m\u001b[43m \u001b[49m\u001b[43m(\u001b[49m\u001b[38;5;124;43m'\u001b[39;49m\u001b[38;5;124;43mID_TURN\u001b[39;49m\u001b[38;5;124;43m'\u001b[39;49m\u001b[43m,\u001b[49m\u001b[43m \u001b[49m\u001b[43midx_turn\u001b[49m\u001b[43m \u001b[49m\u001b[43m)\u001b[49m\n",
      "Cell \u001b[1;32mIn[5], line 255\u001b[0m, in \u001b[0;36mReadActions.setColumn\u001b[1;34m(self, str_col, val)\u001b[0m\n\u001b[0;32m    251\u001b[0m \u001b[38;5;124;03m\"\"\"\u001b[39;00m\n\u001b[0;32m    252\u001b[0m \u001b[38;5;124;03mDescription : set la colonne str_col de la ligne courante à val\u001b[39;00m\n\u001b[0;32m    253\u001b[0m \u001b[38;5;124;03m\"\"\"\u001b[39;00m\n\u001b[0;32m    254\u001b[0m \u001b[38;5;28;01mif\u001b[39;00m ( strColInCols(str_col ,\u001b[38;5;28mself\u001b[39m\u001b[38;5;241m.\u001b[39mdf)):\n\u001b[1;32m--> 255\u001b[0m     \u001b[38;5;28mself\u001b[39m\u001b[38;5;241m.\u001b[39mdf\u001b[38;5;241m.\u001b[39mloc[\u001b[38;5;28mself\u001b[39m\u001b[38;5;241m.\u001b[39mgetCurrentIDX(),str_col]\u001b[38;5;241m=\u001b[39m val\n",
      "File \u001b[1;32mD:\\LogicielDev\\miniconda3\\envs\\cloned_python_marche_env_2\\lib\\site-packages\\pandas\\core\\indexing.py:814\u001b[0m, in \u001b[0;36m_LocationIndexer.__setitem__\u001b[1;34m(self, key, value)\u001b[0m\n\u001b[0;32m    812\u001b[0m \u001b[38;5;28;01melse\u001b[39;00m:\n\u001b[0;32m    813\u001b[0m     key \u001b[38;5;241m=\u001b[39m com\u001b[38;5;241m.\u001b[39mapply_if_callable(key, \u001b[38;5;28mself\u001b[39m\u001b[38;5;241m.\u001b[39mobj)\n\u001b[1;32m--> 814\u001b[0m indexer \u001b[38;5;241m=\u001b[39m \u001b[38;5;28;43mself\u001b[39;49m\u001b[38;5;241;43m.\u001b[39;49m\u001b[43m_get_setitem_indexer\u001b[49m\u001b[43m(\u001b[49m\u001b[43mkey\u001b[49m\u001b[43m)\u001b[49m\n\u001b[0;32m    815\u001b[0m \u001b[38;5;28mself\u001b[39m\u001b[38;5;241m.\u001b[39m_has_valid_setitem_indexer(key)\n\u001b[0;32m    817\u001b[0m iloc \u001b[38;5;241m=\u001b[39m \u001b[38;5;28mself\u001b[39m \u001b[38;5;28;01mif\u001b[39;00m \u001b[38;5;28mself\u001b[39m\u001b[38;5;241m.\u001b[39mname \u001b[38;5;241m==\u001b[39m \u001b[38;5;124m\"\u001b[39m\u001b[38;5;124miloc\u001b[39m\u001b[38;5;124m\"\u001b[39m \u001b[38;5;28;01melse\u001b[39;00m \u001b[38;5;28mself\u001b[39m\u001b[38;5;241m.\u001b[39mobj\u001b[38;5;241m.\u001b[39miloc\n",
      "File \u001b[1;32mD:\\LogicielDev\\miniconda3\\envs\\cloned_python_marche_env_2\\lib\\site-packages\\pandas\\core\\indexing.py:697\u001b[0m, in \u001b[0;36m_LocationIndexer._get_setitem_indexer\u001b[1;34m(self, key)\u001b[0m\n\u001b[0;32m    694\u001b[0m \u001b[38;5;28;01mif\u001b[39;00m \u001b[38;5;28misinstance\u001b[39m(key, \u001b[38;5;28mtuple\u001b[39m):\n\u001b[0;32m    695\u001b[0m     \u001b[38;5;28;01mwith\u001b[39;00m suppress(IndexingError):\n\u001b[0;32m    696\u001b[0m         \u001b[38;5;66;03m# suppress \"Too many indexers\"\u001b[39;00m\n\u001b[1;32m--> 697\u001b[0m         \u001b[38;5;28;01mreturn\u001b[39;00m \u001b[38;5;28;43mself\u001b[39;49m\u001b[38;5;241;43m.\u001b[39;49m\u001b[43m_convert_tuple\u001b[49m\u001b[43m(\u001b[49m\u001b[43mkey\u001b[49m\u001b[43m)\u001b[49m\n\u001b[0;32m    699\u001b[0m \u001b[38;5;28;01mif\u001b[39;00m \u001b[38;5;28misinstance\u001b[39m(key, \u001b[38;5;28mrange\u001b[39m):\n\u001b[0;32m    700\u001b[0m     \u001b[38;5;66;03m# GH#45479 test_loc_setitem_range_key\u001b[39;00m\n\u001b[0;32m    701\u001b[0m     key \u001b[38;5;241m=\u001b[39m \u001b[38;5;28mlist\u001b[39m(key)\n",
      "File \u001b[1;32mD:\\LogicielDev\\miniconda3\\envs\\cloned_python_marche_env_2\\lib\\site-packages\\pandas\\core\\indexing.py:896\u001b[0m, in \u001b[0;36m_LocationIndexer._convert_tuple\u001b[1;34m(self, key)\u001b[0m\n\u001b[0;32m    892\u001b[0m \u001b[38;5;129m@final\u001b[39m\n\u001b[0;32m    893\u001b[0m \u001b[38;5;28;01mdef\u001b[39;00m \u001b[38;5;21m_convert_tuple\u001b[39m(\u001b[38;5;28mself\u001b[39m, key: \u001b[38;5;28mtuple\u001b[39m) \u001b[38;5;241m-\u001b[39m\u001b[38;5;241m>\u001b[39m \u001b[38;5;28mtuple\u001b[39m:\n\u001b[0;32m    894\u001b[0m     \u001b[38;5;66;03m# Note: we assume _tupleize_axis_indexer has been called, if necessary.\u001b[39;00m\n\u001b[0;32m    895\u001b[0m     \u001b[38;5;28mself\u001b[39m\u001b[38;5;241m.\u001b[39m_validate_key_length(key)\n\u001b[1;32m--> 896\u001b[0m     keyidx \u001b[38;5;241m=\u001b[39m [\u001b[38;5;28mself\u001b[39m\u001b[38;5;241m.\u001b[39m_convert_to_indexer(k, axis\u001b[38;5;241m=\u001b[39mi) \u001b[38;5;28;01mfor\u001b[39;00m i, k \u001b[38;5;129;01min\u001b[39;00m \u001b[38;5;28menumerate\u001b[39m(key)]\n\u001b[0;32m    897\u001b[0m     \u001b[38;5;28;01mreturn\u001b[39;00m \u001b[38;5;28mtuple\u001b[39m(keyidx)\n",
      "File \u001b[1;32mD:\\LogicielDev\\miniconda3\\envs\\cloned_python_marche_env_2\\lib\\site-packages\\pandas\\core\\indexing.py:896\u001b[0m, in \u001b[0;36m<listcomp>\u001b[1;34m(.0)\u001b[0m\n\u001b[0;32m    892\u001b[0m \u001b[38;5;129m@final\u001b[39m\n\u001b[0;32m    893\u001b[0m \u001b[38;5;28;01mdef\u001b[39;00m \u001b[38;5;21m_convert_tuple\u001b[39m(\u001b[38;5;28mself\u001b[39m, key: \u001b[38;5;28mtuple\u001b[39m) \u001b[38;5;241m-\u001b[39m\u001b[38;5;241m>\u001b[39m \u001b[38;5;28mtuple\u001b[39m:\n\u001b[0;32m    894\u001b[0m     \u001b[38;5;66;03m# Note: we assume _tupleize_axis_indexer has been called, if necessary.\u001b[39;00m\n\u001b[0;32m    895\u001b[0m     \u001b[38;5;28mself\u001b[39m\u001b[38;5;241m.\u001b[39m_validate_key_length(key)\n\u001b[1;32m--> 896\u001b[0m     keyidx \u001b[38;5;241m=\u001b[39m [\u001b[38;5;28;43mself\u001b[39;49m\u001b[38;5;241;43m.\u001b[39;49m\u001b[43m_convert_to_indexer\u001b[49m\u001b[43m(\u001b[49m\u001b[43mk\u001b[49m\u001b[43m,\u001b[49m\u001b[43m \u001b[49m\u001b[43maxis\u001b[49m\u001b[38;5;241;43m=\u001b[39;49m\u001b[43mi\u001b[49m\u001b[43m)\u001b[49m \u001b[38;5;28;01mfor\u001b[39;00m i, k \u001b[38;5;129;01min\u001b[39;00m \u001b[38;5;28menumerate\u001b[39m(key)]\n\u001b[0;32m    897\u001b[0m     \u001b[38;5;28;01mreturn\u001b[39;00m \u001b[38;5;28mtuple\u001b[39m(keyidx)\n",
      "File \u001b[1;32mD:\\LogicielDev\\miniconda3\\envs\\cloned_python_marche_env_2\\lib\\site-packages\\pandas\\core\\indexing.py:1366\u001b[0m, in \u001b[0;36m_LocIndexer._convert_to_indexer\u001b[1;34m(self, key, axis)\u001b[0m\n\u001b[0;32m   1361\u001b[0m \u001b[38;5;28;01mif\u001b[39;00m is_scalar(key) \u001b[38;5;129;01mor\u001b[39;00m (\u001b[38;5;28misinstance\u001b[39m(labels, MultiIndex) \u001b[38;5;129;01mand\u001b[39;00m is_hashable(key)):\n\u001b[0;32m   1362\u001b[0m     \u001b[38;5;66;03m# Otherwise get_loc will raise InvalidIndexError\u001b[39;00m\n\u001b[0;32m   1363\u001b[0m \n\u001b[0;32m   1364\u001b[0m     \u001b[38;5;66;03m# if we are a label return me\u001b[39;00m\n\u001b[0;32m   1365\u001b[0m     \u001b[38;5;28;01mtry\u001b[39;00m:\n\u001b[1;32m-> 1366\u001b[0m         \u001b[38;5;28;01mreturn\u001b[39;00m \u001b[43mlabels\u001b[49m\u001b[38;5;241;43m.\u001b[39;49m\u001b[43mget_loc\u001b[49m\u001b[43m(\u001b[49m\u001b[43mkey\u001b[49m\u001b[43m)\u001b[49m\n\u001b[0;32m   1367\u001b[0m     \u001b[38;5;28;01mexcept\u001b[39;00m \u001b[38;5;167;01mLookupError\u001b[39;00m:\n\u001b[0;32m   1368\u001b[0m         \u001b[38;5;28;01mif\u001b[39;00m \u001b[38;5;28misinstance\u001b[39m(key, \u001b[38;5;28mtuple\u001b[39m) \u001b[38;5;129;01mand\u001b[39;00m \u001b[38;5;28misinstance\u001b[39m(labels, MultiIndex):\n",
      "File \u001b[1;32mD:\\LogicielDev\\miniconda3\\envs\\cloned_python_marche_env_2\\lib\\site-packages\\pandas\\core\\indexes\\base.py:3802\u001b[0m, in \u001b[0;36mIndex.get_loc\u001b[1;34m(self, key, method, tolerance)\u001b[0m\n\u001b[0;32m   3800\u001b[0m casted_key \u001b[38;5;241m=\u001b[39m \u001b[38;5;28mself\u001b[39m\u001b[38;5;241m.\u001b[39m_maybe_cast_indexer(key)\n\u001b[0;32m   3801\u001b[0m \u001b[38;5;28;01mtry\u001b[39;00m:\n\u001b[1;32m-> 3802\u001b[0m     \u001b[38;5;28;01mreturn\u001b[39;00m \u001b[38;5;28;43mself\u001b[39;49m\u001b[38;5;241;43m.\u001b[39;49m\u001b[43m_engine\u001b[49m\u001b[38;5;241;43m.\u001b[39;49m\u001b[43mget_loc\u001b[49m\u001b[43m(\u001b[49m\u001b[43mcasted_key\u001b[49m\u001b[43m)\u001b[49m\n\u001b[0;32m   3803\u001b[0m \u001b[38;5;28;01mexcept\u001b[39;00m \u001b[38;5;167;01mKeyError\u001b[39;00m \u001b[38;5;28;01mas\u001b[39;00m err:\n\u001b[0;32m   3804\u001b[0m     \u001b[38;5;28;01mraise\u001b[39;00m \u001b[38;5;167;01mKeyError\u001b[39;00m(key) \u001b[38;5;28;01mfrom\u001b[39;00m \u001b[38;5;21;01merr\u001b[39;00m\n",
      "\u001b[1;31mKeyboardInterrupt\u001b[0m: "
     ]
    }
   ],
   "source": [
    "treat_files_byBatch(life_entities,str_path_outcome=pathOutcome ,dict_len_part=dict_len_part,nbPartTurn=nbPartTurn,root_path_gen_turn=root_path_gen_turn,len_batch = 25)"
   ]
  },
  {
   "cell_type": "code",
   "execution_count": null,
   "id": "8bc4bdbc",
   "metadata": {},
   "outputs": [],
   "source": [
    "batch_1[0]=\"31_4_12-62_1681316162306.json\"\n",
    "batch_1[1]=\"31_5_12-62_1681316162306.json\""
   ]
  },
  {
   "cell_type": "code",
   "execution_count": null,
   "id": "c0672414",
   "metadata": {},
   "outputs": [],
   "source": [
    "print(len_part_gen*len_part_turn*len_population) # <=250000\n",
    "print(nbPartGen)\n",
    "print(root_path_gen_turn)\n",
    "print(len_part_gen)\n",
    "print(len_part_turn)"
   ]
  },
  {
   "cell_type": "code",
   "execution_count": null,
   "id": "76c7a3db",
   "metadata": {},
   "outputs": [],
   "source": [
    "print(count_batch_outcome*len_batch)\n",
    "print(count_f_outcome)\n",
    "print (len([name for name in os.listdir(str_path) if os.path.isfile(os.path.join(str_path, name))]))"
   ]
  },
  {
   "cell_type": "code",
   "execution_count": null,
   "id": "5cfa0edd",
   "metadata": {},
   "outputs": [],
   "source": [
    "#df_cpy[\"ATM_LIFE_2\"] = df_cpy[\"ATM_LIFE\"].rolling(window=2).apply(_funct_2 , raw=True)\n",
    "#df_cpy[\"ATM_LIFE\"].rolling(1).apply(lambda lst_lst : list( map(add,lst_lst[0],lst_lst[1])),axis=1)\n",
    "df_cpy.loc[len(df_cpy)-nb_elem*2::1]"
   ]
  },
  {
   "cell_type": "code",
   "execution_count": null,
   "id": "911518bd",
   "metadata": {},
   "outputs": [],
   "source": [
    "ckd = dict({\"MEAN\":10.0,\"VAR\":2.2,\"STD_DEV\":1.01})\n",
    "ckd.update(dict_part)\n",
    "print(ckd)"
   ]
  },
  {
   "cell_type": "code",
   "execution_count": null,
   "id": "127c2a16",
   "metadata": {},
   "outputs": [],
   "source": [
    "'''\n",
    "def _funct_2 (x_lst):\n",
    "    _x = x_lst[0]\n",
    "    for x in x_lst[2::2] :\n",
    "          _x=list( map(add , _x , x))\n",
    "    return _x \n",
    "'''"
   ]
  },
  {
   "cell_type": "code",
   "execution_count": null,
   "id": "15380a1d",
   "metadata": {},
   "outputs": [],
   "source": [
    "rda.dict_dfValue[str(10)][\"name_fields\"].index(\"path\")"
   ]
  }
 ],
 "metadata": {
  "kernelspec": {
   "display_name": "cloned_python_marche_env_2",
   "language": "python",
   "name": "cloned_python_marche_env_2"
  },
  "language_info": {
   "codemirror_mode": {
    "name": "ipython",
    "version": 3
   },
   "file_extension": ".py",
   "mimetype": "text/x-python",
   "name": "python",
   "nbconvert_exporter": "python",
   "pygments_lexer": "ipython3",
   "version": "3.9.16"
  }
 },
 "nbformat": 4,
 "nbformat_minor": 5
}
