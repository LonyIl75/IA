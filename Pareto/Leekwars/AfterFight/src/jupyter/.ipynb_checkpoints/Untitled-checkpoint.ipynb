{
 "cells": [
  {
   "cell_type": "code",
   "execution_count": 137,
   "id": "678cb6d4",
   "metadata": {},
   "outputs": [],
   "source": [
    "filename_test_csv = \"../../data/145_256_12-62_1678736015285.csv\"\n",
    "filename_test_json = \"../../outcome/145_256_12-62_1678736015285.json\""
   ]
  },
  {
   "cell_type": "code",
   "execution_count": 138,
   "id": "7e1dda33",
   "metadata": {},
   "outputs": [
    {
     "name": "stdout",
     "output_type": "stream",
     "text": [
      "[{'magic': 0, 'summon': False, 'mp': 8, 'strength': 500, 'level': 301, 'skin': 0, 'team': 1, 'type': 0, 'life': 1700, 'resistance': 300, 'wisdom': 200, 'frequency': 0, 'cellPos': 74, 'science': 0, 'name': 'ArkrandrBieva', 'farmer': 1, 'id': 0, 'agility': 0, 'tp': 21}, {'magic': 0, 'summon': False, 'mp': 8, 'strength': 500, 'level': 301, 'skin': 0, 'team': 2, 'type': 0, 'life': 1700, 'resistance': 300, 'wisdom': 200, 'frequency': 0, 'cellPos': 330, 'science': 0, 'name': 'Baptou', 'farmer': 2, 'id': 1, 'agility': 0, 'tp': 21}]\n"
     ]
    }
   ],
   "source": [
    "import pandas as pd\n",
    "\n",
    "df = pd.read_csv(filename_test_csv, sep=\";\")\n",
    "\n",
    "import json\n",
    "  \n",
    "\n",
    "f = open(filename_test_json)\n",
    "data = json.load(f)\n",
    "data=json.loads(data)\n",
    "\n",
    "print(data[\"leeks\"])"
   ]
  },
  {
   "cell_type": "code",
   "execution_count": 139,
   "id": "ddb82660",
   "metadata": {},
   "outputs": [
    {
     "name": "stdout",
     "output_type": "stream",
     "text": [
      "{'Caracteristique': [1700, 21, 8, 500, 0, 0, 200, 0, 0, 0, 0, 300, 0, 0, 0], 'Dot': [0, 0, 0, 0, 0, 0, 0, 0, 0, 0, 0, 0, 0, 0, 0, 0, 0, 0, 0, 0, 0, 0, 0, 0, 0, 0, 0, 0, 0, 0], 'Effect': [0, 0, 0, 0, 0, 0, 0, 0, 0, 0, 0, 0, 0, 0, 0, 0, 0, 0, 0, 0, 0, 0, 0, 0, 0, 0, 0, 0, 0, 0, 0, 0, 0, 0, 0, 0, 0, 0, 0, 0, 0, 0, 0, 0, 0, 0, 0, 0, 0, 0, 0, 0, 0, 0, 0]}\n",
      "{'Caracteristique': [1700, 21, 8, 500, 0, 0, 200, 0, 0, 0, 0, 300, 0, 0, 0], 'Dot': [0, 0, 0, 0, 0, 0, 0, 0, 0, 0, 0, 0, 0, 0, 0, 0, 0, 0, 0, 0, 0, 0, 0, 0, 0, 0, 0, 0, 0, 0], 'Effect': [0, 0, 0, 0, 0, 0, 0, 0, 0, 0, 0, 0, 0, 0, 0, 0, 0, 0, 0, 0, 0, 0, 0, 0, 0, 0, 0, 0, 0, 0, 0, 0, 0, 0, 0, 0, 0, 0, 0, 0, 0, 0, 0, 0, 0, 0, 0, 0, 0, 0, 0, 0, 0, 0, 0]}\n"
     ]
    }
   ],
   "source": [
    "class Leek:\n",
    "    path_data = \"..\\..\\..\\leek-wars-generator-Lks-v3\\data\"\n",
    "    def __init__(self,dataOutcomeLeek):\n",
    "        self.stats = dict()\n",
    "        outcomeKeys = list(dataOutcomeLeek.keys())\n",
    "        for enumFile in [enumFile for enumFile in os.listdir(Leek.path_data) if enumFile.startswith('enum')]:\n",
    "            content = os.path.join(Leek.path_data,enumFile)\n",
    "            f = open(content, \"r\")\n",
    "            data=json.loads(f.read())\n",
    "            filename = os.path.splitext(enumFile[len('enum'):])[0]\n",
    "            self.stats.update({filename:[0 for x in range(max(data[\"enumIndex\"]))]})\n",
    "            for i in range (len(data[\"enumIndex\"])):\n",
    "                enumName=data[\"enumName\"][i].lower()\n",
    "                if(enumName in outcomeKeys):\n",
    "                    self.stats[filename][data[\"enumIndex\"][i]]=dataOutcomeLeek[enumName]\n",
    "            \n",
    "  \n",
    "        \n",
    "            \n",
    "            \n",
    "f = open(filename_test_json)\n",
    "dataOutcome = json.load(f)\n",
    "dataOutcome=json.loads(dataOutcome)[\"leeks\"]\n",
    "for idx_leek in range(len(dataOutcome)):\n",
    "    leek_file = Leek(dataOutcome[idx_leek])\n",
    "    print(leek_file.stats)\n",
    "    \n",
    "\n"
   ]
  },
  {
   "cell_type": "code",
   "execution_count": 219,
   "id": "e3221b7d",
   "metadata": {},
   "outputs": [
    {
     "name": "stdout",
     "output_type": "stream",
     "text": [
      "{12: {'LOST_LIFE': [0, 106, 103, 113, 107, 105, 111, 119, 95, 99, 95, 91, 91, 96, 92, 118, 114, 112, 104, 102, 115]}, 62: {'LOST_LIFE': [0, 113, 100, 92, 109, 111, 117, 111, 117, 114, 102, 103, 106, 92, 104, 119, 91, 102, 105, 117, 71]}}\n",
      "{12: [1700, 1594, 1512, 1422, 1336, 1252, 1163, 1068, 992, 913, 837, 764, 691, 614, 540, 446, 355, 265, 182, 100, 8], 62: [1700, 1610, 1530, 1456, 1369, 1280, 1186, 1097, 1003, 912, 830, 748, 663, 589, 506, 411, 338, 256, 172, 78, 21]}\n"
     ]
    },
    {
     "name": "stderr",
     "output_type": "stream",
     "text": [
      "C:\\Users\\julien\\AppData\\Local\\Temp\\ipykernel_25384\\643715292.py:4: FutureWarning: Indexing with multiple keys (implicitly converted to a tuple of keys) will be deprecated, use a list instead.\n",
      "  grp = df[[str_col_id, \"ENTITY_ID\",\"ID_TURN\"]].query(str_col_id+\"!=\"+filter_val).groupby(\"ENTITY_ID\")[str_col_id,\"ID_TURN\"]\n",
      "C:\\Users\\julien\\AppData\\Local\\Temp\\ipykernel_25384\\643715292.py:4: FutureWarning: Indexing with multiple keys (implicitly converted to a tuple of keys) will be deprecated, use a list instead.\n",
      "  grp = df[[str_col_id, \"ENTITY_ID\",\"ID_TURN\"]].query(str_col_id+\"!=\"+filter_val).groupby(\"ENTITY_ID\")[str_col_id,\"ID_TURN\"]\n"
     ]
    }
   ],
   "source": [
    "df = pd.read_csv(filename_test_csv,sep=\";\")\n",
    "\n",
    "def toSeries(df,lst_dct, str_col_id,filter_val=\"[0]\"):\n",
    "    grp = df[[str_col_id, \"ENTITY_ID\",\"ID_TURN\"]].query(str_col_id+\"!=\"+filter_val).groupby(\"ENTITY_ID\")[str_col_id,\"ID_TURN\"]\n",
    "    \n",
    "    for key, values in grp:\n",
    "        tmp_grp = grp.get_group(key)\n",
    "        lst_tmp = [0 for i in range(tmp_grp[tmp_grp.columns[0]].size)]\n",
    "        for id_row , val_row in  tmp_grp.iterrows() :\n",
    "            lst_tmp[val_row[\"ID_TURN\"]]=int(val_row[str_col_id].replace('[','').replace(']',''))\n",
    "        if (not key in lst_dct):\n",
    "            lst_dct.update({key:dict()})\n",
    "        lst_dct[key].update({str_col_id:lst_tmp})\n",
    "        \n",
    "    return lst_dct\n",
    "        \n",
    "dct=dict()\n",
    "dct=toSeries(df,dct,\"LOST_LIFE\")\n",
    "print(dct)\n",
    "dct=toSeries(df,dct,\"LIFE\")  \n",
    "#print(dct)\n",
    "\n",
    "\n",
    "\n",
    "\n",
    "\n",
    "lst_life = dict()\n",
    "for k in dct.keys():\n",
    "    dct_val = dct[k][\"LOST_LIFE\"]\n",
    "    dct_val2 = dct[k][\"LIFE\"]\n",
    "    lst_life.update({k:[1700+dct_val[0]+dct_val2[0]]})\n",
    "    for i in range(1,len(dct_val)): \n",
    "            lst_life[k].append(lst_life[k][i-1]-dct_val[i]+dct_val2[i])\n",
    "print(lst_life)\n",
    "\n",
    "            \n"
   ]
  },
  {
   "cell_type": "code",
   "execution_count": 284,
   "id": "ed9295fc",
   "metadata": {},
   "outputs": [
    {
     "name": "stdout",
     "output_type": "stream",
     "text": [
      "False\n",
      "3\n",
      "8 3\n"
     ]
    }
   ],
   "source": [
    "def convert_XY_toCoord(XY):\n",
    "    coef_x = XY//18\n",
    "    sign_x =  1 if coef_x >7 else -1\n",
    "    coef_y = XY//17\n",
    "    sign_y = 1 if coef_y >7 else -1\n",
    "    coord_x = XY%18\n",
    "    tmp_x = None\n",
    "    tmp_y = None\n",
    "    coord_y= XY%17\n",
    "    if coord_y==0 and coord_x !=0:\n",
    "        tmp_y = 18 -coef_y\n",
    "    elif coord_y==6 or coord_x ==0:\n",
    "        tmp_y=0\n",
    "    if coord_x==0 :\n",
    "        tmp_x= 17-coef_x\n",
    "    elif coord_x==6 or coord_y ==0:\n",
    "        tmp_x = 0\n",
    "    coord_x = tmp_x if not( tmp_x is None ) else coord_x \n",
    "\n",
    "    coord_y = tmp_y if not( tmp_y is None ) else coord_y \n",
    "\n",
    "    print(sign_x*coord_x,sign_y*coord_y)\n",
    "    \n",
    "convert_XY_toCoord(224)\n",
    "    \n",
    "            \n",
    "        "
   ]
  },
  {
   "cell_type": "code",
   "execution_count": null,
   "id": "4de03f71",
   "metadata": {},
   "outputs": [],
   "source": []
  },
  {
   "cell_type": "code",
   "execution_count": null,
   "id": "b2687dde",
   "metadata": {},
   "outputs": [],
   "source": []
  }
 ],
 "metadata": {
  "kernelspec": {
   "display_name": "Python 3 (ipykernel)",
   "language": "python",
   "name": "python3"
  },
  "language_info": {
   "codemirror_mode": {
    "name": "ipython",
    "version": 3
   },
   "file_extension": ".py",
   "mimetype": "text/x-python",
   "name": "python",
   "nbconvert_exporter": "python",
   "pygments_lexer": "ipython3",
   "version": "3.8.0"
  }
 },
 "nbformat": 4,
 "nbformat_minor": 5
}
